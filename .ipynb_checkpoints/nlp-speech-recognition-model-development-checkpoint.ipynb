{
 "cells": [
  {
   "cell_type": "code",
   "execution_count": 1,
   "id": "42e44b16",
   "metadata": {
    "execution": {
     "iopub.execute_input": "2022-06-16T18:44:07.946110Z",
     "iopub.status.busy": "2022-06-16T18:44:07.944599Z",
     "iopub.status.idle": "2022-06-16T18:44:07.958966Z",
     "shell.execute_reply": "2022-06-16T18:44:07.959572Z"
    },
    "papermill": {
     "duration": 0.053209,
     "end_time": "2022-06-16T18:44:07.959872",
     "exception": false,
     "start_time": "2022-06-16T18:44:07.906663",
     "status": "completed"
    },
    "tags": []
   },
   "outputs": [],
   "source": [
    "# This Python 3 environment comes with many helpful analytics libraries installed\n",
    "# It is defined by the kaggle/python Docker image: https://github.com/kaggle/docker-python\n",
    "# For example, here's several helpful packages to load\n",
    "\n",
    "import numpy as np # linear algebra\n",
    "import pandas as pd # data processing, CSV file I/O (e.g. pd.read_csv)\n",
    "\n",
    "# Input data files are available in the read-only \"../input/\" directory\n",
    "# For example, running this (by clicking run or pressing Shift+Enter) will list all files under the input directory\n",
    "\n",
    "import os\n"
   ]
  },
  {
   "cell_type": "code",
   "execution_count": 2,
   "id": "8d37ae35",
   "metadata": {
    "execution": {
     "iopub.execute_input": "2022-06-16T18:44:08.034887Z",
     "iopub.status.busy": "2022-06-16T18:44:08.034180Z",
     "iopub.status.idle": "2022-06-16T18:44:56.979312Z",
     "shell.execute_reply": "2022-06-16T18:44:56.978461Z"
    },
    "papermill": {
     "duration": 48.984284,
     "end_time": "2022-06-16T18:44:56.979484",
     "exception": false,
     "start_time": "2022-06-16T18:44:07.995200",
     "status": "completed"
    },
    "tags": []
   },
   "outputs": [
    {
     "name": "stdout",
     "output_type": "stream",
     "text": [
      "Collecting pyunpack\n",
      "  Downloading pyunpack-0.3-py2.py3-none-any.whl (4.1 kB)\n",
      "Collecting easyprocess\n",
      "  Downloading EasyProcess-1.1-py3-none-any.whl (8.7 kB)\n",
      "Collecting entrypoint2\n",
      "  Downloading entrypoint2-1.1-py2.py3-none-any.whl (9.9 kB)\n",
      "Installing collected packages: entrypoint2, easyprocess, pyunpack\n",
      "Successfully installed easyprocess-1.1 entrypoint2-1.1 pyunpack-0.3\n",
      "Collecting patool\n",
      "  Downloading patool-1.12-py2.py3-none-any.whl (77 kB)\n",
      "     -------------------------------------- 77.5/77.5 kB 391.1 kB/s eta 0:00:00\n",
      "Installing collected packages: patool\n",
      "Successfully installed patool-1.12\n",
      "Collecting py7zr\n",
      "  Downloading py7zr-0.20.0-py3-none-any.whl (64 kB)\n",
      "     -------------------------------------- 65.0/65.0 kB 205.8 kB/s eta 0:00:00\n",
      "Requirement already satisfied: psutil in c:\\users\\sakoy\\appdata\\local\\packages\\pythonsoftwarefoundation.python.3.10_qbz5n2kfra8p0\\localcache\\local-packages\\python310\\site-packages (from py7zr) (5.9.1)\n",
      "Collecting brotli>=1.0.9\n",
      "  Downloading Brotli-1.0.9-cp310-cp310-win_amd64.whl (383 kB)\n",
      "     ------------------------------------ 383.3/383.3 kB 555.2 kB/s eta 0:00:00\n",
      "Collecting inflate64>=0.3.0\n",
      "  Downloading inflate64-0.3.0-cp310-cp310-win_amd64.whl (35 kB)\n",
      "Collecting pycryptodomex>=3.6.6\n",
      "  Downloading pycryptodomex-3.15.0-cp35-abi3-win_amd64.whl (1.9 MB)\n",
      "     ---------------------------------------- 1.9/1.9 MB 2.1 MB/s eta 0:00:00\n",
      "Collecting multivolumefile>=0.2.3\n",
      "  Downloading multivolumefile-0.2.3-py3-none-any.whl (17 kB)\n",
      "Collecting texttable\n",
      "  Downloading texttable-1.6.4-py2.py3-none-any.whl (10 kB)\n",
      "Collecting pyzstd>=0.14.4\n",
      "  Downloading pyzstd-0.15.3-cp310-cp310-win_amd64.whl (206 kB)\n",
      "     -------------------------------------- 206.4/206.4 kB 6.3 MB/s eta 0:00:00\n",
      "Collecting pyppmd<0.19.0,>=0.18.1\n",
      "  Downloading pyppmd-0.18.3-cp310-cp310-win_amd64.whl (46 kB)\n",
      "     ---------------------------------------- 46.1/46.1 kB ? eta 0:00:00\n",
      "Collecting pybcj>=0.6.0\n",
      "  Downloading pybcj-1.0.1-cp310-cp310-win_amd64.whl (24 kB)\n",
      "Installing collected packages: texttable, brotli, pyzstd, pyppmd, pycryptodomex, pybcj, multivolumefile, inflate64, py7zr\n",
      "Successfully installed brotli-1.0.9 inflate64-0.3.0 multivolumefile-0.2.3 py7zr-0.20.0 pybcj-1.0.1 pycryptodomex-3.15.0 pyppmd-0.18.3 pyzstd-0.15.3 texttable-1.6.4\n"
     ]
    },
    {
     "name": "stderr",
     "output_type": "stream",
     "text": [
      "  WARNING: The script py7zr.exe is installed in 'C:\\Users\\sakoy\\AppData\\Local\\Packages\\PythonSoftwareFoundation.Python.3.10_qbz5n2kfra8p0\\LocalCache\\local-packages\\Python310\\Scripts' which is not on PATH.\n",
      "  Consider adding this directory to PATH or, if you prefer to suppress this warning, use --no-warn-script-location.\n"
     ]
    }
   ],
   "source": [
    "!pip install pyunpack\n",
    "!pip install patool\n",
    "!pip install py7zr"
   ]
  },
  {
   "cell_type": "code",
   "execution_count": 4,
   "id": "2a148e2c",
   "metadata": {
    "execution": {
     "iopub.execute_input": "2022-06-16T18:44:57.104085Z",
     "iopub.status.busy": "2022-06-16T18:44:57.103272Z",
     "iopub.status.idle": "2022-06-16T18:54:36.437476Z",
     "shell.execute_reply": "2022-06-16T18:54:36.436959Z"
    },
    "papermill": {
     "duration": 579.399022,
     "end_time": "2022-06-16T18:54:36.437638",
     "exception": false,
     "start_time": "2022-06-16T18:44:57.038616",
     "status": "completed"
    },
    "tags": []
   },
   "outputs": [
    {
     "ename": "RegistryError",
     "evalue": ".7z is already registered for \"7zip\"",
     "output_type": "error",
     "traceback": [
      "\u001b[1;31m---------------------------------------------------------------------------\u001b[0m",
      "\u001b[1;31mRegistryError\u001b[0m                             Traceback (most recent call last)",
      "Input \u001b[1;32mIn [4]\u001b[0m, in \u001b[0;36m<cell line: 4>\u001b[1;34m()\u001b[0m\n\u001b[0;32m      1\u001b[0m \u001b[38;5;28;01mfrom\u001b[39;00m \u001b[38;5;21;01mpy7zr\u001b[39;00m \u001b[38;5;28;01mimport\u001b[39;00m unpack_7zarchive\n\u001b[0;32m      2\u001b[0m \u001b[38;5;28;01mimport\u001b[39;00m \u001b[38;5;21;01mshutil\u001b[39;00m\n\u001b[1;32m----> 4\u001b[0m \u001b[43mshutil\u001b[49m\u001b[38;5;241;43m.\u001b[39;49m\u001b[43mregister_unpack_format\u001b[49m\u001b[43m(\u001b[49m\u001b[38;5;124;43m'\u001b[39;49m\u001b[38;5;124;43m7zip\u001b[39;49m\u001b[38;5;124;43m'\u001b[39;49m\u001b[43m,\u001b[49m\u001b[43m \u001b[49m\u001b[43m[\u001b[49m\u001b[38;5;124;43m'\u001b[39;49m\u001b[38;5;124;43m.7z\u001b[39;49m\u001b[38;5;124;43m'\u001b[39;49m\u001b[43m]\u001b[49m\u001b[43m,\u001b[49m\u001b[43m \u001b[49m\u001b[43munpack_7zarchive\u001b[49m\u001b[43m)\u001b[49m\n\u001b[0;32m      5\u001b[0m shutil\u001b[38;5;241m.\u001b[39munpack_archive(\u001b[38;5;124m'\u001b[39m\u001b[38;5;124m../BigData/tensorflow-speech-recognition-challenge/train.7z\u001b[39m\u001b[38;5;124m'\u001b[39m, \u001b[38;5;124m'\u001b[39m\u001b[38;5;124m..BigData/tensorflow-speech-recognition-challenge/train/\u001b[39m\u001b[38;5;124m'\u001b[39m)\n",
      "File \u001b[1;32mC:\\Program Files\\WindowsApps\\PythonSoftwareFoundation.Python.3.10_3.10.1776.0_x64__qbz5n2kfra8p0\\lib\\shutil.py:1181\u001b[0m, in \u001b[0;36mregister_unpack_format\u001b[1;34m(name, extensions, function, extra_args, description)\u001b[0m\n\u001b[0;32m   1179\u001b[0m \u001b[38;5;28;01mif\u001b[39;00m extra_args \u001b[38;5;129;01mis\u001b[39;00m \u001b[38;5;28;01mNone\u001b[39;00m:\n\u001b[0;32m   1180\u001b[0m     extra_args \u001b[38;5;241m=\u001b[39m []\n\u001b[1;32m-> 1181\u001b[0m \u001b[43m_check_unpack_options\u001b[49m\u001b[43m(\u001b[49m\u001b[43mextensions\u001b[49m\u001b[43m,\u001b[49m\u001b[43m \u001b[49m\u001b[43mfunction\u001b[49m\u001b[43m,\u001b[49m\u001b[43m \u001b[49m\u001b[43mextra_args\u001b[49m\u001b[43m)\u001b[49m\n\u001b[0;32m   1182\u001b[0m _UNPACK_FORMATS[name] \u001b[38;5;241m=\u001b[39m extensions, function, extra_args, description\n",
      "File \u001b[1;32mC:\\Program Files\\WindowsApps\\PythonSoftwareFoundation.Python.3.10_3.10.1776.0_x64__qbz5n2kfra8p0\\lib\\shutil.py:1155\u001b[0m, in \u001b[0;36m_check_unpack_options\u001b[1;34m(extensions, function, extra_args)\u001b[0m\n\u001b[0;32m   1153\u001b[0m     \u001b[38;5;28;01mif\u001b[39;00m extension \u001b[38;5;129;01min\u001b[39;00m existing_extensions:\n\u001b[0;32m   1154\u001b[0m         msg \u001b[38;5;241m=\u001b[39m \u001b[38;5;124m'\u001b[39m\u001b[38;5;132;01m%s\u001b[39;00m\u001b[38;5;124m is already registered for \u001b[39m\u001b[38;5;124m\"\u001b[39m\u001b[38;5;132;01m%s\u001b[39;00m\u001b[38;5;124m\"\u001b[39m\u001b[38;5;124m'\u001b[39m\n\u001b[1;32m-> 1155\u001b[0m         \u001b[38;5;28;01mraise\u001b[39;00m RegistryError(msg \u001b[38;5;241m%\u001b[39m (extension,\n\u001b[0;32m   1156\u001b[0m                                    existing_extensions[extension]))\n\u001b[0;32m   1158\u001b[0m \u001b[38;5;28;01mif\u001b[39;00m \u001b[38;5;129;01mnot\u001b[39;00m callable(function):\n\u001b[0;32m   1159\u001b[0m     \u001b[38;5;28;01mraise\u001b[39;00m \u001b[38;5;167;01mTypeError\u001b[39;00m(\u001b[38;5;124m'\u001b[39m\u001b[38;5;124mThe registered function must be a callable\u001b[39m\u001b[38;5;124m'\u001b[39m)\n",
      "\u001b[1;31mRegistryError\u001b[0m: .7z is already registered for \"7zip\""
     ]
    }
   ],
   "source": [
    "from py7zr import unpack_7zarchive\n",
    "import shutil\n",
    "\n",
    "shutil.register_unpack_format('7zip', ['.7z'], unpack_7zarchive)\n",
    "shutil.unpack_archive('../BigData/tensorflow-speech-recognition-challenge/train.7z', '..BigData/tensorflow-speech-recognition-challenge/train/')"
   ]
  },
  {
   "cell_type": "code",
   "execution_count": 4,
   "id": "91db7fe6",
   "metadata": {
    "execution": {
     "iopub.execute_input": "2022-06-16T18:54:36.560279Z",
     "iopub.status.busy": "2022-06-16T18:54:36.559741Z",
     "iopub.status.idle": "2022-06-16T18:54:36.668745Z",
     "shell.execute_reply": "2022-06-16T18:54:36.669166Z"
    },
    "papermill": {
     "duration": 0.172285,
     "end_time": "2022-06-16T18:54:36.669320",
     "exception": false,
     "start_time": "2022-06-16T18:54:36.497035",
     "status": "completed"
    },
    "tags": []
   },
   "outputs": [
    {
     "name": "stdout",
     "output_type": "stream",
     "text": [
      "/kaggle/working/tensorflow-speech-recognition-challenge/train/train/audio/t\n",
      "/kaggle/working/tensorflow-speech-recognition-challenge/train/train/audio/r\n",
      "/kaggle/working/tensorflow-speech-recognition-challenge/train/train/audio/a\n",
      "/kaggle/working/tensorflow-speech-recognition-challenge/train/train/audio/i\n",
      "/kaggle/working/tensorflow-speech-recognition-challenge/train/train/audio/n\n",
      "/kaggle/working/tensorflow-speech-recognition-challenge/train/train/audio/marvin/n\n",
      "/kaggle/working/tensorflow-speech-recognition-challenge/train/train/audio/two/n\n",
      "/kaggle/working/tensorflow-speech-recognition-challenge/train/train/audio/bird/n\n",
      "/kaggle/working/tensorflow-speech-recognition-challenge/train/train/audio/left/n\n",
      "/kaggle/working/tensorflow-speech-recognition-challenge/train/train/audio/one/n\n",
      "/kaggle/working/tensorflow-speech-recognition-challenge/train/train/audio/cat/n\n",
      "/kaggle/working/tensorflow-speech-recognition-challenge/train/train/audio/stop/n\n",
      "/kaggle/working/tensorflow-speech-recognition-challenge/train/train/audio/sheila/n\n",
      "/kaggle/working/tensorflow-speech-recognition-challenge/train/train/audio/wow/n\n",
      "/kaggle/working/tensorflow-speech-recognition-challenge/train/train/audio/go/n\n",
      "/kaggle/working/tensorflow-speech-recognition-challenge/train/train/audio/tree/n\n",
      "/kaggle/working/tensorflow-speech-recognition-challenge/train/train/audio/bed/n\n",
      "/kaggle/working/tensorflow-speech-recognition-challenge/train/train/audio/three/n\n",
      "/kaggle/working/tensorflow-speech-recognition-challenge/train/train/audio/house/n\n",
      "/kaggle/working/tensorflow-speech-recognition-challenge/train/train/audio/happy/n\n",
      "/kaggle/working/tensorflow-speech-recognition-challenge/train/train/audio/right/n\n",
      "/kaggle/working/tensorflow-speech-recognition-challenge/train/train/audio/five/n\n",
      "/kaggle/working/tensorflow-speech-recognition-challenge/train/train/audio/_background_noise_/n\n",
      "/kaggle/working/tensorflow-speech-recognition-challenge/train/train/audio/eight/n\n",
      "/kaggle/working/tensorflow-speech-recognition-challenge/train/train/audio/down/n\n",
      "/kaggle/working/tensorflow-speech-recognition-challenge/train/train/audio/yes/n\n",
      "/kaggle/working/tensorflow-speech-recognition-challenge/train/train/audio/nine/n\n",
      "/kaggle/working/tensorflow-speech-recognition-challenge/train/train/audio/no/n\n",
      "/kaggle/working/tensorflow-speech-recognition-challenge/train/train/audio/zero/n\n",
      "/kaggle/working/tensorflow-speech-recognition-challenge/train/train/audio/four/n\n",
      "/kaggle/working/tensorflow-speech-recognition-challenge/train/train/audio/up/n\n",
      "/kaggle/working/tensorflow-speech-recognition-challenge/train/train/audio/off/n\n",
      "/kaggle/working/tensorflow-speech-recognition-challenge/train/train/audio/on/n\n",
      "/kaggle/working/tensorflow-speech-recognition-challenge/train/train/audio/dog/n\n",
      "/kaggle/working/tensorflow-speech-recognition-challenge/train/train/audio/seven/n\n",
      "/kaggle/working/tensorflow-speech-recognition-challenge/train/train/audio/six/n\n"
     ]
    }
   ],
   "source": [
    "# from pyunpack import Archive\n",
    "# import shutil\n",
    "# if not os.path.exists('/kaggle/working/tensorflow-speech-recognition-challenge/train/'):\n",
    "#     os.makedirs('/kaggle/working/tensorflow-speech-recognition-challenge/train/')\n",
    "# Archive('/kaggle/input/tensorflow-speech-recognition-challenge/train.7z').extractall('/kaggle/working/tensorflow-speech-recognition-challenge/train/')\n",
    "\n",
    "for dirname, _, filenames in os.walk('/kaggle/working/tensorflow-speech-recognition-challenge/train/train/audio'):\n",
    "    for filename in filename[:5]:\n",
    "        print(os.path.join(dirname, filename))"
   ]
  },
  {
   "cell_type": "markdown",
   "id": "a122b203",
   "metadata": {
    "papermill": {
     "duration": 0.058636,
     "end_time": "2022-06-16T18:54:36.787121",
     "exception": false,
     "start_time": "2022-06-16T18:54:36.728485",
     "status": "completed"
    },
    "tags": []
   },
   "source": [
    "# <center> Implementing the Speech-to-Text Model in Python\n",
    "**Understanding the Problem Statement for our Speech-to-Text Project**\n",
    "\n",
    "Let’s understand the problem statement of our project before we move into the implementation part.\n",
    "\n",
    "We might be on the verge of having too many screens around us. It seems like every day, new versions of common objects are “re-invented” with built-in wifi and bright touchscreens. A promising antidote to our screen addiction is voice interfaces. \n",
    "\n",
    "__You can download the dataset from__ [here](https://www.kaggle.com/c/tensorflow-speech-recognition-challenge).\n",
    "    \n",
    "TensorFlow recently released the Speech Commands Datasets. It includes 65,000 one-second long utterances of 30 short words, by thousands of different people. We’ll build a speech recognition system that understands simple spoken commands. <br>    \n",
    "__Reference Aticle__ [Click here](https://www.analyticsvidhya.com/blog/2019/07/learn-build-first-speech-to-text-model-python/) to understand the basics of signal processing prior implementing the speech to text."
   ]
  },
  {
   "cell_type": "markdown",
   "id": "b645f248",
   "metadata": {
    "papermill": {
     "duration": 0.059359,
     "end_time": "2022-06-16T18:54:36.905806",
     "exception": false,
     "start_time": "2022-06-16T18:54:36.846447",
     "status": "completed"
    },
    "tags": []
   },
   "source": [
    "**Import the libraries**\n",
    "\n",
    "First, import all the necessary libraries into our notebook. LibROSA and SciPy are the Python libraries used for processing audio signals."
   ]
  },
  {
   "cell_type": "code",
   "execution_count": 5,
   "id": "89e03a58",
   "metadata": {
    "execution": {
     "iopub.execute_input": "2022-06-16T18:54:37.029508Z",
     "iopub.status.busy": "2022-06-16T18:54:37.028912Z",
     "iopub.status.idle": "2022-06-16T18:54:38.938230Z",
     "shell.execute_reply": "2022-06-16T18:54:38.937648Z"
    },
    "papermill": {
     "duration": 1.973785,
     "end_time": "2022-06-16T18:54:38.938358",
     "exception": false,
     "start_time": "2022-06-16T18:54:36.964573",
     "status": "completed"
    },
    "tags": []
   },
   "outputs": [],
   "source": [
    "import warnings\n",
    "warnings.filterwarnings(\"ignore\")\n",
    "\n",
    "import matplotlib.pyplot as plt\n",
    "import numpy as np\n",
    "\n",
    "import librosa\n",
    "import IPython.display as ipd\n",
    "from scipy.io import wavfile"
   ]
  },
  {
   "cell_type": "markdown",
   "id": "3e20c994",
   "metadata": {
    "papermill": {
     "duration": 0.059636,
     "end_time": "2022-06-16T18:54:39.057937",
     "exception": false,
     "start_time": "2022-06-16T18:54:38.998301",
     "status": "completed"
    },
    "tags": []
   },
   "source": [
    "**Data Exploration and Visualization**\n",
    "\n",
    "Data Exploration and Visualization helps us to understand the data as well as pre-processing steps in a better way. \n",
    "\n",
    "**Visualization of Audio signal in time series domain**\n",
    "\n",
    "Now, we’ll visualize the audio signal in the time series domain:"
   ]
  },
  {
   "cell_type": "code",
   "execution_count": 6,
   "id": "7f63cab0",
   "metadata": {
    "execution": {
     "iopub.execute_input": "2022-06-16T18:54:39.181987Z",
     "iopub.status.busy": "2022-06-16T18:54:39.181119Z",
     "iopub.status.idle": "2022-06-16T18:54:39.183935Z",
     "shell.execute_reply": "2022-06-16T18:54:39.183531Z"
    },
    "papermill": {
     "duration": 0.065921,
     "end_time": "2022-06-16T18:54:39.184047",
     "exception": false,
     "start_time": "2022-06-16T18:54:39.118126",
     "status": "completed"
    },
    "tags": []
   },
   "outputs": [],
   "source": [
    "train_audio_path = '/kaggle/working/tensorflow-speech-recognition-challenge/train/train/audio/'"
   ]
  },
  {
   "cell_type": "code",
   "execution_count": 7,
   "id": "c823c82c",
   "metadata": {
    "execution": {
     "iopub.execute_input": "2022-06-16T18:54:39.307996Z",
     "iopub.status.busy": "2022-06-16T18:54:39.307132Z",
     "iopub.status.idle": "2022-06-16T18:54:39.510762Z",
     "shell.execute_reply": "2022-06-16T18:54:39.511135Z"
    },
    "papermill": {
     "duration": 0.268487,
     "end_time": "2022-06-16T18:54:39.511283",
     "exception": false,
     "start_time": "2022-06-16T18:54:39.242796",
     "status": "completed"
    },
    "tags": []
   },
   "outputs": [
    {
     "data": {
      "text/plain": [
       "[<matplotlib.lines.Line2D at 0x7fcd3c045ad0>]"
      ]
     },
     "execution_count": 7,
     "metadata": {},
     "output_type": "execute_result"
    },
    {
     "data": {
      "image/png": "[encoded data removed]",
      "text/plain": [
       "<Figure size 1008x576 with 1 Axes>"
      ]
     },
     "metadata": {
      "needs_background": "light"
     },
     "output_type": "display_data"
    }
   ],
   "source": [
    "samples, sample_rate = librosa.load(train_audio_path+'yes/0a7c2a8d_nohash_0.wav', sr = 16000)\n",
    "fig = plt.figure(figsize=(14, 8))\n",
    "ax1 = fig.add_subplot(211)\n",
    "ax1.set_title('Raw wave of ' + '../input/train/audio/yes/0a7c2a8d_nohash_0.wav')\n",
    "ax1.set_xlabel('time')\n",
    "ax1.set_ylabel('Amplitude')\n",
    "ax1.plot(np.linspace(0, sample_rate/len(samples), sample_rate), samples)"
   ]
  },
  {
   "cell_type": "code",
   "execution_count": 8,
   "id": "bfffcee8",
   "metadata": {
    "execution": {
     "iopub.execute_input": "2022-06-16T18:54:39.639086Z",
     "iopub.status.busy": "2022-06-16T18:54:39.638551Z",
     "iopub.status.idle": "2022-06-16T18:54:40.413704Z",
     "shell.execute_reply": "2022-06-16T18:54:40.414128Z"
    },
    "papermill": {
     "duration": 0.84102,
     "end_time": "2022-06-16T18:54:40.414334",
     "exception": false,
     "start_time": "2022-06-16T18:54:39.573314",
     "status": "completed"
    },
    "tags": []
   },
   "outputs": [
    {
     "data": {
      "text/plain": [
       "[<matplotlib.lines.Line2D at 0x7fcd31677050>]"
      ]
     },
     "execution_count": 8,
     "metadata": {},
     "output_type": "execute_result"
    },
    {
     "data": {
      "image/png": "[encoded data removed]",
      "text/plain": [
       "<Figure size 1008x576 with 1 Axes>"
      ]
     },
     "metadata": {
      "needs_background": "light"
     },
     "output_type": "display_data"
    }
   ],
   "source": [
    "samples, sample_rate = librosa.load(train_audio_path+'yes/0a7c2a8d_nohash_0.wav', sr = 100)\n",
    "fig = plt.figure(figsize=(14, 8))\n",
    "ax1 = fig.add_subplot(211)\n",
    "ax1.set_title('Raw wave of ' + '../input/train/audio/yes/0a7c2a8d_nohash_0.wav')\n",
    "ax1.set_xlabel('time')\n",
    "ax1.set_ylabel('Amplitude')\n",
    "ax1.plot(np.linspace(0, sample_rate/len(samples), sample_rate), samples)"
   ]
  },
  {
   "cell_type": "markdown",
   "id": "d09af0bf",
   "metadata": {
    "papermill": {
     "duration": 0.065372,
     "end_time": "2022-06-16T18:54:40.543000",
     "exception": false,
     "start_time": "2022-06-16T18:54:40.477628",
     "status": "completed"
    },
    "tags": []
   },
   "source": [
    "**Sampling rate**\n",
    "\n",
    "Let us now look at the sampling rate of the audio signals"
   ]
  },
  {
   "cell_type": "code",
   "execution_count": 9,
   "id": "37cdecb8",
   "metadata": {
    "execution": {
     "iopub.execute_input": "2022-06-16T18:54:40.691774Z",
     "iopub.status.busy": "2022-06-16T18:54:40.690803Z",
     "iopub.status.idle": "2022-06-16T18:54:40.780620Z",
     "shell.execute_reply": "2022-06-16T18:54:40.779831Z"
    },
    "papermill": {
     "duration": 0.174778,
     "end_time": "2022-06-16T18:54:40.780824",
     "exception": false,
     "start_time": "2022-06-16T18:54:40.606046",
     "status": "completed"
    },
    "tags": []
   },
   "outputs": [
    {
     "data": {
      "text/html": [
       "\n",
       "                <audio  controls=\"controls\" >\n",
       "                    <source src=\"data:audio/wav;base64,UklGRqQ4AQBXQVZFZm10IBAAAAABAAEAQJwAAIA4AQACABAAZGF0YYA4AQAuAB4A/f/b/8n/zv/i//r/EAAgACcAIQAOAPX/3P/O/8//3P/y/wwAKAA/AEwASwA+ACwAGAAHAPz/9v/1//r/AQANABsAKQA0ADYALgAbAAMA7v/g/97/6f/9/xYALgA9AD0AMAAYAPv/3f/D/7X/tP/B/9n/8/8HABEACwD3/9X/rv+L/3b/c/+C/5z/vP/b//P////6/+T/wv+g/4n/hP+U/7X/3v8FACIALQAjAAkA5f+//5//i/+I/5r/v//x/yQASwBbAE8AMAAKAOr/1P/J/8v/2P/0/xwASABrAHgAawBJAB8A+f/e/9P/1//o/wIAIQA9AE0ATwBBACcABwDq/9T/yv/N/9z/8f8GABkAIAAZAAQA6P/M/7n/s/+2/7//yP/S/9z/5v/s/+v/5P/Y/8//zP/T/+H/8P/6//3/+v/3//f/+v/9//z/9f/p/9v/0P/J/8j/zP/T/9r/4P/g/9v/0v/J/8b/y//W/+L/6P/m/9//1//U/9f/3v/l/+v/7//v/+v/4//Z/9D/zP/O/9T/2//k/+///f8LABUAGQAUAAsAAAD0/+z/7P/1/wgAIgA9AFIAXgBgAFkATAA+ADEAKgArADUARABVAGUAcAB2AHUAbABeAE4APwAzACoAIgAcABkAGwAhACsANQA5ADcALQAfABEABAD9//r///8KABsALQA4AD0APQA8ADsANgAuACQAHwAiAC8APgBKAFAAUwBUAFIASgA6ACYAFgARABkAKgA7AEUARwBAADQAJgAWAAUA8//h/9T/zv/S/9z/6v/2/wEACgAQABEADgAIAAQAAwADAAAA9//o/9z/2P/e/+f/7P/p/9//1//X/9//6//3//3////+//z/+v/6//r//P/+/wAAAAD///v/+P/1//P/8f/v//D/9f/9/wYADgASABAACgABAPf/7v/n/+X/6P/u//f/AAAHAAoABwD9/+v/1P++/7D/rv+5/83/4//0//z/+f/v/+X/2//T/8v/xv/H/9H/5f/8/w4AFgARAAAA5//J/6z/l/+Q/5z/uP/e/wQAIQAwADAAIwANAPH/0v+4/6r/rv/G/+r/DQAnAC4AHwAAANT/pP97/2L/YP92/57/zv/5/xYAIgAcAAcA6f/J/7H/qP+x/8n/6f8KACcAOwBEAD8ALAASAPn/6P/l/+//BAAjAEUAZwCAAIgAfABdADQADQD0/+z/9/8PADAAUgBvAH8AgAByAFkAPQAkABEABgADAAYADwAbACUAKQAjABEA+P/a/8D/sf+v/7v/0//x/w0AIAAkABsACgD6/+7/6P/k/+H/3v/g/+j/9v8EAA8AEgALAP3/6P/R/7z/rf+p/7P/yf/m//7/CgAGAPb/4v/T/8z/zv/U/9v/4f/o/+//9//8//7/+f/v/+L/1P/L/8n/z//a/+j/9v8AAAYABwAFAAIAAAD///7/+//3//P/8f/x//T/+/8DABAAHQAlACUAHAAOAAMA/v///wMACwAXACcAOQBJAFIAVABPAEgAPgA1AC4ALQA1AEUAWQBpAHEAcQBrAGEAUQA9ACgAGAATABsAKgA6AEUASABDADcAKAAYAAsAAgD///3//f///wMACgATABsAIAAgAB0AGQAYABgAGgAcABsAGwAdACIAKQAsACkAHwATAAkAAwAAAP3/+v/6/wAACgAXACMAJwAjABcACAD6/+3/5f/h/+D/4//o/+//9v/7//3//f/5//L/6f/f/9f/1v/e/+z//f8JAA4ADQAJAAUAAQD///r/9P/w//D/9P/9/wYADgASABIADgAGAP3/9v/z//b//v8GAA0ADwAOAAgAAAD4/+7/5f/e/9r/3P/j/+///v8JABAAEQAOAAgAAQD3/+r/3v/Y/9r/4v/o/+j/4v/Y/8//yP/C/7v/sv+o/6D/nP+d/6T/sf/D/9f/6v/2//v/9v/s/9//1P/O/83/0P/U/9f/1v/U/9D/zf/K/8j/xv/G/8n/0f/e/+3/+f8AAP7/8//j/9P/zP/P/9r/6f/2////AgADAAIA/f/z/+n/4v/j/+z/+f8FAA4AEQARAA4ACwAJAAYAAwD///v/+f/9/wMACwASABYAGAAbAB8AIgAiAB8AGwAYABUAEwASABEAEgAWABoAGwAYABAABwAAAPv/9v/v/+f/5f/v/wYAJwBFAFUATwA3ABUA9f/f/9n/4f/2/xAALQBDAE8ATgA/ACYACADr/9j/1//q/w8APgBpAIcAjgB8AFIAGgDg/7H/m/+j/8X/+/83AG4AlACeAIYAUQAKAMX/kf93/33/n//a/yUAcwCwAMkAtwB/ADIA5f+o/4f/iP+r/+3/PQCKAL0AzAC2AIUASAAMAN//yf/U//3/OQB3AKUAugC0AJQAYAAhAOP/tP+k/7j/5v8fAFMAcwB6AGsASAAbAPH/0v/G/83/4f/4/wgAEAARAA0ABwAAAPn/9P/z//j/AgASACAAJgAfAAwA8v/V/7//tP+4/8j/3v/z//7//v/z/+D/yf+z/6D/lP+U/6P/wP/k/wYAHgAmABoA/P/S/6f/h/9+/4//tP/i/w0ALwBAAD0AJwAAANH/pf+K/4b/mf+7/+H/AQAVABgACgDv/8v/pP+E/3D/bf98/5j/u//d//b/AAD4/+H/wf+g/4b/fP+B/5H/pv+6/8n/1P/c/+D/4P/Z/83/v/+3/7v/y//h//f/AwAHAAQA/f/y/+P/0f/A/7j/vf/P/+b/9/8AAAEAAAAAAP7/+f/z/+3/7f/z//3/BgAMAA4ADgANAAwADQAPABUAHgAoADEANgA4ADcAMgAqACEAGgAXAB0AKwA9AE4AWQBZAE4AOgAiAA0AAQACAA4AHwAwADoAPQA3ACkAFwAEAPP/5//m//L/CgAqAEoAXQBdAEUAGwDs/8H/pv+j/7v/6v8oAGcAlwCpAJoAbAAtAOz/uP+c/6H/xv8DAEwAjAC0ALcAlABTAAQAuP99/2L/bP+d/+n/PgCGAKsAowBzACkA2f+R/2L/Wf99/8z/MwCXANwA7wDNAIQAJQDH/3n/UP9U/4f/2/86AIwAvQDCAJsAUgD6/6X/bP9d/33/w/8cAHEArgDBAKcAZAAHAKf/Wv81/0D/d//H/xsAYACHAIsAawAsAN3/j/9X/0b/Yf+g//L/QwB/AJgAhABGAO7/kP9J/yn/OP9w/8P/HwByAKoAuACXAE8A9/+k/2z/Wv9s/5z/3/8oAGkAkQCVAHMANADr/6r/gv98/5v/2v8pAHcArQC9AKQAbwAuAPX/zP+7/8P/4f8QAEkAgACmALEAnABrAC0A8//K/73/zf/x/x8ASwBqAHMAYwA+AA0A3f+4/6X/p/+6/9n//v8fADQANAAeAPr/0f+x/6P/qv/C/+X/CgAsAEMASAA6ABsA9P/N/7T/rv+7/9b/9f8QACMALQArABwAAgDh/7//p/+g/6r/wf/e//v/EgAiACgAIgAUAAAA7P/b/9D/zf/O/9L/1v/b/+L/7v///w8AGAAVAAYA8//i/9v/3f/m//H//P8DAAkACgAIAAQAAAD7//T/6f/f/9f/1f/Y/9z/3v/e/97/3f/e/97/3v/e/97/3P/U/8b/sv+c/4n/gf+I/5//xf/w/xcAMAA2ACYABQDa/67/jP+A/4//t//v/ysAXwB/AIYAcgBHAA8A1v+l/4f/hv+m/+T/MQB5AKUAqACGAE4AEQDe/7n/pv+p/8L/8P8jAE0AXgBTADEABgDh/8j/wv/P/+n/CgAsAEUATgBEACYA/P/Q/7D/pP+u/8n/7P8NACQAKAATAOj/s/+F/27/dP+V/8n/AwA3AFcAWgA7AAMAxv+T/3r/ff+a/8v/BwBFAHgAlQCTAHMAPgACAND/tP+4/97/HQBlAKMAxwDMALIAgAA+APn/v/+g/6X/y/8EAEEAcQCKAIsAdgBTACcA/P/Y/8f/0P/z/yYAWgB6AHwAYQA0AAQA4v/T/93//v8uAGEAhgCQAHgAQwAAAML/l/+H/5X/u//v/yYAVABtAGcAQQADAMD/jP94/4v/wf8LAFkAlwC0AKkAewA0AOv/rv+M/4z/rf/q/zQAeQClAKgAfgAwANL/e/9D/zf/W/+j//z/SwCAAI4AcgAzAN7/if9N/z7/Yv+r////QgBkAGEAPAD//7X/cv9M/1L/hP/Q/x4AWQB0AG4ASAAJALv/c/9J/03/gP/T/ysAcwCcAJ4AfAA/APX/sf+H/4P/of/X/xEAQwBfAGIASwAfAOn/tP+Q/4n/o//Z/xwAXQCLAJwAjQBkACsA8v/G/7L/uf/X/wAALABQAGIAYQBMACwADAD4//L//P8NACIANAA/AEAAMwAWAO7/wf+b/4f/iP+a/7X/0v/r//3/BgAFAPn/4f/C/6P/i/+B/4P/kv+q/8j/5v/9/wQA+//i/8T/rf+l/67/xv/p/xAAOQBbAHEAdQBnAEsAKQAIAPD/5f/p//7/IQBMAHIAhQB/AF8AKwDz/7//nf+T/6P/yf/9/zMAYAB6AHkAXAArAPH/u/+Z/5L/p//U/xAATwCEAKIAoQCBAEwAEgDi/8T/u//J/+r/FwBHAGwAfAB1AFwAOgAWAPb/3P/P/9b/8v8bAEcAZgBxAGYATAAsAA0A9f/l/97/4v/w/wQAGQApAC0AJQAXAAgAAAD//wAABQALABEAFgAYABUACgD6/+X/0//J/8v/2//y/wgAFwAYAA0A/P/m/8//vP+t/6n/sv/H/+b/AwAZACEAGAADAOj/0f/F/8r/3f/6/xgANABEAEIALQAHAN3/uP+j/6D/q/++/9T/6v/6/wAA+v/o/87/tP+k/6L/rv/F/97/8f/4//H/4f/N/7j/qP+g/6P/sf/I/+H/9P/+/wAAAAABAAQABgADAP3/9v/x//D/8//3//v///8BAAMAAwAAAPj/6f/X/8X/uP+z/7r/zf/p/wYAIAAsACkAGAABAOv/2//U/9f/4//1/wYAEQARAAYA+f/t/+X/3//Z/9X/1v/i//X/BwAQAAwA/f/q/93/2//m//3/HAA7AFEAVQBFACUAAADh/9H/1P/k//v/EQAiAC0AMAAtACMAFQAHAP//AAAOACMANwBGAE0ATwBKADsAHwD7/9f/wv/C/9b/9P8RACgANwA/AD4AMwAdAAMA8P/p//D//v8KABIAFgAaACAAJgAnACAAFAAJAAMABgAPABkAIAAjACAAGwAUAA4ACgAKAAsADwATABgAHQAfAB0AGQAVABMAEwAUABUAFQAWABkAHAAbABUACAD6/+z/4//i/+n/+P8IABUAGAAQAAEA8v/p/+j/8P/9/wkAFAAbAB4AHQAZABIACgACAP7//v8IAB8APgBeAHQAdQBdADEA/f/Q/7n/u//V//3/JABDAE8ARwAuAA8A9v/o/+n/7//0//P/7//w//r/DgAoADsAPwAzABwAAwDv/+H/1//Q/83/1//z/x4ATgBzAHwAaAA7AAEAyP+Z/37/ff+Z/83/DgBLAHMAfABiAC0A6v+r/3//cf+E/7L/7/8rAFoAbgBkAD0ABQDQ/6r/nv+t/83/9P8YADEAOgAwABUA8//Q/7v/u//T//3/KgBNAFkATQAsAAAA0v+n/4j/ff+K/67/4P8SADoATwBOADgAEQDh/7L/kv+L/5z/vv/k/wIAFgAbABAA9//P/6H/eP9h/2X/iP/D/wYAQQBgAFoAMADx/63/dv9X/1D/Yf+H/73//f85AGYAdQBhAC4A6/+n/3L/Wf9g/4X/vf/6/yoARgBMAEAAKQAOAPL/2P/F/7//xv/b//f/FwA3AFAAXQBYAEEAHwD8/97/y//B/7//xP/Q/9//7f/2//z/AgAMABUAGAAQAAEA8v/o/+j/8v8DABkAMQBFAEwARAAuAA8A8//b/8v/wf+8/7v/v//J/9j/6f/2//n/8P/f/87/xv/K/9j/6//6/wAA/f/y/+f/5P/v/wcAIwA6AEUARQBBAEAAQwBIAE8AWgBsAIcApQC+AMoAxgCzAJMAbgBMADUAMQBAAGAAhwCpALkArACDAEQAAADH/6T/nP+r/83/+P8kAEgAWABRADUAEADv/9n/1P/d/+//AwAUAB4AHAAOAPb/2f/A/7X/vv/e/w4ARgB3AJIAigBcABAAuf9v/0n/U/+L/+L/QgCVAMUAxgCWAEIA4v+K/1D/P/9c/6D//v9jALgA5gDhAKgASgDg/4b/U/9W/43/6f9QAK0A5wDyAMoAdQAKAKT/XP9D/1f/iv/L/wgAOABSAE8ALgD4/7f/gf9k/2r/j//J/wUAMwBDAC8A/P+4/3n/Uf9K/2X/m//e/xsARwBYAEwAJQDu/6//ef9a/17/hP/D/wUAOgBSAEkAIADj/5//aP9O/13/kP/Z/x4ATgBaAEQAFQDe/6n/hP92/4b/sf/u/y0AXQBvAGAAOwASAPP/4//l//P/DAAtAE8AawB1AGoATQAoAAYA9P/z/wQAJQBMAG4AgQB/AGYAOgAGANf/u/+6/9T//P8iADoAPgAwABYA9P/O/67/nP+i/7//6v8UADQAQwBDADUAGQDz/8j/pf+Z/6n/0P8AACsARABHADcAHAAAAOf/1v/Q/9X/4v/2/wwAIgAxADQAKAALAOX/vP+b/43/lv+x/9b/+f8SAB0AGwANAPX/1P+x/5X/iP+P/6b/x//o/wAACgAGAPX/2v+9/6f/nP+c/6P/rv+9/9H/6v8CABYAHAARAPr/3f/F/7f/tv/C/9b/8f8LACMAMgAzACkAFwAFAPf/6//k/+P/6v/8/xcAOQBYAG4AdgBuAFcANwAVAPz/7//u//f/BAAVACkAPABHAEYAOAAiAAwA/P/y//H/+v8NACkAQwBPAEUAJwAAAOD/zv/N/9n/7f8FACAANwBGAEkAPgAqABQAAwD7//r/AAANACIAOwBUAGUAZABQAC4ACADp/9T/zP/T/+z/FABFAHAAiACFAGoAPgAOAOb/zf/J/9v/+f8YADAAPgBCAD0ALAANAOL/tf+W/5L/rf/e/xgATwB4AIYAdAA+APD/m/9X/zP/NP9Y/5T/3f8lAF0AcwBfACMA0/+H/1r/Vv98/73/BwBHAG8AegBlADcA+v+8/5D/gv+Z/8r/BAA1AE4ATwA9ACEAAADh/8b/t/+6/8//8f8UAC8AOQAxABsAAADn/9n/2f/m//n/DAAbACAAGwAKAPL/2v/K/8z/3v/5/xAAHQAdABgAFAAXACAAKQAsACYAFwACAOz/1//K/8v/4P8HADcAYwB+AIIAcABMABkA4P+n/37/dv+V/9T/HwBhAIcAiABmACwA6/+x/5H/lP+5//b/NwBtAIwAjgB1AEUABwDJ/5f/f/+H/67/5v8fAE0AZABjAE8AMgAVAAAA9v/4/wMAEwAiACkAJQAWAAQA9v/w//T/AAAOAB8ALgA6AEAAPQAwABgA+//d/8j/wv/L/97/8f///wMAAwAAAP///v/9//7/AAAFAAgAAwD0/93/xP+y/63/t//L/+P/9/8AAP3/7f/U/7n/o/+Z/57/sf/N/+j//v8KAA8ADQAHAP7/8f/n/+L/5f/w/wAADQAXABsAGAAOAP//7P/e/9n/3//s//n/AAD+//P/5f/a/9f/3f/o//b/AQAGAAMA+P/l/9D/v/+2/7f/wv/Y//b/FgAwADgAKAAGAOL/yv/I/9n/8v8JABkAIwAnACUAHAANAPv/6f/e/9v/4v/w/wAADQASAA4ABgD///n/9P/s/+X/5P/v/wQAHgAzADwAOgAyACkAJAAmACwANgA9ADwALgAUAPP/0/+8/7T/u//P/+n/AQAUABsAFgAEAOz/0P+4/6r/rP/A/+L/BwAmADgAOAAnAAcA3v+z/4//fv+H/6z/5v8oAGMAhwCJAGkAMADu/7H/h/92/4T/rv/v/zkAegCgAKIAgABEAP7/uv+H/3P/gv+x//H/LgBaAGsAYgBFABkA6P+8/6T/qv/Q/woASwCFAKwAuwCtAIIAQAD3/7P/hP9z/4T/tP/7/0gAigCrAKMAdgAwAOf/qP+C/3v/lf/M/xIAWQCOAKIAkgBhABcAxv99/0//Sv9u/7X/CgBbAJUArgCiAHkAOwD2/7T/gv9r/3j/qf/1/0cAigCpAJwAaQAZAL//aP8r/xr/P/+V/wYAdwDKAO8A4QCkAEgA4f+C/0L/Mf9T/6L/CgB1AMkA8ADeAJgALQC6/1v/Kf8w/2//2f9UAMgAGAEwAQgBpQAeAJX/Kv/5/gz/XP/W/10A1QAiATUBCwGtADEAsv9J/wv/B/9B/6v/LQClAPYADQHtAKIAQQDe/4j/T/9A/2D/p/8CAF8ApwDPANAAqgBlAA0Atv9z/1P/Wv+D/7//AAA5AF4AaQBYADAA/f/I/53/hP+B/5P/tv/j/w8AMAA/ADkAJAAIAOz/0f+2/57/jf+L/53/wf/t/xIAKQAuACIACgDt/83/sP+d/5j/pf/C/+r/FQA7AFQAWgBKACcA+//Q/7T/r/+9/9f/8v8GABUAHwAkACMAGAABAOX/y/+8/7v/x//Y/+v//P8KABIAEAACAO7/2v/P/87/0//b/+X/8v8EABYAHwAYAAIA5//Q/8L/v//F/9b/7/8KACIALwAuACIAEAD9/+n/2f/R/9X/5f/6/wwAGwAmAC0ALAAfAAYA5//N/8L/zP/l/wUAJgA9AEQAOQAfAAAA5//Z/9f/4P/w/wMAGgAvAD0AQgA/ADcALgAiABEAAAD0//X/BAAfAD0AVgBoAHEAcgBqAFoAQwArABgAEAAVACMAOABMAFsAYwBjAFsATAA2AB0ABQD0/+z/7P/w//X/+/8DAA4AGAAcABYACgD///j/9f/z/+z/4P/U/87/0f/e//P/DwAvAE0AYABgAEkAIgD2/9D/t/+t/7L/yP/s/xYAPgBUAFAAMwAGANj/sP+Z/5X/pP/E/+v/DgAlACwAIgAMAO//zP+q/4//hP+L/6P/w//k/wAAEwAfACEAHAASAAgAAAD5/+7/4f/U/83/z//b//D/CQAmAEEAVQBaAE0ANAAVAPz/7P/o/+//AAAaADgAUgBhAGEAVAA6ABcA7//H/6j/nf+u/9f/CgA6AFgAYABTADYAEADp/8f/sf+t/7z/2f/9/xsAKwAkAAcA3v+0/5n/k/+i/7//4f8CAB4AMQA0ACUABwDi/8H/r/+x/8b/6v8QADAAQQA9ACQA/f/R/63/mv+b/6//zv/v/wgAFgAXAAgA6/++/4f/U/8z/zT/V/+T/9X/CQAlACMABQDV/5z/a/9P/07/Zv+R/8X/+v8kAD4APwAlAPf/vP+F/17/UP9f/4v/zP8SAEwAawBrAFAAJADv/7f/h/9s/3H/mf/Y/xoATwBsAHIAYwBDABIA2v+j/3//ef+W/87/FABbAJEArACnAIcAVAAbAOf/wP+u/7X/1v8LAEoAgwCpALQApQCAAEwAFADj/8H/tf+//93/BwA2AGEAgACMAIUAbwBQAC0ACwDv/93/2f/o/wgAMgBcAHoAhwCBAGsATAAqAAoA9P/q//H/CAAtAFcAfACTAJYAgwBdACoA8f+8/5X/if+a/8f/BQBIAIEAogCgAHoANwDo/6D/b/9h/3b/qv/z/0QAiwC0AK4AeAAgAL7/bP88/zf/Xf+o/woAcgDGAO0A2QCOAB8Aqv9K/xT/Ev9B/5j/AwBvAMEA5QDOAH4ABAB9/wn/x/7I/gz/h/8dAK4AGwFIAS0B0ABLAL7/SP8E///+Ov+o/y8AtAAWAUEBLAHbAGEA1v9X/wP/7f4Z/3n/9/91ANwAFQEQAcsAVADH/0n/+P7j/gf/WP/C/zQAnADkAPwA3QCRACwAyf99/1f/W/+G/8z/IAByAK0AwwCtAG4AGADC/4D/YP9l/4f/vf/6/zQAYAByAGMANgD4/7n/i/93/37/m//G//b/IQBAAEoAOwAUAOH/rv+J/3z/i/+t/9n/AgAkADoARABBADAAFQD2/9z/zf/P/+H//f8fAEEAWQBfAEwAIwDw/8D/n/+S/5n/r//Q//X/GAA0AEUARwA7ACIAAADd/7//sP+0/8v/7P8MACQALAAjAAcA4v+8/6P/nv+s/8X/3//z/wAABgAGAP3/6P/M/7H/oP+g/7H/zP/p/wEADwARAAkA/f/v/+L/0//E/7b/r/+z/8L/2f/x/wcAGwApADAALgAiAA0A9v/g/8//xf/F/9D/6P8LADIAUABdAFQAOgAXAPX/1/+//7L/tP/L//b/KwBcAHoAfABhAC4A7v+t/3z/aP96/6z/7/8xAGEAdABnAD4AAAC4/3j/Uv9R/3j/u/8JAFIAhACWAIYAVwASAMX/gv9a/1n/gP/F/xQAXQCOAKEAlgBxADoA/P/B/5n/j/+q/+X/NQCLANAA9QDvAL0AbQATAMn/n/+g/8v/FQBuAL8A8wD5ANAAgwAqAN7/rv+f/67/0f8CADsAbwCRAJQAdAA5APL/sf+G/3r/jv++//3/OwBmAHQAXwAtAOv/p/9z/17/bP+c/9//JQBeAH0AfQBgACwA7f+x/4f/ef+I/6//5f8fAFMAdQB6AF0AIwDZ/5L/Yv9U/2n/nP/c/xsATABkAGEARQAXAOX/uP+d/5r/rP/N//P/FQAsADMAKQARAPX/3//Y/+X///8gAD8AVgBdAE8ALAD7/8r/qv+o/8T/9f8uAGQAiwCaAIYATAD2/5j/UP80/1D/oP8RAI4A+gA8AUIBCQGgAB8Ap/9Q/zD/T/+q/y4AvgAyAWkBUgHzAGQAyf9F//T+6f4j/5X/IQCnAAQBJgEIAbQAPwDD/1v/Hv8d/1j/v/80AJkA0wDZAK4AYQAEAKz/af9K/1T/g//J/xMAUQB2AH0AZgA6AAEAzf+o/57/rf/O//P/DwAeABsACADs/87/t/+u/7T/xv/c/+//+/////3/9//v/+j/4v/e/9v/2P/V/9H/zf/L/8//2f/m/+//8v/u/+n/5//o/+n/5f/d/9b/1//i//T/BAARABQADwACAO//2v/J/8T/zv/i//z/EQAdAB0ADwD3/9f/tv+b/43/k/+t/9r/DwBBAGMAawBVACcA7P+y/4v/gv+c/9H/EQBMAHQAggB3AFEAGADU/5P/Z/9b/3L/pf/l/x8ASABSAD0ADwDV/5//ff92/4z/uP/v/yIARABMADgAEgDo/8b/s/+0/8j/7P8YAEIAXgBgAEgAHQDt/8X/sf+4/9f/BQA3AGAAdQByAFcAKADx/7v/lv+M/5//y/8DADkAXABkAEwAGwDe/6X/fv9v/3n/lf+9/+v/FwA6AEsARAAmAPz/0P+u/5v/m/+t/9D//v8rAE0AWABLACsAAADR/6f/iv+E/5j/wf/1/yUATABjAGgAVwAwAPr/w/+f/5v/uP/o/xwARwBgAGAASAAZAN//qP+E/3z/lP/G/woAVgCaAMcAzQCpAGAABACo/2D/P/9Q/5X/AQB6AN0ACgHzAJ4AJACm/0L/Ef8f/23/6/+AAAgBYAFwATMBtwAbAIj/IP///i3/nf8vALwAIQFJAS4B3ABqAPL/jv9Y/13/nP8DAHUA1AAIAQUBzwB1AA4As/96/2//kv/V/yMAaQCWAJ8AhABLAAUAxf+Z/43/o//R/woAPgBgAGcAUwApAPf/xv+m/5//s//e/xMAQgBcAFsAPgAPANv/q/+L/4H/j/+y/+D/DAAtAD4APwAyAB0AAwDq/9T/xv/E/83/3//z/wQADgAOAAUA+f/s/+X/6f/5/xEAKwA/AEUAPgAuAB0ADwAHAAEA/v/8////AwAIAAcA/f/q/9f/zP/L/9f/6/8DAB0AMQA4AC8AFQDw/8j/qv+e/6f/w//r/xQANQBFAEIALQAOAO7/0P+9/7f/w//e/wMAKQBFAE0AQQAiAPn/y/+f/3z/aP9o/3v/nv/I/+//BwAMAP7/4v/G/7L/rP+x/7r/wv/G/8X/v/+3/7H/sf+6/8z/3v/s/+7/5v/U/77/pv+V/5H/oP/D//b/KwBYAHEAbgBPABkA2f+a/2v/V/9h/4b/vP/3/ykATABXAEgAIQDs/7L/hv91/4P/rf/o/yMAVABuAG4AVAAlAO//u/+V/4T/hf+T/6v/xv/g//T//P/5/+//5v/j/+j/8P/2//f/8v/s/+X/4f/i/+z/AgAjAEgAZABsAF0APAAUAPD/1f/J/9P/9v8vAHcAvQDxAAcB/ADWAJwAWQAbAO//3P/n/wsAPgBzAKAAvADCALMAkwBrAEMAIwANAAAA/f8AAAsAHgA2AE0AXQBkAGAAUAAyAAkA2v+t/5D/jf+l/9P/CgA+AGMAdABuAFYAMAAEANv/uf+m/6j/wP/s/ykAbgCvANoA5ADJAI0AQwD+/8v/tf+7/9z/EABRAJEAwgDVAMcAmgBaABQA2P+u/5//rv/b/xgAWQCLAJ8AkQBoAC0A7/+3/47/e/9+/5X/u//l/wgAHgAiABUA/f/c/7r/nf+N/47/of++/9v/8P/6//j/7f/b/8b/sf+h/5n/m/+j/7H/v//M/9T/1v/T/9D/0f/Z/+b/9v8CAAsAEAARAA0ABQD+//j/+f8CABMAJwA5AEUASAA/ACoADADt/9P/xv/J/9v/9v8QACUALwAvACYAGAAGAPX/5P/W/8z/x//H/8z/1f/e/+H/3v/W/8//zf/Q/9X/2f/c/+L/6v/2/wIADQAVABgAFQAKAPn/5f/X/9b/4v/3/w4AIAApACUAFgAAAOn/2P/R/9T/3v/q//T//v8FAAoACQAAAPH/3f/N/8T/x//V/+n//f8IAAgA/f/q/9f/yv/H/87/3P/v/wQAFwAkACcAHwANAPr/5v/Y/9P/2P/o////FwApAC8AJQAPAPH/0P+y/5//nv+x/9f/BAAwAE8AWgBSADkAEgDn/77/o/+c/6z/zv/6/yUASABbAFsASAApAAUA5f/N/8T/zP/n/w8APQBiAHUAbwBWADMADgDv/9b/yP/H/9b/8v8UADQARQBCAC8AFQD9/+z/5v/o//H///8QACIALwA0ADEAKAAfABcAEwATABkAJwA6AEsAUQBKADkAJQAWAA0ACAAGAAYACwAVACIAKgApAB4ADwAAAPj/9v/7/wQAEQAfACkALgAuACsAKAAiABgACQD4/+f/3f/d/+P/7//6/wIABwAGAAAA8//k/9b/zP/I/8j/zP/Q/9P/1P/S/9D/0P/S/9X/0//M/8P/vv/D/9H/5P/2/wAABQAEAAAA+//5//z/AQAGAAYAAADz/+f/4f/i/+j/7//2//n/+//4//P/7v/s/+3/8f/0//P/7//q/+b/5P/l/+j/7v/2//3/AAAAAP///f/+////AAAAAP7//f8AAAYAEAAbACIAJQAiABkACwD7/+r/3v/a/+H/8v8HAB8AMQA7ADcAJwARAPz/7//r//D/9v/7//7/AwALABQAGwAdABkAEgAKAAIA/f/4//j/AAARACYAOABCAEEAOgAxACgAHwAUAAgA/f/3//j/AAANAB0ALgA9AEgASwBEADUAIwARAAQA/v/9/wAACgAYACgANgA8ADcAJQAJAOj/yP+x/6j/rf++/9b/8P8DAA0ACgD//+z/2f/I/7z/tP+x/7X/wv/Y//H/AwAKAAMA9P/h/9D/xv/D/8r/2f/w/wUAFAAYABUAEQARABMAEwANAAAA8//q/+j/6v/v//f/AAAMABUAGAAUAA0ACAAJAA0ADwALAAEA+f/2//v/BAAQABgAGwAVAAUA6//L/63/m/+a/6n/xP/h//j/AAD9/+3/1//D/7f/tf++/9D/5////xUAJwAwAC0AHwAIAO//1//F/8D/yf/i/wYALgBNAFoAVAA+ACEABgD3//T/AAAWADEASQBXAFkATwA8ACMACQDz/+P/3//m//X/BgAYACcAMQA1ADAAIQALAPf/6f/o//H/AQAUACcANwA+ADoAKwAWAAYABAAQACgARABdAG4AdABtAFoAQQArAB8AIgAyAEgAYAB1AIEAfwBqAEkAJAAIAPv/+f/8////AgALABsALAA3ADQAJAANAPr/7v/s//L//f8IABEAFgARAAMA7v/X/8X/vf/C/9L/6f8CABkAJgAjAA8A7//L/67/nv+c/6X/tP/G/9j/5//u/+3/5f/Z/8z/v/+z/6r/qP+u/7v/yv/X/9//4P/a/9D/xv/B/8T/0P/j//f/BAALAA4AEAAVABwAIwAmACQAHwAaABYAEgANAAcAAAD3/+7/5v/e/9n/1//Y/9v/4f/r//X//f/9//P/4f/O/7//t/+0/7P/tf+8/8z/4f/1/wEAAwD+//P/4//S/8L/vP/G/+D/AQAfADAAMwAsAB8AEAABAPb/8P/x//X/+v/9//7/AAAAAPz/7//a/8T/tv+3/8b/2//w/wEADQAUABQADQAAAPH/5f/f/9//5P/r//P/+v8AAAUACAAGAAIA///8//7/AAACAAMABAAHAA0AFQAbABoAEgAGAPr/7v/j/9r/0//R/9T/3P/n//P/+//+//v/9f/v/+z/7f/y//j/AAAKABYAIAAlACIAGQAPAAYAAQAAAAAAAAAAAAIABgAMABQAGwAgAB4AGAAPAAYAAwAGAA4AGAAdABsAEQAAAO//5P/i/+j/8//9/wIABgAKABAAFwAeACEAHwAXAAwAAgD+/wAABwAOABIAEQAKAAAA9f/q/+P/5f/x/wUAHQAxAD4AQgBAADoAMgApACEAHgAiAC8AQQBUAGEAZABcAEwAOQAnABcACwADAAEABwAWAC0ARQBWAFwAVABDACwAFgADAPn/+P8AABAAIQAvADQAMAAlABkAEAANAA0AEAATABUAFwAbACQAMAA9AEcASABBADYAKwAlACYAKQAsAC0ALwA0ADkAPQA9ADkANAAuACgAIgAcABgAGAAeACcALwAzADQAMgAtACQAGAAIAPr/7f/k/97/2v/X/9f/2v/e/+D/4P/b/9P/yf++/7P/qP+f/5n/l/+b/6X/sP+7/8L/w//A/7z/uP+0/67/pf+a/5L/k/+f/7b/zf/e/+P/3v/W/8//zf/O/9P/3P/r//3/DwAbAB8AGwARAAUA+f/r/93/0P/H/8P/wv/D/8b/yv/Q/9b/2//b/9X/y//A/7n/uP+//8z/2v/n//D/9P/0//D/6//l/+L/4v/o//H//f8JABYAHwAkACIAGgAPAAUAAAD9//3///8CAAoAFAAfACMAHwAUAAoABgAMABYAIQAmACMAHAATAAwABwADAAAA/////wAABAAKAA8AEQANAAgABAACAAIAAwAFAAkAEgAdACYAJwAhABUACQAAAPr/8//s/+f/6f/v//f/+v/3/+//5//i/+H/4//l/+f/6P/o/+r/7P/v//T/+P/7//r/9P/s/+X/4//o//T/AQAKAA0ACgADAPv/8P/l/9v/1f/V/9n/2//X/87/xf/A/8H/wv/A/7n/sP+q/63/uv/L/9v/5f/o/+r/7P/z//r/AAADAAcADgAZACYALAAoABsADAADAAQADgAbACkAMwA7AEAAQgBEAEgATwBXAFsAVwBMAD0AMAAqACwAMAA0ADYANwA5AD4ARwBTAF8AZQBkAF0AUwBMAEoATABOAE0ASQBEAD4AOQAzAC0AKQApAC0AMQA1ADkAPgBEAEgARgA7ACkAGAANAAgACQAKAAkABQABAAAAAAACAAMAAgAAAAAABAAOABsAKQA0ADoAOwA4ADMALQAlABoADQAAAPP/6//q/+//9f/6//r/+v/6//3/AAABAP//+v/2//P/8P/s/+P/1//J/7//u/+9/8T/zP/U/9v/4f/n/+z/7v/t/+r/5v/l/+f/7P/y//X/8v/s/+P/2v/V/9P/1f/X/9b/0v/M/8r/zf/U/9v/3v/Z/9H/yf/D/8L/xf/L/9b/4v/r//D/8P/v/+//8v/5/wAABwAQABgAHQAdABgADwAGAAEAAAAAAAEAAwAGAA0AFgAeACIAHwAVAAYA+P/s/+T/3//d/9v/2v/Z/9b/0P/K/8b/x//Q/97/7P/2//z///8BAAMAAwAAAPv/8f/m/9r/z//G/8D/vf+//8P/yf/Q/9j/3v/h/+D/2//W/9P/1//f/+r/9P/6//v/+//4//X/7//o/+P/4f/k/+z/9P/6////AgAGAAsADQANAAoABgADAAAAAAABAAYADQATABUAEwANAAgABAACAAEAAAD///3//f///wAAAQAAAP///P/5//j/9//2//X/9v/5//7/AgAEAAMAAAAAAAgAFAAiACwAMgA1ADgAOgA6ADYAMQAsACkAJgAiABwAFwAUABMAEgAQAA4AEQAXAB8AJAAjAB4AGwAbAB0AHgAbABQADAACAPr/8v/u/+7/8f/1//n///8GAA8AFgAXABIACgAEAAMABgALABEAGQAgACUAJAAbAA4AAgD9//r/+P/1//L/8v/4/wAABgAIAAYAAgAAAAAAAgAGAAsAEQAXABoAGAASAAwACQAKAA0AEgAYAB8AKQAzADsAPgA8ADcAMAAoACEAHQAeACYAMAA5ADoAMwApACAAGQAXABcAGwAlADMAQQBMAE8ATABHAEMAQwBFAEcASABIAEYAQQA7ADMALQAsADAAOgBGAFAAUgBMAD8AMgApACUAJgAmACQAHwAYABEADAAKAAsACwAKAAQA/v/2//P/8//0//T/8f/u/+z/7f/w//X/+v/9/////v/8//j/9v/2//b/9v/z/+//6//n/+L/2//Q/8T/uf+x/67/rf+v/7L/t/+8/8L/xv/H/8T/vv+4/7H/qv+j/57/nP+e/6P/qv+x/7T/tP+w/6v/pv+j/6X/rP+3/8L/yf/K/8j/xP/C/8L/wf++/7n/tv+4/77/yP/R/9f/1//S/87/zf/S/9r/4//o/+j/6P/o/+v/7v/v/+3/6P/l/+T/5v/n/+j/6v/v//f/AAAGAAkACAAFAAIAAAAAAAAAAAAEAAYABgABAPf/6//h/9v/2P/W/9T/1P/V/9j/3P/e/97/3P/Z/9T/zv/G/77/uf+4/7v/v//D/8f/zP/V/+H/7v/5/wAAAAAAAAAAAQAFAAoADQAQABMAFgAZABsAHQAfACYAMAA6AD4AOQAsAB4AFAATABgAHwAlACkAKgAqACgAJQAiACIAJAAmACUAHwAWABEAEgAYAB8AJAAnACsALgAwAC4AKQAjACMAKQA0AEAASQBPAFMAVQBUAFAASABBAD8AQgBIAE4AUwBVAFgAWwBeAF0AWABOAEIANwAwAC4AMQA2AD0ARQBNAFMAVwBXAFMASgBAADUALQApACgAKQApACkAKQAsAC8ALwAqAB8AEwANABAAGQAiACYAIgAbABcAGAAbAB0AGAAOAAMA/f/+/wMADwAbACgAMgA7AEEARQBEAD8ANQAqAB8AFwASABAADwARABUAGwAiACkALQAtACkAIQAXAAoA/f/v/+L/2v/X/9n/3v/l/+7/9v/9//7/+v/y/+j/4v/h/+P/5v/o/+z/8v/7/wIABgADAPn/7P/g/9f/0f/O/83/z//T/9r/4v/o/+z/7//x//X/+P/6//b/7P/g/9b/0v/T/9f/2v/b/9n/1//U/9L/z//K/8X/wf+9/7r/uP+3/7n/vP/C/8f/yf/I/8b/xv/J/8z/zf/L/8j/yP/M/9X/3v/k/+j/7P/u//D/7v/r/+j/6P/q/+3/7v/v//H/9//9/wAAAAD+//3//v8BAAMAAgD///z//f8AAAMAAgD8//D/4f/W/9D/0f/V/9f/1v/S/8//0P/U/9j/3P/g/+X/7P/0//n/+f/3//b/+P/7//7/AAADAAkAEAAXABoAGAATABAAEgAYAB8AJAAmACQAIgAfAB0AGwAbABsAGwAaABgAFwAWABgAGgAbABoAGAAVABIADwALAAgAAwAAAPv/+P/3//r/AAAIABIAGwAiACYAJwAjABwAFAAQABAAEgATABEADAAIAAYABgAGAAcACwARABoAIgAmACYAJQAkACUAKAArAC8AMwA3ADgANgAwACkAIgAdABoAFgATABEAEgAWABoAHAAbABkAGAAYABkAGAATAAsAAwD//wAABQALABAAEwAYAB4AJQAsADIANAAyAC8AKgAkAB8AGwAZABcAFAARAA0ACAAEAAEAAAAAAAEABQAIAAoACgAIAAUAAQAAAAAAAgADAAIA/f/0/+z/5v/i/+H/4P/d/9j/0v/N/8n/xv/F/8X/xv/H/8j/yf/J/8b/wf+8/7v/vf/C/8f/yf/I/8f/xv/F/8P/wP+9/7v/vf/C/8n/0P/X/97/5f/q/+3/7P/p/+b/5P/j/+L/3v/Z/9T/0v/U/9v/5v/x//v/AAACAAIAAwAFAAcABQACAP7/+//6//r/+v/5//f/9v/5//7/AgAHAAoACwAMAA8AEwAYABwAHAAZABQADQAIAAMA/f/z/+j/4v/k/+7/+f8AAAEAAAAAAAMACgATAB8ALAA3ADoANAAmABgADgAKAAkABgAAAPj/7//o/+P/4P/j/+z/+v8HABEAFQAVABMAEgAPAAoAAwD///v/+P/z/+z/5v/k/+b/6v/s/+v/6v/u//f/AAAFAAQAAQABAAcADgASAA4ABgAAAP//AAAAAAIABwAQABsAIQAeABQACwAJAAwAEQARAAwABgABAAAAAAAAAAAAAAABAAAA/P/1//H/8v/2//r//f/9//7/AAADAAYABgAEAAAA/P/6//r//f8AAAAA///8//z/AAAFAAkACgAGAAMAAQAAAAAA/v/9//7/AAAAAAAAAAADAA0AHAArADcAPQBAAEIARABFAEMAQAA8ADUALAAhABcAEwAZACUANQBBAEcASABIAEsAUgBbAGEAYABXAEcANQAnAB4AGgAXABIADAAGAAIA///7//f/9v/5//7/AQAAAP3/+f/7/wAABQAGAAMAAAABAAYACgAJAAMA/v/6//n/+f/4//X/9f/5//7////5/+3/4f/b/9z/4f/k/+H/2P/M/8D/uP+0/7L/r/+r/6f/o/+g/5//of+k/6r/sP+2/7r/vf/C/8v/1//k/+3/7//r/+T/4P/g/+X/7P/z//j/+//9////AQAFAAcABgADAP7/9v/u/+j/5f/n/+v/8f/2//r//P/+////AAAAAAAAAAAAAAAAAAACAAQABgAGAAQAAQAAAAQADQAXAB4AHgAaABQAEQAQABEAEQANAAkACAANABcAIgAqACwALQAuADMAOgA+ADwANAApAB8AFwASAAwABgACAAAAAAADAAYACQAMAA8AFAAbACMAKgAuAC0AKQAkAB4AGAAQAAYA/v/3//b/+P/6//n/9//2//f/+v/7//r/+v/8/wAAAQD8/+//3v/Q/8j/xP/A/73/u/++/8X/zP/Q/9D/0f/Y/+X/8//9/wAA///6//T/7P/h/9X/y//G/8b/yf/N/9P/3P/o//X//v8AAAEAAwAKABMAGgAbABUACgAAAPn/9f/z//P/9f/3//j/9v/z//L/9P/5//3////9//z//v8AAAAA+f/r/97/1//a/+P/7P/w//D/7//w//X/+v/9/wAAAQAEAAgACgALAAgABAABAAAAAgAFAAcABgADAAAAAAAAAAEAAwAEAAYABwALABEAGgAmADMAPQBBAEAAOgA0ADIAMwA4ADwAPwBAAEEARQBMAFIAVgBWAFQAUwBUAFUAVgBUAFEATgBNAEsASgBHAEMAPwA6ADUAMQAwADMANwA4ADYAMQAqACIAGQAPAAUA///9/wAABwAMAA0ACgAEAAAAAAADAAoAEQAXABcAEgAKAAIAAAABAAYACgAKAAgABgAGAAoADgAQABAADgAKAAMA+f/r/97/1P/O/8r/x//D/7//vP+9/8D/xf/J/83/0f/V/9n/2v/Y/9H/yP+//7v/vf/B/8P/wv+//73/wP/F/8v/zP/K/8X/wP++/7//w//J/9D/1f/X/9X/0v/P/83/yf/D/73/u/+9/8L/xP/C/7z/t/+4/73/w//I/8v/0P/X/97/4//l/+X/5//u//j/AQAHAAYAAAD4//L/8P/y//b//P8AAAMABgAJAAoADQARABgAIQAoACsAKgAmACQAJwAuADQANAAtACQAHAAYABgAGAAWABEADgAPABQAGwAgACIAIQAeABcADgADAPv/9v/3//3/AwAHAAcABQABAAAAAAACAAQABAADAAEAAAAAAAAAAAACAAkAEwAdACIAIAAZABEADQANAA4ADAAIAAYACgASABoAGwAYABQAFwAgACsAMwA3ADoAPwBEAEUAPgAyACgAJQAoACkAIwAVAAYA/v/9/wIACgAQABYAGwAiACcAKgAqACkAKAAnACMAHAARAAMA9f/q/+T/5f/q//L/+f/+/wAAAgAHAA4AFwAiAC0ANQA4ADYAMAApACIAHAAYABQAEgARABEAEQARAA8ADgANAA0ADQAOABAAEgAVABgAGQAaAB0AIQAmACYAIgAbABUAFAAXABsAGgAWABEADQALAAgAAwD9//b/8f/u/+3/7P/p/+b/4//g/97/3P/d/+D/5v/v//n/AAAEAAQAAAD6//X/8f/w/+//7//v/+//8f/z//P/8f/t/+z/7//2//v//f/4/+//5v/f/93/3//i/+P/4P/b/9T/0P/Q/9L/1f/W/9T/0P/N/8z/zf/N/8v/xf+//7n/uP+8/8T/zf/T/9T/z//J/8P/v/+7/7b/rv+m/5//nP+d/57/of+k/6r/s/+9/8f/zv/T/9n/3//j/+T/4f/e/9v/2v/Y/9P/zf/J/8v/0f/a/+L/5//q/+7/8v/2//f/9v/2//b/9f/y/+z/5P/e/9z/3//l/+z/8v/4//7/AwAJABEAGQAiACoAMQA3ADoAOQA0AC0AJQAhACEAJAApACwALgAvADIANQA3ADYANAAzADQANwA5ADoAOgA6ADoAOAAyACcAGgARAA0ADQAOAA0ACgAFAAEA///9//3///8BAAUABwAGAAUABQAIAA4AFAAXABQADQAGAAMABAAIAAwAEQAYACAAKQAvADIAMAAtACwALgAwADAALQAoACQAIQAfAB0AHAAbAB0AIgAoAC4AMQAxACwAJQAeABkAFgAUABAACAD///b/7//q/+T/3//d/+H/6v/1//3/AAAAAAAAAAAAAAAAAAAAAAAA///5/+//5v/h/+L/5v/o/+j/5v/k/+f/7P/z//r/AAAFAAoADgAQABEAEwAUABYAFwAZAB0AIgAoACwALQAtADAANQA7AD8AQAA+ADwAOwA5ADcANAAxADIANQA6AD4APgA4AC4AIQAUAAoABQACAAEAAAD+//v/+f/5//3/AgAIAAsACgAGAAIAAAAAAAAAAAD//wAAAQAEAAYABgAEAAMABAAGAAcABQABAAAAAAABAAMAAwABAAAAAAAAAAAAAAD9//n/8//s/+T/3v/Z/9f/2P/a/97/4v/m/+v/8P/2//v//f/8//r/+v/9/wEAAwD+//P/5v/d/9n/2P/X/9f/2//i/+r/7//w/+//8P/y//P/8P/p/+H/2//X/9T/0f/P/9D/1P/X/9f/1v/Z/+H/7//6//3/9v/s/+f/6//0//3/AAAAAAAAAQAFAAoADQANAA0ADQAOAA4ADgAMAAsACgAKAAwADwAWAB8AJgAnACIAGQARAA8AFAAbAB8AHwAdAB0AIQAnAC0ALwAwADAAMAAsACUAGgAPAAcAAwACAAEA///8//n/9//1//H/7P/o/+f/6P/o/+L/1//J/77/uv+8/7//vf+3/7L/s/+7/8f/0f/V/9P/0P/O/8//0v/Y/+H/7P/2//3/AAADAAkAEwAdACUAKQArACwALQAtACwALAAsAC0ALQApACMAHwAfACEAIgAdABMACQADAAMABgAHAAUAAgAAAAAAAAAAAAAAAAACAAUACAAHAAMA/v/5//T/8f/v/+//8f/1//n/+f/3//T/8v/y//L/8f/u/+r/5v/l/+T/4v/g/9//4f/n/+//9//9/wAAAAAAAAAAAAAAAAAAAAAAAAAAAAAAAAAAAAABAAMABgAJAAsADAARABkAIgAoACcAHwAVAA4ADgAQABEADwALAAkACgAKAAcAAgD//wAABgATAB4AJQAkAB8AFgAMAAIA+f/v/+b/3v/Y/9f/2v/g/+b/6//w//b//v8EAAcABQAAAPv/+f/7//3//f/8//r/+f/6//r/+f/5//z/AQAKABEAFAAUABEADQAJAAMA/f/1/+//7f/s/+v/6v/o/+j/6v/t//H/8//z//P/8v/y//P/8//1//f/+//9//7//f/9////AwAKAA8AEQAQAA0ACgAIAAUAAQD9//n/9P/x/+z/5f/d/9b/0v/V/97/6v/1//z//v/9//3/AAAGAAwADQAKAAUAAQD///3/+f/z/+z/5v/l/+f/7P/y//j//f8CAAkAEQAYABsAGwAZABYAFQAUABUAFQAUABMAEQAPAAsACAAHAAYABwAHAAUAAgAAAAEABgAOABQAGAAWABEACQACAP3/+f/1//D/7P/o/+b/4//e/9b/zP/H/8f/zP/S/9P/0v/S/9b/3//o/+//8v/0//j//f8BAAUACAAKAA0AEAASABcAHgApADMANwA1ACwAIgAZABEACgADAAAAAAACAAQABAADAAMABwANABQAGAAZABYAEgAOAAoABwAEAAEA/v/6//T/7v/p/+T/3v/Y/9L/z//Q/9f/4//w//r//v/9//v//P///wAAAAD9//r/+v/9//3/+P/v/+r/6//z//v/AAAAAAAAAwAHAAkACgAKAA4AFQAcACAAIAAfACAAJAAmACMAGwAVABUAGwAlAC0AMQAzADMAMQAtACUAGgAOAAUAAAD/////AAACAAMABQAIAAsAEAAVABkAHgAmADAAOwBDAEYAQgA6ADQAMAAwADAALwAtACwALAAsACwAKQAnACUAJgAmACIAGwARAAoABwAKAA8AEwAUABEADQALAAoACgAKAAoADAAPABIAEwARAAwACAAGAAcABgAEAAMABQANABgAHgAaAA4AAAD2//P/8//y/+z/5f/f/97/3v/d/9r/2f/b/+H/5f/k/9//2f/X/9r/3v/e/9z/2v/c/+H/5//p/+f/5f/k/+f/6//s/+n/5f/i/+P/6P/t/+//6//j/9r/0//Q/9D/z//K/8D/tP+r/6j/rf+3/8L/yv/P/9H/0v/U/9f/2//h/+f/7P/t/+r/5f/i/+L/5P/n/+n/6//w//b/+//9//r/9v/2//n/AAAGAAoADQARABcAHwAmACsALAAsACgAIgAZAA8ABgADAAcADwAYABwAGgAUABEAEgAXAB0AHwAcABcAEgAOAAoABAAAAPz//P8AAAUABwAFAAAA+f/2//j//P8AAAAA/f/4//X/9f/2//f/+f/7//7/AAAAAAAAAAACAAYACgALAAgAAwAAAP//AAAAAAAAAAAAAAAAAAD+//r/9P/w/+//8v/2//r/+v/4//L/7P/l/+D/3P/c/97/4v/m/+n/7P/v//b//f8CAAUABwAJAAwADgAPAA4ACwAKAAoACgAKAAoACwAQABYAGwAcABoAFgAUABQAFgAVABMADwAOAA0ACwAIAAMAAAAAAAAA///5/+//5v/i/+H/4P/b/9L/zf/P/9r/6P/0//n/+f/2//b/+P/7//7/AAAAAAAA/v/8//v//f8AAAAA///7//r//f8DAAoADwARABIAFAAUABAACgAFAAUACQAOAA0ABgD8//L/7v/v//T/+v8AAAUACgAMAAsACAAFAAMABAAHAA0AEwAYABsAHAAbABkAGAAZABwAIQAkACIAHAAUAA8ADwAUABkAGQAWABMAFAAaAB4AHQAWAA0ACQALABAAFgAYABgAGAAYABkAGAAWABUAFAAUABEADAAIAAcACQANAA4ACgACAPj/7//p/+j/6v/x//n/AQAIAAwADAAKAAcABgAIAAoACgAFAP7/9v/w/+//8f/0//j//v8DAAkADwATABoAJQA0AEEARgBBADMAJAAYABEADAAGAAAA/f/+/wAAAwACAP///P/8/wAABAAGAAYABwAKABAAFgAYABYAEQALAAgABQADAAAA/v/9//7////9//j/8v/t/+v/7P/t/+3/6v/m/+H/3v/e/9//4P/h/+P/5//q/+n/4f/U/8b/wf/F/9D/2v/e/93/2v/a/93/3//c/9j/1//e/+v/+f8AAAAA/P/5//v/AgAKABAAEgAPAAgA/f/u/9z/y/+//7j/tf+y/6//qv+n/6f/q/+w/7T/tP+z/7H/sf+2/7//yf/R/9T/0v/Q/9P/3P/m/+v/6P/g/9n/1v/Y/9v/3v/k/+7/+v8DAAYAAgD+//v//f8AAAAAAAABAAoAFwAiACYAIwAfAB4AIgAnACgAIwAZABAACwAKAAoACgAKAAkACwAOABIAFQAZAB4AJgAwADkAQQBGAEkATABQAFQAVQBTAE4ARwBCAD8APgA+ADwAOAA1ADQANgA7AD8AQQA+ADoANQAyADAAMAAxADMAMwAxAC0AKAAlACYAKgAtAC0AKwAnACQAHwAWAAwAAgD9//3/AAACAAQABgAKAA8AEwAVABUAGAAeACYAKwAoAB4AEwAKAAQAAQAAAP7//f/9//3//f/8//7/AwALABQAGgAeACAAIQAiACEAHgAYAA8ABgD///v/+f/5//n/+f/5//r/+v/2/+z/4P/W/9P/0//U/9D/yf/C/7//v/+//77/vf+//8T/zP/T/9b/1//X/9n/3f/k/+z/8//4//r/+//9/wIACgAQABEADQAHAAIA///6//P/6f/g/93/3v/h/+T/5f/l/+T/4f/a/9H/yv/J/9D/2v/j/+b/5P/h/+D/4P/j/+T/5f/k/+T/5v/o/+z/7v/x//X/+f/9/wAAAAAAAP7//f/+/wAAAAAAAAAAAAAAAAAA///9//v/+v/6//r/+v/3//T/8v/x//P/9v/7///////9//n/9v/3//r//f/+//3//f///wMABwAHAAUAAQAAAAAAAAD+//n/8//u/+z/6//r/+z/8P/2//z//f/6//P/7v/q/+n/6P/o/+j/6f/q/+z/7v/x//X/+v8AAAcADgATABUAFAATABMAFgAbAB8AIAAfAB4AHQAbABkAFgATABEAEQAQAA8ADAALAA0AEQAUABMADgAGAAAA+f/z/+//7P/s/+7/8f/z//b/+v/+/wIABQAGAAgACwAPABEAEQAOAAsACQAJAAoACwAMAA8AEQARAA4ACQAEAAIAAwAFAAgADAASABsAJgAvADcAOwA+AEAAQQBCAEEAPgA3ACwAHgARAAYAAQAAAAAAAgADAAQABAACAAAAAAADAAgACwAIAAAA9//y//T/+v/9//v/9v/w/+7/7//w/+7/6v/n/+j/7P/v/+7/6//o/+j/7P/z//3/BwAQABgAHQAfAB8AHQAaABYAEgARABIAEgAOAAUA+v/v/+v/7v/0//r//P/8////BAANABYAHQAgAB8AGwATAAgA///5//r//v8CAAMAAwADAAQABgAGAAIA/f/4//b/9v/3//b/8//v/+n/4//e/9z/3//k/+n/7P/s/+v/7f/z//r///8AAAAA///9//r/9P/q/9//1//V/9n/5P/w//3/BwAOABMAEwARAA0ACAAFAAIAAAD+//3//v8BAAYADAAQABEADgAKAAgACgASAB4AKQAvAC8AKQAhABsAGQAcACIAKAAsAC0AKgAhABQABgD+//z/AAAEAAYAAwD9//b/8f/r/+b/4f/c/9n/1//T/83/x//E/8X/yP/H/8T/wP/C/8v/2P/j/+f/5P/h/+D/5P/q/+//8v/1//n//v8DAAYABwAIAAsAFAAgACwANAA2ADMALwAsAC8ANAA6AD4APwA9ADgAMwAuACkAIwAaABAACAAEAAQABgAGAAEA+v/z/+7/7P/p/+b/5P/l/+j/6v/n/+L/3v/e/+L/5//p/+r/7P/x//n/AAAEAAYACQAMAA4ADAAGAAAA+f/z/+//7P/r/+v/7P/s/+z/7P/w//b/+//9//v/+P/1//P/8//0//v/BwAWACIAJQAgABcADwANAA4ADgAMAAgABgAIAAwADgAOAAoABQABAAAAAAAAAAAA/v/7//j/9v/3//j/+v/5//P/6v/h/9z/3v/l/+7/9v/8/wAAAwAHAAoACQAGAAMAAwAFAAcABgADAAEAAgAEAAcACgANAA8AEQAQAAoAAQD3/+7/5//i/97/3f/f/+b/8P/5////AAAAAAAAAQACAAMAAQAAAAAAAwAJAA0ADgAJAAIA//8BAAoAFgAdAB4AGQAVABMAFAATAA4ABwACAAEABAAFAAAA+P/v/+r/6f/s/+//8f/z//X/9v/2//b/9v/1//P/7v/p/+j/6//v//D/6v/f/9X/1P/b/+j/9f///wcADwAYAB0AHgAbABcAFQAUABIADQAIAAQAAgACAAMAAwADAAMAAwADAAQABQAHAAcAAwD8//P/7P/q/+z/7v/x//T/9//6//r/+P/1//P/9v/8/wEABAADAAAA/v///wEABQAHAAcACAANABYAIgArACwAJAAYAA4ACQALABAAFwAfACUAKQAoACMAHwAeACIAKQAuADAAMAAwAC8ALAAiABUACAAAAAAAAwAFAAQAAQD///3/+v/z/+v/5P/h/+T/7P/z//f/+f/7//3//v/9//n/9v/1//j/+//5//L/5//d/9j/1//X/9f/2P/b/+H/5v/n/+L/2P/Q/83/0v/d/+j/7//u/+n/4v/g/+X/7v/3//v/+//5//v/AgALABAADQADAPj/7//s/+z/7P/s/+z/7P/s/+j/4P/V/8//0P/Z/+T/6//p/+H/2P/S/87/zP/J/8j/yv/Q/9n/3v/d/9f/0f/S/9v/6f/3/wAAAwAAAPv/9f/x//P/+v8CAAsADwAPAA0ADQAPABIAFAAUABQAFAAVABYAFAARAAwACAAFAAMAAwAFAAgACwAJAAYAAwAFAAoAEAATABIAEQATABsAJgAuADEALwAsAC4ANgBAAEoATgBPAEwARgA+ADYAMQAyADgAQABEAEIAOQAvACgAJQAmACkAKgAqACgAJwAmACYAJgAlACQAIwAjACMAIgAeABoAGAAaAB4AHwAaAA8ABgADAAcADgATABIADQAGAAAA+v/z/+//8P/2//7/AQAAAPv/9f/x/+7/6P/i/97/4P/n/+//8//z//P/+f8DAAwADwAKAAQAAwAIAA4AEgARAA4ACwAKAAkABwADAAAA/P/2/+//6f/l/+T/5f/l/+L/3v/b/9n/1//Q/8f/vv+6/7v/v/+//7f/qf+c/5X/mf+k/6//t/+7/7//xf/N/9X/1//V/9H/0f/Y/+X/8v/7//7///8AAAMABgAHAAUAAwADAAUACAAKAAoABgACAP//AAAGABMAIgAwADgAOgA3ADAAKQAjAB4AHAAcABsAGQAUAA4ACwALAA0AEQAUABgAHwAoADAAMgAvACsAKwAwADcAOwA4ADAAJgAaAA8ABQD9//b/8//y//P/9f/6/wAACQARABgAGwAdAB4AHgAaABUADgAKAAoADAAOAA4ADQANAA0ADgAQABQAHAAlAC0ALwAsACYAIQAjACgALQAxADQANAAxACgAGwAMAAAA+v/1/+//5P/b/9f/2v/i/+f/6P/o/+n/7//2//r/+f/1//H/7v/s/+v/7f/z//z/BgAPABQAFQAVABQAEwASABEADwANAAgAAAD0/+f/3f/Y/9f/2P/a/93/4f/k/+b/5v/k/+L/4P/c/9j/0//R/9L/1v/Z/9r/2f/a/93/4v/o/+z/7P/s/+z/7//z//b/9v/0//P/8//3//z/AAAAAP3/+P/1//X/9v/2//T/8f/u/+z/6P/j/9//3//l/+3/8v/x/+z/6f/q/+//9f/2//P/7f/n/+L/3P/X/9P/0f/P/8z/yf/G/8P/wf+//7//wP/D/8f/yf/J/8j/yP/K/83/0P/T/9b/1//Y/9f/1v/Y/93/5f/s/+//7//v//H/8//w/+n/4f/f/+X/8f/8/wMACwAYACsAPABDAD8ANAAsACoALgAxADAALgAuADIANwA3ADIAKwAoACsAMAAyAC0AJAAfACIALwA+AEkASwBIAEYARwBKAEsASABFAEYATABWAF0AXgBZAFMATwBPAFAATgBIAD4AMwAqACYAJgApACwALQArACcAJAAiACEAIgAjACUAKQAtADIANQA3ADcANgA0ADMAMwA0ADQAMgAtACYAHwAYABEACQACAP3/+//8//3//P/3/+7/5f/e/9v/2//b/9r/2f/Z/9v/3f/g/+H/4f/f/9n/0v/N/83/1P/h/+3/9f/4//f/9//6////AgAEAAQABQAGAAYABAAAAP3//P/+/wAAAQAAAP////8AAAUACAAJAAcAAwACAAQACQAQABUAFwAVABIADQAHAAIAAAAAAAUACgALAAcA///2/+//7f/q/+X/2//Q/8j/w//B/8H/v/++/8D/xf/O/9f/3v/h/+D/2//U/87/y//O/9T/1//W/9L/z//R/9f/3v/h/+D/3v/e/9//4f/h/+L/5f/o/+n/5v/f/9r/3P/k/+z/8P/v/+z/6//t//H/8//w/+v/5//o/+//+P8AAAUABgAGAAcACwAQABUAFwAaAB8AJgAqACkAJAAiACUALQAzADIAKAAdABYAFAAUABMAEAAOABAAFgAZABUACwADAAMADQAcACUAIgAVAAgAAQAEAA0AFQAYABcAEwANAAcAAQAAAAQAEQAhAC0AMQAtACYAIAAcABoAFwAUABQAFgAYABcAEQAJAAIA///7//b/7//p/+n/8f/9/wMAAQD3/+v/5f/m/+n/5f/Y/8X/tv+v/63/rf+p/6b/qP+v/7j/vv+9/7b/rP+i/5j/jv+D/3j/a/9d/03/O/8p/xr/Ef8O/w7/D/8M/wb///75/vX+8v7u/ur+6P7r/vT+AP8M/xb/G/8c/xj/Ev8O/xH/HP8q/zb/P/9G/07/V/9c/17/X/9l/3P/g/+O/5P/mP+j/7f/zf/e/+f/8P/+/xAAJAA0AEIAVQBwAI4ApACxALsA0AD0ACABRgFcAWoBfAGcAcYB7gEMAiMCPgJlApMCvgLeAvYCEgM5A2gDlQO2A8kD2gPxAxEENARQBGMEcwSJBKgEygTlBPUE/QQFBRIFIwUxBTYFNgU4BUEFTAVSBUoFOAUjBREF/gTmBMYEowSEBGoETQQjBOoDqwN0A0kDHwPqAqICTwL8AbABaQEcAcYAagARALv/Y/8D/5v+NP7T/Xn9Hf25/Ez83vt6+x/7y/p1+hr6vPle+QL5pfhG+On3k/dI9wj3zvaS9lX2F/bf9av1d/U+9QL1yvSf9IX0ePRr9Ff0P/Qq9CH0JvQx9D30SfRa9HT0lvS59Nr0+PQc9Ur1gvXA9f31O/Z+9sr2H/d298z3Ifh7+OD4UPnK+Uj6x/pG+8f7SfzM/FH92f1n/v/+oP9IAPkArQFiAhIDugNdBAAFrwVwBkEHGgjuCLQJagoVC74LbAwmDe4NxA6iD4AQVREZEsgSYhPpE2YU4hRnFfQVhRYMF4IX5Bc2GHkYrBjLGNkY3hjjGOgY4xjEGIAYHRipFzMXwBZOFtcVVhXHFB8UVBNfEkYRHBD0DtgNyAy5C6UKhglaCBgHvAVGBMICQwHX/33+Jv3E+1H61PhX9+L1dfQM86rxUfAH78ftiuxH6/rpp+hZ5xzm++T/4ybjZ+K14QXhUuCe3+reOd6R3f/ck9xS3DPcI9wR3Prb7dv22xncT9yT3OjcVd3V3Vnezt4336nfPeD74NLhs+Ke46Lkx+X95iToKukf6ifrVeye7evuMvCI8QfzpvQ+9qz39/hR+uz7x/20/4ABJgPBBGgGDQiQCfAKYAwbDi8QYBJiFBQWnhc6GfgarRwkHl0fkSD1IYkjEyViJngniCi4KfYqDizhLIMtJS7dLo8vBDAhMP8vzi+rL5YvfS9dLzsvEi/GLjMuSy0hLNcqiCk6KOwmniVSJP4ijSH1Hz8eiRzeGisZTBcyFfYSxBCwDqAMawoKCKIFZwNlAXj/b/1F+yX5M/df9WbzEvF17uPrs+nz52zm2uQt44vhHuDf3pzdLtyo2kvZRdiJ19LW6dXV1NzTQdMS0xvTGdP40tvS+tJj0+/TY9So1N7UPNXZ1Z7WYtck2BTZaNog3PXdit+54Kvhs+L/43vl7+ZE6JjpG+vX7KDuQfC08Srz2vTB9qD4Mvpn+3H8k/3l/kMAgQGYArED/ASABhIIewmiCpoLfgxUDQcOgg7UDi0Pvw+WEI0RbRIVE4oT6hNNFLUUDxVLFWoVfBWKFZAVgxVjFUQVRRV2FcgVFBYzFhwW4RWcFVUVABWRFBcUsxN+E3QTchNXEyIT6RK/EpUSQxK0EQERXxD3D7wPfQ8RD38O8w2NDUYN9Qx9DOkLWAvbClUKngmpCJoHrQYFBpEFJAWfBAcEcwPqAlsCqAHMAOL/CP9P/q39Dv1v/N37a/sV+8f6Z/rr+V351Phf+P/3qfdQ9+72iPYr9uT1ufWo9av1ufXP9eX17vXb9aT1VPUH9dz05PQW9V/1rPX79Uz2l/bM9t32zPa09rP21fYR91H3hfez9+b3J/ht+Kj40vjz+B75WPmP+aj5kflZ+SL5Dvkn+Vn5jPm6+er5IPpD+jD61/lT+dn4k/h++HX4Wfgr+An4A/gF+Ob3j/cT9532TvYh9vf1tfVX9fD0lPRR9Cf0C/T089/z0/Pa8+7z8PPA82LzEfMc86XzgPRX9ff1evYZ9+X3qfgs+YL5Efox+9L8gf7f/wUBZgJGBGMGLAhbCUcKkAt8DaoPdhGnEqoTHRUuF3EZThujHNYdWx81IeoiACRzJLAkLyUQJhcn/SeqKDspySlNKqEqpCpPKrMp8SgrKHInvSbqJeUkvyOsItAhECEeIMEeBh06G5MZ/RcvFv8TnRFtD6wNOAy7CvsIEQc8BZID4wHm/4D96Pp1+F/2pPQa85rxFvCR7hLtnus16sroTee35RzkouJj4UzgL9/53djcIdz92zfcVtwC3FHbpdpI2iTa7dmB2SbZSdkT2jPbJtyv3Abdkd1w3ljf7N8g4FXg+OAd4nTjneSG5XPmo+cI6U/qMOu26y/s5ezW7cDuau/d72LwP/F68tLz7/So9RX2b/bR9iP3N/cI99r2Cve/9734mPkR+kj6kvoS+4v7nfss+4r6OPpp+uL6QPtw+8X7pPwS/qL/zwBtAbQB9wFTArICEQOnA78EdAaJCKcKnwyDDm0QShLgEw0V+hX7FkEYuRkqG4gcBR7kHyoiiSSYJiQoTilXKlUrICx5LE8s2CtxK18rrSs2LMwsVS3FLQEu0S38LG4rWyksJzslpiNBIs8gQR/AHXwccxteGuwYBxfhFLsSnRBODpQLjgivBWwD2wGiAE//t/0X/Lv6pvl/+OH2svQ78t/v0O0F7HTqOemB6E/oU+gh6IDnkual5eXkOuR0447ivuFB4R3hI+Ew4V/h9+EY437kn+UR5t7leeVm5dXlm+Zw5znoG+lC6qrrG+1d7mnvZfBt8WryIfNu83rzqvNU9IP17fYs+AH5cPmg+bv51/n/+UD6nPr/+jX7Dft5+qj57viU+KX45/j6+Jz40Pff9hf2lvU69cn0K/R789/yXPLT8TrxvvCd8NDw7fBs8DLv1e1E7RHuAvBD8gj0BvVZ9Sr1hfSc8xHzvfMK9nX51fw5/6EA4QG/Az8GtgiICsQLAw23DrsQlxIoFOsVgxgDHKsfgCImJC8ljSanKPsqkyzrLFssyyvzK+0sYy4NMOgx8TPFNZs20TWFM6wwdi5uLSYtqyxeK28pnCd0JtslOyUcJIMiwiDzHsIcvxnuFfURpw5fDL4KGgkpBz4F6ANJA9gCvAFn/+373PfT80nwlO31637r3+tn7FnsWuud6aPn2uVp5EbjYeKp4fXgCODS3qjdIt2k3e7eMOCt4Ffg1d/f34ngMOEe4UHgR98B36zf0ODa4cDiAOT75Uvo4Ona6WbovuZF5m7ndOkD61brvOov6nPqhuvQ7NLtj+5V7y3wm/D27yLu4etj6mDqi+vf7H7tZO067ZbtU+6y7hfuoewb60zqXOre6lXrpesB7Hvs0eys7CXs+esV7dzvt/NT91z5R/mN92f1L/TL9G/3qvuxALAF8wkHDcwOjg/1D88QmhI+FScYwRrrHAUfhiGGJKongSrlLAwvMjFGM/s0FDalNvY2LDcrN9E2UzZONl43kDkxPCc+kj5GPb46tzfKNEYySTDVLtYtCS0MLI4qiihPJkAkhiLeINAeAhx8GI8UmBDRDFoJZAYwBN4CLgKHAUYAI/5E+wz4yPST8Xzup+tP6Z3ni+bp5YLlHuV/5GbjwuHY3yreJd3D3JHcHtxk287aydpM29bb8du429Pb29y33ongUuHH4JTf1d5B37XgeeL44y3leeYS6K7pterX6mnqN+rY6jfsmO077vPtT+0j7eftYu/p8OTxLPL98ZDx6fDs77Tusu1j7d3to+4E77zuKu737WDu7+7e7tPtNOzU6j3qXerH6jnrw+t27AntAO1H7JbrIuys7sjy+PaX+d75Pfj89Xz0tPQG90X7wwBzBjoLZQ4BEMcQpxFBE5wVSxjRGvYc5h4FIakj6CaUKlEutjFvNEk2SzfDNyw46Tj1Odc68joSOsA4BzjIOBA7+T0uQKZAGD/wO+431TNEMKUtFSxJK54qaylrJ+IkYSJSIKke7ByLGjcXABM8DmoJFgW2AYL/SP5+/Yv8H/tO+VP3OPW+8p3v2Ovl52fk2uFk4OzfQuAb4fThJOIl4QLfZ9xB2ibZBdlT2YPZa9k82UTZqdli2lXba9yS3arejd8X4EPgMeAn4IPgieE74z3lCudN6CjpFep760Dt0O6W73zv/u7A7g/vvu928B7x6vEP82z0jvX89Zf1pvSa87ryCPJg8bDwFvDT7xDwtfBU8WfxofAw76TtiewB7LzrT+ui6gHqyOkG6nXqy+oD60vrq+va64Prxupk6lXrBu7n8a/1GPiW+JL3LPav9Qr3dvpm/84EqglnDf8PvhH1EvUTNhVMF5AaqB6UIlkl1ib6JwIqaS17Mew0+zYFOAs5qjqEPKA9ZT0wPAg7wzpsO3o8dj1kPn4/lUDOQCw/dTudNkUyoi+pLkEuMC0EKzkonSWRI8whxR82HUQaMxcHFHYQOQxxB7sC5f5t/ED7xPoy+vj47PY09Azxme376XDmaONQ4UrgCOAF4N7ffd/v3ireEN2v23zaENqa2o7b+NtM2/HZ/thP2dfawdxH3lzfj+BJ4jfke+V75YXkrOP646jlDug86rDrmuyE7cXuO/B18RvyMPIF8vHxC/Iw8j3yRvKX8nDztPTb9Uf2qvVB9J3yP/FL8JzvEu/C7tLuK+9a79Puc+2062bqCOpY6oXq0ek56HLmVuU75bzlM+ZU5mHmwOZt59fnZuc+5nDlZubM6eLuwfN49jT2wfMP8STwIfLY9h/9ggP6CC4NThCdEjcULRXfFSEX0xkwHmsjIihjK3otqS8LM3c3jzvrPWg+XT5qPwFC6kRTRmJF9kLqQJpA+UH5Q6ZFz0atRwdI7EZuQ709dTesMnAwATCBL4ktNirZJpokUSOlIUoeNxmpEwcPpAuXCLwE8P8/++/3NPbu9KXy8O7d6gDo9ea65n/lKeI+3WvYMdXk08DT0tO305zTtdPW06DT/NJI0vzRNNKO0pjSTtIl0qLS6dOu1ZbXh9me28/dud/v4HXh3OHe4q3kveY66Mzo9uir6YfrT+4v8WPzrPQ29S/1kvRr8zTy0PH58pD1gvho+m36zPiA9oP0QfOa8kbyJPI98ofyw/Ka8tbxgvDk7lbtIuxd69zqUeqJ6a7oPeiZ6J/plOq56vTp+uiu6EHp+Ond6dXoAegG6bvsZvIc+O77B/3w+xj6G/kl+pv9/gIrCeUOghMvF5EaCB5VIfUj1yWlJ0Aq3i3HMfk0PDd9OfQ84kEER29KKksZSkxJU0roTC1PP0/ATBlJSEZqRSVGUkcLSBlIfkfhRZVCXj0XN18xcy00K0IpMCa4IeEcCBmfFt4UeRK6DucJywTl/xr7H/YU8aLse+mf5zDmB+Sb4Hrc69j21ovWfNZN1ULS5s2nydzG+cV2xmbHLcjByF7JG8rEyiPLU8u8y7rMP87Yzx7RINJx07DVA9nn3IXgQ+Mf5ZjmQ+hy6hnt8u+w8hT1+vZd+HD5nfpZ/Nz+5AHHBL4GTgd7BrYEqAL6ADoAvgByArcEfQa/BhUF/gGQ/sr7Avri+Nz3uva19R718PS59OnzOfLc70/tCOs/6fPnBudh5gHm6eUM5jnmJuau5QnlzORz5c7m2udb5/Hk1uFp4MXiPenu8bT56v2//XT6kvaj9C32Ovt7AgIKMhB8FHYXNxp0HR0hqCTJJ7kq3y0wMR00LDa9N/w57T1JQ1lILEszS9tJfElsS9lOY1HyUEVNCkiRQ1pBe0ETQwFFO0bORfxCsz3wNm0wkSt0KNslUyJ2HTQY4BPyEJkOlwt1B+UC+P7t++T4rfT77sXobeOI337cVNnh1SXTYdLB0+XVudbu1NTQ7MvFxyLFBMQ3xJ/FBMjEyvnMI86rzqPP1tH61NvXXdl62VPZPdqx3AfgOuPo5Z/oJOyK8Or0HfjC+Yv6jvs6/fH+v/9r/+T+jP8CAoQFegiwCSEJsgdDBgMFnAPsAWkAw/8YAJ4AHADm/V36pfaz87XxMvC57lftbOwT7MXrtep+6ITloeJn4LfeF91d2/3Zm9lK2k7bstsp21faNtok24/ckN3G3Zfdi92S3RvdBdx+27jdY+QL78r6qwPlBlsEm/5o+ez3Z/v7AnMMgxXwHO0ifChVLiw08TjUOxY93D0pPwRBv0IWRP1FAUqnUE5Y611VXy1dglpOWtpcZF9tXr1YclBLSchFqEXgRsJHFEhBSMxHDkWsPlw12ivaJLIgGR1YF/0OegYVAQYAWwGaAY/+tfg38qjsyudW4snbRdWS0FXOTs17yxTIdsQJwwDFFslTzE/M78gzxHjAxr6Wvva+ur+Ewc3EGsk8zW/QEdMz1lfar96p4WHimuFF4Qfj+ubT6yHwdfOB9in6hv7VAjQGaQjyCVcLhgzcDOML+wlVCCcIxglfDIMODA++DTULYQj7BUMEEQMEAq8Atv7g+zD46PN873nraOik5jDmoOY35zTnKOYg5HLhcd5D2wXY+dSZ0lPRT9FR0vLTzdWH18DYH9mU2JLX7NZE15zYW9rY2+Hcrd1j3sneq96w3q/gw+aS8Qv/6Qr0EIsPwwg6AYT94v+zB5QSHh76KMEyPzvvQTNGBUhQSItI00lDTB9Ps1EdVEdXAFz3YY5nz2rearZofGbaZa9mHmcCZZNf81dPUF5KkkZpRERDykKAQj9BdD03NkYs0CH8GGMS0wyeBj//1/cm8ujuKO0I60LnAuJ53LXXydPwz1/LCMaowEK8drkruM631rc3uGW5zrswv17C1sPgwlTARL6mvvjB9Mafy9TOBtGu0/rX5d1j5EnqHe8d86z2z/kq/H79Hf7u/vQAuwT1CaQPnhQsGE4ahhtHHH8crxuBGV0WZBO5EaYRVRJvEhkRdw5VC0wIQQWsAWj9Hvng9Sv0PPNm8Urt5+a036bZ7dVs1C/UVtSS1NzU3dTI0/DQhczLx2jEWcNpxH3Gdsjbye/KM8zszeTPn9G80lTTAtSN1UzYw9vd3s7g2OFD407m9+rG7/nyK/QK9Ur4p/9vCr0VGR5hIccfpBteGPwY3h4fKQc1hT/dRmBLsE4yUgBWPVk0WxFcjVwLXVNdQF2IXYxfAGS+aRhuo24Ta2tlWGAqXRlbTFiHU/dMp0WKPhM4lTKnLsMsVSxeK1Yn9x5qE7EHnv7N+Gn02u4N52Peltd11HPUHdUL1IrQscsExwnDF794uo6127HIsGGyNrWTt+C4ArphvInAl8XhyTbMr8x8zAnNNc8K0/7XYd204trnFe3a8nX5sgDAB38NERFXEg0ScxG/EZoTAhdwGzMgsyR2KBMrKyyVK5EpuSaiI3Qg5Ry3GE0UqBCiDgsOdw0yC4YGRgAR+uD0UvA069nk9N0c2H7U3dLM0drPlsyryBfFT8IMwM69fbuXucu4U7m1ug68wrz5vIi9Q78+wqPFTcioySvK9sr0zETQUtRr2Crcd99S4tXkZeeo6gTvE/S8+Bj8Qv47ALoCKwUjBicFHgS0BrIPaR5qLgk6zD02OuoyPCwmKbUqgjBWOYJDNk0RVY9a+F3NX1xg41/lXhhewF0/XaNb6VigVupWaFoNXz5hmF4BWPlQvkyfS95KEkfaPqszXyggH4YYKBSUEXwQHRDmDh0LFgTZ+nvxtOnB45beANnC0sPMWMhFxlLGkscHyRDKW8qwyejHQMWbwkHBEsKzxJ7HNMkpyf7ID8u80DzZGuLr6Nvs3+6L8Mryh/VS+B77Tf4UAhkGtQm0DLkPyhNpGfof/iXoKe4qVyk8Jv8isyCzH5IfeR/VHswdIh2CHcMeyB8hH+wbUxZED80HnQAG+kD0kO8d7KPpYud45G7gldvN1t7S0s/dzO7IlMNmvai3brP2sMCvOa9Arw6wtrHIs5S1vbZ/t2m4zLmBuzS92b7PwJnDa8cKzP/Q5NWK2vfeSeOc5/frMfD/8yT3pPm0+5D9T/8JAQ4D2QWzCUwO0xKPFlIZUBtqHOQbCxluFHEQYBBjFtYhSy8wOhU/KT1gNlcuuyjLJ6ArkjJzOs9BUkgUTrZSQ1UJVYpSXU8HTeRLOktiSrhJSkqOTGRPllBmTuFI2UGrO9M3QTaSNdEzVC+PJ34dYhOcC1cH3wVHBcgDxQDB/H34PPS877bqROXg3xvbZ9cQ1TjUsdT+1YTX2tji2Zfa0dpl2pLZK9ku2vnc2OBu5Knmg+f25z7pF+xe8EX1wvkQ/Q7/VADfAWAErAfRCsIMMg3EDIUMIQ2MDkkQ7xFZE3wUKhUnFWcULRPcEaEQTQ91DboKDAfQAs/+5/uL+lv6SPpF+QL3APTY8H7tUOnz4xfeHtnh1dHThNE5zs7K9shuyenKB8tfyLzDRr+OvHC7yboOuve5ibunvs7BYsMxw6vCjMNnxmbKW87X0UHVAdnK3N/f7eGE47DlD+lW7bXxpvVj+Y79awJhBysLswzgC8cJAwjCBzAJtguxDuQRNRUiGKsZHRnwFrYU1xMhFNITSxEYDUcKcgzuFGohHC2NM/sy6izvJNEe/xzcHwQmUS0gNAY6YD8/RNZHLklvSDdHQ0eYSDxJKkfEQiU/mT9fRPNJzksqSGNBsTuIOeo55DleN3gyhixKJn4f/RfpED0MCgsxDAcNYgspBxYC9f0e+3D4l/RZ78jpVuXE4tTh0eFK4kvj5+Sw5r7nWee65Rrk1ONV5bTnbumb6aLo0udF6CDquOxZ79rxdPQu95H5+/o7+9H6gPql+vH6w/rf+cT4YPhd+ZX7IP7k/zoAMf9O/R373fiK9iD00vEN8Ervve8k8b3yjPPb8rjwD+4X7HDrnutt6//ppOeU5cXk9eTc5HLjD+E23zff6eDG4kTjG+JH4NLetd3t26nYYNSz0EbPmtDL01PX/9lk27HbTduS2sDZANlq2AXY5tc82E/ZZNuh3vHi8Ofq7Arxu/MA9XT13vWo9rb3tfiL+Wf6cfuL/ID9ef4NALEC9QWLCDYJ4QezBQYELwNsAgIBXv/M/gAA6AE1Ann/5Prw9xv6eAL7DsAbFCXcKPUm/SDoGRoVExU5GuIi0CzUNiBB8UslVnFdSWB9X7Bd9Fz+XOdb2VjCVQVWKFvPYjloFmgiYyldjVmjWCBYoFWMULFJoEEEOLksMyEqGIMTgBIkEq4PxApXBV0Bvv5c+yP1BOwI4pbZo9N1z/nLL8k9yBrKJM4X0pHT59GvzoDM48wzz1LRiNHqzyjOEM400NHTydeU21nfTONA5+DqJO5d8Z70WPeg+AP4C/bk84PyTfJv81v2kPu4AhwKPw9mEL0NIQm/BMwBOwBp/83+PP68/Wj9av3g/Yn+r/6Z/T/7hfh99mD1RPT48Tbu5+km5hLj09/T2+zXDdaG14XbZd+L4Dzew9kJ1RLRws3Nyo/I18f3yD3Lf804zwnRE9S62P/dBOJT49/hDt/b3LXc2d564nvmO+rj7f7xwfao+8v/jgIQBMsE8QQxBEACj/9T/aX8m/0//3sABAFNAbwBHwL+AU0BfQDI/6r+h/zW+VD4W/kO/C/96vkC81jtre5S+XcKZRw3Kt8xajOgL/0ntR9iG28eaCg1NaBAxUngUrldtmgXcBVyHXFGcXVz3XMhbhpjvVlJWRRiWmzbbh5nZFtqVD9VB1lTWENQPkROOYowniaOGCoIQvs89rj3uPkU98/vQ+hW5KbjOOKC3KXS58d8vwa6GbatsrqwP7LSt0y/DMW6xiDFb8OZxAPJXc6r0anRrM9qzvHPa9SZ2jHhxOdj7r/03vn0/HH+BAA+AwAIUAz9DaAMKQpbCZUL6w8+FCAXqBiVGfYZ7RjbFZYRJg74DFcNxAwgCbECEfz09+n29/Z99XHx/OsT55rj5ODU3UvaP9d81WrUWdIeznHIl8ONwXnCwcSkxqjHhcjlyX7Ljcz+zMXNzc+g0nbU79PR0dvQn9NL2pDip+lo7oDx2/M+9bj0RPKe7yvv4vF39pn6Bv1l/jMAFgNIBnkI+QgHCEEGLwRMAjYBTwE9AvoCwQLsAaMBlgIqBB8FFwUXBUwGXghrCQIIAAUSA/cDZAYGBwYElv/T/r0F5xOyJJYybDpCPBI6RzYnM7IyCTaxPNNEr0zxU2VbVWN2avJucXDAcOxxr3M3c/Rt2GRjXPxY3FqUXclbyVPASL0/ajtdOuk4RTQcLLAhJhbTCer8UfCf5SHe9dn413TWGtSo0OrMGMrSyG3IM8eqw+i9xrems9Gy3LR4uKq8LMHUxQHKHs2gzyfTGNnd4MrnO+sS6ynqCuz28fz52wDIBGgGfgcXCS0Lyw3YETAY8B8XJnonbCOCHJMW1BO9E3AU2RQrFasVfxVME+YOAgqtBvwEfQJt/KbySuhM4Q7fVt983p3a3tS4z2bMC8osx6zDC8GmwOzBd8IlwDK7ULaltGy3M70yw1XHV8lOynTLZc0z0MjT99cy3H/fEOEX4f3gkeLM5iXtEPQV+oX+VwGsApgCcwEQAGH/w/+2AG8BowHaAc4CmAR8Bn0HIgejBZMDjAEeANH/0QCPAssDaQNMAXH+EvzL+oH6/Po2/AD+h/+6/4P+T/3x/ZQA9gI5Avn9kvkG+hAC8w/THk8qATEjNHk17zX0NYA2CjmDPotG2U9HWSxi02kob3txoXHAcWBzlnV0depwPGlwYsFffGBsYJ1b2lGsRvk9sDiFNKAuQybrHDUU+wucAur2telx3WPUG89UzCbKUcfUw4vAY76VvXe97rxLu+K437Znts23lroxvojCw8eQzevS9Nb62Y3dJuOm6jry7fdk+wL+WAF9BRoJHws/DIEOSBPFGXAfFCKDIXUf+x0JHj0fgyDIIE4f5BssF4gSNA8mDeMK0gbxABX7JPf89FryIO3B5R3frNvF2v3YfdMXy8nDFMGqwsHErMM0v3u60bi4uuy96b87wGLA5MHKxADI2srnzTjSDthm3sjjd+fj6STsN++L8/H4o/52A18GHweoBo4G3wdmCvwMpQ5RD5MPsw89D4cNlgpcB/wEzAMlAxsCaQCN/hr9AfyL+gr4gfSx8Jnt1ety6wnsCe3i7S3u1e0l7aPsweyR7b3uxe9l8NTwuvHS80X3R/tN/gn/nv0R/HT9GgQYEBcfnC3NOJc/p0KnQ1pEDEZZSTROKVTHWuFhZGnwcKl3lXxCf/9/Un83fQh5W3IGag5iUFzzWBZWN1EpSeU+nzT1K9Qk1x2XFasLrQB/9azqU+CH1ofNsMUzv/W5tLVVsgawE6+Zr1SxrrMItva3S7kPuoa6UrtjvYrB0MczzzbW9tvi4FLmSO139Yb9PgSICS4O0RI5F8EaYB36H3EjXSfaKfgohCSUHjgaZBnWG6AfmiJ7I/AhMh6kGMwRRQqTAvr6pvPw7F3nOuNQ4ATe6dsD2mbYh9ZH09/N/8bNwHO9bL0bvyTAXb+jvdO8IL42werEfsgmzGfQItVu2XPcXd5p4N3j7eiB7hjz8fWR90T5IPxcAFgFIwoDDp4Q5hH2ERcRxg+eDhAOHw5YDhsO8gzOCvcH1wTNARj/0/z2+lD5p/fX9eTz2vGh7wPt8enI5kHk/eIF47bjOuQg5JvjOONh4x3kOOWI5g/o7Ok77AHvIfJO9SH4Zfpb/KH+iAF+BDcG+wUDBYYG6Q0lHIkuBUAxTMtR31LBUrdTF1YWWShcjl/aYypp6W41dGZ4N3uPfEt8OXo/dnBwHWnbYHNYnFB8SV5CADqLL3kjlhfmDSkHNwLJ/A/15uqm3+/Ugcsdw0e7GbRLro6q96gPqWWq8KzHsJu1jLrAvhHCJsXDyA/NmdEY1vnaC+F06CrwvvbO+7sAoAdNETEcTyWGKiosjCzoLbcwsDM3NbM0pjLNL2wscigQJOEfbByWGbYWNxMUD6IK6QVqAJn5hvH56Lzg9Ng/0ZfJ9cLavv69YL/DwE3A470Vu6m5Grpkuxq8ybtOuwG8kL6VwjfH/sse0fLWSN1J4yLowev97u7yA/in/a4CNAYzCGAJlgpCDEYOQxD8EXcT4BRRFrEXsxj9GE8YoxY1FGcRjQ7FC/UIBgYFAyUAgv3w+hH4rPQA8bftd+tk6vzpbukm6CXm4uPb4TPgst4W3XTbUdpN2q/bId7f4Djj++Rv5vLnnOk/68DsWO5y8EPzivbR+eT88P8dAwEGqgeHB24GzAaDCx0WmiW7No5FS09hU15T21EjUVBSKVXQWKNcsGBjZchqIHA5dDZ28nWrc1pvmGhSX49UV0p8Qjg93DjzMvMpNx6UERcG2PyR9RfvGOjg36nWac0qxVq+rriqs1KvRKwcq8mrna0asJGzzLjwv9rHvs6X0wbXvNoF4Onmlu5X9vf9QgWSCz4QpRNsF0sdYCW/LfIzFDdxOAs6bjwKPqI8WDd4L1UnliB5G2IXvxNMEL4MkAhOAwD9CPav7vPm3t7+1ijQpMqwxSDAsrmts/+vfK/9sFeyU7LCsaCyKLafu/3Ar8TRxtvIQcxl0ZvXBt5X5Nfq5/F++RwBHQgWDgoTVBdbG0Qf2CKoJWAnACjMJxAn7SViJHUiSyAZHgAcCBogGBwWqxNjEAEMqQbqAF77PPZI8TDs/+Yu4jjeLNuf2B/WodOJ0VDQJtDc0BPSgNP11GDWvNcT2XLa5dt73V/fxOG95A7oQ+sT7p/wVPNm9pD5XvzE/k0BjQRTCJwLbQ3EDZUNvA3+DVgNdAvoCb8LcxPwIEYxT0DiShhQAVF6Ty5NNUszSpZKvkzgUMtWlF2uY4tnhWg/Z/lkVWKnXrRYMVCaRk8+oTiHNFEv0CYUG0oO+QIw+iLzT+zm5E3diNY+0TnNrcnaxZDBO72QuSW3KbZ8tvm3vLoUvxvFVMy902naIeB95VTr8/Hi+Fn/+AQHCgwPNBQqGYMdQSHWJJwoXixmLyUxtzHEMcUxcDHbLzosmibhHyEZ6xIiDWsHqgEh/CD3rfJ67jDqu+VO4STdQNld1SfRi8zrxwTEksHhwJ/BFcOsxFHGashiyzfPcNOC1z3b1d6U4oXmd+pA7vDxs/WR+V794gAUBAkHxAkjDBUOzw+wEc8ToxVNFk0V+hI4EJcN1gpHB74CGv6r+ij5CvkQ+VL42fY39a3z0fEW747rDuh35erjpuLO4Dnentvx2Z7ZWNqK2+7cr94W4RrkS+ci6l/sHu6c7+XwuvHT8TrxafAR8K3wPvJl9LX27Pjf+lj8JP1j/aX9hf75/w8BlwBJ/lP7hvnD+Rb7nvuN+oj52/sDBJUROiHKLss3ZDxuPrs/FkF/Qv1DH0a8SUNPQVZoXS5jk2a2Z65nn2ebZ0pm22G1WWdPykXLPsc5+zPnKpMeoxErByIA1vqw9KXsBeQD3YPYStU80WXL18Smvw29fLxYvJq71bq/u8O/0sZtz67Xjt5Z5CXq0/Be+AAA6gboDFoSnheYHNkgOiRBJ7wq7S4rM3A2RTgPOVM51TimNlUy+Cy4KPQmsSYIJVkfYRVKCdr9iPQy7T7noeKr3xTep9wF2sLVe9D8ymjFdb9Ruf+zrbC8r6iw5rKNtuS7SMLqxxjL8sukzKfPlNWy3K/izuZX6v/uCfUH+2z/IQKFBPMHaAylEIUTGxV6FooYDRu/HFUcbxnTFOkP+QugCbIIhAhpCBMIlAcBBxAGIQS9ABX8APdq8rfuruv56KXmGOV95FbkuuMd4unfSd5D3uvfYOKK5NblX+Zu5gnmA+V44w/iluFY4tLjOOVJ5pLnz+kA7TrwcvKI82b0CPZU+A36D/qe+G73K/ja+rr93P4m/t/9PAEPCmcXIybWMpA7b0DxQrxEyUZQSTRMhk+cU6pYPl47Y3tmsWexZ65n8Wc/Z69jXVyLUv5I+EF0PTM5lTKoKM0caxEJCF4AEPku8Rfp+uGY3HzYZtR3zwPKR8VLwvrAS8BRv0q+nb7KwSfIjNAg2ajgIudQ7cbzXfqMACgGrgvLEY8YJB9kJMkn3SnDKzIu2TCtMuMyszE/MK0vJjCYMGIvZyuyJEkcahPiCugCc/uR9Gnu8ui74yXe1NcL0Y7KGsXmwIe9W7oXtx+0OrL+sUKzKLW3tpi3XLgJukm97MEzx4bM8dHt16/et+Uq7JbxZfZ7+1UBhQcKDTIRJBSlFk0ZBxw7HmwfoR88H4oeeB3KG3AZrhbsE2sRJA/pDI8KBQhHBVMCOP8U/BD5QPaJ87jwqe1t6krnk+R+4gfh/t8s33PezN033azcK9zg2yHcPt0837nhJOQT5nfndOgm6Ynpluls6VLpk+ln6gXslu4A8qb1mPgz+q368vrA++f8jP1G/eT82P2iAPMDmgW6BBYDBQTMCcET2R4aKJ8ujzNoOJc9gUKcRixK7E0/UuZWXVtSX5li5mTeZYFlS2SuYmpgr1w5Vx5ROkxZSflGH0LZOBYsBh9zFJIMTwWk/J3yMek44q7d3NkZ1UjPvcngxe3D+8L4wazA4r/EwAXEX8mzz6XVdNp73gTjWOm28Qb7jAMnCgEPMxO1F5ocKSGlJPgmtiiUKtYsJS/TMDgxCDBrLd8p6yXCISsdyxeoEVoLowW0ANH7xfXn7b7kudsW1AzO5sjxw2C/Mrw7uy68mL3gvXu8SLrNuP+4nbqkvGi+SsBxw7HIrc/21iXd8uFY5qLrOvJH+Xv/PgQvCGkMWBE1FqwZERv+GswaaBukHI4dZB02HKwaSRnyFyUWixNeEC8NcQoeCNcFOwMwAOD8i/lP9hrzu+8T7DzoiORa4eTeEN2k24ba0dm22TXaCNvZ24rcQ9043l/fauAG4TDhPeGi4aTiPuQy5kjob+q67EXvBfK49Ab3vvj/+R37Tvx0/UP+q/4H/7b/cwA+ADH+wvpE+NP5WgExDmkdliuONvk9nkJmRQBHG0iWSTpMR1BXVcRaHWAyZdFpiW3Cb/5v822OaQpjMltxUz1NHEkERtZBxTqRMIskdhhADaoCC/g67d/i39mZ0rXMk8fqwva+GLxPug25pbcAtvy0A7YGurHAfMi3z7vVNdtX4avot/Cw+G4AkwioETAbuiP2KbQt1S9TMXUy/jL0MgIz8TPENYA32zcNNggyCixMJDIboxHXCIsBdPuc9VbvzeiF4oLcGNa/zvjGJMBVu1+4NLYytO+yjbNBtri5FLyVvEK847xuv2bDw8cvzFjRA9j/3xnoEe+b9G/5ef7+A34JPw71EeQUjxdAGtQc3B7nH80fvx4hHT8bIRmoFtkTARGNDqEM7wrnCDQG9wKZ/178N/nx9YXyOO9a7AHq++cE5g/kQuLP4MbfEd+P3ize4t203ajdzN053v/eHOBp4aLifuPc4+Lj/+Ob5MflKOc/6OLob+l46kHshO7B8LfyhvRT9u/3+/hu+dn58fq7/EX+Zv4C/an74fyfAhcNrBrjKHs1HD+CRVtJ6EtzTrlRxFVDWhJfSWS/aaNuw3F1cipx9G5nbAlp/WNkXcdWAlJvTz9NrEgSQAw0qCaqGYQNygFX9snr6+LM25rVXc/ZyKnCkb3UuSO3GbWxs1GzcLRKt827o8FCyPvOP9Xs2nXgj+ay7bz1Gv45BuwNVBWXHJkjASpqL4QzIDYwN+028jUfNSc1DDb+NrI2DzSyLgAn4B1QFCcL7gLW+6v19e8x6hvkx91712bRhsvBxSPA+7q9tsSzMrL1sdqymrTQtg+5F7sMvWa/pcLzxgnMb9HZ1lDcBeL75/Hti/OV+Bn9NgHxBDAI7ApTDbcPQhLGFM8W6hfrF/cWYhV3E1sRDw+GDMAJ3QYkBNYBBgB+/uT8Avvn+Mv2y/TP8rjwke6T7NHqCenH5t7jtOAD3kzcgNs8203b4dsx3RXf+uBl4mDjWeSO5a7mKefZ5kjmSOZB5+PoiOrG66TsZO0+7mfvIvGq8+b2UPpV/cH/twEvA5YDWALp/07+QABvB0QTUCHZLkU6QEMFSs5O91FjVFVXqls4YQBnA2zdb5xyK3QjdCdyUm4taTpjvVwLVuFPIUvsRxJFk0AAOYEujSKeFicLtf/383roVd4v1q3P3skuxOS+x7pPuEO3CbdMt0y4mbqSvg/EasrU0K7Wv9tJ4ODkGeo48BH3SP6dBRoN0hSQHMoj9CnnLvIyaDYnOZw6UTqUOHQ2/TRGNDIzJTA1KtEhZhhoD40HxgDR+qb1bfH/7anqcOat4IPZx9FxyhXEvL4vumW2tLOfsmGzm7VluNC6ebzQvcm/KsMIyMvNs9Nj2e7efOTW6XfuCPLR9KH3KPti/5QD+QZrCYIL/w0SESgUYRZAF+8W7RWIFKUSBxC8DDQJ9AUuA7AAJf5z+9f4p/YU9Qn0SvOX8rPxaPCb7mDs9umX50nl7OJ54DreqdwP3FPcIN1K3uzfHeKE5F/mIucI5/7m3ueq6aDrA+3P7Z7u1u8i8crxjvEO8UbxofK+9BL3pfn1/A8B7ATwBloGOgT3AsYEcgpUEy0ezCkPNbE+k0V7SWlLB02NTzNTjldQXHVhwWZWaxJuZ26tbItpCWWTXvpVZ0wCRGU+STvBOM00vS4tJ9UerRVDC8P/XfSJ6sziY9wc1n7PJ8khxPLAUb+dvny+Cr+fwIHDxMdFzaDTMtpP4J7lQOqZ7uryKvdU+7X/0gTpCn8RnhePHG0g/iPrJxksuS/6MbMybDLYMT4xQjAxLnUq4iS/HZsVHA3ZBFb9/PYd8r/ueexs6pzneeM33qfYm9NWz4fLvsf/w9LAy74HvhG+SL5nvq6+l791wVPEHcjQzG3Sw9hT33/l0Oou78/y//X2+M/7kP4uAYwDiQUcB2cIoAnyClgMrQ3ADmkPiQ8QD/4NdQygCpAILAZTAxYAyfzQ+Vv3WPWw84DyB/I+8p7yVfLk8Ibu/evz6YHoVecu5jflxuTr5D7lNuWu5Ark2+Nq5Inl0eby59fokelE6iHrV+za7UnvEvDh7+/u4u1R7XHtL+6I76nxlfTC9zr6W/uV+2L8cP+bBZQOPhljJBQvnzh4QFlGeEp4TRVQzlLfVXVZv122YtlnP2wFb7lvVG7oam9lDF51VfhM30WbQG087zf5MT8qNCF/F4gNcwNu+djvM+fP35/ZRdRgz9HKzMauw63BrsBjwKLAqsEIxCzI8c2X1CTb9eD95ZHqEO+l81j4LP0kAigH8ws6EOsTSxfFGp0esiKLJpopjCtvLK0szCwZLWIt8izpKrEmXyCnGIEQvQjTAfb7Lvdk803wdu176kTnBOT34A/e7to51/vSv847y9nIeceXxqnFaMTvwqvBO8E+whbFsMmQzw7Wn9zn4qDogO1Z8VL00fYd+Qr7JfxS/Dz8+/wy/24CigWvB/QI+wkGC54LMQv0CeAIrQjkCC4IpwXTAST+gPtz+eH2fvNS8LHuzu5772vvkO777XfuaO9U73Ttnepy6L3nv+cf53DlnOPP4jXj4+Pu427jT+M+5PXlp+fv6DbqHeyc7unwKvJE8u7xA/Lh8kf0tfXT9or3DPjs+DH7EQBUCKoTmSAfLZ03eT8bRWVJI03LUI5Ug1iwXOVgoGQyZyRoimfkZaBjm2BCXD9WLU96SINDgkBZPlk7YjZhL+ImXh33EtkHqvxh8rbpluJN3DbWTtAry2nHMcUtxOLDHcQMxRTHg8pkz13VxdvR4ePm1er87e3wJ/TZ9+z7MwCUBPoISA1WEf4UOBgQG44doh8rISUivCJCI+ojkCS5JNEjiyENHtoZeBUnEdgMYgjBAyj/0vrU9gXzJ+8f6xjnX+Mx4I7dSNsx2T/XgtUD1JzSD9E6z0fNncugynLK7criy1LNbc9U0tTVdtnG3KzfcuJ45d7od+z57zzzO/bl+AD7Sfyy/If8SPxO/KH8Bf1C/U/9T/1n/ab9+P0x/hj+cP0f/EX6Qfh79if1LPRM82jym/Ed8QPxKPFV8XrxvfFU8jvzIvSa9Gj0qvO/8vfxV/Gl8Kzvh+6a7VPtzO217pDvC/Ax8FDwr/Bq8X7y7fO29ar3Vfke+rD5YvhU9xv4JfwIBBAPUxt2JsIuAzR+NwE7sj+IRbpLqFFPV+tcSWKNZrpoeWg/ZsRiV17LWB5SCkvfRKFAOz5yPKw54zQNLtolHx1pFO8LwAPt+5n08O3/56Digt1i2EbTjs69yivI6cbkxi7IBMuPz5HVTdzZ4o/oS+1i8Ur1U/l8/YMBEwX6B04KYgyEDs0QDxMLFaUW+BcuGVIaTRsLHJAc5xz1HHMcFhvSGN4VjBIFDzsLFgelAiz++Pk29uHy2u8E7VDqsecf5aDiVuBx3gXd89vj2nzZntd81YPTFdJS0RzRQNGx0YvS8NPf1TXY1dq83fLgUeR05+TpaOs47Nbsuu0Q77HwX/Lq8zz1QfbW9tb2Lvbr9DXzTPF+7x7ubu2D7TfuN+8j8LXw0PB+8OTvM++i7mHule5O74TwF/Le87b1fvcN+Sn6mvpY+q35HPkS+aH5g/pa+/X7Rvwy/HP7x/lL95P0V/IB8YHwmvA78YTyZfRK9lv3K/dN9jX2bvjH/e0Ftg+rGYMieClkLr8xZzQ8N8Q6Iz9HRAtKKFAOVvhaSF7SX9BfbV6EW+BW2FCSSoxFmUI4Qds/6jy0N5owdSjsHzYXYA6vBa/93fZc8dns0Ojj5A7hkd2d2h3Yv9VS0yLR+M+m0GfTltcL3Nvf4uKl5b/oW+w18Af06fc7/DkBoQbKCxEQOhN4FRkXNBihGDEYAReNFYEUWRQXFTEW2BZhFpoU2BGxDqUL8QigBrUENwMHAsAAy/6p+1T3RvIu7Y3oh+QK4Rre9Nvm2vvaz9u63Cjd7dxO3MLbqNsc3ALdNt6g3zXh1uJN5GDlBeZ35iPnYOgz6k/sTe7w70HxY/JW8+LzvvPN8jXxOe8E7ajqSOg/5vzkuOQz5dTlE+bL5UXl6eT15HHlVOao53fpresQ7mbwnfLK9P72JfkN+5P8wP3J/vD/aQFHA2gFcAfiCFsJ0AiOB/kFQARPAhIAsv2Q+/z5+PhH+L/3ZvdC9xP3Xfbj9DTzrfLc9Ir6NgNADaYW4B1mIsckQyYzKHArDTCHNTU7qECwRSpK3U2TUExSJlMbU9tRDE/fSk9GtULYQE9Apz9XPaA41DHjKbEhvRkyEhoLewRM/m74z/KC7cHoxeSg4SffCN372vLYPddv1hXXU9mt3DjgE+Po5AjmIOfI6DTrRe6/8Xb1WPla/WoBcwVVCekMAxCDEl0UrhWrFpoXuBgbGpcbsxzTHIQbxxgWFScRhg1oCr0HbAVoA6IB4f/Q/TH7Dvir9FHxFO7d6p7nhuT54U/gmt+V38nf1d+R3xjfpN503rXeet/D4HvifeSQ5nvoDeo46wvsoOwE7Svt/Oxz7K7r5epO6vbpu+lh6bXoredo5hjl3eO64qThm+C33xffxt623tTeKd/W3/bgd+Ik5NTlleek6TfsRe+P8sP1q/go+yT9kf6C/z8AKwF0AuwDMAXxBSoGCwa5BTIFbQSTA/oC4QI7A7kDHQRpBMYEMQVQBa8EMQNWARAAWgDRAoIH8g0zFSEcwyG2JV4opippLQIxPjW3OR8+SUL7RdZIf0rjSjdKukh4RmBDnj/ZO/o4mDd1N4g3ijaoM9ouwSg0IuMbJhYNEXoMNAjtA1f/R/ri9J/vGuux50HlO+MZ4dzeJd3E3AzegOAY4/DkzuUT5lrmC+dX6FbqH+2g8Gn0zvc8+qT7hfyd/XX/HgJABVUI8woADb4OlhDFEgoVuRYfFwcW5ROCEXAPxw1SDOwKlgk7CG4GmAOC/6r6EvaH8g7wAe6y6wPpauZq5BnjFeLi4Ezfft3P24fa0dnG2XLayNuO3Wff5uC54cnhTuHC4KvgSeFu4pnjW+Su5PPkluWu5ubnyugf6f/oq+hK6N3nZecF5/TmTuf457XoYekV6hHrhuxf7kfw2fHf8m3zy/NK9Bv1PvaU9/L4L/o2+w780/yg/XL+KP+k//b/XAASARECEgPUA1wE7wS3BYAG2QaFBsIFEgW+BJUENQSbA14DUgTwBhILJRCPFdQaex8bI5olZSc4KZkreS50MVo0ajfqOpE+hkEMQzRDwUJjQghCGkFaP1c9ATynO4s7dTq5N6YzCy9tKsIl2CDQGwwXwBK0DoAKBgaHAVf9g/nm9XXyX+/W7Mbq8OhI5x3mxOUP5j/mluUM5GjimOH+4Urj++Tt5lDpP+xr71Hyt/TY9iL5uftX/o8AOQKEA80EWAYsCBgKvgumDH0MUgusCUwIrQfBBxIILgjsB18HiQZGBWsDCQFg/qH7t/hc9XLxPe1H6QXmg+Np4T/fvtz02TjXA9XE07XTwNSE1oDYStqs26jcVN3Q3Tjerd4839nfZeDT4E/hKuKo48LlGegz6sDrwex37TfuRu/L8MbyCPU99wf5Kvql+pf6IPpO+T34KfdZ9u/1y/Wx9Zb1sfVA9i33/Pc0+Mz3PvcW9333J/jD+Fn5O/qL+/X86v0o/vv97v1P/gL/2//1AKMC7QRbBzoJQwrfCskLeg3uD+8SZxZRGlUesiHGI68kWSXLJkgpMSy7LrgwrDIdNe03azr7O448fjwBPOo6BjmdNnk0TTMcMyczgjKuMMwtTyqfJvMiZR/+G7QYZRX5EXoOEgvbB8UEpAFe/vL6a/fL8y3w7+yc6pLpm+kB6gXqbemL6N3nmuey5wzouOi/6d/qoevX6/Tr1+wc75DyW/ar+S/8Av5D//D/LQCGAKsBzQNGBg4IkggkCIgHGAd4BhEF1AJPABr+N/xA+gz4HfYq9T31aPV29PTxhe4s617owOXV4rXfAt0y2wTayNg118jVUNUR1nbXntg82c7ZDts83fPfpuIm5ZfnAeoL7ETtqO3L7WTutO9h8ejyGPQv9Wz2wfff+Kr5avqI+xT9of6n/wMADAAhADcA3/++/v/8NPvW+fL4UPjd9873SfgQ+Yf5Q/l6+N33A/j4+Fn6y/tC/c7+SABTAb0BygEFArsCtAODBAgFnwW0BksI+AlgC5cMCw4FEFwSrxTWFgAZWRu3HbgfNCGIIkckriZlKd0r0i1uL+EwBjJ5MgsyDDEMMFQvsC7GLY4saivBKo0qUSqGKQEo9iWwI1Eh2h5ZHPIZuheVFUkTtBDrDRwLWgiLBYwCYP8x/Dr5rva49H/zD/Mu81vzC/MI8p3wYO/G7uHucO8n8NbwafHD8dDxsPHB8Wvyx/Ny9dj2pff+90/43fiV+TH6hfqV+mj63/nU+Gv3H/Zx9Wj1efX19KDz2vE98A7vH+4u7T7shusL62bqFekG58rkGeMs4onhiuAK35Ld0twG3c3dpN5h3zjgUuF94lbjvOMM5NnkYOZQ6BTqWutQ7GHty+5p8OjxGfMT9AH17fW59lr3Afj4+Fr61/vg/Br9qPwY/O77SPzh/G798P2d/oP/TQCDAP//JP+S/o7+wP6b/v/9e/3Y/WD/kgGXA+kEogUnBp8G3Qa+BoQGtgaVB8wIvQkhClQK+ApIDNYN+w59D70PPhAVEeARThKlEpITeRXqF+EZmBouGnwZThnJGYoaQRshHJgdth/rIXAj+SPqI9oj4yOEI0MiWCCxHjEe3h7jH1Mg9R9BH64eGR77HCEbGhnGF3cXlxc9FwwWchQEE7YR4A8JDZQJfAZiBPACUQEz/yr9C/zl+8j7qfpt+P71X/S984LzM/MI84jzs/S79cP1x/Sn8zjzYPNF81Hy8fA38MPwLvKA8zT0hvTo9Dj10PRO8y3xeO/P7truu+737eHsF+y26zHr8ekB6AXmleTB4zLjtuKD4uLisuNp5JTkROT14wHkSuR65IDkv+Sv5VPnK+mn6qLraOxU7Xbuoe+78N7xKPOE9LH1kfZZ91f4hvlq+m76cvn899r2jfb+9r33cPgI+ab5VvoH+5/7GPxr/IH8OPyi+xz7KfsM/IH98P7q/4cAWAHUAtoErwaRB1oHqgZxBj8H9QgFC+8MeQ6CD8sPHA+oDSUMWQt4C/8LWgyqDL4NKhBQE5QVpBWxE0gR5g+3D7UPAA/eDVYN4g3EDtUO1A22DIQMDg0NDagLtQkuCUgLIg+GEvET0BOvE18UIBWuFOwSQRE8EQETLhVdFoQWwRbmF2IZ1BmHGFIW0RTkFP0V3RbdFmAWERboFQsVsRL9DvoKrwdUBV4DSgE6/8X9RP1W/Sf9NfzD+o/5EPkD+bz44vfl9pj2WPeO+Bz5TPhy9oz0XPPN8kryi/EA8VXxmvIP9Mj0mfQu9Dn0l/Rf9OnyrPD/7uHu/u/78LPwL+9f7QbsA+u56QbopuaG5r3naumR6h7r4uuM7bDvBPGL8JzunuzM60bsSe0/7lrvIfFo8xH17vQG89TwJfCT8Rj0H/b99mn3lPjS+kf9wP7S/hP+Rv2I/Gj7wPlU+E34Efqx/JL+2P4T/pX9GP4g/6v/cP9F/zwAcwLUBB4GHgbMBS8GOAfFB9EGhgQlAuYACwEDAk8DBQVaB9UJTgvxClUJRAhKCT8MVg+oENoPPQ5zDfUN1Q7gDsMNJAzMCusJRgngCDIJjgprDJQNOg3XC9MKMguWDKUNbw1jDNMLiwz3DbEO4w0DDFEKpgnqCX8K+gpUC4oLXQu0ChgKewpEDJcO1A8LD/QMZQusC2wNGQ9uD2gO3AxfC+MJSAgNB/0GJQhWCQkJ2wYUBH8CyAL/A78ElgQrBBwE/APFAj8ApP2L/ED9Pf6Y/ej6rffd9Qv2EPdq96r2ifXI9FH0n/PF8qTy6fPv9e32i/U/8gnvxO2f7kDwN/Ew8cfwf/AZ8CHv3e1p7b3ujPFO9HX1tPQh8y/yiPLT80r1VfaV9q71efON8G/use6G8Sv1CffT9ajyLfBF8JfyM/WN9sH27/ao90T47vf39sH2Ffjj+Q36rfdj9PnymvSf9075z/gD+ED5cvzk/jX+MftT+Tf70P9yA6cDkwFqALUBtgO1A3MBp//JAO4DcwUbAxD/G/69AlgKfw83D4oL8AiOCW8LdAtRCQMITQo3D7oS0hGbDQoKzgnBC48MeQoUB0oFKgYTCO4IoAjfCMAK9wzuDJMJtwSEAacBJQTLBmUIXAljCiILiQpOCK8FbAQSBYIGQQcXBy4HsQh1CyEOew9eD2sOIQ2XC/0JBAlLCXgKQwusCiQJKwiNCEMJZwhpBRAC5QCFAsUEzAQMAuL+Jv4zAKEC4ALfAMD+H/4p/sX8ifnj9tH3dfxdAZACVP+9+oT4gfmA+zj86vug/Cz/ngE4AcX9b/q7+sP+wwK0Akf+MPl19535lfwq/UD7iPlJ+t78h/5w/Zb6gvh4+C35fvgm9nb0FfYO+z0A6QEC/wb6rPak9nT4avlm+MX2nvZd+F/64Poe+iH6Uvxu/08ADv1L9x7zY/Mq99b61vsJ+0r7yf1BAEX/LPps9IrysPWP+sr8Xftl+W/6Zf6LAZIATvzk+Fr5SfyC/d/6/vaz9sn7tgLuBWUDeP4x/P39hQDu/4z81PpP/ikFjgmeB6sB//1RAOUFhAgpBTD/jvxo//cDGgU8Auv/WwIfCDoLowcBAC/7B/1yAvsEBgKT/Xr9lgKiBxUHdAHN/OP9wQL2BAABrPo2+Wb/VwiQDNAJBwV6BLgIQwwqCvgDRABbA1QKCQ7QCnIEFwKLBkcNQg8zCqEC1v6NABYEOwUWBGQEXQhJDd0NAQiZ/w37G/1OArkE9AE0/Yv7fP6cAnUDQQBz/KT7g/1R/mz70/ac9Zf61QLtB/sFXv81+k36mf3q/tb7b/fv9tv7GwIrBPEA6fxB/SQCWAatBIz9r/Zs9a/5w/64AEEA5QD/A3UGBAR2/M70zPJY97r9VADx/Sr6J/lp+wL+ZP4Z/Y78q/15/nf85fc89Aj1bfrkAGcEuwPqAMb+Vv6O/g3+zPwf/D39AgADA8UE8QR2BJIEkgV5Bu8FxgONAVYBlANIBqAG0QM0ADT/0wF5BXYG1ANLADr/5wBVAukA1P3y/DUAzQS9BXYBHPxc+xsADwVWBET+k/lF/KMEXQofB5b9GPcN+j8DYwkKB0wA3f36AnAJUQhI/hX0/PP1/h8LZw1lBFj5Z/ak/PIDcQTI/pz6Tf18A7gEN/328jXwzvicBRMLdARe+CPyzfbTAGwGiAM8/Y37lgB5BvEFd/4w97/3YQCLCUkLzgSx/AX6o/1MAukC4P8D/rEA2AUsCBAFhv/6/HH/dwMLBB8Atftk+1P/IAPEAtz+sPsv/Kr+Av/H+0L45PgU/koDugNj/+H6NvqC/Jj9hPtQ+XX72AGlBhUEM/u885f0r/wVBG0EgP+p/AAAUAXcBMb8UvS89AX/GgrjC6cDhvpp+YL/0APx/+/3APai/oMKhw3VA6r2LfPO/JwJrwyKA1n42vYZAPAJcQp5Ah78Ef8CCHEMfga9+3f3n/5nCkMPwgje/YX5iv9lCYsNFQnOAUn/9gJ+BzgHTwIi/if/PQQwCDwHmAKc/iT+VAByAh0DJAOHA5gDugHK/SH6s/kq/R8CSQU9BRQDowCs/u78lvvL+1z+IgJdBCEDfP/B/HH9xABoA9UC0v+X/XP+XAEDA0QBff1H+9v8vQAhA7UB+v22+wD9/f/PAN793flB+Vb9UgLPAnP92PZH9UP6ywBrAgb+DPls+bj+GALH/Rv0O+7/8mz/7giQB739dvUD9uP8RQH4/eb2g/RX+iwD1QbuAgv9JvzTANgEXgK++l317fddANwGoAVN/sb3KfdL+9D+Fv6P+pP4avr+/UT/pvzD+NL3UvtoAJICBwCB+4r58vvw//4Aqf1Q+d34nv21A+wF+AKq/qz9hwBjA6QCIf8I/eH+jwIABDcCjQBSAh8G6QYxAgT8QfuuAecIowgVAMP39/icA80NDA48BWT9bP53BYAIRQIC+QT48ALaEPsU4gv0/oT6UQGRChkMLQVx/sP/oAdCDZYKtQIa/isBuwcJClcFvP5h/d4CwQlnC68GpQAB/4ICyAYkB0MDIf/G/kwC3QWDBQoBXPzy+4kAFAYbB9UBMvqY9gr6PgG1BRQEZ/+z/VAB+wUqBWj9wPRB89j6CgUiCZAE8PzL+fz8jwHgAdT9dfrd+4kATwNkAYT9rvxnAA4F6QU6Aqb95/v1/NT9nfy8+vT6z/3qAMcBhQBF/yv/7v7I/FP5evda+aj95AANAYD/7f7T/+D//Pxl+PT1KPhi/WQBgAHc/rb88fyz/hkAbABBAPz/Ef8d/Rr7xfqw/GH/yQBOAPv+wv1I/O35oPei9+P6D/9JAEn9MfmX+JP8cQGoAsX/nPyT/Hr+IP7b+Xj1s/a//jAI1Qt3B27/vPl7+Gf5Gfo5+9v+jgSOCI0HqAKd/tz+BwLQA/gBsv7P/VkAnwORBCID1QFpAugDUQRMA2MCnALpAsABxP+Y/5ICVQb+BvQDeAEsBBgLWw8ICzEAAfjl+eYDhAx+DBEG5AEVBYMLtAzJBTP9yfvlArYK0wqxA0D+8QEbDFwSoA3KAbf57vs9BOgIYgXJ/oP9hwMkCpsJ0AFs+nP6xAC9BdsDqf2P+mH+JgWYBwwDA/zn+C77f/5U/lz7ZfpS/iwE8wUcAZb58vXZ+Jr+QAGj/jD69PhY/N0A2gEZ/t74svY3+dv9SwAr/vP4m/Rj9Fr4hP1ZAIv/qvxm+hj63/oM+wz61PiR+GT5svpf/An/iQLIBAED8vxd9lz0efix/hUB4f10+c757P9CBlIGjf8Y+IT2M/t4AB0Bz/2c+5n9QgHSAV/+P/vV/MUB4AMe/9/2AfOL9ykAogSHAZH7+Pla/i4DWQIz/Af32ffn/AwAC/4c+sb5Fv5EAmIBTvzm+Gv7owFSBRIDw/32+tz8qgCyAsECgQMeBhIIMAYFAfL8X/3jADEDlwI3AsAFrgusDaQHtP1G+WP/nwr+D0IKff+a+r//LwhLCnoEvP78AFAJhQ29BhT6H/Sw+x4K0hEcDL7/QPnf/foGVwpNBaj+9P3bAkgGXwNn/cH7AQHAB9UIlgNk/gH/2QMYBvkBivsp+h4A/QelCr4GQQEu/1YAOwGNAMEAogNKBuoDxPwN+Jj8wQdIDgwIRPpu87z72Aq9D1EDcvEf7cf7fw6bERgCBfGg8PT//AtzBcDyT+k/9cEKdhKFAz3ucurZ/B0RCxCG+U3lN+kdAUoTlwxP9Z3nYvLICNoQxwAk6ovmBfvyEWASRPvN5HzmL/7+EjQQ2/oA6wvxhgSYDp8Dru/I6L/2HwtaEbcEX/Tp8Vj+HAo5B/z4JvAj+BgKxRO6Cmn3k+xe9IAGGhGPCmT6/fBN96IG2A8UCs36GvBs8ygBlQzZC+EAIfdt+HID2AxGCu/8HfGS8rEAcg7SDtYBu/Sn9CcBnwyWCib9HfNZ+LMIxhMJDkb97PLe+e0KZRTRDP38evatAK4QuhRCBzz19fAf/+cRKBfDCj36RfaTAdcOVQ+AAlb2XPgwB6wTXxB0/9PwdfKsAvgRNRL/A1D1YfMl/l4JkAla/yb2Jvj4A0gOMg3YAcD2Q/Xy/B8FMgbVACH8cv3+AnEGOgRh/+b96gEWBw0HPwD79531uPu4BfoLOgqtApD76/ny/WIDJwVcAen6afeQ+n8CmAj0Bjr+3vWZ9Zj9gQVLBLn5cu+s72H6sQT9A3z5f/FL9iAECQybAzLxu+ZJ76EC3wwwAwHwyOhG9w8OdxUxBPnpT+B78NAJuBINA2Lscuc4+qoRrxUjAuHqxOYl+EkL/Qvo+iLsDfFrBfATIQ3w92rqY/LzBhESzQe48pboqvNzCCkSUQjX9qnwlPuKCv8L3vwk7HvrwvyrD/0R9gFD8FLvngC8EmwSN/7Z6Izn4Pw4FTkZ3AQ97GjoOv6KGJAcDQXF6Hvkyv2CHGIisQlV64fl5/wgGMwaWAM47BzvCwl8HUYVDviE5Jjv7w38H5cT/fbt6Jf3CBJUG+kJKvGW6yz+9BOVFWMC5e+G8eYD7BHFDMb7KPPz/PoNshL+BPDyeu8w/ssPgRIxBJrzhvBU/E4Kuw3sBar8qPo6/xYDZQGS/Jr6Jv4uBNIHGQe0AxoAR/1a+xr7h/3pAV4FSAUYAvP+WP6t/6MAnwCKAbYEsAfeBSj+KPYC9vL/hwy1EG0I9voF9GP4wwEOBg8CEfz2++wBSgaQAl75F/Sy+PUCpwgrBA/6ufOK9T/77P0o/OT6b/4/BDUF9f2386nvjPXT/3MFEgOc/fn7SP9YAoYAvvtc+l7/AAZhBov+r/Vj9XP/OwvcDQ8Fg/kR9un8xwXtBkT/Ofeb91gA1ggZCesBZPvs+6oBQQVXAj/8vfkm/ekBVAKJ/lb86P/xBcAGVf8g9hD1sP5VCmUMdAIy9nrzAPzSBX0GqP4/+eT+XQscEZUHNfXZ6Uvv0f+NDJoMuwQ1AHEDlgezA5j4XfFh990GdhHNDMT93fMl+ZkHpQ/mCEz7c/ZUABkOSg/w/yLuZuyE/tUUXBtHDRP5R/EH+m4Gtwdj/Qr1gPrbCfsS7wp9+M/tovXMB5ARJAnd9zzwXvpyCz8RWwXh86Dug/rCCrAOLwNr9Ur0fgAVDK8J/foL74XyjALUDz0OgQBf9DT0Xv2tBPQC7/v3+ED+hgY1CaADWfvK96f6Hv/1/0397ftu/94FeglWBkH+Hfe39ej5MP/RANf9w/l3+an+pgXWB5IBfvab757zBgAiCm4I/PtT8Nfwff1eCk4LIQD99Mz1mQE2C/oGh/fl62XwxQEmEPYOcAGh9kr5yAS2CggDJPXx74D5Ggi1DHYDIvj8+EQG2BB5CoX2N+jx7gIFMhR9DJH1vefM8s4Mjht0D/zzGeSE7tgGIhNFB1/xLuqK+iYSGxkGCSPzZO1w++sLLAyG/GvvBfWLCSMZmhTfAF3x/PPgA9gPcQyv/lH1LPkbBdkMHQopAuL+0AOtCmsK9ACu9YDyofqzB6QPWg1zBDz9B/31AZoFhgOM/b35Q/weA/wHcwaFAMH8sv8aB9cLygjv/5r4i/ir/p0ESQWkARf/WgFfBl4ICwRk/DD4gPt8A8EIJgas/dv2DvieAG4JNQvmBE38b/gh++3/PAFh/hT82/5NBccIeARj+0T2q/phBNkI+QFU9XnvaPfuBlYQ9Quc//f3+fr0AeYBu/iZ8N70kwSoEdwOCP4x76DwPgC1DUALr/sc7/vxbgDmCrgGA/nA8Nz2IgUsDUwH0vm68VX13P7JAzIAB/qf+UoAGAeDBob+h/as9dr7UALCAnH9bfhc+RkAGQeaCJ0DcfzB+Oj6HAD1AhAAW/n39Cf4LALgC0YNwAQT+Y7zXfeR/oEAX/vA9oj7Ewm6E64P8f097X3sxPunC5MMzP4l8jL1cgWNEdULZ/lX7Xz0aQf+EeQI4fVs7Yf43wo6EMYC1fE78TQDERXqElr9iekl66P/KBHyDRD7Zu7E9t4LVRewDHP2p+q+85oGgg8ZB7/4u/SG/m4K6AtoA378Yf89B0EIFf7j8efwAv5YDmEUHA2IAff7xf1VAH/+vPpL+7wBcgjmCBMDSP3l/McAkANnAtv/sv93AQUBevz497T5WQLdCjAL7AI0+mj5fgBlB88Gsv+U+Sr60f+NBDwFRQREBZgH3AbZAHL5UvfC/MsEMwjiBI7/If5eAc8EXwTYADf+a/5O/wb+Zvtc++f/wQVcBxUDXv3o+yb/tgHF/iz4IPVk+oMEuQqfB43+/vcP+fD+pAKDAIT7dPnC/FcCLwVQAzX/0Pyz/fb/ewAO/pn6ivmr/BwCfwXXA9H+v/tr/ngE6wZeAc/3zvO/+hIH8QyNBgP7OfeF/wsKVQkz/J3ww/QGBucR3Qna9MLp0/ZvELsbUgsW713kUPbhEPMVpP435HzlmATQIiUgo/1F3eHeFv9yGywXEPkR403tfwzuHgkRHPJX4yn0JxIuHXgJnOt54jj3oRTEHTYLIfFk6az5lA/wFPsFYPPT72X97AySDqQBQvR59GECgBA/EeUD5PTE8WT8fQmzC7oADvQI9EYDihRKFv8DWezL5BP1jg5ZGYsLmfNR6ov5YxEtGH8FEezZ5kH8GhYqGIH+E+NF43oAYR37G1r9C+Et5LcC3BsSFWL2g+FU7QoNEB6MDRHt2N/M9EEWFiE1CjPqv+Kw+kQXgBmh/6zm0erJCDkhGRpc+nXiEuqwB34bUhFe9SbmiPMyDrwYgAf17KTlf/lYE4MXSgH05xDma/1JFZ8UYvw05ibpjgFxFVYQvviA6LjwhwcqEy8GQe575SH2Rw/KFlIFLu6J6jv+hBNxEtj6AOUk6M0BTRh/FZD92+n37asDrBL7Cpb1DOr/9PAKAxVOCcD0u+yH+IkKmQ88A3PzAPHT/fkLEw0YASP11/Su/hAHmwWs/Z352P4BCAALxwNn+MjyMfcPATQIWgi/A6T/Mv+XAd8DygM8Ae39IfxB/b0APQRwBS4EnAKnAmgD5QEI/Wj4rvksAqYLEg3iAwf4LPXa/tsLyQ7sA+n1ZfOr/34OWhDRArfzBvPvASgRsRDQAPnxfvM7A+MPqAtC+/LwmfhrCvYSLwjD9PDssvjeCksP9QDk7+bvhQJvFNERCfz16BjszAElE2UO2Pmk7IL10gpVFZ4JafR47NH5dA1iEp0EwPSh9D4DhA6dCE34Z/HU/UgROhYCBgrxSe0W/kAQGA9j+83qRPAnByEYMxJ8/JTttvJWAnAI5P1e8BfyLwRxFDQRLf3L7AzwWgF7DH4F3PUX8ez9Hg6VDrf9YO4p84kIDBd1DA3x1+B67mYOXCFVFKL0iOLe748NrhtACxruveOE9yEUOBpDAmnlJOM2/3ocJxsH+wHdJuFdBHIidxvM9WbYXOLOCZklcxhQ8CzYgOpiFNkoshA75HvSUu9XHSYswwtx3gDVsfpGKPgsfQKa1G3TeADELGkqG/3h1ZfeUA1GL4cfle5+0ODkHxUYLW4TtORC1J/0biOALswJNNyU1Yj7+SPnIsD5dNXN3aMK0Cy8IP7zGtZ35YgP0iVHELbmfNaO8YYbeijTC/7kJN1d+xoe3R8n/yDfXuFgAnQeiRi2+EriT+1RDc8flRGO8p7jQfMbD+oYDgfJ7Vvo7vtEE34WRASe8TLyfgP4ECkLMPhk7Ez00geOEwQNXfyP8tL3rgRWC+8FCfti9Qz54wA9BYMDR/9S/dv+XgHwAfn/G/1g+6v7f/2P/64AtQC6AAcCXwSDBQ8DUv3j98X2m/oFACEDZgONA5UFogfRBTz/RPjk9mv8pgPqBecB8Pw8/UIDTAl6CawDGf2n+nT8+P6g/zT/w/9XAekBVQBO/oH+NQG7A4kDKAEz/7f+2/3i+s73S/kPAS0KtQzfBcf7vveU/HMDXAN0+5f06/diBOgOdg15AVb2sfUP/mkFTAQ8/d34HPxbA1UHKQV9ACv+sv72/nD9pvyC/3MENAYCAuT75frwAK8H9AYv/gH2cfflASML6AnP/6H3tfkDA8IIggRg+zf4QP/uCAYKMwAt9ZD0S/9WCmkKEAD39gX5XQN4CUcD3vZ98tP8ggwIEVAEQ/JM7Rr78Q1iEpwD9/Ao7n7+FBGJEokBOvCq8FAB5Q7gCSv4Bu8x+0wRxBiFBsXqoeHG9S8U9x4TDK7v1eYU+SARYxTM/9Xqke34BZgZKRIi9pHicew0CpMdQBPJ9tzl6PCNCu8WsQlv8uvqAfuzEFcUXALI7vfuUgI3E8AOcflG6rzx7wcrFYcL7PVD7JP5yw91FrIEFOvc4jv0QA5lGAsLxPXx7db43Qe6CS39bfGo9BcE/Q76CNL3pe2t9QQImBEKCMz0u+vU9tILXRZNDIn31utM8yEFiw/cCWD8jPZ5/ucKlA2dAqz0v/GL/MEJBQzbAfL2gPcbA/MMYQmX+vvuo/LGAjEQXQ7G/xLzOPTaAHkLiwnG/Wf0OPYpAL4HmQZzAJj93QC0BEQCPPrY9NH4QwMNCn0GyvzL90/9hQfkCnoCkvV/8CX4LAW6CzsHAf6h+er8HwKGAiD+B/vK/eQDqgbwAoL8mvny+57/qwBEALkCsQhGDNUGq/kg7zvx/f47DEYNrAKH+KT5GwSSC8IGvPmi8ZT2CgMICiEF//pq9wr+nQbABvr9W/YE+YADKgocBTH56fLH+DcE8wiUAlD5mPgcAqQLHArF/TTyRvIW/YoHQgjPANr6Mf3rBGUJ1AXW/bf4pflj/Sv/Wv5q/uUBsAb6B4sDZvz89yb5D/6aAjIEMwNfAdv/x/4v/or+FQAbAj0DnwKuAMT+G/4D/88ASAJlAg8BZ/8D/24AOwICAtr+3PrF+Xf9xAP5B/4GDwJa/eL7CP0A/mL9vfxy/l4CWwVjBBYAj/xY/ZgBpASmAs/8jvhW+gUBtgZsBgUBV/wu/VgC9wXtA4n+CPxi/0cEqANg/Cz2N/oRCKMTQBCq/pXuCPBXAigTURBB+wvphe01BpMbaBii/4bp3urx/14RYA00+iDudvYsCcEQyAR6833xEgKPEtAOTvjq5ezryQUXGtQUNfzq6R/w3wYbFUwLiPOf5lXyfwvBGf8PsPh46rTxZAVvEb8KPfnU7nL1xwU1D3YIuPhg8Kr4BQrzEioJhPRX6PLwAAf1FewPkvuF7XLzAgalEHMHSvSX7Br6dw+cFZMEHe3s53v7XRT1GEgEiusZ6PP8rRM7FE7+gulP7EEEnBhGFKb7q+e/6yICzhL2DB74buv+9CoL3haYC0D02Ocw8kkI8hMvCtf1COyu9scK5BPpCCf1x+x0+JgM9xTiCNjz+ukz9NgH+hFvCjP7+vRu/b4JAQvK/gvyF/PMAS4PNQ3//ebxPvbpBlESxwsB+WvsTfJeBJYQuAs3/LPyivjBBhkO/QbQ+K/xGvgeBRgMMwct/LH1/fjwAT0IdQckAvf9uv07/5P+/vpO+Ef7SASLDVUPBAds+pDzxvdYApUIFwSI+XH0lPtYCacQ8Ak2+2jydPdABCELAgWO+OXy1fk9BisMcgcR/1z8WwBqAxX/ivaT8zT7CAdgC+wDCfk694wBlw3QDeb/6u/D7GX54Ak0D9sFl/gP9S7+5AkEDKcCe/cq9WX88gNpA638q/mnAPkLCA8SBPrzmu50+rYMHBN+Buny7+uo+DIMChN2Bzr3S/T3AGINbwmU9zjrkPPqCZkXCw4T9wLrmvYQDbwV5gZy8IDq/fo5D7wQUP547XbyUAmAGYsQcvZq5eLtPQUGErsH2/Mz7lH+VBOmFpAEyu/I7CH8YQtZCoD8mvO6+skJXw8LBb72DvUiAv8ORgyT+wfuq/FQAm4OSgoy/L70TPwrCrcOkQT59SDxAvlVA/AECP7Y+An9rgbuCqIEV/rs9k79MAWGBBL7KfOf9tMDxQ4gDbUAgvWj9Z7/oAi9B3n+avYx90n/hAbDBqABsP36/u0CzgN4//75Rflg/gUEFgRv/oz51/teBAsLpQit/mz2nfcmAAgGGQJo+LT04f1eDXIUAwu7+Ebu0vSeBOMMSgXI9ify8P3MDvoSBQUC8mTsEfmYCogPcgSO9qH08P7UB+cDd/f+8WT85Q1+FDQIRPTG6871YwbbC+IBifUq9hcENxDNDMz8ufCt9FoDQQzyBTv4QPOd/S4NBBIrB0f30vCG90ICRQZBAq39wf6SA5UFGwI1/Rn8uP55ALn+Uvyf/TMCzgQTAoL9pP1tA7YHMwNB+CDy0/jcBqwNXQWH9vHxG/75DikSKgMv8SzvEv8wD3QNift+7cLzlwi+FZkMZ/aE6ib1MQqSEnIFoPEQ7dr88g8SEpwBqfCv8ND/DgwQCLP5hPJd+24Kvg6dA8b1lfR/AN0KKAe3+c7ymvvqCjMP0wJi8+vyMgOHErYOqPl06DTtZAN6FOAPRvyU78f2ZAgIEGAFuvQj8OH6wgbNBfT6F/YSANUOVxBAAIruSu65/zgPZAtP+QHv1vkLDnITsAGO6/vqaAMrHI4aPf/x5Vnnpf5JEPQJB/cs8t8E0hqsGI78euI75u0DNhuhEhX0PuI28toTVSNqEALwpORV+DwSOBMY+TXhvOc2CA4ixBvr/b/ovvBkCaYU5gSe61nl+/liFMoZkQYH8TPw+wKCEi8MS/bi6FDzags+GHAMKfQ66Jj0mQx5GE4NC/dr6zH0oQadD+8Gh/Zw7634BQkDETwKwfz89QT7MAQHBtT9t/Tk9S8CPg7JDacAr/PX87MAmwzoCmn9jPLc9WwDHQxOBq/47PId/IoKXg6FA2j2zfW1ARELPwV59eTt6vhBDFITPQaL85jwYwESE0sQgPmu5f7piwIyFoYRgPtN7YL2YAxEFusITvKf6fL1vQd+C57/B/WV+mELGBQZCSX0OOrn9DoI7w8aBbT0wPAA/fkLXw42A4f3SvfSAAEIcARx+oD1NPtbBS0JGwNZ+sD4QgAACZ4J5AD29k31qP13CN0LiASN+Bbytfa8AlkM2AsjAuT35fVB/XQGdQhTASz4Rvbq/e4HqgpoAwb5JvXk+koEnQi7BEb9MfkZ++H//ALeAjYBAACd/6r/ZAAGAisDaAGM/Iz4lfoTA4gL1gukAsP3+/Qo/DEFkwaZ/w/5avsHBYwLNgev+3L0dvieAnIHwwFF+Mj1Cv3QBZUGlv9b+hT+YQbTB7b9UPEF8QsA7BBYEqUB6e4H7fP9LBDoENr/a+/j8NUBBw/HCVH48e4z+VkMvBIHBIzvPuw3/9MUIxUy/lfn/eg+Ah0ZvRXK+7Pmjuy5BkIZ0RDm9u3mu/BqCIcU+wkQ9yLyOwDtD6cNTvqg6krwMwbcFasPZ/se7xT3JgnfEBQGJ/Wf8NH83wupDVEBUfXu9uQDtQ3uCRn92PSv+JYC6AbdAVv7Iv3vBvcNmgiQ+VLu9PHNAZMP7w4+AQL0u/P2/xYM7gvW/070b/VdAqINoAoc+4/u8vLHBUMVrRHS/f/sju/dARgQiQu5+jLyDP0rD9QR//3t5hHnUwLMHmUekf8O4YvikAL9HgsZw/Yj3XHoTg2zJCYWPPIu4KvyjhP6HN4DheTY4s4BhB/NGpj4897J6i4PFyPpDnbnCtgP8ywdISorDKLiSNgP9vIaciBOA/Lk0OXbAuwaLhST9yTlCfCICuYWsAg58dfqhfuTD/kQ0P/Y8AT1gwZbEOQG7PT67s/76ww1D2wAY/Hf8h0DURCnDP/8d/IN94MDDQmMAnL5evmCAiQJywQ1+s71zPzNBq8H+/3i9ED30QKmCgcGhfqC9cL87gddCo8Bn/dA97P/igZ/BJn9RvslAOcECgI++uD3CADiCpwLlf+68vfyagCtDKMKJP3A8x755AbzDKQDi/T/72H7lAsPEZEHC/k48qT27P9LBmEHHAVrAVT9D/t5/aYDHgfcAdr2xfEi+9EMohXXCkD15ulC9F8JERPnB2z1x/Db/t4O5w0D/Svw4vaOCasRGgQb7+bq0f38ExUV+/+M7MbwXwc+FWYIlO0543H35ha0ICEK4urF4zD7QBZOFpf6RuHD5sMGnyACGo/6FuOY6sMGXhg0DcDyd+bJ9UwQIhqvCerwUukW+d4NlBHMAQvxy/HAAiwRuQ2+/M3wUPZ8Bj4P4AY99gnvC/kxClER0wfw96vxk/rQCMcNzQQm9w3ypfmqBYQKwQS2+y35Qf+WBnQGGv699R72YP+jCBQJCgG4+Uv74wMvCZMDK/d08Gz3cgY3DzsJ0frI8hj5mgbHDCQF9/cb8yT72AapCVsBAfh5+HcCGwsQCY3+d/Zw+AgBWgYpAx/84fk//2YGpwfMAer6ZflS/UEB+QA0/iv+AwOeCJQISAFu+Or1/PuTBA8H/AAL+Zv4yQE9DNcMVwHq873xVv3tCugLjv428Rf0cQc+GXoWQv9t6KTnkf3IFBgXkwPA7hLtYv52DxcPvf9686P3ogb1DsYGivZv76P49gdbDUMEBPjk9k4CQg2IClT7l+6p8TcCKxCwDSP90e7b8GcBwxD2EAsDB/U481X8TQQ1Avz5hvekAJQNuxCVBWH2uPH++qoG+gZq+7XxxPa7BwsU3A40/RTxYvYgBuoN4AOl8YvqY/cmDQ8YKQ9A/AbxsPWpAh4K5wXP+8L13vdV/kIDoARWBEYE8wMaAjn/P/0N/Tn9CPwY+jv6Sv6DBKwI6QdoAwj/i/1P/qL+CP0A+3D7dv/SBI0HcAU0AEL86PxgAVUFwQSm/zX6//jN/AwCcwQaA/UAPwHCAwUFKgJn/Cz45Pic/QYCwQJyAMH+aABzBBAHEAW8/r/3ifQ59zT+KQX3B5IFxwDS/Xz+VQBC/1L63/W395EAyQn/CtoChvkG+WACTwtXCK/53ezJ77MBWhKnEWgAOPCt8QYDyBEbDn/76ex68MQApwutBjH6y/ZtAUkN1grV+sPuJfXSB2YRHgWv7v3m1viKE3Ybowdh7GPmHvxcFoYYAv9842Liiv2DGscdGgZX7ELpMf3EEQMSAf/Z7BftyP15DQoODgIC+Bv6UAQrCtME+PnP9I/5YAH4Asn9yvp2AWYNWRHHBUDzoeuN978LUROgBafwOeuf/MITjRilBabuXutG/gYS8RCP/GHrvu8UBFASCQ1+/fv2hf96CVcFx/Vd7Tb4KAxLE10FTPKC8M4CRhTVD/b4xOju8f8KHhjWCczuS+Sc9sETwB73DfTzg+rZ90MKEw2P/uvvd/GhATEQDhDFA7X4P/hV/9oDUAAK+aX2r/wWBk4KlgWK/OP3U/y3BXEKfwQk+P3wAve3BVIPNQqD+9PyAfq/CUkQgQQ78RrrffoOEZ4XnAb57u3odfrrEPQUWgPh7zrvkwBVD68KYvjf7dX3yQvSEwMHIfMQ7ez5ZQrKDKsA9fWS+YwGsQxLBGL3nPU9AQEM8geZ+O7vyfk9DWoVfwhS8wfsQ/rzDpwUDwYN86/unPvuClgNoQKX9/P2Fv9oBvEGCgPL/y/+8ftF+T/6AwG5CEsJ5wCU9zb3ZAAwCfcHKf6C9uP43QF5B+ME//4X/bz/TQHr/jX9xwG2CaIKVf/f8ATvQP49EM4RiwBI7yDyRAdMF50OXvRX5NXwdw1wGwkLr+3N43T5dxjNHxsHxeek4SP5fROSFD39J+lm7wcJYxlaDlL09ucd9q8NMRPn/6zpk+pVA7cZIhUW+tHlYe78CTgZmgni6gPfXfXFGLUkwwuH5qLa4fM7GA0jmQrY6HzfovWwEtMZaQft8cnvBgALDgIKyfm38DP5qgk5EKEGMvg39Dz9iAc0By/9LPUl+PwC4wosCSQByfrZ+Yb75/th+279/AIDCH4HJwFC+nn4mPxlAhkFSQP0/vX6X/lk+ysBgwidDP4ILv4h83HwwfieBbEM7Aj//o345fpDAkcGuwK2++j4UP0QBMYFlQBL+iL61gCOBwwHk//j+B/6GQJsCFAG3P3Q91z6pAIFCEAFuP1Q+ev70QGVBEcC6f7z/tIB1wJJ/zv6dPnc/u8FLwi5A/f88vl+/BkBDwMNAc799Pyh/64DpQV6A0b+y/nT+c3+sQQKBkUBB/sm+nQA/AeNCJoAm/eE9hr++QX4BXL/iPvu/1sHWAdd/ZjzSPbMBCsQrgo3+B7sE/X/C5MZDA6V8hrhgurJBX8ZRhXcAAXygPWMA6UKKgNz9g3zYfy/BwkJKACJ+OD7EgdlDVAGHfcO7hT0uQN+DgoLAf679KP3KgJYCMwDVfoj9w7+EQdfBx7+I/bP+UAGOA0FBRr1qu+G/RgSvxZEAwfpxeKs+FoW5h6DCnPusOYt+RgRFxZoBVDyfu/x+5wHtweuAQUBtwbXB079D/Cx8NkClhVNFGr+Iuok7VIEUhYeD172U+cA83gN6BqxDWz0PenB9UcKeRByAzjztfHK/1AOjg+BBAD5APZS+qL/qgJMBNEEKwJk/N/4lf12CLYOmwe391ju5PWvB9sR/Ali+ELvZ/eEBzgPmgjN/NH3NPvr/qD9z/uPANEJegwCAhbzRPDr/pQQ/hD2/DLohenjAdAZTRn3ADrpi+ig/MQOTg2e/b3ztPrRCDkMFgDf8XTxHv/sCxMLsv+z9wz7bwNuBef+Efky/KUEGgcB/0L1T/bbAsoNsgp7/LXyF/gcBl8MeQOo9QTzv/5IC/4JWfx48nD4+QdYD8MFzfVy8Wv9pQuACyr9m/ED9xsI4BE7CcX3xfAp+90JZAth/hHz2vfJB+kPpgUW9Pvvnv93EhYTfv8f7HjtTwFYEVoMbvlx76H6Xw5+E8ECee1b6kf8WQ9bDwH+JPCd9XIHWhBdBXryBu2M+2gOQxGBAbPwzvCzAGUOhwvK/HDzT/lEBooKTAEG9sT2eAOkDdgIVfnx75D3swgmEagHIfYl7w76EQvjD0cDpvK578D9IA7yD78BzfK78gABsA2TCmv6Ou5t85cFvBKsDY/7kO5e84AEThARC6n69u9u9b8E7Q3iB2n5oPFb+JMGLQ5kCPr7XfXD+agCwAU8AFP5xvnoAQQJzAbE/FX1LfmkBWcOZwl2+b/s2++BAdAShBQhBajy1u2i+noMIhIfBhH0ku0t+d8LvhN0CVz3Ju9I+NkI9Q/fBmr3TfH0+ZoHZAz5BA77tfkDAb8G3QI8+WT1Jv1zCcwN7AVI+m32evzOA/gDjf5U/J4BRggHB5r9XPaY+r0GEg36BKf1Te+q+SMLvBLvCdD6TfRi+qwDtgWEAGD8L/66Ab0An/wy/UoFTAwGB8H2VOvj8l8IXxaZDdT2uer/9mwOxBYEBj/uzum0/aYTJRNk/QjssfPZCxYYzAj27dDla/pcFWYYyP8q583qRgebHPwRTfLP4OHxYhPdH/sHg+Q03IX5eR5JJOQEdeHx3vf+xx7LHPL7f9/35HAFah4PF3X57uXj71kKyRdQClfxiOc09vAMshQcCBH3ovOr/uQIeQWN+Orxu/r1Cs0Rpgcw9m/unfdZCHEQjgh8+O3utvOUAR4MPQuIAcD4evip/zoG+QR1/LP00fUWABwLLQ1gBJn4OPRX+hIEnAfoAVX52PYA/dUFUAkrBU3+Cvv+/IMAcQFi/0r9yf2IABsDkwP1AZr/5P2P/Yz+9P93AJL/f/5M/1YC8QSeAzL+IfmF+Wz/CAWiBDj/8PsBAMgHpAnIADj0+vBG/GEMNhH6BGPznu6I/KIPHhQ1BMXuzuhT+DkOihVSCOj0lu4j+iMKEg50Axn3IPba/6YHGATe+S32I//xCycO+gE88/jwGv1OCsQKcv+o9l37IwgJDUoCjPIG8L7/PxI4E+b/c+ti62IA2RRxE8H9u+pm7tsEzRY/Er78Uuz07zcBYg0cCp3+5vg4/QkDdwHv+sX5OQKOC4YJmvuQ7ybzSgQgEoEOKf3N71XzpgISDbEIQPxD9k38bwWpBW/8cfXH+nYIDxCJCK34LPDl9rgE1ArsA2v5K/i+Ac8KQwgm/JjzCvhqBLkK5QMX+LD1rwA/DUMMnPzS7SnwsQIMExwQTvzK68zvjgT5FH8QP/xo7d/yvwUWEXAINfWg7An5nQ5uFyMKl/OM6bH0mAhOEagHXfeU8RP7hAisC4QCTPhn+NoB4whkBGX4MvIv+jQK1RKACoT30upI8GMDJxOfEaUAEvD37qH9bQ3QDmAAdvBU7/r+kxC+EvICjPCl7ab8mA2hDvj+IfBT804GohREDej1lOab8BYLsRoPDi3xL+IB8osRVyBQDlztft+C8yIVuSEoDGvqnd7P82YTlx1dCj3wzOpd/TUR6w8b/HLtSvXJCtgUmgan7prnuPrrFKQaYAX56rPmg/wlFeAWaACy6XTqrAFsFwgWxf9A677rpf4dEDIQtgH29N314ADqCAsG7/xl+E798gXYCOoCVvrF95T9yQVcCAgDJ/s2+Lj8KwSlB1UEx/0X+ib8VgGmBKUDNgDW/d/99f6j/38A1QKdBT0FjP/d93v1lPyRCOMO2ggG+9jx5/UxA6wMBQn2+6TyjvYmBGwOuAvc/tLz6fNQ/QEGRgbg/yj70v0EBZYIvgM8+s30pPhHAuMItwZh/g34ifn2ABcHfAZfALP6+Pli/bwATgEtAPP/MwEEAtUAzf6G/sAAKAPcArj/dfyW++P8bP5b/78ARAMxBewDk//F++r7//6DABb+8fpu/OIC5AcrBbP80PfQ/JkGOgms/0DzovL2AFEQlQ/C/dXsVO+oA7IULBDs+hjsufOhCGoSGQWD72vrNAD3GEQakwCU5WnlQQCfGbIWO/t85X7t6wr+HcgRzPKk4TXw4w6ZHekNqvEH5yX4CxH7FXYBxOmg6L//VBeWF34Bv+wB7nYBSxAlCs72GO1k+YQPcRdGB5futuY6+JUR6BiwBpvtWedA+usSTxhoBRrudOrq/fITaRVsAEvqpOlX/7IVlBaiATrsg+tb/0QTvBOjATTwdfAKAPoMignJ+mTy4/rJC5MS1gbU893s2/jhCv4PfAPI84ryOQFHDzkMGvoE7Nfx0wb9FeUPwPqm64zwbwL2DV0I4fk48+D6DgcRCvgBs/kk+y4D6gXO/X3zXPRXAhEQzw4Y//fw+/JUAu4NOAn8+djxmfoDC5gQuANi8CDqCPiRDUEXiQ3l+mnwZvUtAlwJ5QRw+on0pfgJA/8KawpsAvD50Pco/UcEuQVd/x73uvXb/XsIVQuWA4P5IfgpAWwKlAgo/A/y9PXZBEgPuQm/+dHwhPlqC4YTtAj29czuBfozCoQM8v1K7/fyCgi6GdUUjvwa6BfrUwFkEycPa/o37Cz0HgoCF0sN7/aJ6qTzQgdJEPoFpvTR7zX94A5ZEiEE//IY8C39lwtcDMP/IvQc9m8DGw55C/P+efWo95wBWAixBdT9dfk//OAB7QMHAY39//39ASAF5wMd/5D6YPnE+7T/ygKhA0UCMwBt/5sA9QG8ALb8n/nS+9ACMwiwBaP8Fva5+cAEjQvOBV34JvFp+C0HMQ5mBsD4I/SD/JIGVAUT+pXzkPx5DUoTFQX872jqTvsQEaQTGv8f6Trq1wLhGSgXY/1259HrvAQGF3UP9PYp6I/ycwqJFi8L5vWG7Y/5SwsAD1IB1/FD8Zr/PQ12DJ//KfVN97wB4Qd3A+D65vgAAKwHfgY//VX2I/pCBbELzQUP+cTyF/oTCIUOqgZs+FDydPo7CGEN6gQt+Kv0pP3JCKoJZP+x9QP4owQlDtAJj/sN8hH36QScDDUGYvnZ9AT+6wosDcsBdfSH8pv8kgbrBb/9ffpTAo4M3wrU+izrZu0UAgMW/hRA/3jqDezOAqQXEBVZ/TnoiuolAb4ULRKw/XntG/K/BTcTlAww+RLtsPOxBOQN5gZX+X/1OAC2DWYO8/8P8FHuHPx8C90NzQKX94X41wMiDCUHGvlW8B32wQSfDWoIrfuC9XP8hQjWC5oBvPP38Jv9hg62E9QHdvX47BX1EQW3DfQHFfv+9E/83gm4D9YGZ/Z07Zv0cwU3EM4K6PrH8ET3gQgwE9QL7fgL7Rv00Qa+EVoJW/b67NX3egwEFscKRvbs7OD2SQjRDhMFGPf983r9UwdRBvP8ufcD/l0JBA19BGz4ffSf+hECkQLR/Uf85QHMCF4I9P8T+Jz4xf+iBPgBGfzn+rL/tAMoAWn7Rvt3A4sL4QgE/Abymvb+BYcPfQfb9PHq9vSoCdoUoQww++fyZPqMBlcI8v0B9Gb2lgIEC+wGBvw494D9vQbeB+b/cfis+ZEANAOZ/Sj3ufnABIUMVwen+UHy4fmdCOoN/wIT83vvePwLDC0Nz/5m8dv0hgZoE7cMefit6+LzSAi/EpMHi/Ln6on6gRK5GREH7OuY47j3kxXFH0YLIeuP3n/yShQ0IzYQPO1S3HzuiRJQJSIUru/o20fs5w86IjwQgOyt3IPybhjpJqwN5+Ur2eX14h6UKM4GEdv20pT4xSawLlAINtus1ZX8cyYSJ/b9rda82sUFSirfIbj1s9S14dsObyxrGxvuiNS26TwX/CytEzzlwNGL7T8cSS61ES7kKtSB8cgdrivVDO3fkdHt70gd8i0BE+LncNYe7gcWhyYZEJnp6djc7Y0TuCU3FN/x1+Cl8I8PSR2oC5Xslt/w8YkRix93Dyzz8Odk+DcSxBnVBsfs9uV5+G8QaBXYA+/vbu98AggUxhD7+9frk/HgBpEUNQuy8znmRfGwCiEasxFM+4vtivRuBtQOUgTD8Ybqn/YBCwkVqwwz+/TwgfX0AZcJoAZE/n/5g/u+/2MAV/3f+wEARgfJCm4GdP179wL5I//VAlwAIfsO+hwAvQjqC/oFbvvu9Fn3kf/nBYYFbQCU/JP9fAGrA/cBnv47/bf+uwDxANj/uf9MAWUCsgA+/Qb8bf+qBP4FAAEb+pP4tP6QBqcH6f+K9gX1S/2IBxEKMgOa+uj4q/5QBOICyvsj97z6rAN9CSAH3/8r+278EQCVAGj9bvvB/i8FJAgOBM38wfm3/boDnAQi/5755PpRAg4IkwU9/SP4QPx8BbUJwgOB+ej1Ff1bBzEJ1v/39Mz00wCSDR0OmgE19IfyxvxcB+oHJgDd+tL+xQbkBzj/NPZX+CMFDA/XCSL5Ge6A9QAJnRSYC6z2nOtE9nsLhBROB7PxKeus+5sStBebBArs2OZw+jQTiRi7BVbu7Olf/I0SGRaoA5btLeny+RsPwhT5Bl30tu65+ZIIvwulAKTz+vIUAPUNPA7Z/4bwb+/+/RUOzA8pAU7wo+3K+z4N8RHpBkv4O/Sa/EYGDwbx/IH2fPt2BzsNXgUo95/xnfu0CyoRJAV38nLrq/cGDD0VkAo49mbr5/MzB04TBg7W/WHy2vT4/7oGWALu+Hn2vP+iDP4P5QRB9M7sO/XGBXkP/gkQ+7XwPfQYAswNfg1UAnP2YfMT+lIDMQfvA2L+SvzM/hwCOQJJ/yr9zP6JAroDFADz+mL6eQAWCE4JuwHv94n1Xv3qB4UKZQLl9xH2Dv+lCd0KiAFd93P2nv4uBiEF//2R+iQA4gj9CRMAyPMv8Sb7VgjwDHgGMf1i+r7+BQM0AVD7hPim/PEDbgdhBJb+rvt4/RsB6gKxAaT+i/sX+gD8yQGMCIgKMwRl+a7zSvmABegLBwVl9/HxKfy2DAsSGAUQ8oPslvq8DcoRxAKO8aLxTgOdEv8Mh/bv5pjw4Qu9HW0TdfZa45PszQcAGWYPJ/bs5xjzrwuzGP0Nmvf868v0bAbaDdoETPci9egAbg1UDL/9kfAa8wIE7xJqEHD9ROth66H+zxNkF+cFkO9O6er4Nw9sFkIHcfCR6Mf3Tw/gF/MIfvHa6BL34wzlE+4FLPNj8GcACxH+DkL7xuoe8B0HcRjdEZD5D+gU74YHBBmTEhL7VOlV7cIBCRPFEswD1PSW8a358gNQCMYFtwCZ/aX9R/9VAN//vP7L/v4ApQNLA3X+r/hz+FAAVAoiDI8B5PJ47lT6cgxKE0UHbPMj68v2BQsgFO8Jl/dw70T4aAccDQYFZvnF9pD+5wahBkP/Ovp//eMEQwcfAaD40/b4/UsHEwokBFX7WvfN+sEBEQawBJb/iPsZ/MMAIAVwBCb+cfdG93v/qgk1DLIDYPfh8qr6AAeNCygENvmI9mv+NQddBrj82/XP+gcHrgwwBKz17PAP/PoLqA+UAiTyu+81/r4OexAQAoryMfH6/cgKEgtqAEL3w/jQAfQHQgW+/Xf5jvtEAM8CqwJfAqcCTQFL/Qj6P/x3A7cIfAXJ+0r1TvlFBOwKWga7+7T2fPwMBjcIaACS99L30ABBCPgFav1f+dj+vgZCBlr8IfRl+EcGCg8pCPb3tu/R+MgJ/A8lBO7yhu99/joQmhG8AD/vPO/s/+kOigyp/KPxmvc3B24OAQWm9bLxcv1GCw0Lf/zu73T0CgcdFeEPxvvh66HuEAAMD7UO2gEM9mX1Av42BvMGZwHg+yD7C/8YBJMGpQQm/3b50vcC/BQDVgezBQgB+f4tAf8CQP/Z92v1ev0PCgoOhgN39LvxSABeEcgQvvu55lXpBATkHJYZ4vub4Q7mwwSNHZcWH/iC4/HuMg0vHJQKNeuj4ET3ehc5H/EGaekq5kb/2heBFGj5G+VP7tcKPxvBDcPxhOZ5+KETohkwAx/okOWD/sMYGBn4/07of+oOA4EX9BJz+yXqLfCbBYUTwAxk+hvwqvY2BC0J6QFv+VP72QUeDEoFQPeG8FP4kQamDCEFJfkD9t7+2glbC0wCbPgQ94b9NQMZAi79+PslAU0HWQe5APr5Wvkt/lICiwHy/c/8EwA6BKQE9gAy/ev8j/+3AVYBif9l/l3+jv71/r4AyAMhBcoBSvvf92T82QXVCvQEsPgl8tf4GQcYD/IIJvva8/b58AVFCj0C+PY89Wf/3QqiCzgBz/b89qwA+ghIBxj+jvdV+iQDFAkBB8P/Cfq6+cn9/wLoBuAHbATS/Fb1i/Qo/YEJGQ91CFH7rfPy94IC8gdHA9f6i/iG/jAFsgRl/uf6JP+6BWYFBv1O9pr6agZ6C/sA7u/F6xH9fRVbHIYI9evi4q/2PBMMG9gFiOmx4/z6Xxj4HkcJu+3Q5qL4vQ61EpcCpvDh7lP9fQzpDtQF6/wl/FEAJAEj/HH3Cvr/AtkJfgfF/bz1zva//zEIkgjWACL4Sfb7/EoGuAmiA9b45fLJ9x8Enw1ADLkB5fcz94r+1ATSAtL6OfZa+2cGFg0PCUX+uPZ9+FkA7gVGBOn9Qfkh+hH/3QOjBT0EJAH7/Rr8TPwd/sf/uf9r/gX+w/8QAi0Cwv/W/VT/6gLOA27/ePmk+Nz+7gW+BdL9CPdG+rYFWw2cB5f4CO8G9dEEZQ5bCO35BfPs+o0IwwwZA3f2sPQa/1cJjAfl+zX0WvrDCP0PVgel9ojuYPfKCDoSYAuu+wnyDva1AcwIegUv/eD5dP8ZCKEK7APl+X71//k8AkcGigMI/2b/EwUeCZwEJfnj8O/0SANTD50Njv+y8orz4ADiDDoLwv2F8iz19gLQDfoK1f3M8zr2VAEfCU0GQv1p+NH8MAUICLUBEPhy9Kz6lgXrC3MIVf5S9m/33QA2CmQKGwBB9L7y9v7aDv8SqgUh8jvr9PgnD1gY2Qoo8wPoxvMhCu8UwgrJ9yfwzvoqC4YP1QP99CDy0/zOCBkKXwGm+VT7ggM3CLgDS/or9TH5xwL1CUYJfQFe+Lr0BvpSBQsO7Avr/mnxG/Bx/WYNNRCdAnPy1/C5//MOnA0p/Ybw3/ZxCf8RMASM7UTowP2fGcsdWQMl5MfgvP13HeseYABY4WvhjP83HEAbYQAD6cvr+wG5EYoLzfmL8qT9vgzqDLD8oe2C8MsC0xEHD7H+CfKl9KQB2AoUCPv94vbQ93n9NAImBNEEzgSHApL9Svkc+goAiAXaBGr+rfh0+fT//gWxBgEDfP+g/qf+6PwZ+ub5T/6FBFAHeQQa/0L8xf3TAIoBGv8h/H/7n/3mAM0DmwVqBf0BuPtb9v324f57CFQLIgQc+dz0/PvZB5YM7wTn9w3yC/kVBvsMSgj8/VD4JfsSAaoC/P7K+/v9kAM5BhsDR/6l/ZkBXQQiAWX6k/du/EAE9gZUAo/8+vxOA9UHaQTQ+6z2qPlsAEMDcwDt/TkBwwdFCf4BO/jr9Tb9nAWiBe/9qfhY/W4HCgvqAlP3Q/WR/xYL3Aq8/s3z6fV0AmgLEwfW+tX0//tYCAYMuAJD9qzzGf32B8oIaf+Q9hT4mwJuC6cJ6f5B9Un1gv5+CNUKIAR3+t31svlKAkwI8wYWAGT6IvslAfIFVgTr/ZL5JfzrAkQGBwKu+gH5WgD+CVILMgFh9JfxmPx5C6wPUwSo853tg/ioCl8Txgoj+b7uWvRVA9oMlQhH/Bz1EPpnBW8LzAZO/b/4LPyNAcQBQf0g+/j/eAffCGIBTPhK93j/ywc5Bwn/OPmd/JQEYgZW/iv1nfZrAyYPIw2R/r7x+vKc/2sJZQY7+1D1iPv4BhYLiwNn+N70kvvfBLAHWgK/+nL3J/oUAHYFmwcRBXT+uvfA9t39uwe2Cm8C1/Wg8UT7PgrXD00GU/dR8mL88wrcDg4EaPUn8a36IwhEDSYHYP0J+R78cgFiAycBJf52/SX/CwFcAQIAPf6F/Xv+UQA/AS0AOv76/XcAKAMdAuv8gPiW+r0CXgkxB9H9G/fG+iEFOwr/Ag/2f/F9+74K5Q8BBvX3e/T2/SAIKwZt+THw/vW4Bp8SdQ5+/mXxoPGX/CwH+QitAjT71/j7/EIEAAmUBiT9WvOP8iX+3A0vExwHGvPy6YP1rws/F/YMLPdf62L03QfbEWwJm/hy8E33QQSXCgcHmAB//jgAXwD8/D36tvwMAzEHbgVyALr9K/+uAb0BmP8i/sf+KwAAASYCpgSEBgEEBP189+r5HgPUCY0GH/2T+QMCbQ0SDCz6mudT6SACeBy2Ht8FEupU5pz88xNDExT8g+iy7scIchuHE0v6qOqz8/gISREIA6juH+wtAMgWjxizA4LtjOt6/dMOsA07/bnw8fXJBhgRsQqN+9Tz//nmBFoHU/+Y96v6NQZUDRgH+vht8W74ugZVDUkFAPdm8WT6zgjtDXkEvvX670P4EAZgDIoG7Pt092P8tANVBAb9oPW49m4AIgojC1cD6/qS+bT+vALt/wj5c/ba/I8H5wwaCAP+x/dx+dD+jAHJAB0BLwWKCDQEcvif75D0qwXME38Qyf3t7XfxfQVdFYgPPvgX5kHr4gJAFigU4QEG9K33DQW4CW7+wu/O7wABNBIKEXb+Uu728REFPBKBCv71COt59YIJ5RDkAwbye/C+ASsS/g16+IXpUfPuDIUagwsD7iHh2vMFFJMgPgzM61Lgo/SHEuYaiQax7Dvp5f5QFf4Tf/wW6Gjs7gSYGEMUk/1k68LtNP8gDfMLDAHS+SX8sgGbAbT7QvhO/a0GKQoZAxr4XfTB+6YG8AmeAqr4Z/a//ZcGvgegAH/5PPrGAW0HggTf+/T2g/saBa0JdgRe+6X4if88CDYICf7U8/X0ogH0DeMNzQEO9gL2NgB3CGMFtPoP9ef76gh4Dj0GMvhh8kH6OAf+C4kEwflL9+j+CQfrBbz8bvZw+6gHHw7EBr/3zu8w98UGEw8yCPz5xfMn/AQKPw7tA7D1WfIB/cUJwAoy/0D0b/bCA9sNwAng+/zy4vceBN0JpQPr+XP4ZABoB64EAvwl+c8AvAkwB2r5qO9895oLDBd4C3zyc+Xi8vYNCBukDAHy6eZN9hgP9hZKBl3v9elu+rwO3RJKBQb2v/M1/bYF/gQt/zv9BAHlA4IAb/rF+V4AnQZNBBL7Y/Wl+jgGIQw2Bsf6VfUG+vsBDQQt/5v6ovxBAxgHLgT+/Zz6wPsm/uf+HP8EAVAD5gEY/Mv31fveBk0Oswgg+eztfPK/Ar8OOAuO/an1QPwcCW4M4QA38pzwp/4GDtkO0ABF80P0cwFkCyMHSPoc9AT8Kgm2DKcCLva09K3+jwfYBIH6QPYG/+4Lzg3YAADyQ/HK/yIOAw0K/sTxQ/XzA2kNEQhi+1T2zP12B8cGRfwC9cf60Qf4DFYD9vQA8p3+Fg7AEMUENfcA9Yn9ZQWNBLP+wvz4AK4E+QFL/Gn8kgTwCzkItfqf8Dz18gR4EO0MGv+G9ZT4eQJTB/cCivzO/HID7QcPBFr7t/ZR+psBcwUwBBYCuAIzBEMCrfx8+ED6agDtBDQE+wBqAGsDeAVcAuD7SPhW++gBXgW0AmL9DvuO/c0BCwS0A5gCdwEM/+v67ff6+f8AUAeXBtX+hvej+BcC3gqECQL+sPKl8pn+hQsDDYoBWPSY8kf+BQyDDg4EMvhK9xoBAAkwBKj24e+4+SUMaRRLCU/2K/Dr/f8PphCg/HHotOp1AsgWmRHF+LXoAvWREZoelQuW6p/dxfHKEKEZxgT/68/s9wa+HJIUA/Zd4ajr0gduFlEJcPKu7TQAIhM3D5n4DepZ9dMNkBYDBAnqt+VF/OUU1BRq/Q/q0fCXCfUXnwta8qPnvfVnC88QVgLd8nv09gM3DqQHFvn08wb9rQdFBu76WvRI+8YHRAuDAib5o/rCA/8GZv4v9IH26gQpDzQIBPeu77L7gQ2AD+j9rewE8dkHxhefDSjzB+Wy8uoMMBcfCFjzs/HoAzMSQwkb8iTovPhjEhgY6QKu6iLrBAQYGToS8fbX5djx+AyLGPUHau6z6P/85xREF4kDWfDj8IAAwApvBKD31vU8AicOOgve/Br0E/vJCKsLnf6979Xw+wKIFLcTbQHt75zv0v4aDd4MJABw9Dj04v3AB34KZwY8AIb7/fjd+Cz8zQJfCeAKPgX6+6/1sfa0/UkFSghOBST/n/pY+/EAugbOBmL/uPXc8nb7CApLEgUMg/uy7qnwT/9eDf0OYART+O70kPqtAQsEiALXAWoDsQOp/x/6X/ld/wQGQAWa/CL1Rvj7BJYPZQ31/7PzQPMD/QMGNAZdAFD92wCyBZsE1f0S+Rb8awNjBrABsPui/OwD5gdmAdP1sPJY/gsP1xPFBkf0pu6K+uwJjQsD/jrxkvRrBc4RPwyx+uLvqPZQBuoMfwOB9VHzh/89DCELy/2885f43QY/DhEG8/by8L758waFCnICAPqi+5oEsQh0Abb25fXuAY8OQw3F/V/v+PAIAQsPBQ0X/prycPbNBDcOTwkI/Aj0uveiADkEMQAl/Hf/xAczC/ADo/cO8pn4WgRICcACLPgJ9Qb9hgisDAYGJ/to9Qj4cP4vAnsBnf8AAA0CWgJC/2H7/fow/y0ExASs/zH5avdx/DwEMggeBfr9EflG+uT/qATGBPEA9fzA+xL9rf40/2r/uAARA6gExQOUABb9e/uY/JD/fQJyA6MBc/4R/fz/0QUbCd0Ee/pr8hn12QG1DR4N4/+i8rzyYwDGDSwNmP/S8172jQOACxkE+/SK71v7AA02EikG3PYP9e4A9AnNAkHynOzr+1YS0BcmBcztkuu9AQ0YvhSQ+STjKuruBwUdVRM89vDlDvSGENobBQoa7x/ozvplEI8QBv2L7mv37A2oF2AImPDh6lj9exLPERD8kOpC8nMLDRo0DYLyDucc96sQtxctBRzuvuut//cSMRDW+pDqw/ArBvgT5gxV+l7wxPcNBrwKXgHk9JfycfzSCIwNAgn1ACz7FPl4+Y/7/v5CAlMDNQJnAZQCwgOZAZT8BfoU/mEFNQeP/4n1BfX4ADIOVg4hADjytvMMA/kOqwnL+G3vMfiKCM8MxP/i8Y729QuDGqwOyvC33ibsMQwcHnMQ+PPW6MX6FhSKFgL+uuWt6YMGlBwcE0X0FuKF8CwP1hsCCersE+gwAHgZEBYn+A/gSOjcB3UcuBDV88TnjvpNFgsaYP9W4pniQgCrG0MYmvtX5qnvGAxXG6QM5fDO5mH4hhC7EyX/GusG7/AGVBgZEJX3c+nj88UJnRIaBhT0IvEh/2oMZAmk+sby8PuyC1EP2QEd8rPxugDHDd0Jd/ks74r2XwepD/YHzfo79xP/uAVyAFX00fAH/egNhhE9A7fxT+8I/mINlgzV/HTvg/K3ASEMfAcR+0v2h/4rCYQINvwZ8lj2EAUbDhcHbveA8Hf69wo9EIoEf/RZ8S7+sQz1DND+1fEm9AcDIg6qCV/7BPSQ/NILORAwAwfxY+yE+nkNlBLDBV/1lfJh/xwNvQzq/rnyA/WcAksMwQfK+pv0z/zCCtsOngMJ9C/wRvwPDH0PMQO283DwO/wwC0cPEwb5+an2lv3aBYkGxv+a+bv6mwG2BvkE/P7Q+zj/nAXBB0cCSPmj9Kr4OQKkCXoJ4ALs++75IP1LAU8C7f9t/dD9mwCKAkABDP6h/AL/9gIHBD4Atvrl+B792APQBicDYPz++Cn8qAI7BtUDZf55+3v9fwG+AtD/GPwR/GkAMgXZBcAByfxq+2T+TgIyA2EA4PxC/Eb/UwMVBWQD5v86/bb8vv3t/on/1f9EALcAoADg/y3/b/+8AAwCHwK4ANL+q/2k/Tn++P4cAPcB0wMGBK0BNv6X/F3+kgFVAgj/yfrV+tcAKgi5CT8DV/pp9yX9YAU3B2QA7ffw9gD/UwjlCd0CD/sv+pj/rAMXASj72/keALoHBggPAFz4svkJAzEK7QZL/IH1m/mnA08IrwLb+b/4cQFwCjEJPP4J9Yf3/gLjCoYGpfo89GL6mQb4CxUFqvn89bb9LgjFCRAAOPSo8Qf7OAhzDrcJIv9L9/r2cPw3AvQDOgEd/V77e/2TARkEGQMVAG3+ov+IAbYA4Pz1+Rf8eAJQB60FJf+W+tX8IQP3BYMBS/pm+F3+7wXQBgMAPflx+uACsgmNB5f+5veK+U4ACAQcAUb8ivyyAjUIsgY8/x35tvnx/l4C7wAZ/vb+iANQBssCMPuj9rf5qAFnB8oGAgIk/nz9Kf6//bv8nP0UAZwEKwW6AgwAJv8G/5j9PPsM+wD/rAQaByYEI/88/X//pAFw/2X6x/hS/vYGPwpZBMn6D/en/DkFYwfOAJr4ffdt/ucFYgZDAMf6ifuQAEYDfQAN/An8XwGRBtsFtv9B+oH6OP/vAmYCwv84/60BxwNSAmj+K/zF/dQAdAEs/5T9z/9FBAoGkQIA/fD6Nf7MAosDDwAU/bf+bAOfBTcCbvxh+jv+xwM4BY8Bb/2A/SgBjwOIAU39u/uI/loC+QJXAHP+HwAsA8ACXf149zP3v/2zBVoIOAQA/kz7JP3o/wUA1v2f/Ij+OwKQBMgD4gAO/rL8/Pyx/m4BIgQGBfkC//7f+9f7o/7rAZQDXANaAlsBSAAD/y3+of43AKwB6gEuAYgAYQAIAPb+Av68/koBmQMyA///pvz1+wn+gABYAe8A8QC0AakBsP87/Rf93v+VAssB8f2Z+4T+yAQDCAQE1vsp93r6QwK4BvkD6/12+8L+DgOWAob99vnT/NMDhQd3A2v7l/fk+6wDsQb3AfD6ivmM/5YG6Qax/xP4y/cw/+AGZgfHADH6T/plAGAFkAPd/MP4QPw5BIAIXQS2+y73MvtcAywHDQMO/DL6lP8EBusF3v5c+Kv5pwHDB0wF7Pzi9+r7zgTpCLMDxPqr93n9fgXeBmsAxvmV+swB4QaUA0X7WPeo/LsFiAiBAcf3rfWm/YUHKwkoAQb4D/ef/kAGAwbC/rP4T/qhAe0GJwXp/t76TPwQABMBg/6d/EL/0gR6B6sDgPzh+ET89AL8BZcCC/3j+7EARAZKBj8AHvoT+v7/tQWzBcMAvPzY/SYCFwQMAXr87/uOAGYFzwTx/gD6l/tfAhwHWQSB/Jj33PogAxwIHAXO/Qv6Rv33Au4Djf7J+K35XAGGCAMIewC9+WP64gB0BcIC3PvY+NL9HAYACREDDPoC9/T8wwWlCB8DPPvi+Lv9BAQyBc4AYvz//MIBLgVyA4f+vfvR/RgCzQNcAeX9Y/0wAOECbAK4/2v+iwD1A6gETwHg/Hf7BP53AVoCnwB0/04BzwQBBqgC8vxz+a/60P7jAfABiQBoAA8CQwPYAYH+T/xw/bwA3gLOAdv+IP0h/lQAHwHp/8H+4P/CAlAEEQIa/WD5Avo9/jgC4AK/AA//AQBiAvYCJAD0+yr6ffzGABsDowFV/tz84v52AhEEFgJX/i/8QP0AAGsBEgCC/az8+f7BAroEAgP2/gT8jvy2/0MCzAEZ/1T9uf4jAhgEbwLR/if9bf85A/8D7P9R+rL4K/3+AxsHGgSK/hX8of6UAv8CD//Y+tn6Kf+dA2oE6wGR/4v/dACl/wr9wPtZ/j0DrQW4AsH8c/kX/DwCPQbRBOP/EPz5+1L+NgByABwAewBFAVgBkQAUAJwAJgEQAHz90/tX/UUBIAQrA3T/zfy+/cgALAIrAAv9ffxh/6QCogI+/yP80/zSACIEdgOc/238tPxq/y0BGQCz/Q39Uf9+ApQDqwG5/l79S/7k/0YAXv/B/sX/3wEZAxwCpf/o/Xj+ugB2AuwBi/+K/dj9OgCFAq0CxADa/tz+oQASAmgBIP+H/VD+twBRAqMBx/8t/8oA2gKsArH/XvzW+67+SgJ/A6oBCv8v/mr/7gAoAWEA9f9FAEQAEv+e/ev9gQA4AysDBQDN/Nn8FQDSArcBs/1M+8j9QQM5BksD/Pxs+SL8YAIFBtADh/7F+wH+OgKQA5wA1/yo/JIAtATeBM0AOfz7+pX9UwFPA9UCJgGl/8z+qf5y/xcBigI2Arb/y/wa/I7+KwLeA2oCiv/5/a7+MgCXAKr/4f5r/8cAiAEjAXYAdADJAFMA4f7Z/bH+6gA+Ah4Buv7i/cz/YQJpAlT/RvzO/LkA4gOZAvz9Lvvg/e8DJQeLA9T7//aR+TsBVQdRB4sCAP7y/FX+H/81/mP9qP59AVUDlQJjACf/tf+NAAMAiP48/j0A+wK3A5sBx/4E/rT/fwEsAU//q/7eACwEAQXOAfP8nPqv/AkByAMXA5oAPv8LAFUB4ABx/g782Pvu/XwArwFNAYAAQABCAIT/tf3x++T7IP5LAQYD4wHJ/mD83vz8//QC1QI5/+H6fflj/GABsQRaBKEBXP/9/nj/Cv+s/Uz9dP8HA9cEzAJK/ib7HPw2AOMDXQT8AU3/Rf6z/jn/Q/98/4EAsQG/AXIANv+p/5wB/ALoAdj+UPxq/Mj+EwGDAY4AEwAHAUsC9AGK/8j8APzf/cYAZALDAfX/2P5j//UAFQKzAe3/3v3a/I39i/+HAUQCiAFNAOX/qgCXATwBTP8f/Zb8UP7+AJMCGAJ0AFz/of+JAMIAyf9c/qn9K/5y/8YAzAF0AoYCnwHQ/xL+w/1Y/6QBswKZAYb/vf5jACQDSgRgAsz+qfzV/QwBEgPdAaz+2fx6/i4CYwTUAtH+8/uH/F3/MgErALv9+/xD/6EC1AOlASH+ZfyM/dP/zgAIADP/6P+sAYICRgEW/xn+Jf/nAIkBxgAKAIgApgG+AUMApv66/n0A7QFVAWj/g/7g/+UB4wFP/778L/2BAEgDdQLf/oP8If4KAuwDvgFB/vL9wAF7BT4EIv7P+Nr5vwAUB/4GJwHd+0n8JgF5BE0CDP2z+ir+BQQ7Bp8CF/1G+5X+AQPDA24ABP01/VEAVgKuACb92fuI/p0CDAStAU/+av1f/0wBmwAB/qb8hP4YAv0DlwKy/13+jv88AeIAef6V/Jj9AgHiA8MDEgF5/h3+s/8uARUB1f/+/nD/fwDdAAAAqv4P/rf+FAAcARYBGgDg/jz+j/6D/0gAQACG/97+8f6Z/wEAnP/Q/qn+pv8EAWMBIAAN/qL8rvzF/Qj/IQBKAXMC1AKrAVz/d/1S/aH+xv+Z/7v+1/6IAGECQgLH//v8cPyT/i0BowGX/zb97PwC/5UBsAIdAh0BpABgAI3/UP7S/dT+hQAyAR8Agv5I/vT/7AEmAlAAL/6r/b/+mf/S/kX9Vv1CAFkEKQa6A5v+oPp/+oH9gQAhAeT/Ov+dANECLQOfACr9Mfwb/6gD1wWfA+b+tvuF/BoAFgNmAwMCWAE1AtEC+QAL/T/6nPufAEYFqwW4ASP9uvvf/aIALQGo/5f+q/+vAfoBrf/5/Pb8PAAKBOgECALh/Z37PPxI/vL/8QAaApoDSwQJA2MAc/7B/p8A4AEeASn/5/0p/uf+zf4h/rD+nwGfBZ8HkAVpAGn7Yvm2+rH9ZAAKAs0C5wJNAiMBAQB5/37/gv9G/zz/5//fAPQAhv+u/Zn9VQBXBHgGzwSJAOP8KfzM/Vv/Q/9h/tP+YwFmBEEF+wI4/6D8cvyt/Xb+Hv6z/Zz+6QAUA2kDnwEg/7r9J/6f/7wAvwD2/zf/Cv9W/73/IACrAGQB2QFoAfL/Pf6M/YD+awDMAZYBKQD1/hT/PAAWAagAWv+J/gr/OgCnAJ//Cv6R/ef+CQE9AsEBaQCN/4T/cP9+/i79Bf3h/rMBRgNXAuv/U/7k/qQAcwFTAHv+8/1S/xEBRgHV/67+rv9uAnEEnQN4ALv9lv2h/3MBUwH2/4b/GAFYA+0DBAI5/+v90v5zAOoA/v8r/8n/ZAE/AlwBtf85/6YAoAIHAy4Bkf5W/T/+HAA1AfoATwBJAO8AUwHJALP/Gv+D/1sAnADi/9b+hP5b/84A7QEtArYB/wBJAIb/qf76/fD9yv45AIwBMQIRAoIB0wADAPP+1P1M/fP9lf8PASUBrf/p/Yr9Jf+VAfcCTgJCAEr+Lf2E/Kz79vqp+5z+5wIuBmUGcgMh/477wfmU+aX68fxZAOMD1gUHBfoBrv4D/VH9cP4F/8L+Yf6m/of/XwC6ANYAQAEdAtkCmAL1AGP+7fup+iv7Rf0bAIcCpAM7A8IB7f8v/qP8ZfvZ+nj7S/2l/4EBRAIXApMBCAE6AM7+6/xj+xL7LPwb/gYAfAGCAi8DUgORAuYA2P45/Zj8+vwI/m//CQGvAgIEhwT4A4YCugAa/+P9JP3y/IP99/4WAUADrwTmBOEDAwLU/9X9e/wr/Bf9Df9nAU4DLAT5AyEDHAIHAbn/Jv68/Db8Df36/hMBdwLrAtsCvAJvAmIBSP+7/A37SvtY/QAA8gG7At4CCQM0A6gCzwAJ/oz7ifpN+zz9gf+yAcQDcwUGBsIEsgH2/SP7T/p1+739LwA2ApEDHwTZA/YC8AEnAYgAof80/rj8Kvw8/a7/awJcBBQFygS8A9QBDv8R/Dv6t/po/dIAMAPIA0YDyQKyAmACHgEd/3X9Hv3+/Rj/r/8KABABCgP7BFcFbQMrAGH9Sfy+/ML9rf6v/z4BKANuBCEEUgIYAKH+Ov5S/jv+7/3+/dr+SgCSARECugHzAB4AVP92/of9yvym/GD96v7WAIECUAMMA/0BswCX/6T+p/24/Gr8Y/2o/18CVQTRBPsDcwKsAL3+z/yF+7D7iv1FAIsCewM1A2sCkAGGABf/j/2v/PD8/P0G/5n/BwDlAC4CGAPOAlQBhv9B/qT9N/3G/N/8Sf73ALAD3wTYA1oB0f4p/Wb8IPxL/Ej9Qf+aATUDRgP3ATMA3P4v/uH9of1u/X796f2K/jD/zP9oAPUALgHNAMz/e/5V/b385PzP/Vz/MQHDAnoDCwOmAd3/Vf55/W79Gf40/1UAEwE9AQABwAC9AM0AjADO/+L+Vf5w/vX+dP/M/04ATgGSAlID2gIvAR3/kP34/DX9/f0u/68AIALiApcChQFnAMj/jv9L/9j+n/4m/2EAmwEYAsYBLwHNAHMAm/8t/ub8x/wS/vD/JwE3AawAawCzAOIAOwDP/or9Xv1p/uX/6QAyASMBMQFfAUgBogCg/8j+hv7Y/mX/1/8bAGEA3QCIAQoC5AHIAPX+O/2O/Fn9IP/bAL8B0QGzAeMBIwK5AUYAW/4i/Wj98f63ANkBNAJAAk8CLQJyASQA5P5o/tf+pf8lADEANQCiAG4BGgIyArYBAQFgANP/Pf+3/pn+JP80AEoB5QHYAUcBdACO/73+Of4w/qb+Zf8qANMAVQGQAVABiQCd/yz/h/9BAIMA5//+/ub+IgD5Af0CYAK2AFf/AP85/wr/Sv7y/Qz/UQEfA+sC3AC2/jX+Xv+ZAGkA+P7g/XT+VgDbAb8BbABx/9r/IwHTAQkBZP9c/tb+YwDTAVwCMAL7AQcC9AFEAQQA4/6X/j3/TgApAYwBogGaAVgBlgBQ//r9RP2N/Zr+xf+AAK0AcwD0/yr/Kv5c/U39If49/6T/1/5o/Yb84/wD/rL+OP4d/Zb8Nf1E/nj+Zf0L/On7cv2E/3sA0f+C/vr9lf5g/1H/i/5J/n3/qAE2AwYDjwFcAH8AmwFzAlYCxQG/AX8CNAPzAtcBBQF5AfICIgT5A7ECeQE+AccBIAK6AQUB4QCPAVUCPQIcAcb/Pf+1/3IAmAAEAF3/TP/N/zQA7P8O/0j+MP6//mH/iv8r/6X+Xf5j/nr+Zv4r/gH+Gf5q/rv+0/6o/mD+Kv4W/hH+A/7w/ff9M/6a/v/+O/9a/4v/6P9KAF0A7f8r/5z+tv59/3YADwEKAaQASQAsACAA3/9k/xH/Uf8yAEAB2AGuAQcBdQBaAJkAyACYABoApP91/4n/sv/V/wIAUgCtANQAlQAAAGj/G/82/53/IACeAAABLAELAZ8AEgCg/3H/h//N/ykAigDVAOoAwwB/AFUAYQCBAHcALwDj/+f/WgD8AGEBVwENAeIABgFMAWABHQGyAHMAjADiADABRQEkAfEA0wDUAN4AyAB5AAAAn/+j/yUA4QBTASEBZQCj/07/bP+b/37/JP/+/l//FACLAFEAjP/b/sT+O/+5/8T/Yv8F/xP/ff/a/9f/hv9C/0n/ff+J/0b/6v7W/jT/yv8sACoA8P/W/wUATgBZAA4Arv+Z//P/eADKAMMAmACYANEA/gDUAFkA7//8/44AUQHaAfwB1gGVAUEBzQBJAPb/CAB7APsANgEXAcgAegA4APb/uv+r/9j/EQANALb/Tf89/6j/QgCXAHsAJwDy/+P/uv9N/9v+4f6a/6UATwEoAWsAvv+R/9H/EwAfABoATgDBACUBIgG7AEcAHQA8AFwANwDS/2v/PP9L/3j/p//S//b/AQDc/4D/D/+z/on+lf7S/jz/wP8uAE0AAwB+/xP///40/2r/Zf8t///+EP9Y/6T/xP+3/6L/pP+7/8r/t/+E/07/Nf9H/3//v//p/+j/wv+P/2j/Vf9L/0H/O/9J/3X/sP/g//L/5//U/8z/2P/0/xoAOwBCACAA4v+x/7n//v9RAH0AbgBGAC0AJAAHAMD/cf9r/9j/hAD8AOsAaQDl/73/9f8+AFIALAAIABgAUQB+AHEANQD3/93/6/8LACcALwAhAAIA4v/U/+P//P8DAPT/6f8KAFUAlQCNAD8A9f///2EAygDbAIUAFADi//r/FwD8/7P/i/+6/x8AYwBKAPP/q/+h/73/xf+l/4T/kf/Q/w4AFwDl/5z/bP9m/3v/k/+d/5H/eP9r/4f/0f8cACYA0P9E/+j+Av9//wMARABDADwAVQBxAFgAAACl/43/wP/9/wIA0/+s/7r/6P/3/83/mf+f/+j/MAAtAOD/mf+s/xcAigC3AJkAcgB3AJ0ArACJAFUATgCGAMwA3QCoAFwAPABcAJcAvwDJAMoA1ADYALkAcwAuAB0ATACUAL0ArgCAAF4AWwBnAGUASAAeAPr/5f/g/+b/+f8WADwAZQCLAKMAmgBcAO//gf9T/4X/9f9UAG0ATwA8AFwAkQCRADkAvP9y/4v/2/8HAOj/qf+c/9n/IQAiAMj/Vf8i/0b/hv+e/4j/gv/A/zEAhAB0AAYAif9H/1T/h/+t/73/zv/3/y0ATAA0AOv/kv9U/0b/X/+F/53/oP+Z/5n/pP+u/6z/of+i/7n/1//a/63/af9M/4H/9P9dAHUAMwDQ/43/hf+k/83/AABNALgAFgExAfcAkgBBACsARABiAGgAUwAzABIA9//q//j/HwBMAGEAVQA9ADUAQQBJADgAEwAAABAANQBBABkA1P+h/6L/yv/1/w8AIQA2AEgAPQAOANb/v//X//3/AwDf/7L/pv/B/9X/uP9w/zT/NP9q/6L/qP+D/2T/dv+s/9X/y/+e/37/jP+2/87/uv+Q/4H/qP/u/yQALgAXAAQADAAnADoAOQAtACkAMwBBAEcARQBJAF0AegCNAIYAZgA+ACIAHwAvAEUAVQBXAFEASgBDADUAFQDl/7P/lf+Z/7P/y//O/73/qv+k/6v/r/+l/5L/hP+J/6H/wv/f//L///8JABQAGwAZAAUA4f+3/5r/mP+2/+n/JABcAIgAmgCMAGEANAAlAEAAcQCUAJkAkwCiAM8A+gD5AL0AZQAeAP7/8v/n/+X/BgBUAKsAzwCoAFUAFQAPAC8ASgBJAEAASwBpAHUAVgAZAPH//P8nADwAGQDU/6b/vP8EAEsAYwBOADEAJgAjAA0A2f+m/6P/4v9AAIAAfwBMABkABgAHAPv/1P+y/77//f8/AFQANgAZADAAdwCsAI8AKADC/6T/1P8TACgAFwATAD8AfQCPAFcAAgDV/+v/HQA0ACQAFgAzAG4AjQBnAA8Axf+x/77/uP+I/0//Pf9d/4n/kv90/1b/Wv94/4v/ev9Y/1P/fv/C//b/BwAFAAoAFAAMAOH/m/9l/13/hv/D//T/CwARAA0ABQD5/+n/3v/j//7/JgBNAFoAQQAJAND/s/+4/8r/yf+v/5X/mf++/+D/3P+z/4//mP/M//v/+P/J/6L/rP/c////7/+9/5//tf/p/woA///g/9j/8P8GAPr/1f/M/wAAWQCPAHAAFQDJ/8X/+f8mACAA9v/d//T/IQAtAAAAuv+T/6f/3P8DAAkA//8CACEASQBmAHIAdgB1AGUAPQADANL/vf/J/+T//v8QAB4AJwAiAAoA5f/E/7f/x//u/yUAYACKAJMAdgBGABkA/f/k/77/jv9t/3D/iv+c/5L/gf+Q/8n/AAD+/7n/aP9T/4j/0P/q/8z/rP/A//j/DQDR/1//Ff8u/5X/+v8qADkAXwCuAPgAAwHJAIIAbACLAK8AqwCIAHgAmgDVAO0AwwBsAB0A+P/x/+7/5v/m//7/KABNAF0AWABNAEIANAAgAAwAAQAAAP7/+f/7/xMAPwBjAGMAOwAFAOL/2v/d/9v/2f/t/xwAUABlAE4AIgAFAAEAAwD1/9r/z//p/xkAOgAyAA0A6//f/+T/6P/l/+n///8fADQANgAxADMAOwAxAAcAz/+n/6P/tv++/7T/qv+8/+P//P/q/7r/lv+c/7//0f+8/5X/if+p/9r/9f/v/+L/6v8EABUACgDw/+f///8jADYAMQAlACQAKQAeAP//4//j////FAAIAOn/3v///zMASgAsAPf/2f/l//r/8v/N/7P/xv/4/xYABgDd/8n/3f/z/9z/k/9N/z//a/+c/5//ff9t/5b/4v8TAAcA0/+s/7L/0//s//P/AAAnAFcAZwBFAAoA5P/k//r/BAAAAAUAKABaAHkAdQBgAFgAZABqAFEAIgAFABEAOQBUAFAARABMAGkAdABMAAEAyv/L//r/IAAfAAcABAAoAFUAXwA7AAoA9f/7//3/5f/D/73/3v8LAB4AEQABAA0ALgA+ACkABwAFAC8AZABxAE8AJAAgAEEAXQBLABgA8//6/xsAKgASAO//7P8TAEAASgAwABgAKABXAHwAdwBXAEMAUwBzAHwAYQA2ABsAGQAeABQAAADw//L/+f/y/9v/xv/F/9P/1v++/5P/d/9+/6L/x//X/9f/2v/r////AgDr/73/jf9r/17/ZP91/4r/nP+n/67/tf++/8b/xf+4/6b/n/+r/8n/7P8HABgAHwAgABwAEgADAPj/9/8GACUATABwAIcAjwCJAH0AbQBZADsAFADs/9L/0f/o/woAKgBBAFIAXgBgAEwAJAD4/9//5P8AAB0AKwAsAC0AMwA4AC4AFAD9//b///8EAPf/3P/M/93/BAAmACkADQDu/+H/5f/s/+//+f8aAE8AeQB4AEsADwDs/+f/6//j/8//yv/i/woAIQAZAAMAAAAXADQANAASAO7/6P8AABsAGwAFAPz/EwA6AEYAIgDk/7n/vP/a/+3/5P/S/9T/7f///+v/tf+D/3b/jP+m/6j/lf+H/4//ov+o/5P/bv9Q/0n/Uf9b/2D/ZP9s/3f/fv+A/3//fv99/37/gv+L/5b/mf+L/3P/ZP9t/4r/qf+3/7P/q/+t/7n/yf/Z/+3/BwAhACoAHgALAAIACgAVABQABwAAAAwAIwAuAB8AAADo/+j/9/8AAPj/6f/n//r/GAAxAEIAUABhAHEAdQBpAFkAUABPAEoANwAbAAUAAwAUAC0APwBIAEwASwBGAD0ANAAzADsASABWAGQAcgB8AHgAXwA0AAYA5P/M/7r/q/+m/7X/0//1/wkAEQAUABkAGwARAP3/7v/5/xkAOwBFADUAHwATAAsA9v/L/6D/lf+3/+//GgAoACkAMgBFAE0AOAARAPf//f8cADkARQBKAF0AfgCTAIQAVwApABQAFgAXAAsAAAAMADUAXwBvAGAASwBFAEwASgAzABYAEAAnAEUATwBAADAAOABSAGAATAAhAAEAAAAUACMAHgATABYAKQA7ADwAMAApADAAOwA4ACUAEwAVACUAMAAjAAcA8//y//n/9f/h/9D/1//z/w8AFwAKAPn/7f/h/8n/p/+N/4//r//b/wAAGQAqADMALgAUAPL/2//Z/+T/7P/q/+//CQA0AFMAUAA1ACQAMwBZAHUAcQBdAFcAawCGAIoAbwBOAEEASwBTAEYALQAmAD8AZwB7AGwASAAsAB4ADgDq/7f/lv+d/8P/6//8//v/9//3//L/3f/C/7f/yP/p/wIACwAQAB4AMwA5ACMA///p//P/DQAXAAgA9v8AACwAWABfADgABADo/+j/7f/e/8T/u//Y/wkAKgAhAPr/1f/L/9f/4//i/9r/2//o//L/7P/Z/8b/wP/D/7z/oP91/1H/RP9R/2j/e/+B/3z/cP9g/0//O/8q/yD/IP8s/z3/Sv9N/0P/NP8o/yX/Jv8l/yH/If8y/1P/dv+I/4H/bP9a/1T/U/9L/zr/Lf80/07/bP98/33/e/+H/5//sv+0/6j/nv+m/73/0//g/+X/7v/+/w0AFQAVABYAIQAwADgANAAtADIASABmAHcAdQBlAFYAUQBUAFgAXwBrAH4AjwCVAI0AgAB3AHcAegB6AHUAcgB0AHYAdQBuAGYAYgBfAFoATwA/ADIAKQAnACkALwA5AEIARQA+ADEAKQArAC8AKQATAPn/7P/4/xQAMwBIAFUAYgByAH0AgAB/AIQAlACpALQArwCgAJUAkQCNAHwAXAA7ACgAKQA4AEkAVgBjAHMAhgCYAKYAsAC2ALYArACbAIsAgwCFAIoAjQCNAI0AjwCMAHwAWwAyAA8A/v/8/wQAEAAZAB4AGwAOAPv/5f/S/77/pf+G/2r/Yv91/53/xv/d/+D/1v/N/8b/vv+x/5//kP+J/4f/hf+D/4b/kf+h/6v/qv+j/6f/wP/n/woAGgAWAAwACQANABAABwD4/+3/7//+/wwAEwAWABwAKgA+AFEAXwBoAG0AbABfAEcAMQAnAC8APQBCADQAGQAAAPT/8P/s/+T/3v/g/+r/8//t/9f/uv+l/5z/nf+g/6b/tP/J/+H/8/8AAA8ALABRAGsAawBUADoAMAA6AEgASgA9ACsAHgATAAEA5P/F/7P/tf/D/8//0//V/9z/5//u/+r/3v/S/8n/wf+2/6j/of+l/63/r/+n/5n/jf+K/47/lv+k/7r/0//o//H/8//4/wMADQAFAOj/v/+g/5H/if97/2f/Wv9i/3j/g/91/1P/OP80/0T/Uv9Q/0X/Qf9N/1z/Xv9T/0z/Wv93/4v/gf9f/z//PP9X/3v/kP+Q/4f/h/+U/6b/s/+7/8L/zf/X/9z/2P/U/9f/5v8AABsAMAA8AEIASABTAGQAdAB7AHIAXABCAC4AJwAtADoASABVAF0AYgBkAGQAXwBTADsAGwD9/+v/6v/2/wEABgAJABAAIQA2AEUASABFAEcAUQBdAGIAXABRAE4AVgBlAHAAcQBoAF0AVQBWAF8AbQB8AIYAigCJAIgAigCQAJgAnwCmAKwArgCnAJYAggB4AH4AkACeAJ4AkQB/AHEAZgBWAD4AJgAaACAALAAsABgA+v/i/9z/5f/t/+r/3//V/9f/4//x//r//v8AAAMABgAGAAAA8//g/8//xv/K/9r/7v/5//b/6P/X/8z/y//P/9X/2v/e/+D/5P/t/wAAGwA1AEIAOwApABwAIQA0AEYASwBEADwAPQBJAFYAVgBHAC0AFQAGAAQADAAWAB0AHgAcABkAGAAVAA0AAADx/+r/8f8AAA0AFAAUABMAEQALAAAA9f/2/wcAIQA0ADYALAAmACwANwA5ACkADQD6//b//v8FAAMA/f/6/wEACwANAAMA9f/t//X/CgAhADEANAAuACUAIAAfAB8AHgAbABcAFAAWABsAIgArADkASwBgAG4AcABjAE8APAAsAB4ADQD5/+H/zP+7/6v/m/+O/4f/if+P/5P/j/+H/4H/f/+B/3//c/9e/0n/Pv9A/0n/Tv9K/0H/Qf9Q/23/iv+c/57/mf+Y/6T/uP/J/9D/zf/G/7//uP+t/57/i/93/2T/U/9D/zj/NP86/0n/Xf91/43/pf+7/83/2f/j/+//AAAWACwAOAA0ACIACgD2/+v/6f/r/+7/7//w//L/9v/9/wkAGgAtADoAOgAuAB0AEAANABAAEgAOAAQA/f/7//7/AQACAAAA/P/6//n/+v/6//n/+f/7/wAAAwADAPz/7//j/97/4f/s//r/CQAbADAARQBYAGUAbgB3AIAAhQB/AGsATAAqAA8A/f/y/+v/5f/f/9z/3v/k//D//f8GAA0AEgAdADEATQBnAHQAbwBeAEkANwAkAA0A8v/V/77/s/+w/7P/u//J/93/9P8EAA0AFAAlAEQAZwB9AHkAXQA8ACkAKAAtACgAEwD7/+//9v8IABQAEQAFAAAACgAdACoAJgAYABAAHAA4AFIAVgBCACUAFwAnAEwAcgCHAIkAhQCKAJwAsAC6ALQApgCaAJIAiAB4AGQAUwBMAE0AUQBSAFIAVABYAFkAUgBFADgAMQAuACkAHwATAAoABwAGAAQAAAD8//v/+f/y/+X/2P/U/9r/4//n/+L/3P/e/+j/9f/8//z//f8EABQAIQAkABsADQAEAAQADAAUABkAGwAbABwAGwAYABIACAD+//P/6f/j/+D/4P/h/+X/7f/6/wwAHwAoACMAEQD9/+//6//s/+n/3f/M/8P/x//T/9v/1//J/8H/yP/e//b/AgAEAAMABgANAA0A///l/8z/v/+6/7b/qv+b/5L/l/+q/77/yf/M/9D/3f/2/xQALAA3ADEAHwALAP3/+v8AAAYABwAAAPj/+P8FABwAMAA4ADQAKwAnACkAMQA6AEAAQgA+ADYALAAnACoAMAAyACgAFAABAP3/BgATABgAEAADAAEADgAhACwAJgAUAAMA//8CAAcABAD9//f/+v8DAA0ADwAKAAIA/f/6//P/4f/G/6P/gP9f/0L/Kf8V/wb//P73/vf+AP8T/y7/R/9Z/2H/ZP9o/3D/eP96/3D/Yf9V/1P/Wv9m/3H/ev+F/5X/rP/E/9v/7P/5/wYAFAAiAC0AMwA2ADcAOAA4ADcAMAAkABIAAADz/+z/6//s/+n/4f/X/83/xv/A/7j/rv+k/5z/mP+V/5D/hv95/2z/Yv9d/2D/av96/4v/m/+r/77/1v/w/wMADgARABIAEgAOAAMA8//j/9v/3//o/+3/7P/s//b/CwArAEsAaACBAJYApQCsAKoApAChAKUArQC0ALUAsgCvALEAtwC6ALMApQCWAJEAmQClAKoAnAB/AGAASgBDAEQARABBAD4AQQBMAFkAYABeAFUASwBEAEAAOQAtABsABgD0/+r/6v/y//n/9v/n/9b/zf/T/+X/9/8AAAMAAwAEAAQAAQD4/+v/4//h/+L/4v/e/9n/2f/d/+X/7P/w//T/+f///wYAEwAkADUAPwA+ADIAJAAcAB0AIgAlACIAHAAYABgAGQAXABEACwAGAAYADAAYACsAQQBUAFwAVABEADMAKgAmACUAIQAbABQADgAHAAEAAwAOACAAMAA1ACwAHAANAAAA8//h/9D/yf/N/9b/2v/X/9P/2P/n//b/+f/w/+L/2P/T/8n/tP+a/4v/jv+g/7L/vP/B/8z/4f/2/wAA/v/6/wAAEgAqADgAOgA4ADwASABVAF0AYABiAGYAZgBaAD4AHgAHAAUAFQAsAEIAUwBhAGsAcgB1AHQAbwBoAFoARgAtABUAAADv/93/yf+5/7X/wf/Y/+//+//6//H/6f/o/+v/7P/m/9j/x/+7/7j/vf/G/8v/y//J/87/2//v/wMAEQAYABwAIgAtADsARABBADAAEQDv/9L/w//F/9T/6P/6/wQABwAFAAAA/P/6//n/+f/2//H/6f/h/9z/2//e/+f/8P/2//P/5v/U/8b/wP+//7z/sf+h/5P/j/+S/5n/nf+d/5z/nP+a/5b/kP+L/4n/if+F/33/dv93/4H/jv+Y/6D/qf+5/8v/0v/G/6n/i/97/33/h/+N/4f/ef9t/2j/av9w/3b/fv+K/5v/rv/C/9b/6/8CABgAKwA1ADcAMgAqACMAHwAfACIAKQAwADUANwA1ADEALwAvADAAMwA3AD4ARQBIAEUAPQA5AEAAUwBqAHgAdQBiAEwAOwAwACgAHQARAAgABAABAPv/7P/a/8z/yP/M/9T/3P/k/+z/8v/z//H/8v/9/xIAKQA2ADMAJgAcAB8ALAA5AEEARABMAF4AdQCIAI0AhgB/AH4AgwCFAH8AcQBiAFsAXgBnAG8AdAB3AIAAkQCoAL4AyADCALAAnwCZAKAAqACiAIUAWAAtABMADQAUAB8AJQAoACkAKQArADAAPgBWAHIAhgCJAHkAYABMAEEAOgAtABgAAgD4////DwAbABkACgD//wQAGwA6AFEAVwBSAEwASwBOAE4ARgA3ACkAJAApADQAPgBAADoALAAgABsAIAApAC0AJwAYAAsABwAOABQAEQABAOz/2P/L/7//sP+d/4//if+O/5n/ov+q/7P/wv/X/+//AgAQABgAGwAZABUADwAHAPz/7P/U/7f/mf9//2//af9p/2n/ZP9d/1j/WP9i/3H/gP+M/5X/mf+a/5j/kf+G/3r/bv9j/1f/Sf87/zH/Lf8v/zf/Rv9Z/2//g/+S/5z/pf+x/77/x//G/7n/qP+Z/5H/kf+Y/6H/rP+3/8L/zv/d/+7//v8KABAAEQASABcAIgAuADgAPAA6ADMAKQAaAAgA9//o/+H/4P/j/+j/7P/s/+j/4f/a/9f/2v/g/+j/7v/w/+3/5//i/9//4v/q//L/9//z/+b/1P/G/7//vv/A/8D/wv/J/9n/7f/8/wAA/f/3//f/+//+//r/8//z/wAAFAAmAC0AKQAjACMAKQAzADsAQQBHAFAAVwBWAEwAOgAlABIAAwD8//3/BAAMABEAEAAPABUAIgAzAEQAUQBcAGgAcgB2AHIAawBpAG4AdwB3AGkATgAzACcALAA8AEkATABFAD4AQABLAFYAWgBUAEsARgBIAEwASgA9ACoAGAAMAAQA+//u/+L/3f/k//T/BAAOABAAEAASABoAIgAmACIAHAAcACkAPgBPAFIARgA3ADMAQQBXAGsAcgBvAGsAbABxAHIAaQBaAEwARABBADwALwAcAAgA/f/5//n/+v/4//b/9v/6/wAABgAGAAAA9P/k/9X/yf++/7L/ov+R/4T/gf+I/5T/nP+c/5n/nf+t/8X/3v/v//n/AAAJABEAEwAQAAsABwADAPz/7//h/9f/0P/G/7X/n/+S/5X/pv+3/73/u/+7/8b/1f/c/9L/wv+6/8L/0P/V/8n/s/+j/6D/pf+q/6n/p/+o/63/rf+m/57/n/+y/9P/9f8NABoAHgAeAB0AGgAWABMAFAAaACAAIwAeABQACAABAAAABQANABcAIwAvADYAMwAmABIABAAEABEAIgAsACoAIAAUAA0ACAAEAAEAAAACAAcADAASABsAKgA7AEUARQA7AC8AKQAqAC4ALQAlABsAFgAZACIALwA8AEYATQBPAEwARwBDAEIARQBHAEUAPAAuAB8AEgAIAP//8P/e/83/xv/Q/+X/+v8DAAIA/v8AAAYADgAOAAUA/P/6//7/AQD8/+v/1//H/7z/s/+n/5n/jv+K/4z/jf+L/4X/gf+C/4v/mf+n/7D/r/+j/5L/g/+A/4r/l/+c/5b/jf+L/5P/n/+l/6T/pf+z/9D/7v/+//j/5f/X/9b/4P/o/+j/5P/m//D//P////n/9P/7/xAAKQA3ADQAKAAfABwAGwAUAAYA/f8AABEAKQA6AD8AOwA3ADgAQABKAFMAWgBbAFkAUwBNAEwAUgBgAG8AeQB8AHcAbQBiAFsAWgBdAGEAZgBsAHUAggCLAIwAgQBvAGIAYwB1AI4AowCqAKQAmACJAHwAcQBlAFsAUQBFADUAIgAOAAAA/f8DABMAKwBGAF0AaABkAFQAQQA3ADoARgBPAEwAOgAfAAYA9//z//n/AAD9/+z/0f+3/6v/sv/H/93/6//z//n/AQAKAA0ABQD3/+r/5P/k/+P/2f/H/7b/sf+6/9H/7P8CABEAFQATAA8ADAANABUAIgAwADkANwAoAA8A8f/S/7j/pv+e/6P/sv/C/8v/x/+8/7b/u//K/9b/1P/D/67/nf+W/5X/lP+S/5L/mP+h/6n/rf+w/7P/tv+2/7H/qf+k/6X/rf+3/8H/x//M/9D/0//V/9X/0//O/8j/xf/H/87/2v/k/+v/7//y//X/+f/5//b/8f/u/+7/8f/z//T/+P8AAAgADwATABYAHgAtAEAAUABYAFYATQBDADoALwAiABMABQD9//j/9v/z//D/8P/0//n//P/4/+3/4v/e/+P/7v/2//j/8//s/+j/6P/n/+L/2P/R/9H/2f/i/+b/5f/l/+n/8P/w/+X/zv+5/7H/u//Q/+P/7//z//T/9f/2//X/9v/+/wkAFwAdABgADQACAP//AAADAAcADwAbACwAOgA8ADAAGwAHAAAAAwANABQAFAAQAA0ADQAPAA8ADQAIAAMA/v/1/+f/2P/L/8L/uv+s/5n/hf96/4H/m/+//+L/+/8HAAwADwARABMAFAATABEACwACAPj/7v/t//T/AAAGAAIA+v/2/wEAGgAzAD0ANQAkABYAFAAZAB4AHwAeAB8AIQAhABwAFwAYACIAMAA8AEIARQBLAFMAVwBQAD4AKQAYABIAFAAcACUALQAwACsAHAAGAPL/5v/k/+X/5P/c/9H/zf/U/+f///8SAB0AHwAhACoAPwBeAH0AkgCXAI0AeQBhAEsAPAAzADEAMAAuACYAHgAaAB8ALQA9AEsAVwBhAGoAbwBsAGIAVgBLAEEAMgAaAAAA6//k/+n/8//9/wYAFAAjAC0AKAAZAAoACAASACEAKwAsACcAIwAeABMAAADt/+H/4f/q//T/+P/3//b/9//7/wAABAAKABEAGAAeACAAHgAZABIACQD///P/5f/b/9X/1v/a/9//4f/i/+X/7P/0//b/7f/e/9D/yf/H/8L/s/+c/4j/fv9+/37/ef9u/2T/Yf9n/3L/gv+Z/7f/2v/5/w0AFAAUABIAEAAMAAMA9v/p/+H/4f/m/+v/7v/v//D/9P/6/wEACgAQABYAGgAdAB4AHgAdABoAFQANAAAA7//b/8r/wv/F/8//1//Z/9T/zP/I/8z/1f/e/+T/5f/k/+L/4v/j/+b/6v/v//P/9P/x/+3/6v/o/+j/5v/k/+f/8/8FABgAIgAhABgADwAMAA8AEQANAAUA/f/3//P/7//s/+r/7//4/wAAAQD8//H/6v/s//T//P/9//f/7//p/+X/3P/L/7T/n/+T/5T/nP+m/67/tP+8/8T/yf/K/8f/xv/K/9P/3v/m/+n/6f/o/+f/5f/k/+T/5f/m/+f/6//0/wMAGAAsADkAOwA0ACQAEgADAP//BwAYACgALQAmABsAGAAiADAANwAwACIAGAAaACQAKQAjABUABwABAP3/8f/a/8H/tP+7/9L/6v/4//z//f8CAA4AGwAjACUAIgAbAA0A/P/r/+T/6//9/xAAHgAnAC4AOwBNAGQAegCOAKEAtADFANMA3ADcAM0AsACJAGQATABGAEwAUQBPAEgAQgBFAE8AWwBlAGwAdQCBAI0AkwCOAIAAagBTAD4AMQAtAC4ALgAoABkABwD5//L/9P/5//3/AQAIABQAJAA0ADsANwAnABMABwALAB8AOQBLAEwAPgAsACIAIwAsADcAOwA4ACwAGwAGAPL/4P/R/8b/vf+4/7r/xP/T/+L/6f/l/9r/zf/D/7//vv+9/7j/sf+r/6v/tP/C/9L/3f/k/+r/8/8AAAwAEwAQAAcA/v/5//r//f/9//n/8v/s/+j/5f/j/+T/5//s/+//7//p/+D/2P/Q/8X/tv+l/5f/kv+V/53/ov+i/6P/qP+y/73/xf/J/8z/0f/X/9r/2v/b/+H/6v/u/+j/2P/L/8z/3//5/w4AGAAXABIADQAIAAMA///+/wMADAARAA8ABwAAAAAABwAUACAAKQAzAEIAVQBlAGcAWwBHADcANwBFAFcAXwBWAEAAJgAOAPr/4//I/6r/jv94/2f/W/9U/1T/Xf9s/33/iP+L/4z/kf+b/6f/q/+h/47/fv96/4P/kv+c/5v/lf+T/5n/p/+5/8n/1//j/+7/+v8GABcAKwA7AEQARABAAD8ARgBRAFkAWgBUAEwARgBBADkALAAZAAcA/f/7////AAD6/+z/3P/U/9b/3//l/+T/3//e/+T/7P/t/+L/0v/H/8n/1//m/+7/7f/p/+j/6//y//j/+v/6//n/+f/9/wQADwAbACcAMQA7AEQARgA/ACwAFQADAPz//v8AAP7/8//m/93/3v/l//D/+P8AAAwAHwA3AE4AWgBcAFYAUgBUAFgAWQBTAEkAPgA2AC4AIgAUAAcAAAD+//3//f/+/wQAEQAiADEAOAA6ADgAMAAgAAcA6//W/83/z//R/8v/uv+n/5z/of+0/8//6f/9/woAFgAjADEAOwA9ADQAIwAOAPr/5P/Q/8L/v//M/+P/+P8AAP7/9//4/wMAFgAmAC8ANAA5AEAARQBDADoALQAkACIAKAAwADUANQAwACsALAA3AEkAXQBqAGwAaQBlAGcAbgB2AHsAfAB4AHAAZABYAFQAWQBjAGgAXQBGADAAJQApADEAMQAlABQABwACAAAA/P/1//L/9/8BAAYA/v/q/9X/yf/I/87/1v/i//X/DQAkAC4AKQAcABQAGwAyAFIAbgB/AIMAfQB1AHIAdQB8AIMAggB6AG4AYwBaAFIASAA6ACwAIAAXAA4AAADu/9v/zv/G/8L/vf+3/7P/tP+7/8T/zf/U/9n/2v/V/8j/tv+n/6P/qv+2/7//wP+7/7f/tf+0/7D/qv+k/6P/pP+i/5z/lP+S/5v/q/+7/8X/yv/R/+H/9v8FAAcA/f/u/+X/5P/k/9z/y/+4/67/tP/E/9b/4f/l/+b/7P/3/wMADQAPAAoAAAD2/+3/5v/k/+f/7P/w//D/7f/p/+X/5P/m/+r/8P/z//D/5//b/9L/0P/T/9L/zP/C/7//zP/m/wQAGwAmACkAKQAoACEAFAAFAPz/+f/5//P/5P/T/8n/yv/U/9v/2P/N/8H/vP+//8f/0f/X/9v/3v/j/+3/+P8AAAIAAAAAAAUAEQAdACAAGwAYAB8AMABAAEQANgAfAAoA/v/1/+z/4v/d/+L/8P8AAA4AFQAWABAABAD2/+z/7P/z//v/+v/u/+D/1//V/9T/y/+8/6//rf+4/8j/1v/e/+b/7//5/wAAAAABAAoAHQA0AEQASABBADkANQAxACYAEQD4/+P/3P/i/+///v8KABgAKgA+AFIAYwBxAHwAhACFAH0AawBSADsAKwAnACsAMQAxACcAGQARABcAKgA+AEkAQwAzACMAGgAYABYAEgAKAAIA+v/w/+P/1P/I/8P/wv/C/8L/xP/J/9H/2v/h/+n/8v/6//3/9v/m/9P/yf/N/9r/6v/0//j/+/8AAAYACgAJAAUABgARACMANQA9ADcAJwAZABMAGQAlADMAPgBDAEMAOgAqABQAAQD2//P/9P/y/+v/4f/a/9z/5P/r/+z/5f/Z/83/x//I/9D/2//l/+r/6f/l/+H/4P/i/+T/5f/l/+j/8P/6/wAAAAD+//3/BQAUACIAIwAXAAUA+v/7/wYAEwAbABsAGAASAAcA9//h/87/wv+8/7P/o/+P/37/d/93/3L/ZP9Q/0b/T/9o/4X/mf+l/7H/xf/e/+7/7P/b/8z/zv/i//z/CgAGAPf/5//f/93/3f/d/9z/2v/V/8z/wv+9/8X/1v/r//v/BAAKABEAFwAaABkAGQAhADMASQBYAFkAUABEAD4APwBFAEoATwBSAFUAVwBXAFYAWABdAGQAZwBkAFsAUQBHAD4AMwAoACEAJgA1AEUASgBAACwAGAAKAAIA+//x/+v/7////xIAIgAmACIAHAAYABkAHwApADgASABUAFUATAA8ACwAHwAUAAoAAwAEAAsAFAAYABUAEQAUACMAOgBPAFsAXQBbAFkAVwBRAEUANQAlABkADgD//+r/0//C/7n/uP+9/8n/3f/5/xQAKAAsACQAGQARAA4ACgAAAPb/8v/4/wMACwAGAPf/4v/Q/8P/uP+x/6z/rv+y/7P/rP+e/5L/kf+e/7f/0v/p//n/BAAOABQAFQARAA8AFAAjADcASABRAFIAUwBaAGYAdAB8AH0AfAB8AHsAdABmAFMAQwA8ADoANgAsAB4AEwAQABMAFAAQAAkABgANABsAJwArACUAGwAUABIAFAAUABAACgAEAAEA///5/+//4//Z/9b/1//X/9P/zP/H/8X/wv+4/6b/kv+F/4T/iv+Q/5H/kP+S/5v/qf+4/8T/0P/f//H/AAAJAA4AEQAZACQAMAA7AEMASwBRAFAARQAzACEAFwATAA4AAADr/9H/vv+1/7P/tP+z/67/p/+d/5H/hP97/3b/d/93/3P/av9h/2D/af99/5X/qv+5/7//vP+0/6r/ov+f/6H/qf+1/8T/1f/m//L/9//y/+n/4P/b/9v/3v/k/+z/9f/+/wEAAgADAAkAFQAhACgAJgAdABEACAAEAAIAAgADAAYACAAKAA0AFQAmAEIAYwCEAJwAqACqAKcAoQCcAJYAjwCDAHMAYQBRAEcARABFAEgASwBQAFcAXwBnAGoAZQBaAEsAOgAqABsADwAFAAAA/v/9//3//v8AAAUADQAVABkAGAATABAAEwAZAB8AHQAWAAwABgAGAAkACwAJAAUAAwAEAAQAAAD4/+z/4//k/+7//P8GAAoACAAGAAkAEQAZABwAGAARAAoABgACAPz/8P/h/9L/xf+5/7D/qv+l/6D/l/+L/4D/fP9+/4P/gv95/2z/Yf9c/1v/Wv9a/1//bf9//47/k/+R/43/j/+V/5f/kf+E/3b/b/9v/3b/fv+L/5z/sv/J/93/6f/y//z/BwATABoAGwAXABMADwAKAAAA8v/n/+b/8f8DABMAGgAcACIANABPAGwAggCPAJUAmQCbAJoAkQCDAHUAaQBfAFcATwBIAEMAPwA7ADcANAA1ADoAPwBBAEAAPwA9ADwANwAsACAAGQAdACwARABfAHYAhQCKAIIAcQBeAFAATABLAEcAOQAgAAYA9v/z//v/CAAUAB4AJwAzAEMAVgBoAHUAegB3AHIAcQB4AIEAgwB5AGQAUQBKAFMAYABlAFgAPgAmABsAIAArADIAMAApACcALwA/AE8AWgBdAFsAVwBQAEUANAAhABAABgADAAUABgAGAAgAEQAjAD0AWQBtAHYAcQBkAFYASwBCADcAKAAUAAEA8//s/+3/8v/4//3/AAADAAIA///2/+n/2v/N/8T/v/+6/7H/oP+I/2//W/9Q/0r/SP9J/1H/ZP+D/6b/wv/Q/9D/yf/C/8L/yP/Q/9b/2P/X/9T/0P/J/7//uP+5/8n/5/8IACIALQAqACAAFgANAAYAAAD7//r/+v/2/+v/3v/T/9D/0//U/9D/xP+1/6b/nP+W/5X/lf+X/5r/n/+o/7j/y//a/97/1//J/7//u/+7/7r/tf+w/7L/v//R/+L/6f/o/+H/2f/U/9H/0P/R/9P/1P/S/8z/xv/E/8n/0//e/+P/4v/e/9r/2v/a/9j/0P/F/7r/t/+6/7//wf++/7j/sv+x/7L/sv+u/6T/mf+O/4T/fP92/3P/dP95/4H/jP+Z/6v/wf/X/+f/7P/o/+D/3P/d/97/2v/R/8j/x//N/9T/0v/E/7P/qv+u/7r/wf+9/7H/qf+u/7z/yv/Q/87/zP/P/9n/4v/i/9v/1P/V/+H/8v/+/wAA/f/9/wgAHQAzAD8AOgArABwAFwAfACwANwA2ACgAEgAAAPn/AAAWADIASABSAFEATwBWAGsAiQCkALIAswCtAKcApgClAJ8AlACNAJIAqADJAOgA+gD+APoA9gD1APQA7ADZAMAApgCSAIQAewBzAGsAZABfAFsAWABTAE4ATQBSAFoAYQBfAFIAPQApAB8AIQAtADgAPQA7ADkAPgBMAFoAYQBcAFQAUwBeAHIAhACNAIsAgwB5AHEAagBkAF4AVgBLADsALAAlACkANQA/AEAAOQAwACwAKwAmABkACgABAAUAEAAZABgADAAAAPv/+f/2/+3/3//Q/8X/u/+x/6f/of+g/6L/pv+n/6f/qv+w/7j/vf/A/8L/xf/I/8j/w/+6/7D/q/+q/6v/q/+q/6r/sP+6/8H/vv+y/6L/mv+j/7j/zf/Y/9P/x/+7/7f/uf++/8L/xf/I/8n/yf/H/8b/xP/A/7T/nv+E/27/ZP9o/3P/ff+D/4r/lP+k/7T/wf/K/8//0v/T/9L/0P/R/9f/4f/q/+z/6//q/+//+P///wAA+//2//f//f8CAAIA/f/0/+7/6//q/+j/5v/n/+v/8//5//3//v/9//z//f///wUAEAAdACUAJAAXAAMA8v/o/+r/9f8FABgAKQA5AEgAVwBjAGsAbABnAGAAWABPAEIAMAAbAAgA+f/s/9z/y/+8/7j/wv/V/+X/6f/h/9b/0//e//P/BgASABEACAD9//b/9v/+/woAFwAiACsANQBBAE0AVgBXAFEARgA+ADoAOQA1ACkAFgADAPn/+/8GABMAFwARAAUA/f8AAA0AIgA0AD4APgA3AC0AJQAiACUAMAA+AEsAUgBRAEsASgBQAF0AagBuAGYAVgBCADEAIgAXAA8ADQASABgAGAAPAP3/5//X/9H/0//b/+H/4f/c/9T/zf/N/9T/4P/t//j/AgAOABsAKAAvAC0AJgAdABgAGAAYABQADAAAAPT/6//o/+j/5v/j/9//4f/r//b/+v/y/+H/0//Q/9j/4P/b/8T/qP+U/4//lf+a/5T/h/99/33/iP+Y/6X/qv+n/57/lf+Q/5P/nP+n/6//sv+2/7//y//V/9b/zP+//7b/tf+7/8P/zf/Y/+X/8v/8/wAAAgAFAAgABwADAP///v8EAA4AFAAVABUAHQAwAEgAWQBdAFUASQBBAD4APQA3ACwAHgAUABEAEwAWABQACgD5/+b/2f/T/9P/0//N/8L/t/+z/7b/uv+7/7f/s/+y/7j/w//Q/9//8f8BAA4AEQAMAAkADgAeADAAOAA1ACwAKQAzAEcAWwBsAHoAigCcAKgApgCVAHwAZgBZAFUAVgBWAFQATwBIAD8ANwAzADQAOgBBAEgATgBSAFIATABBADUALgAsAC4ALQAlAB0AHAAlADQAPgA+ADUALAApACoAKQAhABUADQANABQAGwAeABsAFQAOAAYAAAD9/wEACwAVABgAEQAFAP7///8HABQAJAA5AFIAbAB/AIkAigCLAI4AkQCLAHkAXAA+ACkAHgAYABEACQADAAEAAwADAP//+f/4//7/CQATABQADgAGAAIABAAGAAUAAAD7//j/9v/t/9v/xf+0/7H/uf/C/7//r/+Z/4n/hv+K/4z/h/99/3T/cv90/3P/av9c/1P/Vv9l/3n/iP+K/3//b/9j/2H/av92/4H/hv+H/4j/jP+S/5f/mf+Y/5j/mf+b/5z/m/+a/5n/mv+d/6L/q/+4/8r/3P/s//n/AwAPABoAIgAlACIAHgAaABUAEAAKAAYABwANABMAFAAPAAoADAAXACYALwAtACQAGwAYABgAFwAQAAcAAwAIABUAIQAnACUAIAAaABUADgADAPj/8v/2/wAABgAEAPr/7P/k/+T/7P/2//3///8AAAIABwAOABUAGwAiACsANgBAAEQARABCAEMATABZAGQAZQBaAEoAPgA9AEoAXABrAHIAbgBmAFsAUQBFADgALAAoACwAMwA4ADQAKwAjACIAJgAoACEAEgADAP7/AAAFAAMA+v/r/+H/3f/e/+H/5//x/wMAGQAsADcAOQA0ACoAGwAIAPT/5v/i/+j/7v/t/+L/1f/Q/9b/5P/z//3/AwAIAAwADQAJAAMAAAADAAoADgAGAPb/4P/Q/8b/v/+0/6X/lP+I/4f/kv+m/7z/zv/a/+D/4f/h/+L/4f/e/9f/0P/M/83/0P/T/9T/1f/b/+T/7P/w/+7/6P/m/+j/7//2//r/+P/y/+3/6//v//n/BQAOABEADQAHAAEAAAACAAoAFwAmADEAMgApAB8AHAAkADEANwAwACIAGAAcACwAQQBPAFQAUwBTAFQAWABcAF8AYABdAFUASQA+ADcAMwAuACMAGAAUAB8ANQBNAFoAWgBOAD4AMAAkABsAFgAYACAAKQAtACcAGQAJAAAA/f///wAAAAD+//3//f///wAAAgADAAIAAAD///3/+v/0/+r/3v/S/8n/xf/E/8f/z//b/+f/7//s/+H/1P/N/8//2P/g/+L/3P/S/8f/vv+4/7f/vf/I/9X/3v/g/97/3//o//b/AgAFAP//8f/l/+D/4v/n/+3/8//5/wAABgALAAoAAQDy/9//0//U/+D/8P/5//P/5f/X/9L/1v/a/9f/zP+//7r/vv/J/9b/4P/p//T/AAANABoAIwAqADAANQA3ADYALgAiABQACwALABYAKQA+AFAAWwBhAGQAZgBnAGcAYwBZAE0AQAA2AC8AKQAiABsAFgAYAB8AJwAsACsAJgAfABgAEQAKAAMAAAAAAAAA/v/2/+z/5v/n/+r/6f/h/9f/z//L/8j/v/+v/5//lf+Y/6P/r/+2/7n/vP/C/8v/0f/V/9f/3v/r//7/EAAgACwAOABDAE0AUQBPAEcAOwAsABoABgDy/9//0f/K/8n/zf/T/9v/5P/s//D/8f/t/+X/2v/O/8L/tf+s/6b/pf+k/6H/nP+Z/5r/o/+x/73/xv/K/87/0v/S/83/wf+3/7T/uv/C/8T/u/+t/6D/mf+U/5D/jv+X/67/zf/n//L/8P/s//D//P8BAPn/4f/L/8P/zP/c/+j/7P/t//P/AAAOABUAFQAUABYAGwAgACAAHAAYABgAGwAeAB8AIQAmAC0ANgA+AEEAQQBAAD4APgBBAEgAUQBYAFsAWgBZAFwAYQBnAGoAawBqAGgAZwBlAGQAZwBwAHsAhACGAIQAgQCAAIMAhgCKAJIAoAC0AMUAygDCALMApwClAK4AugDAAL0AsACdAIgAcQBZAEEALQAfABkAGQAbAB4AHwAeAB0AGwAZABYAEwAPAAoABAD///z//P/9//n/6//W/8D/sf+r/6z/r/+y/7j/xP/X/+v/+v8AAP7/9P/q/+P/4v/n/+//9f/z/+j/1//G/7n/tf+4/7//xv/L/83/0P/V/9z/3v/Y/8n/uP+t/6n/qv+n/5z/jv+C/3//hP+L/5L/mP+e/6P/pv+l/6H/nf+Z/5P/i/+E/4T/jv+h/7L/uv+4/7X/t//A/8r/0P/Q/8//0f/W/9v/3v/g/+T/7f/3//3//P/1/+n/2//N/8D/uf+5/7//yf/T/9v/4f/n/+z/7P/o/+L/3v/e/9//3P/P/7r/o/+S/4v/jf+W/6P/s//E/9T/3//h/97/2f/X/9v/5f/z/wQAFwAmADAANAA1ADoAQwBMAE8ASgA/ADcAMwA1ADcANgAyAC0AKAAkACAAHwAiACwAOgBIAFIAVgBUAEwAPAAoABQABwABAP//+v/v/9//z//F/8H/xf/R/+L/9v8HABQAGwAfACYAMAA6AEEARQBFAEUARQBEAEQASABSAGQAeACHAIoAgQBuAFsATwBLAE4ATwBJADwALAAiACIAKgA1AD8ARABIAEwATwBPAE0ASABCADkALQAgABQADAAIAAQA///2//D/8P/2//v/+v/z/+7/8/8BABQAIwApACkAKQAwADoAQQA/ADYALAArADYARgBSAE8APgAoABoAHgAzAFAAZwBzAHcAeAB9AIQAiQCLAIoAiACEAHkAZABEACIABgD3//D/7//u/+3/6//q/+j/4v/Z/87/wv+0/6P/j/96/2j/Xf9a/13/Z/94/47/qf/F/+L//P8UACoAOQBAAD0AMAAeAAsA/f/w/+X/2v/R/8n/wv+7/7X/s/+4/8X/1//o//T/9//1//L/8P/q/97/zP+4/6f/m/+Q/4P/dv9s/2r/b/92/3n/eP90/3L/c/92/3z/hf+R/5z/n/+Y/4r/gP+C/5L/p/+7/8n/1P/e/+X/5f/b/87/xv/L/9v/7v/+/wcADQAUABwAJAAtADYAQgBOAFUAUwBHADcAKQAfABgADwADAPX/5f/X/8v/wf+9/8D/zf/g//T/AwALAA4ADwAQABEAEAAOAAsACQAKAAsACgAIAAYABgAHAAcABAAAAAAABAAKAA8ADgAMABAAHAAsADgAOgA0AC0ALAAxADwASgBaAGoAeAB9AHgAawBeAFUAUABLAEEANAApACQAKAAwADkAPgA9ADYALAAjAB4AIQAqADcAQwBLAEsAQwAzACAADgAAAPj/8//v/+7/8f/1//b/8v/r/+j/7f/6/wMAAwD7//H/7//5/wgAGAAjACYAIgAYAAkA+//z//T/+v/9//j/7P/i/+H/6v/3/wAABAAHAA4AGgApADYAPgBDAEgATwBVAFUATgBDAD4ARABSAF8AYwBaAEoAOwA0ADIAMAArACMAGgAOAAAA7v/d/9T/1f/e/+f/6f/m/+H/3v/e/97/3f/a/9f/0//L/7//sv+q/6v/tf/C/8n/yf/D/8H/x//V/+j/9////wAAAgAGAAwADQAFAPT/4f/V/9T/3P/j/+T/3//Y/9j/3//o/+z/6f/h/9v/2v/e/+P/5v/o/+v/9f8DABEAGwAeACAAIwAoACsAJQAZAA0ACwAVACUAMQAxACcAGwAUABIADwADAO7/1P+7/6z/q/+2/8n/3P/l/+H/0f+//7H/q/+q/6z/rf+u/67/rP+p/6f/pv+p/6v/qf+j/57/of+u/7//zf/R/8z/x//H/9D/4P/w//v/AAAAAP//AAABAAIAAAD6//L/7v/z//3/BwANAAwABwADAAMABwANABMAFAARAAoAAwD+//3/AAAEAAgACAAKABAAGwAoADEAMAAnABoADwAKAAoACwALAAgABQADAAUACgARABcAHAAdAB4AHwAjACkAMAA1ADgAOQA3ADMALAAmACIAIgAjAB8AFgAMAAcACQAUACMAMgA+AEQAQQAxABgAAADz//X///8GAAYAAQAAAAIABQAAAO3/1P/D/8T/1v/t//v//f/1/+//7//2////BAAGAAMA/v/2/+7/5//k/+L/4f/f/9r/1f/U/9X/2P/a/9v/3//m/+//9f/4//n//P8AAAIA/P/q/9P/xP/C/8r/1v/e/+L/5P/p/+7/7//q/+H/2//d/+f/9P/9/////P/4//f/+v///wQACQANABEAEwATAA4ABwAAAP3//P/+//7//f/8//3//f/9//r/9v/3//7/CwAbACkAMwA6ADwAOgAyACMAFAAKAAoAEwAgACsAMgA3ADkAOQA1AC0AJQAgAB0AGgAWABAACwAIAAYAAQD8//j/+f/8//v/8v/i/9T/0v/d/+//+f/1/+n/3v/d/+b/8v/5//n/9v/3/wEAFQAsAEEAUABaAF8AXgBWAEkAPAA0ADQAOgBDAEwAUgBVAFMASQA5ACgAHgAfACkANQA+AEEAQQBCAEIAQAA7ADcANwA7AEAAQAA6ADAAJAAbABcAGwAoADwAVABpAHUAeAB1AG8AaQBkAF8AWwBZAFkAWQBWAEwAPQAvACkALgA6AEAANwAeAAEA7v/n/+n/6P/e/8//xv/M/97/8f/+/wEAAAAAAP7/9f/h/8j/tP+s/67/tP+3/7j/u//D/8//1v/T/8r/v/+5/7j/uP+1/7L/sv+6/8n/2f/j/+T/3v/X/9L/0P/R/9T/2//h/+X/4//c/9T/0f/Y/+X/8//9/wAAAAAAAAAA/f/2/+n/2v/O/8n/yv/N/8r/wf+x/6D/k/+M/4v/jv+T/5b/m/+k/7H/wf/N/9D/yv+//7f/tv+6/7z/uP+x/67/t//I/9r/5v/p/+j/6P/v//r/AwAJAAgAAwD8//X/8f/u/+z/5//h/9v/2P/a/+D/5v/r/+//8//z/+//5//f/9r/2//g/+P/4//h/+L/5v/r/+//8//4/wEADAAVABgAFwAZAB8AJwApAB4ACgD3/+v/6P/n/9//zf+1/6P/oP+t/8P/1f/a/9P/x//A/8T/0P/a/9v/0v/E/7v/u//C/8r/zv/M/8j/xv/H/8z/0//b/+X/9f8MACwAUAByAIwAnACiAJ8AlQCGAHQAZABYAFAASAA/ADMAJwAeABwAIgAwAEMAWABoAG4AawBkAGIAZwBuAHIAbgBoAGgAcwCHAJsApwCoAKAAlQCOAIwAjQCOAIsAhgCAAHwAeQB0AGwAZQBfAFkATgA+AC0AIgAhACIAGgAJAPr/+/8NACgAOgA/AD8ASABYAF8ATgApAA==\" type=\"audio/wav\" />\n",
       "                    Your browser does not support the audio element.\n",
       "                </audio>\n",
       "              "
      ],
      "text/plain": [
       "<IPython.lib.display.Audio object>"
      ]
     },
     "execution_count": 9,
     "metadata": {},
     "output_type": "execute_result"
    }
   ],
   "source": [
    "sample_rate=40000\n",
    "samples, sample_rate = librosa.load(train_audio_path+'yes/0a7c2a8d_nohash_0.wav', sr = sample_rate)\n",
    "ipd.Audio(samples, rate=sample_rate)"
   ]
  },
  {
   "cell_type": "code",
   "execution_count": 10,
   "id": "9219a064",
   "metadata": {
    "execution": {
     "iopub.execute_input": "2022-06-16T18:54:41.032981Z",
     "iopub.status.busy": "2022-06-16T18:54:41.032131Z",
     "iopub.status.idle": "2022-06-16T18:54:41.041035Z",
     "shell.execute_reply": "2022-06-16T18:54:41.041627Z"
    },
    "papermill": {
     "duration": 0.136788,
     "end_time": "2022-06-16T18:54:41.041832",
     "exception": false,
     "start_time": "2022-06-16T18:54:40.905044",
     "status": "completed"
    },
    "tags": []
   },
   "outputs": [
    {
     "data": {
      "text/html": [
       "\n",
       "                <audio  controls=\"controls\" >\n",
       "                    <source src=\"data:audio/wav;base64,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\" type=\"audio/wav\" />\n",
       "                    Your browser does not support the audio element.\n",
       "                </audio>\n",
       "              "
      ],
      "text/plain": [
       "<IPython.lib.display.Audio object>"
      ]
     },
     "execution_count": 10,
     "metadata": {},
     "output_type": "execute_result"
    }
   ],
   "source": [
    "sample_rate=16000\n",
    "samples, sample_rate = librosa.load(train_audio_path+'yes/0a7c2a8d_nohash_0.wav', sr = sample_rate)\n",
    "ipd.Audio(samples, rate=sample_rate)"
   ]
  },
  {
   "cell_type": "code",
   "execution_count": 11,
   "id": "c7aec124",
   "metadata": {
    "execution": {
     "iopub.execute_input": "2022-06-16T18:54:41.271117Z",
     "iopub.status.busy": "2022-06-16T18:54:41.270361Z",
     "iopub.status.idle": "2022-06-16T18:54:41.288473Z",
     "shell.execute_reply": "2022-06-16T18:54:41.288890Z"
    },
    "papermill": {
     "duration": 0.136128,
     "end_time": "2022-06-16T18:54:41.289034",
     "exception": false,
     "start_time": "2022-06-16T18:54:41.152906",
     "status": "completed"
    },
    "tags": []
   },
   "outputs": [
    {
     "data": {
      "text/html": [
       "\n",
       "                <audio  controls=\"controls\" >\n",
       "                    <source src=\"data:audio/wav;base64,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\" type=\"audio/wav\" />\n",
       "                    Your browser does not support the audio element.\n",
       "                </audio>\n",
       "              "
      ],
      "text/plain": [
       "<IPython.lib.display.Audio object>"
      ]
     },
     "execution_count": 11,
     "metadata": {},
     "output_type": "execute_result"
    }
   ],
   "source": [
    "sample_rate=6000\n",
    "samples, sample_rate = librosa.load(train_audio_path+'yes/0a7c2a8d_nohash_0.wav', sr = sample_rate)\n",
    "ipd.Audio(samples, rate=sample_rate)"
   ]
  },
  {
   "cell_type": "code",
   "execution_count": 12,
   "id": "d8063ef1",
   "metadata": {
    "execution": {
     "iopub.execute_input": "2022-06-16T18:54:41.430210Z",
     "iopub.status.busy": "2022-06-16T18:54:41.429462Z",
     "iopub.status.idle": "2022-06-16T18:54:41.448488Z",
     "shell.execute_reply": "2022-06-16T18:54:41.449124Z"
    },
    "papermill": {
     "duration": 0.09308,
     "end_time": "2022-06-16T18:54:41.449294",
     "exception": false,
     "start_time": "2022-06-16T18:54:41.356214",
     "status": "completed"
    },
    "tags": []
   },
   "outputs": [
    {
     "data": {
      "text/html": [
       "\n",
       "                <audio  controls=\"controls\" >\n",
       "                    <source src=\"data:audio/wav;base64,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\" type=\"audio/wav\" />\n",
       "                    Your browser does not support the audio element.\n",
       "                </audio>\n",
       "              "
      ],
      "text/plain": [
       "<IPython.lib.display.Audio object>"
      ]
     },
     "execution_count": 12,
     "metadata": {},
     "output_type": "execute_result"
    }
   ],
   "source": [
    "sample_rate=3000\n",
    "samples, sample_rate = librosa.load(train_audio_path+'yes/0a7c2a8d_nohash_0.wav', sr = sample_rate)\n",
    "ipd.Audio(samples, rate=sample_rate)"
   ]
  },
  {
   "cell_type": "markdown",
   "id": "1440f510",
   "metadata": {
    "papermill": {
     "duration": 0.067328,
     "end_time": "2022-06-16T18:54:41.585120",
     "exception": false,
     "start_time": "2022-06-16T18:54:41.517792",
     "status": "completed"
    },
    "tags": []
   },
   "source": [
    "**Resampling**\n",
    "\n",
    "From the above, we can understand that the sampling rate of the signal is 16000 hz. Let us resample it to 8000 hz since most of the speech related frequencies are present in 8000z "
   ]
  },
  {
   "cell_type": "code",
   "execution_count": 13,
   "id": "781fe1b2",
   "metadata": {
    "execution": {
     "iopub.execute_input": "2022-06-16T18:54:41.734103Z",
     "iopub.status.busy": "2022-06-16T18:54:41.733204Z",
     "iopub.status.idle": "2022-06-16T18:54:41.747228Z",
     "shell.execute_reply": "2022-06-16T18:54:41.746819Z"
    },
    "papermill": {
     "duration": 0.090061,
     "end_time": "2022-06-16T18:54:41.747347",
     "exception": false,
     "start_time": "2022-06-16T18:54:41.657286",
     "status": "completed"
    },
    "tags": []
   },
   "outputs": [
    {
     "data": {
      "text/html": [
       "\n",
       "                <audio  controls=\"controls\" >\n",
       "                    <source src=\"data:audio/wav;base64,UklGRqQ+AABXQVZFZm10IBAAAAABAAEAQB8AAIA+AAACABAAZGF0YYA+AAD7//r///8HAA8AFQAXABYAEwANAAAA7P/T/77/tf+5/8X/0//h/+7//f8MABoAIgAgABQAAQDt/9z/1f/X/+H/6v/r/+P/1//Q/9H/2f/h/+f/7P/5/xEAMgBQAF8AWQBFACwAGwAYACEAMgBAAEYAPwAsABMA///0//L/8//y/+3/6v/u//j/AgAFAP//8f/m/+H/4P/e/9n/1//b/+f/8P/t/93/yf+//8n/4v8AABcAJwA1AEMASgBDACoACADw/+j/7v/2//T/6P/b/9b/2//k/+r/6//t//T//v8IABEAHQAvAEYAWABaAEcAKwAUAA0AFAAeACEAGwARAAgAAQD6//D/6f/r//f/BAAJAAQA+v/1//n////7/+n/0P+9/7r/xf/S/9f/1f/T/9f/4//w//j//P///wUAEAAZABoAFQANAAgACQAQABcAHgAjACQAIQAbABMADgAQABgAKAA5AEcASwBDADEAGgAIAAEAAgADAPz/6v/V/8f/x//S/9//5v/i/9f/yf+7/7H/rP+w/7z/zv/d/+X/5v/o//D/AAASACQALwA0ADUAMQAnABkADQAKABMAIgArACcAGQAJAAIABwASABoAGwAWABAACQACAPr/8P/n/+P/5f/s//L/+P/9/wIADAAbACwAOgA/ADUAIAAGAPL/6v/u//b/+v/3//D/6v/o/+n/7f/v//L/9f/4//b/7f/c/8n/vf+//9D/6f8AAA8AFAATABAADgAMAAgAAAD0/+X/2P/S/9n/7/8OAC8AQwBEADUAJAAeACYAMQAwAB8ABQD1//j/CwAeACEAEQD5/+f/4P/g/9//2//b/+T/9f8CAAYAAQD9/wIAEgAjACsAIwAQAPr/4v/K/7b/sP+//+P/DwAwADgAKAAPAAAAAQAPAB8AKAApACYAIwAgABwAFgARAAsABAD8/+7/4v/e/+T/8v/8//v/6v/S/7//u//I/93/7//3//X/7//s/+3/8f/z//L/8f/0//r/AgAMABQAGgAeAB0AGAARAAwADAARABYAGAAWABYAFwAZABUACgD+//f//f8MAB8AJwAjABYACQADAAQACAAMAAwABgD///b/8f/x//b//f////3/+P/z//D/7P/j/9f/zv/L/8//1P/W/9f/2//p//3/CgALAAAA8//x//z/CgAQAAMA6f/R/8v/4P8MAEQAdgCSAJAAcQBBABQA+v/0//3/BwALAAUA///8/wMAEQAfACYAIAAMAPL/1//H/8T/y//U/9n/1//S/9D/1P/h//T/CwAjADcAQAA4ACMACAD0/+v/7v/4////AQD///f/7f/g/9P/yv/H/8r/0P/X/+H/8P8CABYAJgAtACoAIwAaABMADgANABIAGwAlACoAKAAhABoAFQAQAAUA8//e/9H/0//g//D/+v/9//z//f/+/////P/6//7/BwASABcAEwALAAYABwALAA0ACwAIAAsAEwAaABoAEQAFAP3/+P/z/+n/2v/N/8z/2f/u////BAD+/+//4f/d/+T/8v///wMAAAD5//f/AAASACAAIAAPAPf/4v/b/+H/7v/5/wAAAwADAAMAAwAHABAAHAAmACUAGAAHAP3//f8FAAsACQAAAPf/9////wgADgAQABMAGQAgACMAHgAWABIAFQAbABoADwD+/+7/5//n/+b/4f/a/9j/4f/x//7/AAD6//D/6f/o/+v/7v/w//L/9//+/wIAAwACAAEABQANABkAJgA2AEQASwBFADEAFQD9//L/9/8DAA0ACwD///D/4//c/9n/2v/i//H/BAAXACEAIQAZABAABwAAAPT/5v/e/+D/7f/6//v/6//P/7T/pv+n/7P/wP/M/9f/4f/s//T/+/8DABIAJAA0ADkANAArACcALAA3AD8APwA2ACgAGgANAAMA/f/8/wAAAwAAAPP/5f/i//P/DwAoAC0AHQADAPP/8/8AABAAFgARAAYA+f/s/+H/3P/f/+v//P8IAAoAAgD5//P/8//0/+7/4//X/9H/1P/c/+X/7P/y//r/BAANABAACQD9//H/6v/q/+7/9P/7/wcAGwAzAEkAVQBTAEMAKwATAAAA8//t/+7/9P/5//n/8//o/+L/5//2/wcAEgASAAoABwARACcAPgBJAEMALwAZAAwACAAKAAkAAQD3/+7/6f/n/+X/3//Z/9f/3f/o//L/8//s/+P/4f/q//n/BAADAPb/4//X/9j/5f/3/wcAEQATAA4AAgDz/+X/3v/g/+j/8v/3//n/+P/6////BQALAA8AEQAUABoAIgAsADcAQABGAEUAPQAvACAAEwAJAAIA/v/6//X/8P/s/+z/8v///wwAFgATAAYA9v/s/+3/9/8AAAAA9f/i/87/v/+3/7j/wf/N/9r/4//l/+X/5f/p/+3/7f/m/9v/1v/f//j/GgA8AFYAZwBwAG8AZABNAC4AEAD///7/CwAhADcASQBRAE4APgAkAAcA7v/c/9D/x/+//7r/vv/P/+r/BQAYABwAEwACAPD/4f/Z/9r/5P/z/wAABQD///L/5v/h/+b/7//2//r/+v/4//X/9P/1//r/BAARABsAHAAUAAkABAALABoAKgAvACkAHAASABAAEwASAAcA8//b/8v/yP/T/+X/9P/7//n/8f/r/+r/8P/6/wIACQALAAoABwAGAAYACgAQABYAHAAgACMAJAAiABkABgDw/9r/zv/Q/93/7P/2//v///8EAAwADgAEAPD/2v/P/9L/4v/2/wYAEwAdACUAJwAfABIABgAHABcAMgBLAFYAUAA+ACkAFgAIAP3/9f/t/+T/2f/M/7//uv/C/9j/9f8MABUADAD2/93/zP/J/9T/6P/6/wMAAgD5/+3/5f/l/+///P8GAAkAAgD3/+z/6v/x/wAADgAVABMADAAGAAUABwAJAAgABQAFAA0AHgAyAEAAQgA4ACoAHgAZABwAIwApAC4AMgA2ADgAMwAjAAoA7//U/77/rv+j/6D/q//D/+H/9v/4/+b/zv/A/8X/2v/y/wMACwAPABIAFQAUAA8ACQAIAAsADgAJAPr/6P/e/+X/9f8AAPr/4v/H/7n/wf/b//v/FQAnADQAPgBGAEsATQBOAE4ATABDADMAHwAPAAoAEQAbAB4AFAABAOz/3v/Y/9n/3v/j/+P/3v/U/8v/y//a//X/DwAcABQA///p/+D/4v/n/+b/3f/T/9H/2f/m//H/+f///wUADAAMAAUA+//1//v/CwAfACsALgAnAB0AEgAJAAQABAAIAA4AEAAKAAEA/v8CABEAIQAsAC4ALAAsADIAPABGAEoARwA8ACoAFQACAPf/9P/1//T/6P/T/7z/q/+l/6f/q/+t/7D/t//D/9D/2v/h/+j/8f/9/wIA///u/9j/x//B/8r/3v/4/w8AIgAsAC0AJwAgAB4AIgAtADsASABRAFUAVABOAEcAQAA5ADEAJgAaABIAFAAgAC4AMwApABQA/v/w/+z/7v/t/+j/4//i/+X/5f/e/8//wf+6/73/x//T/97/6//3/wAAAAD1/+X/2P/W/+L/9f8IABgAIQAjAB4AFQAOAAsADQARABIAEgAUABwAKAAwACwAHwARAAwAEwAfACYAIQAWAAsABAD///X/5P/R/8H/uv+7/8D/yP/R/9r/4v/p//D/+P8AAAgACwAHAAEAAAAGAA8AEwAQAAYA/v/6//r/+f/2//b//f8IABMAFQAMAAAA+f/6/wAAAgAAAP3//v8GABUAJQAyAD0ARQBIAEAALgAVAAAA9v/5/wEABQD+/+j/yv+w/6T/qv/A/9z/8v/8//r/9f/0//n/AAAHAA0AEgAbACQAKAAkABsAEwARABQAFAAKAPj/4v/T/9H/1v/c/9//4v/q//j/AwAHAAAA8v/p/+r/9P/+/wIAAQABAAkAGgAwAEIATgBUAFUAUgBHADQAHAAKAAMACAAQABEABwD1/9//zv/D/7//wP/D/8b/x//D/77/vf/D/9D/4f/x//7/CQAWACMAKgAoAB4AEQAHAAMAAwAEAAYACwASABwAJQAqACwAKgAkABoADgAEAAQADAAYAB8AHgAYABQAFgAcAB0AEgD//+z/4//n//H/+f/5//H/5f/b/9T/z//K/8L/uP+v/6v/sP+//9H/3//k/+P/5P/s//3/EQAkADAAOAA7ADgALwAeAA0AAgAAAAgAFAAfACcALQAvACoAHgAMAPz/8//y//P/8//w//L//f8RACkAPABDAD0ALgAbAAoAAAD8/wAABgAKAAYA+//v/+j/6P/s//D/8P/s/+X/3v/Z/9n/4f/u//3/CAAOABIAFgAdACUAKAAiABIA/P/j/83/vv+6/8f/5P8IACYAMwAsABoACQABAAAA///6//H/6f/o/+z/9P/9/wQACwASABUAFQASAAwABAD6//D/6//w//3/CAALAAIA8//p/+v/9/8CAAUAAAD2//D/8P/z//b/+f/+/wQACwAPABAAEAAQAAoA+//l/9L/z//g//3/FgAgAB0AFAAOAAoAAgD2/+n/5f/r//b//f///wEADAAeACwALAAdAAwACQAXAC4APQA8ACwAGgAPAA0ADwAQAA4ABwD8/+3/3f/U/9b/4f/r/+r/3f/K/77/v//M/9z/6f/z//7/CgAYAB8AHwAYABAACQAEAP//+v/4//z/AgAGAAMA+v/t/+b/6P/y/wAACwAUABgAFgANAP//7v/j/+L/6//6/wYACwAJAAQAAAAAAAQACwASABgAHQAdABoAFgASABEAEQAMAAIA+P/0//r/CQAXAB4AGgARAAoACQAJAAYAAAD6//L/6P/b/8//zP/X/+3/AAD//+j/xv+t/6n/uP/N/93/6P/z/wMAFAAcABkAFAAZACoAQQBPAE8ARAA5ADMALwAoABwAEAAMAA4AEQAQAAwACwAOABAABgDt/83/uf+8/9T/8f8CAAEA8//j/9j/1f/Z/+L/7v/5/wAAAAD8//f/9v/6////AAD+//n/8v/s/+r/8P/+/xAAIAAjABgABwD7//n///8FAAcABgALABcAJwAwACwAHgANAAAA+P/x/+3/7v/3/wMADgAQAAkAAwACAAcADAAIAPz/7v/m/+f/7v/z//b/+P/8/wMADQAWAB4AIwAiABgAAgDn/8//xP/J/9n/7v8EABsAMAA7ADYAHgD//+X/3v/n//f/AAD9//T/7v/z/wAADQAUABMACQD9//P/7v/x//v/BQALAAgA/f/y/+7/9v8DAA8AFAAQAAcA///2/+7/6P/o//D///8NABQADwACAPb/8P/z//z/BAAKABAAGQAkACwAKgAcAAcA9//w//L/9P/v/+P/1//U/9//8P/9////9P/l/9j/0f/Q/9b/4P/x/wMAEQAWABAABwAEAA4AIgA4AEUARQA9ADIAKQAlACEAHAASAAUA+f/v/+z/8f/9/wcADAAGAPT/2v/B/6//q/+1/8n/4//6/woAEwAXABoAHwAjACYAJQAhABsAEwAMAAcABwAQAB8ALAAuAB8ABgDu/+L/5//3/wYADAAEAPP/3//S/9D/2f/n//L/9//0//D/7v/v/+3/5P/W/8f/wP/E/83/1v/e/+r//v8YAC8AOQA2ADAAMwBCAFUAXABSAD0AKwAnAC4ANgA0ACMACADt/9n/0v/X/+X/9P/+/wEAAQADAAkADwAOAAEA7P/V/8f/xf/M/9T/2v/d/+D/4v/m/+z/+P8HABkAJgAoACEAFgAOAA0AEAAWABkAGwAaABIAAgDu/9r/yv+9/6j/g/9P/xf/7v7e/uj+Av8i/0X/bv+l/+7/SwC+AEcB5wGXAk8D/wObBBkFcQWZBYQFIgVmBEkD0wERAB7+EvwM+ib4efYb9R30i/Ns88TzlPTf9aT34fmP/Kr/JgP3BgMLHQ8HE3AWAxlxGnwa/BjnFVARZwt9BPX8P/XQ7RTnbuEq3X7agNks2mfcD+AB5R3rQfJH+vwCHgxUFS0eJSarLDUxWDPWMqkv+SkWImoYeA3XAS72Jetg4WnZr9N80OzP69Ez1lPcvuPg6yn0HfxWA4sJlA5kEgkVnxZIFy8XgBZjFfYTPBIlEJkNkAoeB3UD2P+E/Kv5a/fV9ev0oPTb9Hr1V/ZM9zL45PhC+Tj5vvjd96X2NvXP89Lyx/I+9KL3FP1WBNoM0RVSHnIlYyqQLLUr6CeKITIZhw8yBdH68/Aj6N3ghNta2HTXrdir2+3f3eTr6aDuovK89eb3T/lk+s37QP5YAlsIGhDpGLwhWimeLrEwNy9YKq0iEBl2DsADr/nV8KDpWeQu4S7gRuE15IToh+118o32O/k1+n35Yfdw9G3xPu/M7tbwwvWA/YMH2BJKHowoYjDUNEw1vDGVKrAgIBX+CEb9wPL/6V7jBN/n3M/cYN4d4XLkwud66i3ssOws7CHrVeq76kDtl/L++h0GBxNeIJssWDZ9PGI+1DsTNdIqGh4rEEICbvV96vzhRNx32XXZzdvE33Pk8Oh/7KfuQO937s/sGOtV6pfrwO9J9w8CTg+nHV8rsTYkPstAXz46NzgsjB6cD80AVfMZ6J7fH9qc1+/Xvdpo3wvlm+og7+7xwvLA8WLvaOzN6bboQ+pJ7xP4MQSKEoEhSi84Ov5A1UKLP3s3gSvbHAINgf2z76fk9tzS2A3YMtqL3ifk8unc7hXyNPND8qnvDexD6EvlS+Rp5ojs9vYyBewVNSfeNtxCn0lJSsJEszlZKlcYfwWa8zPkedga0T3Ois881DvbO+Pi6gDxw/Tc9YP0XfFW7YLpEOc95zHrs/PVALgRhyTFNsxFWU/5UUFNzUEJMeQcfQfV8qHgPdKnyH7E8sWbzGDXcOSH8V38NgNUBQoDgv1A9sDuQejQ43DiJOWy7E75PgrFHVkxIEKGTcBRGE7+QtsxxBweBlPwiN1+z2DHrsUiyqzTf+BM7pP6JQOgBsQEc/5a9WbrSuJN22/Xqtf/3CroKfnQDsAmyz2hUHtck19cWYdK5TQcG0MAZucR0xDFVL7/vnfGXdOX42r00QIjDLUOZwqqAA/0ZOfg3LbVO9KB0u3WXeCt7+sErR7lOXtSSWQebHFonlmqQdQj+AMA5lvNobxNtaG3ncId1A7pzf24DswYRBoME9QEvfKK4KjRVMhDxfLHac/72pTqX/4DFvsvYUlrXlVrXm15Y5lOezEjEB3vsNI8vtizL7SSvhXRrOhiAdMW5CSrKDch6w9O+C/fh8kzuxC2xbk8xL/SE+M49FQG+BkbL2FEEle3YzFns19xTasyQRPk8yDZlMZWvr/Af8z73sL0FQp0GwQm7CeQIKwQYPoI4djIKLZ8rI6tuLgTy2DgefS6BNAQdBpDJCMw/T10S6pU2lXrTGA6SCFEBiruyNwr1HTUJty46DT3uQTpDhsUfBMHDX0BP/Iu4YzQysJKuu24hb9GzaPf0fL1AqANxxLMFFMXhR11KIk2FUTQTH1NCEW+NMAf8Ans9kTpKOJm4aDlsewo9Nr5ZvyE+/L3//Ll7UPp/OSQ4Lbb6taI01rTuteq4HHsA/g9AHoDoQInAbUDCQ4GIds5xVICZSdr4GJ5TTkv9w1970TYusogx+TLTtZG4wrwk/qpAb8ErwOo/iz2Q+t/3+vUuM2/y/LP29lj5yz1iv/qAyQC+fxY+Zr8OgohIixAO11ocYV2GmoYTiso8f/K3BbEWLhGuYTEitZe6x3/Vg50FgkWIA1q/Q/qNtcFyXnCccR9zZbaZuhw9HP9GQN5BQ0FPAPaAsMHQBXgKw1IfmKactJxSV6aO3wRDukOygu56raKweTUL+yxAk8U3x2LHSATVQDN6IbRyb+ft3e6n8bu137pg/dlAIsEMwVyAxEAY/wi+0cAUw/TKKBISmbSd651Cl7CNaIG19tEvkSyV7diyYDik/xDEoIf6yEVGb4Go+7p1SnCLLiGupLINt4K9ZUGzQ5vDYYFY/t08nPsNuow7ff37QzGK5NPJG//f5x6113CL6X7FM71sOSorrSazpjudgyJIaspwiPMEW341d0+yF+8YryQx6naqfDvA7cPlRFaCrz9oPD55oniUeM56Wj12gkqJwZKd2oKfhB8ymFCNM3+DM9dsImoxrbf1ID5yhp0MFg1hCiRDePrq8wOuJOy97v0z1voN/8PEDsY3hYSDQn+Xu6F4v3cpN3d4rvrYPklDtUq4UvmaF13UG+JT/cejOqYwNKrBrB3yc7uZRStL5U51y82FePw2sxOs3urJLf80WvzxRFzJaAqdSF1DZT0/t0f0EbOHteD5bjzHf/JCY4Yhy5bSeFgt2qXX2k/3RGY44bBb7RMvhHatv2uHY0wnzG1IU4GoedQzh/BCsNG0uHoAv/9DaESlw0TAgX0DOdA3ujbkuAP6tTzbPnZ+T75A//9EKYuvk+EZ81qfFWPLBX8fdJvuyi8QNIL9dEYrTKVO8YxeBiP9tHU77tDsry59s5o6m0DoBOyGAUU3QjM+h3tzeIH3hjf6uNA6WDtL/Ke/CYRdC96UKtoTm3aWXoylAJx2BnAab951Kn2xRkuMmE41Cq+DVzplMeCsRCtDbuO1nP23BAAH04f3RTlBEH0V+Zd3Zra+N1r5YPtgvPL92H+iwyxJDxD5F6BbF1kI0aCGW7rZMmlvC/HYeNdBv8j0jKZLu4YPfjV1X27rbAkuL7OkuwrCDgaxx8KGoIMN/sU6ujc2tb/2Djh+eoz8p32lvxrCngjWUT9YtNyxmrZSTcYb+QjvnGw/r0/4BkK0SwkPZ82NRyM9vvQTrbGreq4A9PJ8gIOaB3mHi4VXAWM9Ibmo93c2nzdHOOt6LDsC/Gu+oEOPi3zUEduJHlgaoNDzA6i2/24MLDcwR/mpg9eMPI9oTTmF/fwy8tWs/+tiruI1Ufy8ginFB8VIg1kAFbyBeYf3irceN825Wrquu629esEkh+lQnBkS3iEdDdXiycU89jIMLRNuU3U4vrmH5A35jp+KR0JsOMpxC+zdLSrxbjfr/lDDPwTUhFHB7j5ZeyI4j/eut/q5KvqQO9b9L7+6RLaMNRRVmpfbx1crzSsBGTaecEqv13RLfDvEHspzzKaKoQTSvTR1ZDA9LmVwjbWne2CASUNSA+dCVr//vOY6jPlMeQU5l3oqOmp6zfzdgWII6xHR2bncnhmIUOLE0Xm6sfyvpjKZeQWA28dZixwLAwebQVa6U/RX8Nywn/NEeD683ID7griCXICRPj17tHoJual5bnlS+bU6Zv0CgpjKftLwWbIbrde8jmlCyLiAckRxaXT7+ykBxAcoiUZI/sV1AFr693XgcvQyKPPJN2s7FH5tf9E/0L6dvQF8b7w3fGx8Srvm+xK75H8FRZeN4lWHWg6ZGtKNSIW+IjYWctd0RXlpv17EgMenR7WFd8GO/U15OTW+8/80CPZ/OSF75/0a/Pc7sbrkO288yz6LvxA+O7xV/AL+toQAjDKTZNfUF5TSYsmPgBf4cHRnNNB4xz5+wwNGTwboxQHCI34VemA3dHXfdkA4SXq5e9N74TpYON04mjp9vULAoMHIwR7+0H1KflwCqUl10GIVEhWxEUCKAwGX+nF2KjWH+Eq84MGWhWuGyUYNQyq+3rrLOA93B/feuW26lLr3OZM4HXcMN/w6EH2qQHmBpEFmwE1AU8JmxrDMC1EZk1vSEw2SByHAU3sROA43s3kS/EhADINgBRiE8oJo/rG6ujejtlA2k7eluIw5SLm5uZC6Rru1fSk+4AAgwLBAiEE+wkXFjAn5ThjReBHtD7yK2QUpP0+7MDinOGW50bye/6uCLINmgt+Aqz09eVW2o3UPtUF21HjgevG8Xn19vYs9yr30ffF+Yz9rgOkDGcY5CXJMvI7fD78OB8scxp+B7b2xupF5YLmX+1T998AjwYaBjr/uPPM5hLcdNZU1xXeSeiP8vH5GP20/Mf6Yfmg+Z37Fv8gBDoLlhRsH9EpYjE3NIYxsyn9HS4QdAIa9/3v3u3w7x/04/c/+Vz3i/Lt6w3ll98M3VDeQOOH6hnyEPiN+/v8mP2g/qUAgQPBBjAK9A1PEjIXGxxIIA0jCiQII8sfFxoJEngI/P5s9wPzwfFl8hPzMfIe71vqS+Wo4dzgb+O46A3vfPS99934Hfkc+tn8LgEcBo0K4w0NECERKRFBEPkOZw6iD+oSIxcmGt0ZZxWeDaIEyfyL9w/1WvT8887ybfBT7YzqJ+m06QbsYu/t8hb2vPgF+xv9EP/rAMoC3QQ+B8MJ/wt3De0Nig3KDDgMKwyiDEwNtA1tDTYMBgoCB2QDbP9U+2P38PNa8ebvm+8z8DPxJPLL8jbzsfOO9Pf13fcP+mb85v6xAdwEMAgZC9sM9gyHC1MJdQfYBrwHoAmBC1MMbwvSCBgFNgEk/nj8M/zK/Gn9aP2R/DT75fke+f34SPme+cH5svmn+db5U/oV+xD8Tf3g/rgAfQKhA7kD0wKVAeoAfgFQA7IFsQeWCDAIuwafBD4C7/8P/vj81fx1/Vr+7v7W/hH+6vzS+zX7bPuk/L7+PwFmA34EPQTyAl0BRQAVAKwAgQH3AagBlQAf/9f9Q/2Z/a7+DAA1Ac0BugELAe//ov55/c381/yB/W3+Kv98/4j/qP8nAA0BJgIwAwMEgwSUBBQEAwOiAWkAwv+8/wsAQgAZAJP/2P4C/hL9E/xK+xz7x/sS/VH+yP4s/uH8uvt6+1v8/f2v/+YAfwG8AQACjQJnA1oEJgWfBbUFbgXWBPsD8ALNAbQAyv8p/+L+8v49/4j/jf8d/0T+V/3F/NX8a/0T/k7+5v0V/Vr8J/ye/I79pf6p/4MAPwHnAYYCIwPNA4YEPgXRBRkG/QV1BYQEOgO5AT0ABv8y/qX9GP1V/Gj7pfpo+tD6qPuP/Dn9nv3b/QP+A/69/Tj9uPyj/EL9k/5LAAcCcwNjBNEEzQR4BP0DfgMSA7gCbQI2AiECLQI3Av8BUwE3AO/+1P0g/cn8lvxa/Bj8/vs//OT8yv22/nv/AwBPAGMATgAvAD0AsACgAegCMQQWBVQF5QQABPAC+QE+Ac0ApADAAA0BWQFbAc0Amv/3/VX8J/un+sD6J/ub+wf8f/wW/bz9P/54/mz+VP58/g3/+/8OAQUCtAINAyADBAPQApUCVwISAsABYwEIAcEAmwCcAMMACQFSAWwBGQErAL3+MP0X/N/7lPzZ/SL/BABiAGAANAABANP/rP+b/6z/4P8rAIUA7gBrAe0BSwJVAgACcQHpAJEAXwAmAMz/Yv8h/yz/Z/+F/0D/kf67/SD9AP1g/RH+2P6E//L/DgDT/1j/2v6m/vP+x//rAA4C4AI5Ax8DvgJPAgIC6wH2AfwB1AFzAfEAcQAPAM//n/9z/0r/J/8D/8z+dv4M/rb9ov3d/Un+rf7e/tr+x/7T/gv/Xf+l/8z/1//a/+H/8v8NAD0AlAAUAaEBAgICApgB9gBwAEwAmwAuAbcB7gG5ASgBbAC6/zX/6/7S/tf+5/4D/zb/if/x/0gAZAAwAML/T/8T/yr/iP8IAIUA6QAqAUcBPwEcAe8AxQCaAFcA5/9T/9D+qf4K/97/xgBWAUUBmACY/6X+Av7C/c79Af5C/oj+0v4a/1T/d/+G/5b/xP8dAJgAEAFeAXUBawFmAYUBvwHnAccBRAF3AKr/LP8z/77/jwBPAaoBeAHMAOX/F/+k/qb+CP+R/wAAIwDq/2n/1f5q/lD+jv4N/6j/OQCqAOgA5gCiADEAvP9w/2b/kf/M//b/DAAnAFsAoADQAMIAawDs/3j/N/83/2z/x/82AKUA8gD+AMAAUgDq/7T/uP/e//3/BAD//wMAIQBTAIMAnQCYAHgAQwAJANv/zv/p/yAAWABwAF8AMwAJAPb//P8PACUAMQAnAPj/m/8d/6v+gP7D/mb/KQC9AOoAsgBJAO//yv/W//H/9//b/6r/hv+H/7b/AgBPAH0AdwA6ANf/bv8k/xf/Sf+g/+3/DAD8/9z/2f8HAFQAkACVAGEAFQDf/9D/4v8DADEAcgDIABsBPwEUAaQAHwDA/6L/tv/T/93/0f++/7P/r/+s/6j/rv/A/9X/1v+0/3j/Qv81/1v/o//w/ygASwBhAG4AbQBWACwAAgDy/wcAPQB2AJQAiQBdACYA+P/a/8f/vP+5/8n/8P8mAFgAcwB0AGcAXABSADoACQDI/5j/ov/u/1sAqwCuAFwA4P9z/0T/Wv+c/+H/CAAJAO3/z//L/+//LgBoAHMAPwDg/4P/WP9x/7z/EgBMAFsAQgAVAOr/zv/N/+n/FQA7AD0AEADF/4T/d/+u/wsAWABlACkAyv99/2b/hP+7/+7/FwBCAHQAnwCoAIQARwAYABUANgBaAF8AQQAYAAMACQAYABwADgD+//f/9//y/93/wv+0/7z/z//Y/83/vf+//9r/AQAdACIAFgAIAP3/6P/I/7D/v/8BAF0AmACDAB8Anv9A/yj/TP+C/6r/uv++/8D/xf/O/+D/AAAwAGYAkwCvALsAuQCoAIYAXQA9ADgATABkAGUASAAfAAcACgAZABsAAgDd/73/rP+i/5n/mv+3//P/MQBHABkAv/9x/2L/lf/e/wkABADl/8//1v/x/woAGgAoADsATQBRADwAGAD2/93/yP+u/5T/jv+v//H/NwBeAFkANQAPAPf/6P/Z/8X/tf+1/8j/5f/+/w4AFQAXABQADwARACkAWwCcAM8A3AC4AHQAKgDx/9D/xP/I/9X/6f8AABYAKQA2ADkAKwAJAOD/wf/D/+z/KgBiAHsAbwBHAA8A0v+U/2D/Sv9d/5X/1P/1/+L/pv9k/0L/Tv99/7H/0//b/9f/2P/t/xYASgBzAIAAbQBDABoABgARADMAVwBlAFEAIQDs/8v/z//1/yYARgBAABMA2f+w/7P/6f89AJMAygDNAJ8AVQANAOb/6v8QAEIAaAB0AGcASAAeAO7/uf+I/2L/TP9A/z7/TP95/8v/KQBoAF8ADQCg/1n/Y/+u/wAAIAAHANz/z//0/zAAVwBQACoABAD4////BwAHAAYAEAAlADQAKgAKAOr/4v/y/wAA8v/D/47/e/+d/+P/KQBaAHEAfwCLAI0AdQBFABYACQApAGQAkgCWAHMAQwAgAAoA8P/D/4z/Z/9m/4j/sP/F/8D/s/+0/8n/6/8NAC4ATwBtAHUAUgABAJ//V/9L/3j/wP/6/xIADgD//+//4f/V/83/zP/R/9L/x/+3/7f/1v8UAFkAhwCOAHUAVgBGAEwAYwCCAJsAowCNAFkAGADs/+z/GgBXAHMAVQAKAL7/mP+j/8j/5v/r/+D/2f/g/+f/3P+4/4n/bP93/6P/2f/7////8P/k/+z/BQAjADMALAAUAPr/6v/s//7/GAAwAD0AOwAuABwADAAAAPj/8P/s/+7/+f8EAAUA+P/f/87/0f/q/wgAGgAVAAAA6v/e/93/3//b/9L/yP/A/73/vv/K/+n/FwBIAGMAWQAwAAQA9P8IADQAWQBiAE8ANwAwAEAAWgBnAFsAOgARAPD/2P/H/7r/tP+8/9H/6f/z/+T/wv+g/5T/pf/H/+n/AAAQACUAQwBcAF4AQAAPAOj/3//2/xcALgA0ADMAOwBMAFkATgAkAOr/s/+N/3v/ev+N/7T/6f8XACgADgDc/7D/qv/P/w0ASgB2AI0AjwB6AEsADQDf/93/DgBYAIsAhABGAPj/xP+9/9H/3f/N/6f/hf9//5r/xv/p//T/6P/U/8f/yP/V/+j//f8WADgAXABzAGsARAAMAN//z//e//n/CwAOAAUAAAAAAAYADgAWACEALgA1ADIAJwAiACwAQgBSAEoALAAHAPL/7v/w/+f/0f+//8X/4/8CAAYA4v+k/2n/Tf9S/2//l//D//D/GgA7AEoASAA9ADUAMwAzAC4AIAASAA8AHAAzAEIAOQAXAO//2v/s/yEAYQCMAJEAdQBMACQA/f/Q/6L/hv+N/7f/6v8FAAAA6//m/wEAKQA5ABoA1v+S/3H/gP+v/+j/GQA7AEUAMQAHAOP/5f8XAGMAlwCVAGgAOQAqADYAMwAAAKD/SP8v/2P/wv8SADMAKwATAAIA9f/c/7P/if92/4b/sf/j/woAIgAwADYANgAtABsABQDw/97/1P/W/+T/+f8LABUAFAANAAcACAARACMAOQBNAFQARQAhAPr/5//5/ygAXwCBAIIAaQBFAB4A8//G/6f/qv/Z/x4AVwBiAD4ACADi/9n/4v/m/9n/yP/E/9X/7/8DAAoADAASAB0AIAATAPr/5v/l//X/AwD//+b/y//C/9H/7P8FABcAJQA1AD8AOQAaAO3/xv+3/8H/1v/m/+//+v8MACEAKQAYAPn/3//d//P/DAAUAAUA7P/a/9v/7f8AAAsADgAQABkALQBLAGwAggCAAF8AIQDa/6D/h/+U/73/9f8sAFgAagBUABQAv/94/2P/iv/T/w8AHgD8/8X/m/+M/4//kv+P/4r/kP+o/8r/7/8UAD0AZwCIAJQAhgBlAEEAJAALAO//0v/F/9v/FABeAJcAqACTAGwASAAuABoACAD8//z/CAAZACAAGQAMAAUABgAFAPn/4P/J/8H/yv/W/9b/w/+t/6X/s//R/+//AQANABkAJwAwACoAFwACAPz/CwAqAEQASAAvAAMA2P/C/8n/6v8TADIAPQAxABkA///s/+b/7v8EACQAPgBCACcA9P+5/4j/Z/9T/03/X/+Z//j/XQCXAIEAIwCx/2j/bP+q//D/CwDx/7n/jf+J/6z/4v8OACQAJQAhACsAUACLAMgA7wDxANYArwCSAIIAegBvAGAAVQBYAGEAXQA3AOv/iv84/xX/Kf9l/6z/5f8KACYAQgBYAFoANQDt/5z/Zf9c/3z/pv/E/9H/2f/p//v/+//c/6r/gv+C/63/8P8rAFAAXABZAE0APAAtACgANQBLAFcASAAgAPn/6P/3/xQAJwAkABEA/v/y/+b/0f+t/4T/ZP9X/17/ef+m/9z/DQAlABcA7//H/7z/1P/+/x0AKAApADkAZACfANAA4gDSAK8AjgB7AHcAdwBxAFcAJADe/5b/a/90/7L/CwBXAHQAWwAiAOr/yP++/73/sv+W/3P/Vv9M/1j/dv+Z/7f/yP/I/8D/u//C/9n/9/8OABkAGwAhADMAUABqAHUAawBVAEAANAAwACwAJQAdABkAGwAdABYACAD7//v/DgA0AFoAcQBsAEsAGgDq/8z/y//k/wgAKQA6ADgAKQATAPf/0v+m/3v/Xf9R/1L/WP9f/2z/i//C/wQAPwBcAFQAMAABANv/yf/P/+v/FQBFAG8AkgCuAMUA0gDIAJkARwDn/5v/gf+e/9//HgA+ADgAGgD///v/EQA1AEwAQgAVANf/o/+T/6r/2P8BABMADgABAPv///8BAPH/xf+D/0H/FP8L/yb/Wv+Z/9b/CgA1AFcAbwB5AHQAYgBMAEAASQBkAIIAjAB2AEIAAADF/57/j/+X/7H/2f8EACQAKAAOAOX/xv/K//D/IQBBAEEAKQAPAAcAEgAjAC4AMQAwAC8AKQASAOn/uf+X/5P/q//R//T/DAAbACUAKAAfAAsA9P/l/+T/8v8FABcAIAAbAAQA3v+0/5v/pf/R/woANgBFAEMARwBeAHkAewBMAPT/l/9h/2j/pf/7/00AiQCjAJkAbQAuAPj/3//p/wQAFAAEANz/tP+m/7X/0P/g/97/1P/U/+f/AwAWABEA9P/G/5j/d/9s/3v/pf/m/y4AbQCVAJ4AigBhAC4A/v/d/9P/4/8AABoAJQAkACcAOwBiAIsAoACWAHMASQAmAA0A9v/Y/7f/m/+L/4n/kf+d/6//yv/u/w4AIQAeAAkA7//d/9n/4P/r//P/9f/y/+r/2v/C/6j/k/+O/6H/yP/6/ycARgBSAE8ARQA6ADAAJAASAPv/4//X/93/+P8cADkAQQAzABsACwAMABgAIgAdAAoA+P/w//X//v/+//n//v8bAFEAigClAIsAPADS/23/Kf8T/yj/W/+c/93/EQAzAEEAQQA0AB0AAADl/9n/4////xYAGQABAOP/3/8LAF4AsADNAJsAKgCx/2r/df/G/ywAcwB+AFYAHwACABAAPwBvAIYAdQBEAAkA2f+//8H/2/8BACgAPQA0AAwA0P+S/2f/V/9f/3L/g/+N/5H/mP+o/8L/3v/s/97/t/+M/4L/s/8YAIkAzAC9AGQA+P+0/7j/+P9FAHkAgQBnAEEAIQATABwAOABbAG0AVgAWAMr/l/+c/8//CgAnABkA8f/L/7f/sv+z/7v/2P8QAFwAnwDAALoAnwCFAHQAZQBOADEAHgAfACsALAAMAMv/fP86/xr/Hf87/2r/o//X//L/3/+a/zb/3f68/uT+Sf/H/zUAfwChAKgAogCYAIkAdABUAC0ABQDp/+D/8v8ZAE0AfACYAJsAiQBwAF8AYQB1AJAAnwCQAF0ADAC3/33/dv+m//X/OgBVADwAAQDL/7T/wP/Y/97/wP+E/0H/FP8O/zP/eP/G/wQAIQAaAAIA9/8LADoAYQBbACEA0P+Y/5r/z/8MACkAHAAAAPn/FwBMAHwAlACWAIsAdgBSACEA9v/r/w0ARABjAEgAAQDG/8z/IACbAPQA/QC0AD4Avv87/6z+EP6J/VL9ov2E/sj/GQEiAqsCqgI5AoQBtwD0/0v/w/5i/i7+MP5s/t3+a//0/1UAfwB1AE4AKAAUABcAJgA5AFAAcwClAN8ACwERAeUAjgAnAMz/jP9q/13/Xf9s/5P/2P81AJsA7QATAQABuABSAPL/uP+6//D/OQBtAGgAJQDB/2b/Nv86/1v/fP+H/3//c/94/5P/u//l/wQAGwApADEAMQAoABsAEgAVACMANAA6ACsABQDS/6P/iv+O/6r/zP/i/+b/3v/e//b/JQBkAJsAuQC2AJkAbwBIAC8AJgAnACYAFgD1/83/rv+m/7X/yv/R/8D/n/+G/47/v/8IAE0AcABrAEsAKAAWABMAEgAEAOT/uf+U/4D/hf+h/9H/CQBAAGMAaABMABoA5f+8/6j/q//E//H/KQBeAH8AhgB2AF4ASwA+ADEAIQAPAAcADAAWAB0AHAAcACcAOQA/ACUA6/+j/3L/bv+R/8L/6P/5//n/8P/g/8r/t/+z/8f/6v8HABAABAD3//j/CgAfACUAGgALAAUAAwD3/9H/nf97/4v/0v81AIkAqgCSAFwAKAAQABIAHwAjABcABAD6/wAADgAUAAMA3f+3/6n/vP/i/wMAEQAQAAsABgD9/+P/vP+c/5n/uf/t/xkAMgA8AEIASABGADIAEQD5//r/EgAsADMAJwAdACgARABXAEkAGQDi/77/s/+z/6v/nP+a/7n/8/8uAE0ASgA0ACIAHQAeABgACgD/////CQASABEACQAEAAgADAADAOb/uv+Q/3b/av9n/2j/c/+O/7j/5/8HABIAEAAOABoAMgBKAFUAUQA/ACkAFQAGAPz/9//5/wAADgAeAC4APABGAEkARQA8ADMALwAwADEALAAdAAYA8P/h/9z/4f/w/wkALABSAG4AcABTACAA8P/W/9v/9v8RAB0AFAACAPT/6//h/8z/pf9y/0P/J/8j/y7/Pf9I/1P/af+S/8v/BwA2AFMAZAB0AIMAigB7AFYALQAXACMASQBwAIQAggB5AHsAjACcAJYAbwAwAO3/u/+g/5r/nv+n/7X/zP/v/xkAQQBUAEkAIADt/8b/wv/i/xMANwA3ABIA3f+w/57/qf/B/9H/yv+q/3z/Uv88/z7/Uf9s/4z/tf/p/yMAVABpAFsAOAAcABgALwBPAGcAdAB/AJIApgCoAIkATQAPAOr/5P/v//P/5f/V/9r//f8uAE8ATAArAAgA+/8FABgAIQAbAA4ABgAJABAAGgAoADkAQQAuAPX/n/9U/zj/UP+B/6H/mf95/2X/d/+p/+H/AwAPABEAFAAVAAwA+f/r//P/EQA0AEMAOQAiABMAEwAYABMABQD//wkAIQAxACsAFwARAC0AZQCXAKcAjQBfADYAHQANAPr/5//i//L/DgAhABwAAwDs/+b/7//3/+//2//J/8b/0f/g/+3//P8RACsAPgA6ACMADAAHABYAIgAOANT/gv88/xv/Iv9E/3X/rv/r/x4AMwAaAN3/mv90/3z/ov/L/+f//f8eAFYAlgDDAMkArACAAFsARAAzAB0AAQDo/9z/4P/w/wAADQAWAB0AJQAsAC8ALAAlABoADAD6/+L/yP+3/7r/1P8AAC0ATgBbAFgASwA5ABwA+P/T/77/yP/o/woAFwAKAPT/6f/t//L/4/+8/5H/ff+F/5r/n/+M/3T/dv+g/+H/GAAzADgAPQBLAFYASQAfAO7/1f/l/xIAQgBhAHEAfwCTAKEAmgB8AFYAPgA6AEAAPQAvACIAJwA9AE8AQgAUANr/tv+4/9X/7f/k/7n/gv9d/1P/XP9n/2r/bf+A/6n/3/8KAB0AEwD+/+z/5f/k/9//1f/P/9j/8/8UAC0ANAAtACUAKQA5AE8AYQBoAGAATQAxABYABAAEABcANQBSAGMAYABLACgA/f/R/7H/qP+1/8//5v/s/+D/yv+0/6j/pv+u/8D/2v/5/xMAIwAlAB4AFQAQABMAHAAqADkAQgBAADEAGgAEAPn/8//q/9X/s/+Q/3r/e/+O/6v/xv/c/+7///8PAB8ALgA9AEwAXABrAHoAhQCJAIIAcABXAEEANQAvACUADwDw/9T/y//a//b/CgAMAPv/4P/G/7L/pP+b/5v/pv+5/8v/1P/Y/+D/9v8UAC8ANQAkAAgA8f/m/+X/5P/d/9f/2P/k//j/CgAYACAAIAAUAPn/1v+9/73/2f///xgAGQAOAAsAHQA8AE0AQQAbAPf/7P8AACgASgBaAFkATgBBADQAJgAZABEADgAMAAYAAAD9/wAAAwD7/97/s/+P/4T/mf/B/+r/AwAMAAoAAgD2/+b/2P/R/9f/5v/3/wIABgAFAAEA+v/s/9j/wv+0/7T/w//e//n/DgAbACEAIwAgABcABADv/+H/6/8QAEcAeQCUAJQAhQB1AGgAWQA/ACAADAAOACUAOgA2ABMA4/+9/7L/wP/W/+r/+P/9//f/4f/A/6P/nf+0/9n/9f/6//T/+v8YAEMAWgBFAAcAu/+A/2b/a/+D/6b/0/8GADUATQBEAB4A8f/Q/8n/1//x/wgAFQAVAA0ABwAMAB4ANgBFAEEAKgAJAO//4v/j/+v/9P/7/wAABwARACEANQBMAGAAbABtAGMASwAoAAAA4P/b//v/NwBzAIwAcgA1APb/zf/A/73/tf+o/6D/qf++/9L/2//c/+D/7P/3//X/5f/W/9j/7v8FAAgA8//T/8X/1P/2/xUAIgAbAAwA/P/s/93/1P/Y/+z/BgAaACQAKAAzAEYAVQBSADkAEwD0/+H/2v/X/9j/4v/8/xsAMgAyABwAAADo/9v/1v/X/+H/+f8VACEACgDS/5L/b/96/6j/2P/v/+r/3f/h/wAALgBYAGsAZQBPADgAKAAfABsAGgAbACMALwA7AD0ALgAUAP3/9P/7/wIA+f/a/7X/pv/D/wMASwB3AHgAVwAvABcAEwAXABEA+P/N/6L/i/+a/83/DQA8AD0ADgDI/4n/bP9y/4z/qf/B/9f/7f/+/wYACwAaAD0AawCPAJMAcwBDAB8AFAAYABoADwAAAPr/AQAOAA8A/f/Y/6//if9s/1z/XP9x/5b/vf/Z/+z/AQAmAFUAeQB+AGUARAA1AEAAUwBYAEcAMgAuAEQAZQB1AGoATAAyACoAMQA6ADwAOAAxACQACADa/6P/ev9x/4f/r//V//H///8AAPT/2P+3/6D/oP+0/8z/1//S/8r/yv/T/9X/w/+h/4P/gf+f/8f/3f/U/7r/qf+0/9b/+/8SABkAHAAoAEUAcACgAMsA5gDlAMUAjgBXADYANwBPAGkAdABrAFkARgA1AB8AAADd/8D/sf+u/63/rP+r/7H/vP/C/7v/pv+R/4v/nf+//+H/9//9//n/8v/v//T/BQAgADsARwA4AA8A5P/O/93/CAA1AEkAPAAeAAcACwApAE0AYQBWADEABADk/9z/6v8BABIAFAAEAOz/z/+0/57/kP+O/5r/r//G/9v/7f8DAB8AOgBFADQACADW/7T/sv/Q/wAAMgBbAHUAewBuAFUAOwAvADMAOwA2AB8AAgD7/xIAQgBpAG0ASwAcAP7/+f////P/zP+V/2r/W/9l/3T/ev96/4P/oP/M//j/EQAaABkAGAAcABwAFQAGAPj/9f8BABsAOwBXAGYAYwBQADMAGQAJAAMAAgAAAP7//P/8//z/9P/h/8r/uP+2/8P/1v/l/+z/8P/2/wIAEwAlADUAQgBLAE8ATABCADUAJwAcABAAAwD3/+r/4P/Y/9D/y//M/9T/5P/z//v/9v/n/9f/0f/a//T/FgA3AE4AUwBJADkAKQAbAAoA8f/O/7D/qP/B//H/HgAxAB8A9f/K/7L/sP+3/7r/s/+q/6z/u//S/+j/9v8AAAwAHgA0AEcAVABbAGMAdACNAKgAuQC1AJkAawA3AAwA8P/i/9z/2P/V/9b/2f/Z/87/t/+b/4f/hf+R/6X/tv/E/9L/4P/p/+T/0f+5/6z/tv/U//r/GgAzAEMASwBFAC0ACwDv/+v/BAAuAFQAZwBmAFoATAA+AC0AGQAJAAUADQAeADIASQBiAHcAdgBTAA8Awv+O/4j/rP/g/wMABQDv/9D/t/+l/5X/gv9y/3L/jP+9//X/HgAtACIACwD4//H/9v/+/wQACgAUACYAPQBQAFkAVQBJADkAJwAVAAYA/v/9///////8//3/CAAjAEIAVwBSADUACgDj/8n/v//E/9H/4f/t/+7/5v/d/9//9P8RACgAJwANAOf/xP+u/6b/pf+r/7v/0//v/wIACQAHAAQACAASABkAGQAVABUAHwAsADQALgAdAAkA/P/2//P/7v/q/+b/5//o/+b/4v/d/9//6P/1/wAAAwADAAIABgARACAALQAzACsAFgD8/+X/3//t/wsALgBIAFIATQA/ADMAMAA5AEsAXgBmAFsAPAAVAPL/3f/V/9D/yP+8/7X/u//N/+L/7//u/+D/y/+0/6P/nP+l/73/3P/z//r/7//f/9n/4f/y/wEABgAAAPL/3P/D/67/rP/I/wAAPgBnAG0AWgBJAFAAcQCWAKYAmABzAEoALAAaAA4A\" type=\"audio/wav\" />\n",
       "                    Your browser does not support the audio element.\n",
       "                </audio>\n",
       "              "
      ],
      "text/plain": [
       "<IPython.lib.display.Audio object>"
      ]
     },
     "execution_count": 13,
     "metadata": {},
     "output_type": "execute_result"
    }
   ],
   "source": [
    "samples = librosa.resample(samples, sample_rate, 8000)\n",
    "ipd.Audio(samples, rate=8000)"
   ]
  },
  {
   "cell_type": "markdown",
   "id": "539822de",
   "metadata": {
    "papermill": {
     "duration": 0.069141,
     "end_time": "2022-06-16T18:54:41.886317",
     "exception": false,
     "start_time": "2022-06-16T18:54:41.817176",
     "status": "completed"
    },
    "tags": []
   },
   "source": [
    "Now, let’s understand the number of recordings for each voice command:"
   ]
  },
  {
   "cell_type": "code",
   "execution_count": 14,
   "id": "8f922794",
   "metadata": {
    "execution": {
     "iopub.execute_input": "2022-06-16T18:54:42.030378Z",
     "iopub.status.busy": "2022-06-16T18:54:42.029340Z",
     "iopub.status.idle": "2022-06-16T18:54:42.031250Z",
     "shell.execute_reply": "2022-06-16T18:54:42.031813Z"
    },
    "papermill": {
     "duration": 0.076493,
     "end_time": "2022-06-16T18:54:42.031961",
     "exception": false,
     "start_time": "2022-06-16T18:54:41.955468",
     "status": "completed"
    },
    "tags": []
   },
   "outputs": [],
   "source": [
    "labels=os.listdir(train_audio_path)"
   ]
  },
  {
   "cell_type": "code",
   "execution_count": 15,
   "id": "c094509c",
   "metadata": {
    "execution": {
     "iopub.execute_input": "2022-06-16T18:54:42.177909Z",
     "iopub.status.busy": "2022-06-16T18:54:42.177075Z",
     "iopub.status.idle": "2022-06-16T18:54:42.515000Z",
     "shell.execute_reply": "2022-06-16T18:54:42.515403Z"
    },
    "papermill": {
     "duration": 0.414222,
     "end_time": "2022-06-16T18:54:42.515606",
     "exception": false,
     "start_time": "2022-06-16T18:54:42.101384",
     "status": "completed"
    },
    "tags": []
   },
   "outputs": [
    {
     "data": {
      "image/png": "[encoded data removed]",
      "text/plain": [
       "<Figure size 2160x360 with 1 Axes>"
      ]
     },
     "metadata": {
      "needs_background": "light"
     },
     "output_type": "display_data"
    }
   ],
   "source": [
    "#find count of each label and plot bar graph\n",
    "no_of_recordings=[]\n",
    "for label in labels:\n",
    "    waves = [f for f in os.listdir(train_audio_path + '/'+ label) if f.endswith('.wav')]\n",
    "    no_of_recordings.append(len(waves))\n",
    "    \n",
    "#plot\n",
    "plt.figure(figsize=(30,5))\n",
    "index = np.arange(len(labels))\n",
    "plt.bar(index, no_of_recordings)\n",
    "plt.xlabel('Commands', fontsize=12)\n",
    "plt.ylabel('No of recordings', fontsize=12)\n",
    "plt.xticks(index, labels, fontsize=15, rotation=60)\n",
    "plt.title('No. of recordings for each command')\n",
    "plt.show()"
   ]
  },
  {
   "cell_type": "code",
   "execution_count": 16,
   "id": "fdce9dc8",
   "metadata": {
    "execution": {
     "iopub.execute_input": "2022-06-16T18:54:42.731293Z",
     "iopub.status.busy": "2022-06-16T18:54:42.730393Z",
     "iopub.status.idle": "2022-06-16T18:54:42.733058Z",
     "shell.execute_reply": "2022-06-16T18:54:42.732645Z"
    },
    "papermill": {
     "duration": 0.077613,
     "end_time": "2022-06-16T18:54:42.733175",
     "exception": false,
     "start_time": "2022-06-16T18:54:42.655562",
     "status": "completed"
    },
    "tags": []
   },
   "outputs": [],
   "source": [
    "# labels=[\"yes\", \"no\",\"stop\", \"go\"]\n",
    "labels=[\"yes\", \"no\", \"up\", \"down\", \"left\", \"right\", \"on\", \"off\", \"stop\", \"go\"]"
   ]
  },
  {
   "cell_type": "markdown",
   "id": "a618825a",
   "metadata": {
    "papermill": {
     "duration": 0.070345,
     "end_time": "2022-06-16T18:54:42.874408",
     "exception": false,
     "start_time": "2022-06-16T18:54:42.804063",
     "status": "completed"
    },
    "tags": []
   },
   "source": [
    "**Duration of recordings**\n",
    "\n",
    "What’s next? A look at the distribution of the duration of recordings:"
   ]
  },
  {
   "cell_type": "code",
   "execution_count": 17,
   "id": "af18bacf",
   "metadata": {
    "execution": {
     "iopub.execute_input": "2022-06-16T18:54:43.023098Z",
     "iopub.status.busy": "2022-06-16T18:54:43.022292Z",
     "iopub.status.idle": "2022-06-16T18:54:44.522886Z",
     "shell.execute_reply": "2022-06-16T18:54:44.522402Z"
    },
    "papermill": {
     "duration": 1.576805,
     "end_time": "2022-06-16T18:54:44.523014",
     "exception": false,
     "start_time": "2022-06-16T18:54:42.946209",
     "status": "completed"
    },
    "tags": []
   },
   "outputs": [
    {
     "data": {
      "text/plain": [
       "(array([1.5000e+01, 3.0000e+01, 4.4000e+01, 1.3800e+02, 1.3600e+02,\n",
       "        1.7900e+02, 3.6600e+02, 4.3400e+02, 5.9300e+02, 2.1747e+04]),\n",
       " array([0.418 , 0.4762, 0.5344, 0.5926, 0.6508, 0.709 , 0.7672, 0.8254,\n",
       "        0.8836, 0.9418, 1.    ]),\n",
       " <BarContainer object of 10 artists>)"
      ]
     },
     "execution_count": 17,
     "metadata": {},
     "output_type": "execute_result"
    },
    {
     "data": {
      "image/png": "[encoded data removed]",
      "text/plain": [
       "<Figure size 432x288 with 1 Axes>"
      ]
     },
     "metadata": {
      "needs_background": "light"
     },
     "output_type": "display_data"
    }
   ],
   "source": [
    "duration_of_recordings=[]\n",
    "for label in labels:\n",
    "    waves = [f for f in os.listdir(train_audio_path + '/'+ label) if f.endswith('.wav')]\n",
    "    for wav in waves:\n",
    "        sample_rate, samples = wavfile.read(train_audio_path + '/' + label + '/' + wav)\n",
    "        duration_of_recordings.append(float(len(samples)/sample_rate))\n",
    "    \n",
    "plt.hist(np.array(duration_of_recordings))"
   ]
  },
  {
   "cell_type": "markdown",
   "id": "980a361d",
   "metadata": {
    "papermill": {
     "duration": 0.071375,
     "end_time": "2022-06-16T18:54:44.665967",
     "exception": false,
     "start_time": "2022-06-16T18:54:44.594592",
     "status": "completed"
    },
    "tags": []
   },
   "source": [
    "**Preprocessing the audio waves**\n",
    "\n",
    "In the data exploration part earlier, we have seen that the duration of a few recordings is less than 1 second and the sampling rate is too high. So, let us read the audio waves and use the below-preprocessing steps to deal with this.\n",
    "\n",
    "Here are the two steps we’ll follow:\n",
    "\n",
    "* Resampling\n",
    "* Removing shorter commands of less than 1 second\n",
    "\n",
    "Let us define these preprocessing steps in the below code snippet:"
   ]
  },
  {
   "cell_type": "code",
   "execution_count": 18,
   "id": "d56c15de",
   "metadata": {
    "execution": {
     "iopub.execute_input": "2022-06-16T18:54:44.818666Z",
     "iopub.status.busy": "2022-06-16T18:54:44.817873Z",
     "iopub.status.idle": "2022-06-16T19:00:51.871342Z",
     "shell.execute_reply": "2022-06-16T19:00:51.870860Z"
    },
    "papermill": {
     "duration": 367.13238,
     "end_time": "2022-06-16T19:00:51.871508",
     "exception": false,
     "start_time": "2022-06-16T18:54:44.739128",
     "status": "completed"
    },
    "tags": []
   },
   "outputs": [
    {
     "name": "stdout",
     "output_type": "stream",
     "text": [
      "yes\n",
      "no\n",
      "up\n",
      "down\n",
      "left\n",
      "right\n",
      "on\n",
      "off\n",
      "stop\n",
      "go\n"
     ]
    }
   ],
   "source": [
    "all_wave = []\n",
    "all_label = []\n",
    "for label in labels:\n",
    "    print(label)\n",
    "    waves = [f for f in os.listdir(train_audio_path + '/'+ label) if f.endswith('.wav')]\n",
    "    for wav in waves:\n",
    "        samples, sample_rate = librosa.load(train_audio_path + '/' + label + '/' + wav, sr = 16000)\n",
    "        samples = librosa.resample(samples, sample_rate, 8000)\n",
    "        if(len(samples)== 8000) : \n",
    "            all_wave.append(samples)\n",
    "            all_label.append(label)"
   ]
  },
  {
   "cell_type": "code",
   "execution_count": 19,
   "id": "1283c652",
   "metadata": {
    "execution": {
     "iopub.execute_input": "2022-06-16T19:00:52.027447Z",
     "iopub.status.busy": "2022-06-16T19:00:52.026816Z",
     "iopub.status.idle": "2022-06-16T19:00:52.030693Z",
     "shell.execute_reply": "2022-06-16T19:00:52.030069Z"
    },
    "papermill": {
     "duration": 0.08387,
     "end_time": "2022-06-16T19:00:52.030832",
     "exception": false,
     "start_time": "2022-06-16T19:00:51.946962",
     "status": "completed"
    },
    "tags": []
   },
   "outputs": [
    {
     "name": "stdout",
     "output_type": "stream",
     "text": [
      "<class 'list'>\n",
      "21312\n"
     ]
    }
   ],
   "source": [
    "print(type(all_wave))\n",
    "print(len(all_wave))"
   ]
  },
  {
   "cell_type": "code",
   "execution_count": 20,
   "id": "f4e9379c",
   "metadata": {
    "execution": {
     "iopub.execute_input": "2022-06-16T19:00:52.190632Z",
     "iopub.status.busy": "2022-06-16T19:00:52.189522Z",
     "iopub.status.idle": "2022-06-16T19:00:52.194803Z",
     "shell.execute_reply": "2022-06-16T19:00:52.194358Z"
    },
    "papermill": {
     "duration": 0.087861,
     "end_time": "2022-06-16T19:00:52.194918",
     "exception": false,
     "start_time": "2022-06-16T19:00:52.107057",
     "status": "completed"
    },
    "tags": []
   },
   "outputs": [
    {
     "name": "stdout",
     "output_type": "stream",
     "text": [
      "21312\n",
      "(8000,)\n"
     ]
    },
    {
     "data": {
      "text/plain": [
       "array([-0.00598227, -0.0096927 , -0.00947217, ...,  0.00945565,\n",
       "        0.00923561,  0.01120665], dtype=float32)"
      ]
     },
     "execution_count": 20,
     "metadata": {},
     "output_type": "execute_result"
    }
   ],
   "source": [
    "print(len(all_wave))\n",
    "print(all_wave[1].shape)\n",
    "all_wave[1]"
   ]
  },
  {
   "cell_type": "markdown",
   "id": "974ba099",
   "metadata": {
    "papermill": {
     "duration": 0.075472,
     "end_time": "2022-06-16T19:00:52.348681",
     "exception": false,
     "start_time": "2022-06-16T19:00:52.273209",
     "status": "completed"
    },
    "tags": []
   },
   "source": [
    "Convert the output labels to integer encoded:"
   ]
  },
  {
   "cell_type": "code",
   "execution_count": 21,
   "id": "27d126d7",
   "metadata": {
    "execution": {
     "iopub.execute_input": "2022-06-16T19:00:52.504975Z",
     "iopub.status.busy": "2022-06-16T19:00:52.504275Z",
     "iopub.status.idle": "2022-06-16T19:00:52.507214Z",
     "shell.execute_reply": "2022-06-16T19:00:52.507632Z"
    },
    "papermill": {
     "duration": 0.084081,
     "end_time": "2022-06-16T19:00:52.507766",
     "exception": false,
     "start_time": "2022-06-16T19:00:52.423685",
     "status": "completed"
    },
    "tags": []
   },
   "outputs": [
    {
     "data": {
      "text/plain": [
       "10"
      ]
     },
     "execution_count": 21,
     "metadata": {},
     "output_type": "execute_result"
    }
   ],
   "source": [
    "len(set(all_label))"
   ]
  },
  {
   "cell_type": "code",
   "execution_count": 22,
   "id": "1a07e859",
   "metadata": {
    "execution": {
     "iopub.execute_input": "2022-06-16T19:00:52.663354Z",
     "iopub.status.busy": "2022-06-16T19:00:52.662590Z",
     "iopub.status.idle": "2022-06-16T19:00:52.673850Z",
     "shell.execute_reply": "2022-06-16T19:00:52.673410Z"
    },
    "papermill": {
     "duration": 0.090307,
     "end_time": "2022-06-16T19:00:52.673967",
     "exception": false,
     "start_time": "2022-06-16T19:00:52.583660",
     "status": "completed"
    },
    "tags": []
   },
   "outputs": [],
   "source": [
    "from sklearn.preprocessing import LabelEncoder\n",
    "le = LabelEncoder()\n",
    "y=le.fit_transform(all_label)\n",
    "classes= list(le.classes_)"
   ]
  },
  {
   "cell_type": "code",
   "execution_count": 23,
   "id": "38147fe6",
   "metadata": {
    "execution": {
     "iopub.execute_input": "2022-06-16T19:00:52.833253Z",
     "iopub.status.busy": "2022-06-16T19:00:52.832453Z",
     "iopub.status.idle": "2022-06-16T19:00:52.835646Z",
     "shell.execute_reply": "2022-06-16T19:00:52.836018Z"
    },
    "papermill": {
     "duration": 0.086226,
     "end_time": "2022-06-16T19:00:52.836174",
     "exception": false,
     "start_time": "2022-06-16T19:00:52.749948",
     "status": "completed"
    },
    "tags": []
   },
   "outputs": [
    {
     "data": {
      "text/plain": [
       "['down', 'go', 'left', 'no', 'off', 'on', 'right', 'stop', 'up', 'yes']"
      ]
     },
     "execution_count": 23,
     "metadata": {},
     "output_type": "execute_result"
    }
   ],
   "source": [
    "classes"
   ]
  },
  {
   "cell_type": "markdown",
   "id": "96e5f5e7",
   "metadata": {
    "papermill": {
     "duration": 0.077609,
     "end_time": "2022-06-16T19:00:52.990476",
     "exception": false,
     "start_time": "2022-06-16T19:00:52.912867",
     "status": "completed"
    },
    "tags": []
   },
   "source": [
    "Now, convert the integer encoded labels to a one-hot vector since it is a multi-classification problem:"
   ]
  },
  {
   "cell_type": "code",
   "execution_count": 24,
   "id": "cb19c1d9",
   "metadata": {
    "execution": {
     "iopub.execute_input": "2022-06-16T19:00:53.149844Z",
     "iopub.status.busy": "2022-06-16T19:00:53.149191Z",
     "iopub.status.idle": "2022-06-16T19:00:57.535300Z",
     "shell.execute_reply": "2022-06-16T19:00:57.534805Z"
    },
    "papermill": {
     "duration": 4.467258,
     "end_time": "2022-06-16T19:00:57.535444",
     "exception": false,
     "start_time": "2022-06-16T19:00:53.068186",
     "status": "completed"
    },
    "tags": []
   },
   "outputs": [],
   "source": [
    "from keras.utils import np_utils\n",
    "y=np_utils.to_categorical(y, num_classes=len(labels))"
   ]
  },
  {
   "cell_type": "code",
   "execution_count": 25,
   "id": "64493954",
   "metadata": {
    "execution": {
     "iopub.execute_input": "2022-06-16T19:00:57.694760Z",
     "iopub.status.busy": "2022-06-16T19:00:57.693996Z",
     "iopub.status.idle": "2022-06-16T19:00:57.697224Z",
     "shell.execute_reply": "2022-06-16T19:00:57.697610Z"
    },
    "papermill": {
     "duration": 0.08554,
     "end_time": "2022-06-16T19:00:57.697759",
     "exception": false,
     "start_time": "2022-06-16T19:00:57.612219",
     "status": "completed"
    },
    "tags": []
   },
   "outputs": [
    {
     "data": {
      "text/plain": [
       "array([[0., 0., 0., ..., 0., 0., 1.],\n",
       "       [0., 0., 0., ..., 0., 0., 1.],\n",
       "       [0., 0., 0., ..., 0., 0., 1.],\n",
       "       ...,\n",
       "       [0., 1., 0., ..., 0., 0., 0.],\n",
       "       [0., 1., 0., ..., 0., 0., 0.],\n",
       "       [0., 1., 0., ..., 0., 0., 0.]], dtype=float32)"
      ]
     },
     "execution_count": 25,
     "metadata": {},
     "output_type": "execute_result"
    }
   ],
   "source": [
    "y"
   ]
  },
  {
   "cell_type": "markdown",
   "id": "358a93d0",
   "metadata": {
    "papermill": {
     "duration": 0.077825,
     "end_time": "2022-06-16T19:00:57.860213",
     "exception": false,
     "start_time": "2022-06-16T19:00:57.782388",
     "status": "completed"
    },
    "tags": []
   },
   "source": [
    "Reshape the 2D array to 3D since the input to the conv1d must be a 3D array:"
   ]
  },
  {
   "cell_type": "code",
   "execution_count": 26,
   "id": "0c0cd5d3",
   "metadata": {
    "execution": {
     "iopub.execute_input": "2022-06-16T19:00:58.022284Z",
     "iopub.status.busy": "2022-06-16T19:00:58.021108Z",
     "iopub.status.idle": "2022-06-16T19:00:58.246011Z",
     "shell.execute_reply": "2022-06-16T19:00:58.245497Z"
    },
    "papermill": {
     "duration": 0.307441,
     "end_time": "2022-06-16T19:00:58.246140",
     "exception": false,
     "start_time": "2022-06-16T19:00:57.938699",
     "status": "completed"
    },
    "tags": []
   },
   "outputs": [],
   "source": [
    "all_wave = np.array(all_wave).reshape(-1,8000,1)"
   ]
  },
  {
   "cell_type": "code",
   "execution_count": 27,
   "id": "29d4e672",
   "metadata": {
    "execution": {
     "iopub.execute_input": "2022-06-16T19:00:58.456700Z",
     "iopub.status.busy": "2022-06-16T19:00:58.456044Z",
     "iopub.status.idle": "2022-06-16T19:00:58.460940Z",
     "shell.execute_reply": "2022-06-16T19:00:58.460517Z"
    },
    "papermill": {
     "duration": 0.08609,
     "end_time": "2022-06-16T19:00:58.461059",
     "exception": false,
     "start_time": "2022-06-16T19:00:58.374969",
     "status": "completed"
    },
    "tags": []
   },
   "outputs": [
    {
     "data": {
      "text/plain": [
       "(21312, 8000, 1)"
      ]
     },
     "execution_count": 27,
     "metadata": {},
     "output_type": "execute_result"
    }
   ],
   "source": [
    "all_wave.shape"
   ]
  },
  {
   "cell_type": "markdown",
   "id": "124aac0d",
   "metadata": {
    "papermill": {
     "duration": 0.076512,
     "end_time": "2022-06-16T19:00:58.615058",
     "exception": false,
     "start_time": "2022-06-16T19:00:58.538546",
     "status": "completed"
    },
    "tags": []
   },
   "source": [
    "**Split into train and validation set**\n",
    "\n",
    "Next, we will train the model on 80% of the data and validate on the remaining 20%:\n"
   ]
  },
  {
   "cell_type": "code",
   "execution_count": 28,
   "id": "7e0a59e6",
   "metadata": {
    "execution": {
     "iopub.execute_input": "2022-06-16T19:00:58.776554Z",
     "iopub.status.busy": "2022-06-16T19:00:58.775509Z",
     "iopub.status.idle": "2022-06-16T19:00:59.508302Z",
     "shell.execute_reply": "2022-06-16T19:00:59.507788Z"
    },
    "papermill": {
     "duration": 0.816553,
     "end_time": "2022-06-16T19:00:59.508509",
     "exception": false,
     "start_time": "2022-06-16T19:00:58.691956",
     "status": "completed"
    },
    "tags": []
   },
   "outputs": [],
   "source": [
    "from sklearn.model_selection import train_test_split\n",
    "x_tr, x_val, y_tr, y_val = train_test_split(np.array(all_wave),np.array(y),stratify=y,test_size = 0.2,random_state=777,shuffle=True)"
   ]
  },
  {
   "cell_type": "markdown",
   "id": "d5b8f637",
   "metadata": {
    "papermill": {
     "duration": 0.077084,
     "end_time": "2022-06-16T19:00:59.664819",
     "exception": false,
     "start_time": "2022-06-16T19:00:59.587735",
     "status": "completed"
    },
    "tags": []
   },
   "source": [
    "**Model Architecture for this problem**\n",
    "\n",
    "We will build the speech-to-text model using conv1d. Conv1d is a convolutional neural network which performs the convolution along only one dimension. "
   ]
  },
  {
   "cell_type": "markdown",
   "id": "c0bad5b6",
   "metadata": {
    "papermill": {
     "duration": 0.08814,
     "end_time": "2022-06-16T19:00:59.829885",
     "exception": false,
     "start_time": "2022-06-16T19:00:59.741745",
     "status": "completed"
    },
    "tags": []
   },
   "source": [
    "**Model building**\n",
    "\n",
    "Let us implement the model using Keras functional API."
   ]
  },
  {
   "cell_type": "markdown",
   "id": "a185e804",
   "metadata": {
    "papermill": {
     "duration": 0.121906,
     "end_time": "2022-06-16T19:01:00.087103",
     "exception": false,
     "start_time": "2022-06-16T19:00:59.965197",
     "status": "completed"
    },
    "tags": []
   },
   "source": [
    "### Conv1D, Conv2D and Conv3D : https://xzz201920.medium.com/conv1d-conv2d-and-conv3d-8a59182c4d6"
   ]
  },
  {
   "cell_type": "code",
   "execution_count": 29,
   "id": "c0e32997",
   "metadata": {
    "execution": {
     "iopub.execute_input": "2022-06-16T19:01:00.339736Z",
     "iopub.status.busy": "2022-06-16T19:01:00.338746Z",
     "iopub.status.idle": "2022-06-16T19:01:00.357239Z",
     "shell.execute_reply": "2022-06-16T19:01:00.357861Z"
    },
    "papermill": {
     "duration": 0.147247,
     "end_time": "2022-06-16T19:01:00.358058",
     "exception": false,
     "start_time": "2022-06-16T19:01:00.210811",
     "status": "completed"
    },
    "tags": []
   },
   "outputs": [],
   "source": [
    "from keras.layers import Dense, Dropout, Flatten, Conv1D, Input, MaxPooling1D\n",
    "from keras.models import Model\n",
    "from keras.callbacks import EarlyStopping, ModelCheckpoint\n",
    "from keras import backend as K\n",
    "K.clear_session()"
   ]
  },
  {
   "cell_type": "code",
   "execution_count": 30,
   "id": "0686b3cf",
   "metadata": {
    "execution": {
     "iopub.execute_input": "2022-06-16T19:01:00.623927Z",
     "iopub.status.busy": "2022-06-16T19:01:00.622495Z",
     "iopub.status.idle": "2022-06-16T19:01:00.624645Z",
     "shell.execute_reply": "2022-06-16T19:01:00.623192Z"
    },
    "papermill": {
     "duration": 0.138262,
     "end_time": "2022-06-16T19:01:00.624819",
     "exception": false,
     "start_time": "2022-06-16T19:01:00.486557",
     "status": "completed"
    },
    "tags": []
   },
   "outputs": [],
   "source": [
    "# ?Conv1D"
   ]
  },
  {
   "cell_type": "code",
   "execution_count": 31,
   "id": "3cb94c95",
   "metadata": {
    "execution": {
     "iopub.execute_input": "2022-06-16T19:01:00.896824Z",
     "iopub.status.busy": "2022-06-16T19:01:00.896007Z",
     "iopub.status.idle": "2022-06-16T19:01:02.796498Z",
     "shell.execute_reply": "2022-06-16T19:01:02.796943Z"
    },
    "papermill": {
     "duration": 2.043773,
     "end_time": "2022-06-16T19:01:02.797097",
     "exception": false,
     "start_time": "2022-06-16T19:01:00.753324",
     "status": "completed"
    },
    "tags": []
   },
   "outputs": [
    {
     "name": "stdout",
     "output_type": "stream",
     "text": [
      "Model: \"model\"\n",
      "_________________________________________________________________\n",
      "Layer (type)                 Output Shape              Param #   \n",
      "=================================================================\n",
      "input_1 (InputLayer)         [(None, 8000, 1)]         0         \n",
      "_________________________________________________________________\n",
      "conv1d (Conv1D)              (None, 7988, 8)           112       \n",
      "_________________________________________________________________\n",
      "max_pooling1d (MaxPooling1D) (None, 2662, 8)           0         \n",
      "_________________________________________________________________\n",
      "dropout (Dropout)            (None, 2662, 8)           0         \n",
      "_________________________________________________________________\n",
      "conv1d_1 (Conv1D)            (None, 2652, 16)          1424      \n",
      "_________________________________________________________________\n",
      "max_pooling1d_1 (MaxPooling1 (None, 884, 16)           0         \n",
      "_________________________________________________________________\n",
      "dropout_1 (Dropout)          (None, 884, 16)           0         \n",
      "_________________________________________________________________\n",
      "conv1d_2 (Conv1D)            (None, 876, 32)           4640      \n",
      "_________________________________________________________________\n",
      "max_pooling1d_2 (MaxPooling1 (None, 292, 32)           0         \n",
      "_________________________________________________________________\n",
      "dropout_2 (Dropout)          (None, 292, 32)           0         \n",
      "_________________________________________________________________\n",
      "conv1d_3 (Conv1D)            (None, 286, 64)           14400     \n",
      "_________________________________________________________________\n",
      "max_pooling1d_3 (MaxPooling1 (None, 95, 64)            0         \n",
      "_________________________________________________________________\n",
      "dropout_3 (Dropout)          (None, 95, 64)            0         \n",
      "_________________________________________________________________\n",
      "flatten (Flatten)            (None, 6080)              0         \n",
      "_________________________________________________________________\n",
      "dense (Dense)                (None, 256)               1556736   \n",
      "_________________________________________________________________\n",
      "dropout_4 (Dropout)          (None, 256)               0         \n",
      "_________________________________________________________________\n",
      "dense_1 (Dense)              (None, 128)               32896     \n",
      "_________________________________________________________________\n",
      "dropout_5 (Dropout)          (None, 128)               0         \n",
      "_________________________________________________________________\n",
      "dense_2 (Dense)              (None, 10)                1290      \n",
      "=================================================================\n",
      "Total params: 1,611,498\n",
      "Trainable params: 1,611,498\n",
      "Non-trainable params: 0\n",
      "_________________________________________________________________\n"
     ]
    }
   ],
   "source": [
    "inputs = Input(shape=(8000,1))\n",
    "\n",
    "#First Conv1D layer\n",
    "conv = Conv1D(filters=8,kernel_size=13, padding='valid', activation='relu', strides=1)(inputs)\n",
    "conv = MaxPooling1D(3)(conv)\n",
    "conv = Dropout(0.3)(conv)\n",
    "\n",
    "#Second Conv1D layer\n",
    "conv = Conv1D(16, 11, padding='valid', activation='relu', strides=1)(conv)\n",
    "conv = MaxPooling1D(3)(conv)\n",
    "conv = Dropout(0.3)(conv)\n",
    "\n",
    "#Third Conv1D layer\n",
    "conv = Conv1D(32, 9, padding='valid', activation='relu', strides=1)(conv)\n",
    "conv = MaxPooling1D(3)(conv)\n",
    "conv = Dropout(0.3)(conv)\n",
    "\n",
    "#Fourth Conv1D layer\n",
    "conv = Conv1D(64, 7, padding='valid', activation='relu', strides=1)(conv)\n",
    "conv = MaxPooling1D(3)(conv)\n",
    "conv = Dropout(0.3)(conv)\n",
    "\n",
    "#Flatten layer\n",
    "conv = Flatten()(conv)\n",
    "\n",
    "#Dense Layer 1\n",
    "conv = Dense(256, activation='relu')(conv)\n",
    "conv = Dropout(0.3)(conv)\n",
    "\n",
    "#Dense Layer 2\n",
    "conv = Dense(128, activation='relu')(conv)\n",
    "conv = Dropout(0.3)(conv)\n",
    "\n",
    "outputs = Dense(len(labels), activation='softmax')(conv)\n",
    "\n",
    "model = Model(inputs, outputs)\n",
    "model.summary()"
   ]
  },
  {
   "cell_type": "markdown",
   "id": "5b9315a6",
   "metadata": {
    "papermill": {
     "duration": 0.080058,
     "end_time": "2022-06-16T19:01:02.954912",
     "exception": false,
     "start_time": "2022-06-16T19:01:02.874854",
     "status": "completed"
    },
    "tags": []
   },
   "source": [
    "Define the loss function to be categorical cross-entropy since it is a multi-classification problem:"
   ]
  },
  {
   "cell_type": "code",
   "execution_count": 32,
   "id": "650e60bc",
   "metadata": {
    "execution": {
     "iopub.execute_input": "2022-06-16T19:01:03.122630Z",
     "iopub.status.busy": "2022-06-16T19:01:03.121781Z",
     "iopub.status.idle": "2022-06-16T19:01:03.128022Z",
     "shell.execute_reply": "2022-06-16T19:01:03.127563Z"
    },
    "papermill": {
     "duration": 0.094583,
     "end_time": "2022-06-16T19:01:03.128136",
     "exception": false,
     "start_time": "2022-06-16T19:01:03.033553",
     "status": "completed"
    },
    "tags": []
   },
   "outputs": [],
   "source": [
    "model.compile(loss='categorical_crossentropy',optimizer='adam',metrics=['accuracy'])"
   ]
  },
  {
   "cell_type": "markdown",
   "id": "5674c0a7",
   "metadata": {
    "papermill": {
     "duration": 0.077807,
     "end_time": "2022-06-16T19:01:03.284706",
     "exception": false,
     "start_time": "2022-06-16T19:01:03.206899",
     "status": "completed"
    },
    "tags": []
   },
   "source": [
    "Early stopping and model checkpoints are the callbacks to stop training the neural network at the right time and to save the best model after every epoch:"
   ]
  },
  {
   "cell_type": "code",
   "execution_count": 33,
   "id": "2c5a460f",
   "metadata": {
    "execution": {
     "iopub.execute_input": "2022-06-16T19:01:03.445677Z",
     "iopub.status.busy": "2022-06-16T19:01:03.444629Z",
     "iopub.status.idle": "2022-06-16T19:01:03.447612Z",
     "shell.execute_reply": "2022-06-16T19:01:03.447169Z"
    },
    "papermill": {
     "duration": 0.08565,
     "end_time": "2022-06-16T19:01:03.447734",
     "exception": false,
     "start_time": "2022-06-16T19:01:03.362084",
     "status": "completed"
    },
    "tags": []
   },
   "outputs": [],
   "source": [
    "es = EarlyStopping(monitor='val_loss', mode='min', verbose=1, patience=10, min_delta=0.0001) \n",
    "mc = ModelCheckpoint('best_model.hdf5', monitor='val_acc', verbose=1, save_best_only=True, mode='max')"
   ]
  },
  {
   "cell_type": "markdown",
   "id": "0f40f118",
   "metadata": {
    "papermill": {
     "duration": 0.077898,
     "end_time": "2022-06-16T19:01:03.604036",
     "exception": false,
     "start_time": "2022-06-16T19:01:03.526138",
     "status": "completed"
    },
    "tags": []
   },
   "source": [
    "Let us train the model on a batch size of 32 and evaluate the performance on the holdout set:"
   ]
  },
  {
   "cell_type": "code",
   "execution_count": 34,
   "id": "7fcb002f",
   "metadata": {
    "execution": {
     "iopub.execute_input": "2022-06-16T19:01:03.765347Z",
     "iopub.status.busy": "2022-06-16T19:01:03.764733Z",
     "iopub.status.idle": "2022-06-16T19:04:29.600126Z",
     "shell.execute_reply": "2022-06-16T19:04:29.599494Z"
    },
    "papermill": {
     "duration": 205.918736,
     "end_time": "2022-06-16T19:04:29.600302",
     "exception": false,
     "start_time": "2022-06-16T19:01:03.681566",
     "status": "completed"
    },
    "tags": []
   },
   "outputs": [
    {
     "name": "stdout",
     "output_type": "stream",
     "text": [
      "Epoch 1/100\n",
      "533/533 [==============================] - 12s 9ms/step - loss: 2.2353 - accuracy: 0.1509 - val_loss: 1.7580 - val_accuracy: 0.3528\n",
      "Epoch 2/100\n",
      "533/533 [==============================] - 4s 8ms/step - loss: 1.6388 - accuracy: 0.3885 - val_loss: 1.2542 - val_accuracy: 0.5623\n",
      "Epoch 3/100\n",
      "533/533 [==============================] - 4s 8ms/step - loss: 1.1554 - accuracy: 0.5830 - val_loss: 0.9335 - val_accuracy: 0.6861\n",
      "Epoch 4/100\n",
      "533/533 [==============================] - 4s 8ms/step - loss: 0.9552 - accuracy: 0.6695 - val_loss: 0.8308 - val_accuracy: 0.7277\n",
      "Epoch 5/100\n",
      "533/533 [==============================] - 4s 8ms/step - loss: 0.8299 - accuracy: 0.7077 - val_loss: 0.7914 - val_accuracy: 0.7363\n",
      "Epoch 6/100\n",
      "533/533 [==============================] - 4s 8ms/step - loss: 0.7694 - accuracy: 0.7320 - val_loss: 0.7089 - val_accuracy: 0.7577\n",
      "Epoch 7/100\n",
      "533/533 [==============================] - 4s 8ms/step - loss: 0.6925 - accuracy: 0.7593 - val_loss: 0.6272 - val_accuracy: 0.7931\n",
      "Epoch 8/100\n",
      "533/533 [==============================] - 4s 8ms/step - loss: 0.6506 - accuracy: 0.7722 - val_loss: 0.5982 - val_accuracy: 0.7985\n",
      "Epoch 9/100\n",
      "533/533 [==============================] - 4s 8ms/step - loss: 0.6225 - accuracy: 0.7829 - val_loss: 0.6087 - val_accuracy: 0.8046\n",
      "Epoch 10/100\n",
      "533/533 [==============================] - 4s 8ms/step - loss: 0.5934 - accuracy: 0.7982 - val_loss: 0.5925 - val_accuracy: 0.8053\n",
      "Epoch 11/100\n",
      "533/533 [==============================] - 4s 8ms/step - loss: 0.5666 - accuracy: 0.8040 - val_loss: 0.7253 - val_accuracy: 0.7525\n",
      "Epoch 12/100\n",
      "533/533 [==============================] - 4s 8ms/step - loss: 0.5376 - accuracy: 0.8140 - val_loss: 0.6451 - val_accuracy: 0.7865\n",
      "Epoch 13/100\n",
      "533/533 [==============================] - 4s 8ms/step - loss: 0.5066 - accuracy: 0.8237 - val_loss: 0.5096 - val_accuracy: 0.8224\n",
      "Epoch 14/100\n",
      "533/533 [==============================] - 4s 8ms/step - loss: 0.4780 - accuracy: 0.8318 - val_loss: 0.5262 - val_accuracy: 0.8243\n",
      "Epoch 15/100\n",
      "533/533 [==============================] - 4s 8ms/step - loss: 0.4590 - accuracy: 0.8378 - val_loss: 0.5035 - val_accuracy: 0.8372\n",
      "Epoch 16/100\n",
      "533/533 [==============================] - 4s 8ms/step - loss: 0.4753 - accuracy: 0.8335 - val_loss: 0.5348 - val_accuracy: 0.8196\n",
      "Epoch 17/100\n",
      "533/533 [==============================] - 4s 8ms/step - loss: 0.4554 - accuracy: 0.8442 - val_loss: 0.5038 - val_accuracy: 0.8339\n",
      "Epoch 18/100\n",
      "533/533 [==============================] - 4s 8ms/step - loss: 0.4299 - accuracy: 0.8500 - val_loss: 0.4995 - val_accuracy: 0.8393\n",
      "Epoch 19/100\n",
      "533/533 [==============================] - 4s 7ms/step - loss: 0.4108 - accuracy: 0.8559 - val_loss: 0.5084 - val_accuracy: 0.8370\n",
      "Epoch 20/100\n",
      "533/533 [==============================] - 4s 8ms/step - loss: 0.4152 - accuracy: 0.8591 - val_loss: 0.5534 - val_accuracy: 0.8166\n",
      "Epoch 21/100\n",
      "533/533 [==============================] - 4s 8ms/step - loss: 0.3970 - accuracy: 0.8645 - val_loss: 0.4770 - val_accuracy: 0.8454\n",
      "Epoch 22/100\n",
      "533/533 [==============================] - 4s 7ms/step - loss: 0.3707 - accuracy: 0.8709 - val_loss: 0.5333 - val_accuracy: 0.8313\n",
      "Epoch 23/100\n",
      "533/533 [==============================] - 4s 8ms/step - loss: 0.3580 - accuracy: 0.8769 - val_loss: 0.5454 - val_accuracy: 0.8245\n",
      "Epoch 24/100\n",
      "533/533 [==============================] - 4s 8ms/step - loss: 0.3634 - accuracy: 0.8756 - val_loss: 0.5100 - val_accuracy: 0.8393\n",
      "Epoch 25/100\n",
      "533/533 [==============================] - 4s 8ms/step - loss: 0.3635 - accuracy: 0.8758 - val_loss: 0.5223 - val_accuracy: 0.8344\n",
      "Epoch 26/100\n",
      "533/533 [==============================] - 4s 8ms/step - loss: 0.3543 - accuracy: 0.8768 - val_loss: 0.5658 - val_accuracy: 0.8116\n",
      "Epoch 27/100\n",
      "533/533 [==============================] - 4s 8ms/step - loss: 0.3656 - accuracy: 0.8791 - val_loss: 0.4721 - val_accuracy: 0.8485\n",
      "Epoch 28/100\n",
      "533/533 [==============================] - 4s 8ms/step - loss: 0.3212 - accuracy: 0.8926 - val_loss: 0.5045 - val_accuracy: 0.8332\n",
      "Epoch 29/100\n",
      "533/533 [==============================] - 4s 8ms/step - loss: 0.3335 - accuracy: 0.8862 - val_loss: 0.4781 - val_accuracy: 0.8475\n",
      "Epoch 30/100\n",
      "533/533 [==============================] - 4s 8ms/step - loss: 0.3121 - accuracy: 0.8924 - val_loss: 0.5046 - val_accuracy: 0.8431\n",
      "Epoch 31/100\n",
      "533/533 [==============================] - 4s 8ms/step - loss: 0.3202 - accuracy: 0.8885 - val_loss: 0.5058 - val_accuracy: 0.8520\n",
      "Epoch 32/100\n",
      "533/533 [==============================] - 4s 8ms/step - loss: 0.3078 - accuracy: 0.8934 - val_loss: 0.4693 - val_accuracy: 0.8532\n",
      "Epoch 33/100\n",
      "533/533 [==============================] - 4s 8ms/step - loss: 0.2978 - accuracy: 0.8966 - val_loss: 0.4720 - val_accuracy: 0.8464\n",
      "Epoch 34/100\n",
      "533/533 [==============================] - 4s 8ms/step - loss: 0.2985 - accuracy: 0.8986 - val_loss: 0.5222 - val_accuracy: 0.8398\n",
      "Epoch 35/100\n",
      "533/533 [==============================] - 4s 8ms/step - loss: 0.2818 - accuracy: 0.9021 - val_loss: 0.4693 - val_accuracy: 0.8513\n",
      "Epoch 36/100\n",
      "533/533 [==============================] - 4s 8ms/step - loss: 0.2850 - accuracy: 0.9002 - val_loss: 0.4940 - val_accuracy: 0.8447\n",
      "Epoch 37/100\n",
      "533/533 [==============================] - 4s 8ms/step - loss: 0.2780 - accuracy: 0.9042 - val_loss: 0.4830 - val_accuracy: 0.8517\n",
      "Epoch 38/100\n",
      "533/533 [==============================] - 4s 8ms/step - loss: 0.2684 - accuracy: 0.9076 - val_loss: 0.4601 - val_accuracy: 0.8529\n",
      "Epoch 39/100\n",
      "533/533 [==============================] - 4s 8ms/step - loss: 0.2909 - accuracy: 0.8980 - val_loss: 0.5191 - val_accuracy: 0.8442\n",
      "Epoch 40/100\n",
      "533/533 [==============================] - 4s 8ms/step - loss: 0.2505 - accuracy: 0.9161 - val_loss: 0.5824 - val_accuracy: 0.8332\n",
      "Epoch 41/100\n",
      "533/533 [==============================] - 4s 7ms/step - loss: 0.2754 - accuracy: 0.9077 - val_loss: 0.5324 - val_accuracy: 0.8358\n",
      "Epoch 42/100\n",
      "533/533 [==============================] - 4s 8ms/step - loss: 0.2615 - accuracy: 0.9123 - val_loss: 0.4858 - val_accuracy: 0.8428\n",
      "Epoch 43/100\n",
      "533/533 [==============================] - 4s 8ms/step - loss: 0.2613 - accuracy: 0.9072 - val_loss: 0.4957 - val_accuracy: 0.8431\n",
      "Epoch 44/100\n",
      "533/533 [==============================] - 4s 8ms/step - loss: 0.2542 - accuracy: 0.9113 - val_loss: 0.4885 - val_accuracy: 0.8438\n",
      "Epoch 45/100\n",
      "533/533 [==============================] - 4s 8ms/step - loss: 0.2602 - accuracy: 0.9146 - val_loss: 0.5439 - val_accuracy: 0.8414\n",
      "Epoch 46/100\n",
      "533/533 [==============================] - 4s 8ms/step - loss: 0.2629 - accuracy: 0.9114 - val_loss: 0.4935 - val_accuracy: 0.8461\n",
      "Epoch 47/100\n",
      "533/533 [==============================] - 4s 8ms/step - loss: 0.2523 - accuracy: 0.9178 - val_loss: 0.4689 - val_accuracy: 0.8550\n",
      "Epoch 48/100\n",
      "533/533 [==============================] - 4s 8ms/step - loss: 0.2408 - accuracy: 0.9187 - val_loss: 0.4754 - val_accuracy: 0.8494\n",
      "Epoch 00048: early stopping\n"
     ]
    }
   ],
   "source": [
    "history=model.fit(x_tr, y_tr ,epochs=100, callbacks=[es,mc], batch_size=32, validation_data=(x_val,y_val))"
   ]
  },
  {
   "cell_type": "markdown",
   "id": "5653bde6",
   "metadata": {
    "papermill": {
     "duration": 0.930607,
     "end_time": "2022-06-16T19:04:31.475194",
     "exception": false,
     "start_time": "2022-06-16T19:04:30.544587",
     "status": "completed"
    },
    "tags": []
   },
   "source": [
    "**Diagnostic plot**\n",
    "\n",
    "I’m going to lean on visualization again to understand the performance of the model over a period of time:"
   ]
  },
  {
   "cell_type": "code",
   "execution_count": 35,
   "id": "1430210e",
   "metadata": {
    "execution": {
     "iopub.execute_input": "2022-06-16T19:04:33.420013Z",
     "iopub.status.busy": "2022-06-16T19:04:33.419124Z",
     "iopub.status.idle": "2022-06-16T19:04:33.549884Z",
     "shell.execute_reply": "2022-06-16T19:04:33.550256Z"
    },
    "papermill": {
     "duration": 1.084423,
     "end_time": "2022-06-16T19:04:33.550405",
     "exception": false,
     "start_time": "2022-06-16T19:04:32.465982",
     "status": "completed"
    },
    "tags": []
   },
   "outputs": [
    {
     "data": {
      "image/png": "[encoded data removed]",
      "text/plain": [
       "<Figure size 432x288 with 1 Axes>"
      ]
     },
     "metadata": {
      "needs_background": "light"
     },
     "output_type": "display_data"
    }
   ],
   "source": [
    "from matplotlib import pyplot\n",
    "pyplot.plot(history.history['loss'], label='train')\n",
    "pyplot.plot(history.history['val_loss'], label='test')\n",
    "pyplot.legend()\n",
    "pyplot.show()"
   ]
  },
  {
   "cell_type": "markdown",
   "id": "24e6ef4f",
   "metadata": {
    "papermill": {
     "duration": 1.210899,
     "end_time": "2022-06-16T19:04:35.693051",
     "exception": false,
     "start_time": "2022-06-16T19:04:34.482152",
     "status": "completed"
    },
    "tags": []
   },
   "source": [
    "**Loading the best model**"
   ]
  },
  {
   "cell_type": "code",
   "execution_count": 36,
   "id": "20212dfb",
   "metadata": {
    "execution": {
     "iopub.execute_input": "2022-06-16T19:04:37.585065Z",
     "iopub.status.busy": "2022-06-16T19:04:37.584184Z",
     "iopub.status.idle": "2022-06-16T19:04:37.651033Z",
     "shell.execute_reply": "2022-06-16T19:04:37.650559Z"
    },
    "papermill": {
     "duration": 1.016053,
     "end_time": "2022-06-16T19:04:37.651180",
     "exception": false,
     "start_time": "2022-06-16T19:04:36.635127",
     "status": "completed"
    },
    "tags": []
   },
   "outputs": [],
   "source": [
    "from keras.models import load_model\n",
    "model.save(\"SpeechRecogModel.h5\")\n",
    "#model=load_model('/kaggle/working/best_model.hdf5')"
   ]
  },
  {
   "cell_type": "markdown",
   "id": "fc94ad00",
   "metadata": {
    "papermill": {
     "duration": 0.928549,
     "end_time": "2022-06-16T19:04:39.551362",
     "exception": false,
     "start_time": "2022-06-16T19:04:38.622813",
     "status": "completed"
    },
    "tags": []
   },
   "source": [
    "Define the function that predicts text for the given audio:"
   ]
  },
  {
   "cell_type": "code",
   "execution_count": 37,
   "id": "e38874a8",
   "metadata": {
    "execution": {
     "iopub.execute_input": "2022-06-16T19:04:41.412517Z",
     "iopub.status.busy": "2022-06-16T19:04:41.411436Z",
     "iopub.status.idle": "2022-06-16T19:04:41.414502Z",
     "shell.execute_reply": "2022-06-16T19:04:41.413967Z"
    },
    "papermill": {
     "duration": 0.934887,
     "end_time": "2022-06-16T19:04:41.414631",
     "exception": false,
     "start_time": "2022-06-16T19:04:40.479744",
     "status": "completed"
    },
    "tags": []
   },
   "outputs": [],
   "source": [
    "def predict(audio):\n",
    "    prob=model.predict(audio.reshape(1,8000,1))\n",
    "    index=np.argmax(prob[0])\n",
    "    return classes[index]"
   ]
  },
  {
   "cell_type": "markdown",
   "id": "d5579570",
   "metadata": {
    "papermill": {
     "duration": 0.931691,
     "end_time": "2022-06-16T19:04:43.327958",
     "exception": false,
     "start_time": "2022-06-16T19:04:42.396267",
     "status": "completed"
    },
    "tags": []
   },
   "source": [
    "Prediction time! Make predictions on the validation data:"
   ]
  },
  {
   "cell_type": "code",
   "execution_count": 38,
   "id": "e99c2936",
   "metadata": {
    "execution": {
     "iopub.execute_input": "2022-06-16T19:04:45.237620Z",
     "iopub.status.busy": "2022-06-16T19:04:45.236734Z",
     "iopub.status.idle": "2022-06-16T19:04:45.244744Z",
     "shell.execute_reply": "2022-06-16T19:04:45.245131Z"
    },
    "papermill": {
     "duration": 0.985781,
     "end_time": "2022-06-16T19:04:45.245276",
     "exception": false,
     "start_time": "2022-06-16T19:04:44.259495",
     "status": "completed"
    },
    "tags": []
   },
   "outputs": [
    {
     "name": "stdout",
     "output_type": "stream",
     "text": [
      "Audio: stop\n"
     ]
    },
    {
     "data": {
      "text/html": [
       "\n",
       "                <audio  controls=\"controls\" >\n",
       "                    <source src=\"data:audio/wav;base64,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\" type=\"audio/wav\" />\n",
       "                    Your browser does not support the audio element.\n",
       "                </audio>\n",
       "              "
      ],
      "text/plain": [
       "<IPython.lib.display.Audio object>"
      ]
     },
     "execution_count": 38,
     "metadata": {},
     "output_type": "execute_result"
    }
   ],
   "source": [
    "import random\n",
    "index=random.randint(0,len(x_val)-1)\n",
    "samples=x_val[index].ravel()\n",
    "print(\"Audio:\",classes[np.argmax(y_val[index])])\n",
    "ipd.Audio(samples, rate=8000)"
   ]
  },
  {
   "cell_type": "code",
   "execution_count": 39,
   "id": "37e911f8",
   "metadata": {
    "execution": {
     "iopub.execute_input": "2022-06-16T19:04:47.391225Z",
     "iopub.status.busy": "2022-06-16T19:04:47.390385Z",
     "iopub.status.idle": "2022-06-16T19:04:47.567736Z",
     "shell.execute_reply": "2022-06-16T19:04:47.568283Z"
    },
    "papermill": {
     "duration": 1.127693,
     "end_time": "2022-06-16T19:04:47.568494",
     "exception": false,
     "start_time": "2022-06-16T19:04:46.440801",
     "status": "completed"
    },
    "tags": []
   },
   "outputs": [
    {
     "name": "stdout",
     "output_type": "stream",
     "text": [
      "Text: stop\n"
     ]
    }
   ],
   "source": [
    "print(\"Text:\",predict(samples))"
   ]
  },
  {
   "cell_type": "markdown",
   "id": "025cee27",
   "metadata": {
    "papermill": {
     "duration": 1.499903,
     "end_time": "2022-06-16T19:04:50.009705",
     "exception": false,
     "start_time": "2022-06-16T19:04:48.509802",
     "status": "completed"
    },
    "tags": []
   },
   "source": [
    "**The best part is yet to come! Here is a script that prompts a user to record voice commands. Record your own voice commands and test it on the model:**"
   ]
  },
  {
   "cell_type": "code",
   "execution_count": 40,
   "id": "87e8dbfc",
   "metadata": {
    "execution": {
     "iopub.execute_input": "2022-06-16T19:04:51.955698Z",
     "iopub.status.busy": "2022-06-16T19:04:51.954974Z",
     "iopub.status.idle": "2022-06-16T19:04:51.957178Z",
     "shell.execute_reply": "2022-06-16T19:04:51.956624Z"
    },
    "papermill": {
     "duration": 1.002951,
     "end_time": "2022-06-16T19:04:51.957305",
     "exception": false,
     "start_time": "2022-06-16T19:04:50.954354",
     "status": "completed"
    },
    "tags": []
   },
   "outputs": [],
   "source": [
    "# # ! pip install sounddevice==0.2.1\n",
    "\n",
    "# import sounddevice as sd\n",
    "# import soundfile as sf"
   ]
  },
  {
   "cell_type": "code",
   "execution_count": 41,
   "id": "18668d65",
   "metadata": {
    "execution": {
     "iopub.execute_input": "2022-06-16T19:04:53.855787Z",
     "iopub.status.busy": "2022-06-16T19:04:53.854189Z",
     "iopub.status.idle": "2022-06-16T19:04:53.856515Z",
     "shell.execute_reply": "2022-06-16T19:04:53.856932Z"
    },
    "papermill": {
     "duration": 0.951472,
     "end_time": "2022-06-16T19:04:53.857076",
     "exception": false,
     "start_time": "2022-06-16T19:04:52.905604",
     "status": "completed"
    },
    "tags": []
   },
   "outputs": [],
   "source": [
    "# samplerate = 16000  \n",
    "# duration = 1 # seconds\n",
    "# filename = 'yes.wav'\n",
    "# print(\"start\")\n",
    "# mydata = sd.rec(int(samplerate * duration), samplerate=samplerate,channels=1, blocking=True)\n",
    "# print(\"end\")\n",
    "# sd.wait()\n",
    "# sf.write(filename, mydata, samplerate)"
   ]
  },
  {
   "cell_type": "markdown",
   "id": "f06aacdf",
   "metadata": {
    "papermill": {
     "duration": 0.954701,
     "end_time": "2022-06-16T19:04:55.750405",
     "exception": false,
     "start_time": "2022-06-16T19:04:54.795704",
     "status": "completed"
    },
    "tags": []
   },
   "source": [
    "Let us now read the saved voice command and convert it to text:"
   ]
  },
  {
   "cell_type": "code",
   "execution_count": 42,
   "id": "b48fbcd2",
   "metadata": {
    "execution": {
     "iopub.execute_input": "2022-06-16T19:04:57.917098Z",
     "iopub.status.busy": "2022-06-16T19:04:57.916013Z",
     "iopub.status.idle": "2022-06-16T19:04:57.918924Z",
     "shell.execute_reply": "2022-06-16T19:04:57.918514Z"
    },
    "papermill": {
     "duration": 1.177275,
     "end_time": "2022-06-16T19:04:57.919045",
     "exception": false,
     "start_time": "2022-06-16T19:04:56.741770",
     "status": "completed"
    },
    "tags": []
   },
   "outputs": [],
   "source": [
    "# #reading the voice commands\n",
    "# samples, sample_rate = librosa.load(filepath + '/' + 'stop.wav', sr = 16000)\n",
    "# samples = librosa.resample(samples, sample_rate, 8000)\n",
    "# ipd.Audio(samples,rate=8000)              "
   ]
  },
  {
   "cell_type": "code",
   "execution_count": 43,
   "id": "077d62ea",
   "metadata": {
    "execution": {
     "iopub.execute_input": "2022-06-16T19:04:59.845953Z",
     "iopub.status.busy": "2022-06-16T19:04:59.844772Z",
     "iopub.status.idle": "2022-06-16T19:04:59.847561Z",
     "shell.execute_reply": "2022-06-16T19:04:59.847987Z"
    },
    "papermill": {
     "duration": 0.955676,
     "end_time": "2022-06-16T19:04:59.848136",
     "exception": false,
     "start_time": "2022-06-16T19:04:58.892460",
     "status": "completed"
    },
    "tags": []
   },
   "outputs": [],
   "source": [
    "# #converting voice commands to text\n",
    "# predict(samples)"
   ]
  },
  {
   "cell_type": "markdown",
   "id": "db91a860",
   "metadata": {
    "papermill": {
     "duration": 0.970491,
     "end_time": "2022-06-16T19:05:01.755976",
     "exception": false,
     "start_time": "2022-06-16T19:05:00.785485",
     "status": "completed"
    },
    "tags": []
   },
   "source": [
    "**Congratulations! You have just built your very own speech-to-text model!**"
   ]
  }
 ],
 "metadata": {
  "kernelspec": {
   "display_name": "Python 3 (ipykernel)",
   "language": "python",
   "name": "python3"
  },
  "language_info": {
   "codemirror_mode": {
    "name": "ipython",
    "version": 3
   },
   "file_extension": ".py",
   "mimetype": "text/x-python",
   "name": "python",
   "nbconvert_exporter": "python",
   "pygments_lexer": "ipython3",
   "version": "3.10.6"
  },
  "papermill": {
   "default_parameters": {},
   "duration": 1264.3585,
   "end_time": "2022-06-16T19:05:05.608374",
   "environment_variables": {},
   "exception": null,
   "input_path": "__notebook__.ipynb",
   "output_path": "__notebook__.ipynb",
   "parameters": {},
   "start_time": "2022-06-16T18:44:01.249874",
   "version": "2.3.3"
  }
 },
 "nbformat": 4,
 "nbformat_minor": 5
}
