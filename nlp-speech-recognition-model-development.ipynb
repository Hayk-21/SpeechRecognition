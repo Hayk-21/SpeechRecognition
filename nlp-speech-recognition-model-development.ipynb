{
 "cells": [
  {
   "cell_type": "code",
   "execution_count": 347,
   "id": "42e44b16",
   "metadata": {
    "execution": {
     "iopub.execute_input": "2022-06-16T18:44:07.946110Z",
     "iopub.status.busy": "2022-06-16T18:44:07.944599Z",
     "iopub.status.idle": "2022-06-16T18:44:07.958966Z",
     "shell.execute_reply": "2022-06-16T18:44:07.959572Z"
    },
    "papermill": {
     "duration": 0.053209,
     "end_time": "2022-06-16T18:44:07.959872",
     "exception": false,
     "start_time": "2022-06-16T18:44:07.906663",
     "status": "completed"
    },
    "tags": []
   },
   "outputs": [],
   "source": [
    "import numpy as np # linear algebra\n",
    "import pandas as pd # data processing, CSV file I/O (e.g. pd.read_csv)\n",
    "import os\n"
   ]
  },
  {
   "cell_type": "code",
   "execution_count": 348,
   "id": "8d37ae35",
   "metadata": {
    "execution": {
     "iopub.execute_input": "2022-06-16T18:44:08.034887Z",
     "iopub.status.busy": "2022-06-16T18:44:08.034180Z",
     "iopub.status.idle": "2022-06-16T18:44:56.979312Z",
     "shell.execute_reply": "2022-06-16T18:44:56.978461Z"
    },
    "papermill": {
     "duration": 48.984284,
     "end_time": "2022-06-16T18:44:56.979484",
     "exception": false,
     "start_time": "2022-06-16T18:44:07.995200",
     "status": "completed"
    },
    "tags": []
   },
   "outputs": [],
   "source": [
    "# !pip install pyunpack\n",
    "# !pip install patool\n",
    "# !pip install py7zr"
   ]
  },
  {
   "cell_type": "code",
   "execution_count": 349,
   "id": "2a148e2c",
   "metadata": {
    "execution": {
     "iopub.execute_input": "2022-06-16T18:44:57.104085Z",
     "iopub.status.busy": "2022-06-16T18:44:57.103272Z",
     "iopub.status.idle": "2022-06-16T18:54:36.437476Z",
     "shell.execute_reply": "2022-06-16T18:54:36.436959Z"
    },
    "papermill": {
     "duration": 579.399022,
     "end_time": "2022-06-16T18:54:36.437638",
     "exception": false,
     "start_time": "2022-06-16T18:44:57.038616",
     "status": "completed"
    },
    "tags": []
   },
   "outputs": [],
   "source": [
    "from py7zr import unpack_7zarchive\n",
    "import shutil\n",
    "\n",
    "# shutil.register_unpack_format('7zip', ['.7z'], unpack_7zarchive)\n",
    "# shutil.unpack_archive('../BigData/tensorflow-speech-recognition-challenge/train.7z', '../BigData/tensorflow-speech-recognition-challenge/train/')"
   ]
  },
  {
   "cell_type": "code",
   "execution_count": 350,
   "id": "91db7fe6",
   "metadata": {
    "execution": {
     "iopub.execute_input": "2022-06-16T18:54:36.560279Z",
     "iopub.status.busy": "2022-06-16T18:54:36.559741Z",
     "iopub.status.idle": "2022-06-16T18:54:36.668745Z",
     "shell.execute_reply": "2022-06-16T18:54:36.669166Z"
    },
    "papermill": {
     "duration": 0.172285,
     "end_time": "2022-06-16T18:54:36.669320",
     "exception": false,
     "start_time": "2022-06-16T18:54:36.497035",
     "status": "completed"
    },
    "tags": []
   },
   "outputs": [
    {
     "name": "stdout",
     "output_type": "stream",
     "text": [
      "../BigData/tensorflow-speech-recognition-challenge/train/train/audio\\background_noise\\doing_the_dishes.wav_0.wav\n",
      "../BigData/tensorflow-speech-recognition-challenge/train/train/audio\\background_noise\\doing_the_dishes.wav_1.wav\n",
      "../BigData/tensorflow-speech-recognition-challenge/train/train/audio\\background_noise\\doing_the_dishes.wav_10.wav\n",
      "../BigData/tensorflow-speech-recognition-challenge/train/train/audio\\background_noise\\doing_the_dishes.wav_11.wav\n",
      "../BigData/tensorflow-speech-recognition-challenge/train/train/audio\\background_noise\\doing_the_dishes.wav_12.wav\n",
      "../BigData/tensorflow-speech-recognition-challenge/train/train/audio\\barev\\Output_0 - Copy.wav\n",
      "../BigData/tensorflow-speech-recognition-challenge/train/train/audio\\barev\\Output_0.wav\n",
      "../BigData/tensorflow-speech-recognition-challenge/train/train/audio\\barev\\Output_1 - Copy.wav\n",
      "../BigData/tensorflow-speech-recognition-challenge/train/train/audio\\barev\\Output_1.wav\n",
      "../BigData/tensorflow-speech-recognition-challenge/train/train/audio\\barev\\Output_10 - Copy.wav\n",
      "../BigData/tensorflow-speech-recognition-challenge/train/train/audio\\bed\\00176480_nohash_0.wav\n",
      "../BigData/tensorflow-speech-recognition-challenge/train/train/audio\\bed\\004ae714_nohash_0.wav\n",
      "../BigData/tensorflow-speech-recognition-challenge/train/train/audio\\bed\\004ae714_nohash_1.wav\n",
      "../BigData/tensorflow-speech-recognition-challenge/train/train/audio\\bed\\00f0204f_nohash_0.wav\n",
      "../BigData/tensorflow-speech-recognition-challenge/train/train/audio\\bed\\00f0204f_nohash_1.wav\n",
      "../BigData/tensorflow-speech-recognition-challenge/train/train/audio\\bird\\00b01445_nohash_0.wav\n",
      "../BigData/tensorflow-speech-recognition-challenge/train/train/audio\\bird\\00f0204f_nohash_0.wav\n",
      "../BigData/tensorflow-speech-recognition-challenge/train/train/audio\\bird\\00f0204f_nohash_1.wav\n",
      "../BigData/tensorflow-speech-recognition-challenge/train/train/audio\\bird\\00f0204f_nohash_2.wav\n",
      "../BigData/tensorflow-speech-recognition-challenge/train/train/audio\\bird\\00f0204f_nohash_3.wav\n",
      "../BigData/tensorflow-speech-recognition-challenge/train/train/audio\\cat\\004ae714_nohash_0.wav\n",
      "../BigData/tensorflow-speech-recognition-challenge/train/train/audio\\cat\\004ae714_nohash_1.wav\n",
      "../BigData/tensorflow-speech-recognition-challenge/train/train/audio\\cat\\00b01445_nohash_0.wav\n",
      "../BigData/tensorflow-speech-recognition-challenge/train/train/audio\\cat\\00f0204f_nohash_0.wav\n",
      "../BigData/tensorflow-speech-recognition-challenge/train/train/audio\\cat\\00f0204f_nohash_1.wav\n",
      "../BigData/tensorflow-speech-recognition-challenge/train/train/audio\\dog\\00b01445_nohash_0.wav\n",
      "../BigData/tensorflow-speech-recognition-challenge/train/train/audio\\dog\\00f0204f_nohash_0.wav\n",
      "../BigData/tensorflow-speech-recognition-challenge/train/train/audio\\dog\\00f0204f_nohash_1.wav\n",
      "../BigData/tensorflow-speech-recognition-challenge/train/train/audio\\dog\\00f0204f_nohash_2.wav\n",
      "../BigData/tensorflow-speech-recognition-challenge/train/train/audio\\dog\\012c8314_nohash_0.wav\n",
      "../BigData/tensorflow-speech-recognition-challenge/train/train/audio\\down\\00176480_nohash_0.wav\n",
      "../BigData/tensorflow-speech-recognition-challenge/train/train/audio\\down\\004ae714_nohash_0.wav\n",
      "../BigData/tensorflow-speech-recognition-challenge/train/train/audio\\down\\00b01445_nohash_0.wav\n",
      "../BigData/tensorflow-speech-recognition-challenge/train/train/audio\\down\\00b01445_nohash_1.wav\n",
      "../BigData/tensorflow-speech-recognition-challenge/train/train/audio\\down\\00f0204f_nohash_0.wav\n",
      "../BigData/tensorflow-speech-recognition-challenge/train/train/audio\\eight\\004ae714_nohash_0.wav\n",
      "../BigData/tensorflow-speech-recognition-challenge/train/train/audio\\eight\\00b01445_nohash_0.wav\n",
      "../BigData/tensorflow-speech-recognition-challenge/train/train/audio\\eight\\012c8314_nohash_0.wav\n",
      "../BigData/tensorflow-speech-recognition-challenge/train/train/audio\\eight\\012c8314_nohash_1.wav\n",
      "../BigData/tensorflow-speech-recognition-challenge/train/train/audio\\eight\\0132a06d_nohash_0.wav\n",
      "../BigData/tensorflow-speech-recognition-challenge/train/train/audio\\five\\004ae714_nohash_0.wav\n",
      "../BigData/tensorflow-speech-recognition-challenge/train/train/audio\\five\\00b01445_nohash_0.wav\n",
      "../BigData/tensorflow-speech-recognition-challenge/train/train/audio\\five\\00b01445_nohash_1.wav\n",
      "../BigData/tensorflow-speech-recognition-challenge/train/train/audio\\five\\00f0204f_nohash_0.wav\n",
      "../BigData/tensorflow-speech-recognition-challenge/train/train/audio\\five\\012c8314_nohash_0.wav\n",
      "../BigData/tensorflow-speech-recognition-challenge/train/train/audio\\four\\004ae714_nohash_0.wav\n",
      "../BigData/tensorflow-speech-recognition-challenge/train/train/audio\\four\\004ae714_nohash_1.wav\n",
      "../BigData/tensorflow-speech-recognition-challenge/train/train/audio\\four\\00f0204f_nohash_0.wav\n",
      "../BigData/tensorflow-speech-recognition-challenge/train/train/audio\\four\\00f0204f_nohash_1.wav\n",
      "../BigData/tensorflow-speech-recognition-challenge/train/train/audio\\four\\0132a06d_nohash_0.wav\n",
      "../BigData/tensorflow-speech-recognition-challenge/train/train/audio\\go\\004ae714_nohash_0.wav\n",
      "../BigData/tensorflow-speech-recognition-challenge/train/train/audio\\go\\004ae714_nohash_1.wav\n",
      "../BigData/tensorflow-speech-recognition-challenge/train/train/audio\\go\\00b01445_nohash_0.wav\n",
      "../BigData/tensorflow-speech-recognition-challenge/train/train/audio\\go\\00f0204f_nohash_0.wav\n",
      "../BigData/tensorflow-speech-recognition-challenge/train/train/audio\\go\\00f0204f_nohash_1.wav\n",
      "../BigData/tensorflow-speech-recognition-challenge/train/train/audio\\happy\\012c8314_nohash_0.wav\n",
      "../BigData/tensorflow-speech-recognition-challenge/train/train/audio\\happy\\0132a06d_nohash_0.wav\n",
      "../BigData/tensorflow-speech-recognition-challenge/train/train/audio\\happy\\0135f3f2_nohash_0.wav\n",
      "../BigData/tensorflow-speech-recognition-challenge/train/train/audio\\happy\\0137b3f4_nohash_0.wav\n",
      "../BigData/tensorflow-speech-recognition-challenge/train/train/audio\\happy\\014f9f65_nohash_0.wav\n",
      "../BigData/tensorflow-speech-recognition-challenge/train/train/audio\\house\\00b01445_nohash_0.wav\n",
      "../BigData/tensorflow-speech-recognition-challenge/train/train/audio\\house\\00b01445_nohash_1.wav\n",
      "../BigData/tensorflow-speech-recognition-challenge/train/train/audio\\house\\00b01445_nohash_2.wav\n",
      "../BigData/tensorflow-speech-recognition-challenge/train/train/audio\\house\\0132a06d_nohash_0.wav\n",
      "../BigData/tensorflow-speech-recognition-challenge/train/train/audio\\house\\0135f3f2_nohash_0.wav\n",
      "../BigData/tensorflow-speech-recognition-challenge/train/train/audio\\left\\00176480_nohash_0.wav\n",
      "../BigData/tensorflow-speech-recognition-challenge/train/train/audio\\left\\004ae714_nohash_0.wav\n",
      "../BigData/tensorflow-speech-recognition-challenge/train/train/audio\\left\\00b01445_nohash_0.wav\n",
      "../BigData/tensorflow-speech-recognition-challenge/train/train/audio\\left\\00f0204f_nohash_0.wav\n",
      "../BigData/tensorflow-speech-recognition-challenge/train/train/audio\\left\\012c8314_nohash_0.wav\n",
      "../BigData/tensorflow-speech-recognition-challenge/train/train/audio\\marvin\\00176480_nohash_0.wav\n",
      "../BigData/tensorflow-speech-recognition-challenge/train/train/audio\\marvin\\00176480_nohash_1.wav\n",
      "../BigData/tensorflow-speech-recognition-challenge/train/train/audio\\marvin\\00b01445_nohash_0.wav\n",
      "../BigData/tensorflow-speech-recognition-challenge/train/train/audio\\marvin\\00b01445_nohash_1.wav\n",
      "../BigData/tensorflow-speech-recognition-challenge/train/train/audio\\marvin\\012c8314_nohash_0.wav\n",
      "../BigData/tensorflow-speech-recognition-challenge/train/train/audio\\nine\\00b01445_nohash_0.wav\n",
      "../BigData/tensorflow-speech-recognition-challenge/train/train/audio\\nine\\012c8314_nohash_0.wav\n",
      "../BigData/tensorflow-speech-recognition-challenge/train/train/audio\\nine\\012c8314_nohash_1.wav\n",
      "../BigData/tensorflow-speech-recognition-challenge/train/train/audio\\nine\\012c8314_nohash_2.wav\n",
      "../BigData/tensorflow-speech-recognition-challenge/train/train/audio\\nine\\0132a06d_nohash_0.wav\n",
      "../BigData/tensorflow-speech-recognition-challenge/train/train/audio\\no\\012c8314_nohash_0.wav\n",
      "../BigData/tensorflow-speech-recognition-challenge/train/train/audio\\no\\0132a06d_nohash_0.wav\n",
      "../BigData/tensorflow-speech-recognition-challenge/train/train/audio\\no\\0132a06d_nohash_1.wav\n",
      "../BigData/tensorflow-speech-recognition-challenge/train/train/audio\\no\\0132a06d_nohash_2.wav\n",
      "../BigData/tensorflow-speech-recognition-challenge/train/train/audio\\no\\0132a06d_nohash_3.wav\n",
      "../BigData/tensorflow-speech-recognition-challenge/train/train/audio\\off\\00176480_nohash_0.wav\n",
      "../BigData/tensorflow-speech-recognition-challenge/train/train/audio\\off\\004ae714_nohash_0.wav\n",
      "../BigData/tensorflow-speech-recognition-challenge/train/train/audio\\off\\004ae714_nohash_1.wav\n",
      "../BigData/tensorflow-speech-recognition-challenge/train/train/audio\\off\\00b01445_nohash_0.wav\n",
      "../BigData/tensorflow-speech-recognition-challenge/train/train/audio\\off\\0132a06d_nohash_0.wav\n",
      "../BigData/tensorflow-speech-recognition-challenge/train/train/audio\\on\\004ae714_nohash_0.wav\n",
      "../BigData/tensorflow-speech-recognition-challenge/train/train/audio\\on\\004ae714_nohash_1.wav\n",
      "../BigData/tensorflow-speech-recognition-challenge/train/train/audio\\on\\00b01445_nohash_0.wav\n",
      "../BigData/tensorflow-speech-recognition-challenge/train/train/audio\\on\\0132a06d_nohash_0.wav\n",
      "../BigData/tensorflow-speech-recognition-challenge/train/train/audio\\on\\0132a06d_nohash_1.wav\n",
      "../BigData/tensorflow-speech-recognition-challenge/train/train/audio\\one\\00176480_nohash_0.wav\n",
      "../BigData/tensorflow-speech-recognition-challenge/train/train/audio\\one\\004ae714_nohash_0.wav\n",
      "../BigData/tensorflow-speech-recognition-challenge/train/train/audio\\one\\00f0204f_nohash_0.wav\n",
      "../BigData/tensorflow-speech-recognition-challenge/train/train/audio\\one\\0132a06d_nohash_0.wav\n",
      "../BigData/tensorflow-speech-recognition-challenge/train/train/audio\\one\\0132a06d_nohash_1.wav\n",
      "../BigData/tensorflow-speech-recognition-challenge/train/train/audio\\right\\00b01445_nohash_0.wav\n",
      "../BigData/tensorflow-speech-recognition-challenge/train/train/audio\\right\\012c8314_nohash_0.wav\n",
      "../BigData/tensorflow-speech-recognition-challenge/train/train/audio\\right\\012c8314_nohash_1.wav\n",
      "../BigData/tensorflow-speech-recognition-challenge/train/train/audio\\right\\0132a06d_nohash_0.wav\n",
      "../BigData/tensorflow-speech-recognition-challenge/train/train/audio\\right\\0132a06d_nohash_1.wav\n",
      "../BigData/tensorflow-speech-recognition-challenge/train/train/audio\\seven\\004ae714_nohash_0.wav\n",
      "../BigData/tensorflow-speech-recognition-challenge/train/train/audio\\seven\\004ae714_nohash_1.wav\n",
      "../BigData/tensorflow-speech-recognition-challenge/train/train/audio\\seven\\004ae714_nohash_2.wav\n",
      "../BigData/tensorflow-speech-recognition-challenge/train/train/audio\\seven\\012c8314_nohash_0.wav\n",
      "../BigData/tensorflow-speech-recognition-challenge/train/train/audio\\seven\\0132a06d_nohash_0.wav\n",
      "../BigData/tensorflow-speech-recognition-challenge/train/train/audio\\sheila\\004ae714_nohash_0.wav\n",
      "../BigData/tensorflow-speech-recognition-challenge/train/train/audio\\sheila\\00f0204f_nohash_0.wav\n",
      "../BigData/tensorflow-speech-recognition-challenge/train/train/audio\\sheila\\00f0204f_nohash_1.wav\n",
      "../BigData/tensorflow-speech-recognition-challenge/train/train/audio\\sheila\\00f0204f_nohash_2.wav\n",
      "../BigData/tensorflow-speech-recognition-challenge/train/train/audio\\sheila\\0132a06d_nohash_0.wav\n",
      "../BigData/tensorflow-speech-recognition-challenge/train/train/audio\\six\\004ae714_nohash_0.wav\n",
      "../BigData/tensorflow-speech-recognition-challenge/train/train/audio\\six\\004ae714_nohash_1.wav\n",
      "../BigData/tensorflow-speech-recognition-challenge/train/train/audio\\six\\00b01445_nohash_0.wav\n",
      "../BigData/tensorflow-speech-recognition-challenge/train/train/audio\\six\\00b01445_nohash_1.wav\n",
      "../BigData/tensorflow-speech-recognition-challenge/train/train/audio\\six\\0132a06d_nohash_0.wav\n",
      "../BigData/tensorflow-speech-recognition-challenge/train/train/audio\\stop\\004ae714_nohash_0.wav\n",
      "../BigData/tensorflow-speech-recognition-challenge/train/train/audio\\stop\\012c8314_nohash_0.wav\n",
      "../BigData/tensorflow-speech-recognition-challenge/train/train/audio\\stop\\0132a06d_nohash_0.wav\n",
      "../BigData/tensorflow-speech-recognition-challenge/train/train/audio\\stop\\0132a06d_nohash_1.wav\n",
      "../BigData/tensorflow-speech-recognition-challenge/train/train/audio\\stop\\0132a06d_nohash_2.wav\n",
      "../BigData/tensorflow-speech-recognition-challenge/train/train/audio\\three\\00b01445_nohash_0.wav\n",
      "../BigData/tensorflow-speech-recognition-challenge/train/train/audio\\three\\00b01445_nohash_1.wav\n",
      "../BigData/tensorflow-speech-recognition-challenge/train/train/audio\\three\\00b01445_nohash_2.wav\n",
      "../BigData/tensorflow-speech-recognition-challenge/train/train/audio\\three\\012c8314_nohash_0.wav\n",
      "../BigData/tensorflow-speech-recognition-challenge/train/train/audio\\three\\012c8314_nohash_1.wav\n",
      "../BigData/tensorflow-speech-recognition-challenge/train/train/audio\\tree\\00b01445_nohash_0.wav\n",
      "../BigData/tensorflow-speech-recognition-challenge/train/train/audio\\tree\\0132a06d_nohash_0.wav\n",
      "../BigData/tensorflow-speech-recognition-challenge/train/train/audio\\tree\\0135f3f2_nohash_0.wav\n",
      "../BigData/tensorflow-speech-recognition-challenge/train/train/audio\\tree\\0137b3f4_nohash_0.wav\n",
      "../BigData/tensorflow-speech-recognition-challenge/train/train/audio\\tree\\01648c51_nohash_0.wav\n",
      "../BigData/tensorflow-speech-recognition-challenge/train/train/audio\\two\\00b01445_nohash_0.wav\n",
      "../BigData/tensorflow-speech-recognition-challenge/train/train/audio\\two\\00b01445_nohash_1.wav\n",
      "../BigData/tensorflow-speech-recognition-challenge/train/train/audio\\two\\00b01445_nohash_2.wav\n",
      "../BigData/tensorflow-speech-recognition-challenge/train/train/audio\\two\\00f0204f_nohash_0.wav\n",
      "../BigData/tensorflow-speech-recognition-challenge/train/train/audio\\two\\00f0204f_nohash_1.wav\n",
      "../BigData/tensorflow-speech-recognition-challenge/train/train/audio\\up\\004ae714_nohash_0.wav\n",
      "../BigData/tensorflow-speech-recognition-challenge/train/train/audio\\up\\00b01445_nohash_0.wav\n",
      "../BigData/tensorflow-speech-recognition-challenge/train/train/audio\\up\\00b01445_nohash_1.wav\n",
      "../BigData/tensorflow-speech-recognition-challenge/train/train/audio\\up\\0132a06d_nohash_0.wav\n",
      "../BigData/tensorflow-speech-recognition-challenge/train/train/audio\\up\\0132a06d_nohash_1.wav\n",
      "../BigData/tensorflow-speech-recognition-challenge/train/train/audio\\wow\\004ae714_nohash_0.wav\n",
      "../BigData/tensorflow-speech-recognition-challenge/train/train/audio\\wow\\00f0204f_nohash_0.wav\n",
      "../BigData/tensorflow-speech-recognition-challenge/train/train/audio\\wow\\00f0204f_nohash_1.wav\n",
      "../BigData/tensorflow-speech-recognition-challenge/train/train/audio\\wow\\0132a06d_nohash_0.wav\n",
      "../BigData/tensorflow-speech-recognition-challenge/train/train/audio\\wow\\0135f3f2_nohash_0.wav\n",
      "../BigData/tensorflow-speech-recognition-challenge/train/train/audio\\yes\\004ae714_nohash_0.wav\n",
      "../BigData/tensorflow-speech-recognition-challenge/train/train/audio\\yes\\004ae714_nohash_1.wav\n",
      "../BigData/tensorflow-speech-recognition-challenge/train/train/audio\\yes\\00f0204f_nohash_0.wav\n",
      "../BigData/tensorflow-speech-recognition-challenge/train/train/audio\\yes\\00f0204f_nohash_1.wav\n",
      "../BigData/tensorflow-speech-recognition-challenge/train/train/audio\\yes\\00f0204f_nohash_2.wav\n",
      "../BigData/tensorflow-speech-recognition-challenge/train/train/audio\\zero\\004ae714_nohash_0.wav\n",
      "../BigData/tensorflow-speech-recognition-challenge/train/train/audio\\zero\\004ae714_nohash_1.wav\n",
      "../BigData/tensorflow-speech-recognition-challenge/train/train/audio\\zero\\012c8314_nohash_0.wav\n",
      "../BigData/tensorflow-speech-recognition-challenge/train/train/audio\\zero\\012c8314_nohash_1.wav\n",
      "../BigData/tensorflow-speech-recognition-challenge/train/train/audio\\zero\\0132a06d_nohash_0.wav\n"
     ]
    }
   ],
   "source": [
    "# from pyunpack import Archive\n",
    "# import shutil\n",
    "# if not os.path.exists('/kaggle/working/tensorflow-speech-recognition-challenge/train/'):\n",
    "#     os.makedirs('/kaggle/working/tensorflow-speech-recognition-challenge/train/')\n",
    "# Archive('/kaggle/input/tensorflow-speech-recognition-challenge/train.7z').extractall('/kaggle/working/tensorflow-speech-recognition-challenge/train/')\n",
    "\n",
    "for dirname, _, filenames in os.walk('../BigData/tensorflow-speech-recognition-challenge/train/train/audio'):\n",
    "    for filename in filenames[:5]:\n",
    "        print(os.path.join(dirname, filename))"
   ]
  },
  {
   "cell_type": "markdown",
   "id": "a122b203",
   "metadata": {
    "papermill": {
     "duration": 0.058636,
     "end_time": "2022-06-16T18:54:36.787121",
     "exception": false,
     "start_time": "2022-06-16T18:54:36.728485",
     "status": "completed"
    },
    "tags": []
   },
   "source": [
    "# <center> Implementing the Speech-to-Text Model in Python\n",
    "**Understanding the Problem Statement for our Speech-to-Text Project**\n",
    "\n",
    "Let’s understand the problem statement of our project before we move into the implementation part.\n",
    "\n",
    "We might be on the verge of having too many screens around us. It seems like every day, new versions of common objects are “re-invented” with built-in wifi and bright touchscreens. A promising antidote to our screen addiction is voice interfaces. \n",
    "\n",
    "__You can download the dataset from__ [here](https://www.kaggle.com/c/tensorflow-speech-recognition-challenge).\n",
    "    \n",
    "TensorFlow recently released the Speech Commands Datasets. It includes 65,000 one-second long utterances of 30 short words, by thousands of different people. We’ll build a speech recognition system that understands simple spoken commands. <br>    \n",
    "__Reference Aticle__ [Click here](https://www.analyticsvidhya.com/blog/2019/07/learn-build-first-speech-to-text-model-python/) to understand the basics of signal processing prior implementing the speech to text."
   ]
  },
  {
   "cell_type": "markdown",
   "id": "b645f248",
   "metadata": {
    "papermill": {
     "duration": 0.059359,
     "end_time": "2022-06-16T18:54:36.905806",
     "exception": false,
     "start_time": "2022-06-16T18:54:36.846447",
     "status": "completed"
    },
    "tags": []
   },
   "source": [
    "**Import the libraries**\n",
    "\n",
    "First, import all the necessary libraries into our notebook. LibROSA and SciPy are the Python libraries used for processing audio signals."
   ]
  },
  {
   "cell_type": "code",
   "execution_count": 351,
   "id": "89e03a58",
   "metadata": {
    "execution": {
     "iopub.execute_input": "2022-06-16T18:54:37.029508Z",
     "iopub.status.busy": "2022-06-16T18:54:37.028912Z",
     "iopub.status.idle": "2022-06-16T18:54:38.938230Z",
     "shell.execute_reply": "2022-06-16T18:54:38.937648Z"
    },
    "papermill": {
     "duration": 1.973785,
     "end_time": "2022-06-16T18:54:38.938358",
     "exception": false,
     "start_time": "2022-06-16T18:54:36.964573",
     "status": "completed"
    },
    "tags": []
   },
   "outputs": [],
   "source": [
    "import warnings\n",
    "warnings.filterwarnings(\"ignore\")\n",
    "\n",
    "import matplotlib.pyplot as plt\n",
    "import numpy as np\n",
    "\n",
    "import librosa\n",
    "import IPython.display as ipd\n",
    "from scipy.io import wavfile"
   ]
  },
  {
   "cell_type": "markdown",
   "id": "3e20c994",
   "metadata": {
    "papermill": {
     "duration": 0.059636,
     "end_time": "2022-06-16T18:54:39.057937",
     "exception": false,
     "start_time": "2022-06-16T18:54:38.998301",
     "status": "completed"
    },
    "tags": []
   },
   "source": [
    "**Data Exploration and Visualization**\n",
    "\n",
    "Data Exploration and Visualization helps us to understand the data as well as pre-processing steps in a better way. \n",
    "\n",
    "**Visualization of Audio signal in time series domain**\n",
    "\n",
    "Now, we’ll visualize the audio signal in the time series domain:"
   ]
  },
  {
   "cell_type": "code",
   "execution_count": 352,
   "id": "7f63cab0",
   "metadata": {
    "execution": {
     "iopub.execute_input": "2022-06-16T18:54:39.181987Z",
     "iopub.status.busy": "2022-06-16T18:54:39.181119Z",
     "iopub.status.idle": "2022-06-16T18:54:39.183935Z",
     "shell.execute_reply": "2022-06-16T18:54:39.183531Z"
    },
    "papermill": {
     "duration": 0.065921,
     "end_time": "2022-06-16T18:54:39.184047",
     "exception": false,
     "start_time": "2022-06-16T18:54:39.118126",
     "status": "completed"
    },
    "tags": []
   },
   "outputs": [],
   "source": [
    "train_audio_path = '../BigData/tensorflow-speech-recognition-challenge/train/train/audio/'"
   ]
  },
  {
   "cell_type": "code",
   "execution_count": 353,
   "id": "c823c82c",
   "metadata": {
    "execution": {
     "iopub.execute_input": "2022-06-16T18:54:39.307996Z",
     "iopub.status.busy": "2022-06-16T18:54:39.307132Z",
     "iopub.status.idle": "2022-06-16T18:54:39.510762Z",
     "shell.execute_reply": "2022-06-16T18:54:39.511135Z"
    },
    "papermill": {
     "duration": 0.268487,
     "end_time": "2022-06-16T18:54:39.511283",
     "exception": false,
     "start_time": "2022-06-16T18:54:39.242796",
     "status": "completed"
    },
    "tags": []
   },
   "outputs": [
    {
     "data": {
      "text/plain": [
       "[<matplotlib.lines.Line2D at 0x1fd660d4940>]"
      ]
     },
     "execution_count": 353,
     "metadata": {},
     "output_type": "execute_result"
    },
    {
     "data": {
      "image/png": "[encoded data removed]",
      "text/plain": [
       "<Figure size 1008x576 with 1 Axes>"
      ]
     },
     "metadata": {
      "needs_background": "light"
     },
     "output_type": "display_data"
    }
   ],
   "source": [
    "samples, sample_rate = librosa.load(train_audio_path+'barev/Output_0.wav', sr = 16000)\n",
    "fig = plt.figure(figsize=(14, 8))\n",
    "ax1 = fig.add_subplot(211)\n",
    "ax1.set_title('Raw wave of ' + '../input/train/audio/barev/Output_0.wav')\n",
    "ax1.set_xlabel('time')\n",
    "ax1.set_ylabel('Amplitude')\n",
    "ax1.plot(np.linspace(0, sample_rate/len(samples), sample_rate), samples)"
   ]
  },
  {
   "cell_type": "code",
   "execution_count": 354,
   "id": "bfffcee8",
   "metadata": {
    "execution": {
     "iopub.execute_input": "2022-06-16T18:54:39.639086Z",
     "iopub.status.busy": "2022-06-16T18:54:39.638551Z",
     "iopub.status.idle": "2022-06-16T18:54:40.413704Z",
     "shell.execute_reply": "2022-06-16T18:54:40.414128Z"
    },
    "papermill": {
     "duration": 0.84102,
     "end_time": "2022-06-16T18:54:40.414334",
     "exception": false,
     "start_time": "2022-06-16T18:54:39.573314",
     "status": "completed"
    },
    "tags": []
   },
   "outputs": [
    {
     "data": {
      "text/plain": [
       "[<matplotlib.lines.Line2D at 0x1fd66566800>]"
      ]
     },
     "execution_count": 354,
     "metadata": {},
     "output_type": "execute_result"
    },
    {
     "data": {
      "image/png": "[encoded data removed]",
      "text/plain": [
       "<Figure size 1008x576 with 1 Axes>"
      ]
     },
     "metadata": {
      "needs_background": "light"
     },
     "output_type": "display_data"
    }
   ],
   "source": [
    "samples, sample_rate = librosa.load(train_audio_path+'barev/Output_0.wav', sr = 16000)\n",
    "fig = plt.figure(figsize=(14, 8))\n",
    "ax1 = fig.add_subplot(211)\n",
    "ax1.set_title('Raw wave of ' + '../input/train/audio/barev/Output_0.wav')\n",
    "ax1.set_xlabel('time')\n",
    "ax1.set_ylabel('Amplitude')\n",
    "ax1.plot(np.linspace(0, sample_rate/len(samples), sample_rate), samples)"
   ]
  },
  {
   "cell_type": "markdown",
   "id": "d09af0bf",
   "metadata": {
    "papermill": {
     "duration": 0.065372,
     "end_time": "2022-06-16T18:54:40.543000",
     "exception": false,
     "start_time": "2022-06-16T18:54:40.477628",
     "status": "completed"
    },
    "tags": []
   },
   "source": [
    "**Sampling rate**\n",
    "\n",
    "Let us now look at the sampling rate of the audio signals"
   ]
  },
  {
   "cell_type": "code",
   "execution_count": 355,
   "id": "37cdecb8",
   "metadata": {
    "execution": {
     "iopub.execute_input": "2022-06-16T18:54:40.691774Z",
     "iopub.status.busy": "2022-06-16T18:54:40.690803Z",
     "iopub.status.idle": "2022-06-16T18:54:40.780620Z",
     "shell.execute_reply": "2022-06-16T18:54:40.779831Z"
    },
    "papermill": {
     "duration": 0.174778,
     "end_time": "2022-06-16T18:54:40.780824",
     "exception": false,
     "start_time": "2022-06-16T18:54:40.606046",
     "status": "completed"
    },
    "tags": []
   },
   "outputs": [],
   "source": [
    "# sample_rate=44100\n",
    "# samples, sample_rate = librosa.load(train_audio_path+'barev/Output_0.wav', sr = sample_rate)\n",
    "# ipd.Audio(samples, rate=sample_rate)"
   ]
  },
  {
   "cell_type": "code",
   "execution_count": 356,
   "id": "9219a064",
   "metadata": {
    "execution": {
     "iopub.execute_input": "2022-06-16T18:54:41.032981Z",
     "iopub.status.busy": "2022-06-16T18:54:41.032131Z",
     "iopub.status.idle": "2022-06-16T18:54:41.041035Z",
     "shell.execute_reply": "2022-06-16T18:54:41.041627Z"
    },
    "papermill": {
     "duration": 0.136788,
     "end_time": "2022-06-16T18:54:41.041832",
     "exception": false,
     "start_time": "2022-06-16T18:54:40.905044",
     "status": "completed"
    },
    "tags": []
   },
   "outputs": [],
   "source": [
    "# sample_rate=16000\n",
    "# samples, sample_rate = librosa.load(train_audio_path+'barev/Output_0.wav', sr = sample_rate)\n",
    "# ipd.Audio(samples, rate=sample_rate)"
   ]
  },
  {
   "cell_type": "code",
   "execution_count": 357,
   "id": "c7aec124",
   "metadata": {
    "execution": {
     "iopub.execute_input": "2022-06-16T18:54:41.271117Z",
     "iopub.status.busy": "2022-06-16T18:54:41.270361Z",
     "iopub.status.idle": "2022-06-16T18:54:41.288473Z",
     "shell.execute_reply": "2022-06-16T18:54:41.288890Z"
    },
    "papermill": {
     "duration": 0.136128,
     "end_time": "2022-06-16T18:54:41.289034",
     "exception": false,
     "start_time": "2022-06-16T18:54:41.152906",
     "status": "completed"
    },
    "tags": []
   },
   "outputs": [
    {
     "data": {
      "text/html": [
       "\n",
       "                <audio  controls=\"controls\" >\n",
       "                    <source src=\"data:audio/wav;base64,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\" type=\"audio/wav\" />\n",
       "                    Your browser does not support the audio element.\n",
       "                </audio>\n",
       "              "
      ],
      "text/plain": [
       "<IPython.lib.display.Audio object>"
      ]
     },
     "execution_count": 357,
     "metadata": {},
     "output_type": "execute_result"
    }
   ],
   "source": [
    "sample_rate=16000\n",
    "samples, sample_rate = librosa.load(train_audio_path+'barev/Output_0.wav', sr = sample_rate)\n",
    "ipd.Audio(samples, rate=sample_rate)"
   ]
  },
  {
   "cell_type": "code",
   "execution_count": 358,
   "id": "d8063ef1",
   "metadata": {
    "execution": {
     "iopub.execute_input": "2022-06-16T18:54:41.430210Z",
     "iopub.status.busy": "2022-06-16T18:54:41.429462Z",
     "iopub.status.idle": "2022-06-16T18:54:41.448488Z",
     "shell.execute_reply": "2022-06-16T18:54:41.449124Z"
    },
    "papermill": {
     "duration": 0.09308,
     "end_time": "2022-06-16T18:54:41.449294",
     "exception": false,
     "start_time": "2022-06-16T18:54:41.356214",
     "status": "completed"
    },
    "tags": []
   },
   "outputs": [],
   "source": [
    "# sample_rate=3000\n",
    "# samples, sample_rate = librosa.load(train_audio_path+'barev/Output_0.wav', sr = sample_rate)\n",
    "# ipd.Audio(samples, rate=sample_rate)"
   ]
  },
  {
   "cell_type": "markdown",
   "id": "1440f510",
   "metadata": {
    "papermill": {
     "duration": 0.067328,
     "end_time": "2022-06-16T18:54:41.585120",
     "exception": false,
     "start_time": "2022-06-16T18:54:41.517792",
     "status": "completed"
    },
    "tags": []
   },
   "source": [
    "**Resampling**\n",
    "\n",
    "From the above, we can understand that the sampling rate of the signal is 16000 hz. Let us resample it to 8000 hz since most of the speech related frequencies are present in 8000z "
   ]
  },
  {
   "cell_type": "code",
   "execution_count": 359,
   "id": "781fe1b2",
   "metadata": {
    "execution": {
     "iopub.execute_input": "2022-06-16T18:54:41.734103Z",
     "iopub.status.busy": "2022-06-16T18:54:41.733204Z",
     "iopub.status.idle": "2022-06-16T18:54:41.747228Z",
     "shell.execute_reply": "2022-06-16T18:54:41.746819Z"
    },
    "papermill": {
     "duration": 0.090061,
     "end_time": "2022-06-16T18:54:41.747347",
     "exception": false,
     "start_time": "2022-06-16T18:54:41.657286",
     "status": "completed"
    },
    "tags": []
   },
   "outputs": [],
   "source": [
    "# samples = librosa.resample(samples, sample_rate, 8000)\n",
    "# ipd.Audio(samples, rate=8000)"
   ]
  },
  {
   "cell_type": "markdown",
   "id": "539822de",
   "metadata": {
    "papermill": {
     "duration": 0.069141,
     "end_time": "2022-06-16T18:54:41.886317",
     "exception": false,
     "start_time": "2022-06-16T18:54:41.817176",
     "status": "completed"
    },
    "tags": []
   },
   "source": [
    "Now, let’s understand the number of recordings for each voice command:"
   ]
  },
  {
   "cell_type": "code",
   "execution_count": 360,
   "id": "8f922794",
   "metadata": {
    "execution": {
     "iopub.execute_input": "2022-06-16T18:54:42.030378Z",
     "iopub.status.busy": "2022-06-16T18:54:42.029340Z",
     "iopub.status.idle": "2022-06-16T18:54:42.031250Z",
     "shell.execute_reply": "2022-06-16T18:54:42.031813Z"
    },
    "papermill": {
     "duration": 0.076493,
     "end_time": "2022-06-16T18:54:42.031961",
     "exception": false,
     "start_time": "2022-06-16T18:54:41.955468",
     "status": "completed"
    },
    "tags": []
   },
   "outputs": [],
   "source": [
    "labels=os.listdir(train_audio_path)"
   ]
  },
  {
   "cell_type": "code",
   "execution_count": 361,
   "id": "c094509c",
   "metadata": {
    "execution": {
     "iopub.execute_input": "2022-06-16T18:54:42.177909Z",
     "iopub.status.busy": "2022-06-16T18:54:42.177075Z",
     "iopub.status.idle": "2022-06-16T18:54:42.515000Z",
     "shell.execute_reply": "2022-06-16T18:54:42.515403Z"
    },
    "papermill": {
     "duration": 0.414222,
     "end_time": "2022-06-16T18:54:42.515606",
     "exception": false,
     "start_time": "2022-06-16T18:54:42.101384",
     "status": "completed"
    },
    "tags": []
   },
   "outputs": [
    {
     "data": {
      "image/png": "[encoded data removed]",
      "text/plain": [
       "<Figure size 2160x360 with 1 Axes>"
      ]
     },
     "metadata": {
      "needs_background": "light"
     },
     "output_type": "display_data"
    }
   ],
   "source": [
    "#find count of each label and plot bar graph\n",
    "no_of_recordings=[]\n",
    "for label in labels:\n",
    "    waves = [f for f in os.listdir(train_audio_path + '/'+ label) if f.endswith('.wav')]\n",
    "    no_of_recordings.append(len(waves))\n",
    "    \n",
    "#plot\n",
    "plt.figure(figsize=(30,5))\n",
    "index = np.arange(len(labels))\n",
    "plt.bar(index, no_of_recordings)\n",
    "plt.xlabel('Commands', fontsize=12)\n",
    "plt.ylabel('No of recordings', fontsize=12)\n",
    "plt.xticks(index, labels, fontsize=15, rotation=60)\n",
    "plt.title('No. of recordings for each command')\n",
    "plt.show()"
   ]
  },
  {
   "cell_type": "code",
   "execution_count": 362,
   "id": "fdce9dc8",
   "metadata": {
    "execution": {
     "iopub.execute_input": "2022-06-16T18:54:42.731293Z",
     "iopub.status.busy": "2022-06-16T18:54:42.730393Z",
     "iopub.status.idle": "2022-06-16T18:54:42.733058Z",
     "shell.execute_reply": "2022-06-16T18:54:42.732645Z"
    },
    "papermill": {
     "duration": 0.077613,
     "end_time": "2022-06-16T18:54:42.733175",
     "exception": false,
     "start_time": "2022-06-16T18:54:42.655562",
     "status": "completed"
    },
    "tags": []
   },
   "outputs": [],
   "source": [
    "# labels=[\"yes\", \"no\",\"stop\", \"go\"]\n",
    "labels=[\"background_noise\", \"barev\"]"
   ]
  },
  {
   "cell_type": "markdown",
   "id": "a618825a",
   "metadata": {
    "papermill": {
     "duration": 0.070345,
     "end_time": "2022-06-16T18:54:42.874408",
     "exception": false,
     "start_time": "2022-06-16T18:54:42.804063",
     "status": "completed"
    },
    "tags": []
   },
   "source": [
    "**Duration of recordings**\n",
    "\n",
    "What’s next? A look at the distribution of the duration of recordings:"
   ]
  },
  {
   "cell_type": "code",
   "execution_count": 363,
   "id": "af18bacf",
   "metadata": {
    "execution": {
     "iopub.execute_input": "2022-06-16T18:54:43.023098Z",
     "iopub.status.busy": "2022-06-16T18:54:43.022292Z",
     "iopub.status.idle": "2022-06-16T18:54:44.522886Z",
     "shell.execute_reply": "2022-06-16T18:54:44.522402Z"
    },
    "papermill": {
     "duration": 1.576805,
     "end_time": "2022-06-16T18:54:44.523014",
     "exception": false,
     "start_time": "2022-06-16T18:54:42.946209",
     "status": "completed"
    },
    "tags": []
   },
   "outputs": [
    {
     "data": {
      "text/plain": [
       "(array([2.000e+00, 1.000e+00, 0.000e+00, 0.000e+00, 0.000e+00, 0.000e+00,\n",
       "        0.000e+00, 1.000e+00, 0.000e+00, 1.404e+03]),\n",
       " array([0.156 , 0.2404, 0.3248, 0.4092, 0.4936, 0.578 , 0.6624, 0.7468,\n",
       "        0.8312, 0.9156, 1.    ]),\n",
       " <BarContainer object of 10 artists>)"
      ]
     },
     "execution_count": 363,
     "metadata": {},
     "output_type": "execute_result"
    },
    {
     "data": {
      "image/png": "[encoded data removed]",
      "text/plain": [
       "<Figure size 432x288 with 1 Axes>"
      ]
     },
     "metadata": {
      "needs_background": "light"
     },
     "output_type": "display_data"
    }
   ],
   "source": [
    "duration_of_recordings=[]\n",
    "for label in labels:\n",
    "    waves = [f for f in os.listdir(train_audio_path + '/'+ label) if f.endswith('.wav')]\n",
    "    for wav in waves:\n",
    "        sample_rate, samples = wavfile.read(train_audio_path + '/' + label + '/' + wav)\n",
    "        duration_of_recordings.append(float(len(samples)/sample_rate))\n",
    "    \n",
    "plt.hist(np.array(duration_of_recordings))"
   ]
  },
  {
   "cell_type": "markdown",
   "id": "980a361d",
   "metadata": {
    "papermill": {
     "duration": 0.071375,
     "end_time": "2022-06-16T18:54:44.665967",
     "exception": false,
     "start_time": "2022-06-16T18:54:44.594592",
     "status": "completed"
    },
    "tags": []
   },
   "source": [
    "**Preprocessing the audio waves**\n",
    "\n",
    "In the data exploration part earlier, we have seen that the duration of a few recordings is less than 1 second and the sampling rate is too high. So, let us read the audio waves and use the below-preprocessing steps to deal with this.\n",
    "\n",
    "Here are the two steps we’ll follow:\n",
    "\n",
    "* Resampling\n",
    "* Removing shorter commands of less than 1 second\n",
    "\n",
    "Let us define these preprocessing steps in the below code snippet:"
   ]
  },
  {
   "cell_type": "code",
   "execution_count": 364,
   "id": "d56c15de",
   "metadata": {
    "execution": {
     "iopub.execute_input": "2022-06-16T18:54:44.818666Z",
     "iopub.status.busy": "2022-06-16T18:54:44.817873Z",
     "iopub.status.idle": "2022-06-16T19:00:51.871342Z",
     "shell.execute_reply": "2022-06-16T19:00:51.870860Z"
    },
    "papermill": {
     "duration": 367.13238,
     "end_time": "2022-06-16T19:00:51.871508",
     "exception": false,
     "start_time": "2022-06-16T18:54:44.739128",
     "status": "completed"
    },
    "tags": []
   },
   "outputs": [
    {
     "name": "stdout",
     "output_type": "stream",
     "text": [
      "background_noise\n",
      "barev\n"
     ]
    }
   ],
   "source": [
    "from an_feature import mfcc\n",
    "all_wave = []\n",
    "all_label = []\n",
    "for label in labels:\n",
    "    print(label)\n",
    "    waves = [f for f in os.listdir(train_audio_path + '/'+ label) if f.endswith('.wav')]\n",
    "    for wav in waves:\n",
    "        samples, sample_rate = librosa.load(train_audio_path + '/' + label + '/' + wav, sr = 16000)\n",
    "        samples = librosa.resample(samples, sample_rate, 8000)\n",
    "        if(len(samples)== 8000) : \n",
    "            coefs, power = mfcc(samples, 8000)\n",
    "#             samples = librosa.feature.melspectrogram(y=samples, sr=8000, n_mels=28)\n",
    "            power = librosa.resample(power, sample_rate, 8000)\n",
    "            all_wave.append(power)\n",
    "            all_label.append(label)"
   ]
  },
  {
   "cell_type": "code",
   "execution_count": 365,
   "id": "1283c652",
   "metadata": {
    "execution": {
     "iopub.execute_input": "2022-06-16T19:00:52.027447Z",
     "iopub.status.busy": "2022-06-16T19:00:52.026816Z",
     "iopub.status.idle": "2022-06-16T19:00:52.030693Z",
     "shell.execute_reply": "2022-06-16T19:00:52.030069Z"
    },
    "papermill": {
     "duration": 0.08387,
     "end_time": "2022-06-16T19:00:52.030832",
     "exception": false,
     "start_time": "2022-06-16T19:00:51.946962",
     "status": "completed"
    },
    "tags": []
   },
   "outputs": [
    {
     "name": "stdout",
     "output_type": "stream",
     "text": [
      "1404\n"
     ]
    }
   ],
   "source": [
    "print(len(all_wave))"
   ]
  },
  {
   "cell_type": "code",
   "execution_count": 366,
   "id": "f4e9379c",
   "metadata": {
    "execution": {
     "iopub.execute_input": "2022-06-16T19:00:52.190632Z",
     "iopub.status.busy": "2022-06-16T19:00:52.189522Z",
     "iopub.status.idle": "2022-06-16T19:00:52.194803Z",
     "shell.execute_reply": "2022-06-16T19:00:52.194358Z"
    },
    "papermill": {
     "duration": 0.087861,
     "end_time": "2022-06-16T19:00:52.194918",
     "exception": false,
     "start_time": "2022-06-16T19:00:52.107057",
     "status": "completed"
    },
    "tags": []
   },
   "outputs": [
    {
     "name": "stdout",
     "output_type": "stream",
     "text": [
      "1404\n",
      "(40, 11)\n"
     ]
    },
    {
     "data": {
      "text/plain": [
       "array([[-8.44497987e+00, -2.14262748e+01, -2.03735451e+01,\n",
       "        -1.92903890e+01, -2.11571728e+01, -2.19987617e+01,\n",
       "        -2.34078380e+01, -1.85057040e+01, -1.76527989e+01,\n",
       "        -2.27722794e+01,  0.00000000e+00],\n",
       "       [-2.92568392e+00, -7.14494806e+00, -4.11904487e+00,\n",
       "        -7.45544316e+00, -1.21829877e+01, -6.22699071e+00,\n",
       "        -6.04619214e+00, -1.04128936e+01, -1.02747486e+01,\n",
       "        -8.29744429e+00,  0.00000000e+00],\n",
       "       [ 6.11283216e-01, -1.86699756e+00, -2.73144548e+00,\n",
       "        -2.42915069e+00, -2.35862910e+00, -5.72215926e-01,\n",
       "        -1.13052088e-01, -1.74474574e+00, -4.43752797e-01,\n",
       "        -1.64444441e+00,  0.00000000e+00],\n",
       "       [-1.29048836e+00, -5.51299962e+00, -5.63600339e+00,\n",
       "        -4.28001413e+00, -6.05598361e+00, -4.95594306e+00,\n",
       "        -4.81352150e+00, -7.04216714e+00, -4.01368449e+00,\n",
       "        -7.07844567e+00,  0.00000000e+00],\n",
       "       [ 1.42000466e+00, -3.79439993e+00, -4.31123967e+00,\n",
       "        -5.88385448e+00, -3.43219449e+00, -5.49881954e+00,\n",
       "        -6.44117313e+00, -2.34531642e+00, -4.58687100e+00,\n",
       "        -5.51276504e+00,  0.00000000e+00],\n",
       "       [ 1.13114252e+00, -7.45144226e-01, -1.45601046e+00,\n",
       "        -7.48002499e-01, -1.43461980e+00, -3.18087531e+00,\n",
       "        -6.67246257e+00, -3.80857652e+00, -1.26736422e+00,\n",
       "        -4.35341514e+00,  0.00000000e+00],\n",
       "       [-3.78095543e+00, -2.79984871e+00, -3.64432684e+00,\n",
       "        -4.61939804e+00, -4.18234086e+00, -4.10691534e+00,\n",
       "        -8.53518088e-01, -3.39450950e+00, -3.49164611e+00,\n",
       "        -2.31184617e+00,  0.00000000e+00],\n",
       "       [-1.64874592e+00, -8.84916781e-01, -8.56094987e-01,\n",
       "        -2.84199823e+00, -2.68736068e-01,  9.12640235e-01,\n",
       "         3.35675068e+00,  6.27315851e-01,  1.71247374e-01,\n",
       "        -2.41061968e+00,  0.00000000e+00],\n",
       "       [ 3.70934168e-01, -2.48670698e+00, -3.22404708e+00,\n",
       "        -1.87211096e+00, -1.41149734e+00, -2.40540157e+00,\n",
       "        -1.62848000e+00, -3.96055634e+00, -4.03371538e+00,\n",
       "        -4.70899781e+00,  0.00000000e+00],\n",
       "       [ 4.57436934e+00,  3.69835018e+00,  4.00834387e+00,\n",
       "         4.38765391e+00,  6.75254564e+00,  4.16474139e+00,\n",
       "         1.81022850e+00,  4.32628423e+00,  5.01092702e+00,\n",
       "         5.69846962e+00,  0.00000000e+00],\n",
       "       [ 1.14631944e+01,  1.46822619e+01,  1.05506898e+01,\n",
       "         1.22730365e+01,  1.19301187e+01,  1.21352641e+01,\n",
       "         1.15554580e+01,  1.24102488e+01,  9.69579439e+00,\n",
       "         1.20626680e+01,  0.00000000e+00],\n",
       "       [ 1.25384202e+01,  1.65880035e+01,  1.26826931e+01,\n",
       "         1.28375371e+01,  1.07327790e+01,  1.54959805e+01,\n",
       "         1.23100582e+01,  1.26881535e+01,  1.43992914e+01,\n",
       "         1.58142683e+01,  0.00000000e+00],\n",
       "       [ 9.55812581e+00,  1.48378399e+01,  1.28651406e+01,\n",
       "         1.40228721e+01,  1.19971925e+01,  1.10206877e+01,\n",
       "         1.01736808e+01,  1.51851085e+01,  1.18650122e+01,\n",
       "         1.40738556e+01,  0.00000000e+00],\n",
       "       [ 9.77008905e+00,  1.57565097e+01,  1.26331087e+01,\n",
       "         1.23234982e+01,  1.06748627e+01,  7.97862953e+00,\n",
       "         1.07745518e+01,  1.61605755e+01,  1.27739553e+01,\n",
       "         1.33672074e+01,  0.00000000e+00],\n",
       "       [ 2.28222129e+00,  6.17314840e+00,  7.65305986e+00,\n",
       "         6.64717297e+00,  7.87545467e+00,  5.17086199e+00,\n",
       "         4.83386145e+00,  9.62426777e+00,  7.24284227e+00,\n",
       "         7.14063517e+00,  0.00000000e+00],\n",
       "       [ 1.61215754e+00,  2.18682067e+00,  1.34409889e+00,\n",
       "         3.25642840e-01,  8.55567184e-02,  1.33103743e+00,\n",
       "         5.75550025e+00,  5.78574422e+00,  2.73760225e+00,\n",
       "         2.17602628e+00,  0.00000000e+00],\n",
       "       [ 4.64831908e-01, -1.01452212e+00,  2.30510525e+00,\n",
       "         3.83900235e+00, -4.75192175e-01, -3.12912627e+00,\n",
       "         9.83246242e-03,  1.91571594e+00,  4.43558025e-01,\n",
       "        -4.41142194e-02,  0.00000000e+00],\n",
       "       [-3.79476709e-01,  7.46406537e-01,  4.59297351e+00,\n",
       "         4.60116392e+00,  7.36630949e-01, -9.56321354e-01,\n",
       "         7.12737877e-01,  1.36049714e+00,  1.82883011e+00,\n",
       "         1.94449266e+00,  0.00000000e+00],\n",
       "       [ 4.97672244e-01,  1.01359868e+00,  2.62026238e+00,\n",
       "         3.81146789e+00,  1.39049716e+00,  2.68506439e+00,\n",
       "         7.30116591e-01,  5.01150441e-02,  1.84554700e+00,\n",
       "         1.88775624e+00,  0.00000000e+00],\n",
       "       [ 3.76955101e+00,  5.12586625e+00,  5.50179370e+00,\n",
       "         7.91142288e+00,  6.78354010e+00,  6.93963005e+00,\n",
       "         4.65111221e+00,  3.62087678e+00,  4.56176541e+00,\n",
       "         6.57176840e+00,  0.00000000e+00],\n",
       "       [ 4.35441334e+00,  5.80804910e+00,  5.60303565e+00,\n",
       "         7.34556002e+00,  4.12118943e+00,  6.48121049e+00,\n",
       "         5.79186432e+00,  3.78616496e+00,  3.68034122e+00,\n",
       "         4.50306177e+00,  0.00000000e+00],\n",
       "       [ 4.72369998e+00,  3.99183557e+00,  2.97021145e+00,\n",
       "         2.11411106e+00,  2.42164520e+00,  5.02493659e+00,\n",
       "         1.81351403e+00,  3.34423290e+00,  2.99345341e+00,\n",
       "         3.23153185e+00,  0.00000000e+00],\n",
       "       [ 4.59505491e+00,  7.94529813e+00,  8.15822733e+00,\n",
       "         8.38651152e+00,  9.18360622e+00,  9.48858406e+00,\n",
       "         6.41357854e+00,  7.89088553e+00,  9.28411959e+00,\n",
       "         7.32709457e+00,  0.00000000e+00],\n",
       "       [ 6.27208683e+00,  9.66951750e+00,  9.26619872e+00,\n",
       "         1.05314349e+01,  1.01045400e+01,  1.16942770e+01,\n",
       "         8.49967060e+00,  7.00106535e+00,  8.30987575e+00,\n",
       "         1.04889895e+01,  0.00000000e+00],\n",
       "       [ 5.46034513e+00,  7.32684222e+00,  7.97141977e+00,\n",
       "         8.18472463e+00,  7.37400243e+00,  9.21414532e+00,\n",
       "         6.96274369e+00,  6.52118369e+00,  6.68718613e+00,\n",
       "         9.42926246e+00,  0.00000000e+00],\n",
       "       [ 3.23165643e+00,  5.60011036e+00,  4.98944502e+00,\n",
       "         4.16792474e+00,  4.40671382e+00,  5.24871666e+00,\n",
       "         4.35494142e+00,  6.71244337e+00,  7.43008342e+00,\n",
       "         7.73478906e+00,  0.00000000e+00],\n",
       "       [ 4.30722000e+00,  5.84048970e+00,  8.78282825e+00,\n",
       "         8.63683686e+00,  2.99075012e+00,  6.28102698e+00,\n",
       "         5.88538117e+00,  6.65847577e+00,  6.13037811e+00,\n",
       "         5.81993122e+00,  0.00000000e+00],\n",
       "       [ 4.41505326e+00,  7.62864359e+00,  1.01612953e+01,\n",
       "         1.16870156e+01,  5.95250151e+00,  7.73839166e+00,\n",
       "         8.65907315e+00,  8.97923841e+00,  5.55673471e+00,\n",
       "         7.50744393e+00,  0.00000000e+00],\n",
       "       [ 8.40593064e-01,  2.86253513e+00,  2.08112548e+00,\n",
       "         4.32102420e+00,  6.00216777e+00,  3.99764576e+00,\n",
       "         4.98512239e+00,  4.51679113e+00,  4.23578393e+00,\n",
       "         4.44336258e+00,  0.00000000e+00],\n",
       "       [ 5.57085553e-01,  9.24842318e-01,  1.15849368e+00,\n",
       "         1.86661229e+00,  3.03168273e+00,  2.24718379e+00,\n",
       "         2.08448717e+00,  3.52971003e+00,  4.22278881e+00,\n",
       "         3.06238650e+00,  0.00000000e+00],\n",
       "       [ 4.61070728e+00,  6.11385528e+00,  4.87407765e+00,\n",
       "         4.72675456e+00,  4.19669837e+00,  5.08758366e+00,\n",
       "         4.36743166e+00,  5.32113623e+00,  6.48310585e+00,\n",
       "         5.84345310e+00,  0.00000000e+00],\n",
       "       [ 4.33124360e+00,  5.39387387e+00,  5.21633352e+00,\n",
       "         5.40046910e+00,  4.45120815e+00,  6.64568461e+00,\n",
       "         5.73458698e+00,  5.13272331e+00,  5.00198433e+00,\n",
       "         7.31341653e+00,  0.00000000e+00],\n",
       "       [ 5.10984565e+00,  5.15988545e+00,  5.18506557e+00,\n",
       "         5.91040026e+00,  3.99317823e+00,  5.94386304e+00,\n",
       "         6.50076644e+00,  6.20005847e+00,  5.96931612e+00,\n",
       "         7.11485549e+00,  0.00000000e+00],\n",
       "       [ 7.17896335e-01,  4.51766103e-01,  1.70333098e-01,\n",
       "        -2.99570879e-01, -5.52965812e-01, -2.71246094e+00,\n",
       "        -1.12780471e+00, -3.26001332e-01, -4.01892735e-01,\n",
       "         1.03615822e-01,  0.00000000e+00],\n",
       "       [-7.65550828e-01,  1.81624268e-01, -5.41994440e-01,\n",
       "        -5.64033564e-02, -1.50502667e-01, -2.41801785e+00,\n",
       "        -1.27453243e+00, -2.73249551e+00, -3.91196985e-01,\n",
       "        -3.17380635e-01,  0.00000000e+00],\n",
       "       [-1.05328186e+00, -1.22015839e+00, -1.21481255e+00,\n",
       "        -8.73181084e-01, -1.20518985e+00, -1.24144600e+00,\n",
       "        -1.39101885e+00, -3.88330496e+00, -2.84514619e+00,\n",
       "        -2.60611825e+00,  0.00000000e+00],\n",
       "       [-1.34729471e+00, -1.87012256e+00, -1.43661523e+00,\n",
       "        -6.63008988e-01, -2.61549845e+00, -6.96824863e-01,\n",
       "        -2.15649955e-01, -3.54317144e+00, -2.66684843e+00,\n",
       "        -2.99964635e+00,  0.00000000e+00],\n",
       "       [-5.82996830e-02, -4.92421131e-01, -5.52611811e-01,\n",
       "        -4.04827468e-01, -2.79378439e-01,  7.52220470e-02,\n",
       "        -4.07273551e-01, -4.62337727e-01,  1.43332446e+00,\n",
       "         1.58207286e+00,  0.00000000e+00],\n",
       "       [-2.50293284e+00, -3.52062531e+00, -3.35267153e+00,\n",
       "        -3.00098034e+00, -2.30106879e+00, -2.45475093e+00,\n",
       "        -1.95214854e+00, -2.52559643e+00, -2.57470859e+00,\n",
       "        -8.80580375e-01,  0.00000000e+00],\n",
       "       [-8.00050819e+00, -1.21046410e+01, -1.10169535e+01,\n",
       "        -1.23437256e+01, -1.14120738e+01, -1.10892424e+01,\n",
       "        -9.64675828e+00, -1.08060873e+01, -1.01767747e+01,\n",
       "        -1.12357424e+01,  0.00000000e+00]])"
      ]
     },
     "execution_count": 366,
     "metadata": {},
     "output_type": "execute_result"
    }
   ],
   "source": [
    "print(len(all_wave))\n",
    "print(all_wave[1].shape)\n",
    "all_wave[1]"
   ]
  },
  {
   "cell_type": "markdown",
   "id": "974ba099",
   "metadata": {
    "papermill": {
     "duration": 0.075472,
     "end_time": "2022-06-16T19:00:52.348681",
     "exception": false,
     "start_time": "2022-06-16T19:00:52.273209",
     "status": "completed"
    },
    "tags": []
   },
   "source": [
    "Convert the output labels to integer encoded:"
   ]
  },
  {
   "cell_type": "code",
   "execution_count": 367,
   "id": "27d126d7",
   "metadata": {
    "execution": {
     "iopub.execute_input": "2022-06-16T19:00:52.504975Z",
     "iopub.status.busy": "2022-06-16T19:00:52.504275Z",
     "iopub.status.idle": "2022-06-16T19:00:52.507214Z",
     "shell.execute_reply": "2022-06-16T19:00:52.507632Z"
    },
    "papermill": {
     "duration": 0.084081,
     "end_time": "2022-06-16T19:00:52.507766",
     "exception": false,
     "start_time": "2022-06-16T19:00:52.423685",
     "status": "completed"
    },
    "tags": []
   },
   "outputs": [
    {
     "data": {
      "text/plain": [
       "['background_noise',\n",
       " 'background_noise',\n",
       " 'background_noise',\n",
       " 'background_noise',\n",
       " 'background_noise',\n",
       " 'background_noise',\n",
       " 'background_noise',\n",
       " 'background_noise',\n",
       " 'background_noise',\n",
       " 'background_noise',\n",
       " 'background_noise',\n",
       " 'background_noise',\n",
       " 'background_noise',\n",
       " 'background_noise',\n",
       " 'background_noise',\n",
       " 'background_noise',\n",
       " 'background_noise',\n",
       " 'background_noise',\n",
       " 'background_noise',\n",
       " 'background_noise',\n",
       " 'background_noise',\n",
       " 'background_noise',\n",
       " 'background_noise',\n",
       " 'background_noise',\n",
       " 'background_noise',\n",
       " 'background_noise',\n",
       " 'background_noise',\n",
       " 'background_noise',\n",
       " 'background_noise',\n",
       " 'background_noise',\n",
       " 'background_noise',\n",
       " 'background_noise',\n",
       " 'background_noise',\n",
       " 'background_noise',\n",
       " 'background_noise',\n",
       " 'background_noise',\n",
       " 'background_noise',\n",
       " 'background_noise',\n",
       " 'background_noise',\n",
       " 'background_noise',\n",
       " 'background_noise',\n",
       " 'background_noise',\n",
       " 'background_noise',\n",
       " 'background_noise',\n",
       " 'background_noise',\n",
       " 'background_noise',\n",
       " 'background_noise',\n",
       " 'background_noise',\n",
       " 'background_noise',\n",
       " 'background_noise',\n",
       " 'background_noise',\n",
       " 'background_noise',\n",
       " 'background_noise',\n",
       " 'background_noise',\n",
       " 'background_noise',\n",
       " 'background_noise',\n",
       " 'background_noise',\n",
       " 'background_noise',\n",
       " 'background_noise',\n",
       " 'background_noise',\n",
       " 'background_noise',\n",
       " 'background_noise',\n",
       " 'background_noise',\n",
       " 'background_noise',\n",
       " 'background_noise',\n",
       " 'background_noise',\n",
       " 'background_noise',\n",
       " 'background_noise',\n",
       " 'background_noise',\n",
       " 'background_noise',\n",
       " 'background_noise',\n",
       " 'background_noise',\n",
       " 'background_noise',\n",
       " 'background_noise',\n",
       " 'background_noise',\n",
       " 'background_noise',\n",
       " 'background_noise',\n",
       " 'background_noise',\n",
       " 'background_noise',\n",
       " 'background_noise',\n",
       " 'background_noise',\n",
       " 'background_noise',\n",
       " 'background_noise',\n",
       " 'background_noise',\n",
       " 'background_noise',\n",
       " 'background_noise',\n",
       " 'background_noise',\n",
       " 'background_noise',\n",
       " 'background_noise',\n",
       " 'background_noise',\n",
       " 'background_noise',\n",
       " 'background_noise',\n",
       " 'background_noise',\n",
       " 'background_noise',\n",
       " 'background_noise',\n",
       " 'background_noise',\n",
       " 'background_noise',\n",
       " 'background_noise',\n",
       " 'background_noise',\n",
       " 'background_noise',\n",
       " 'background_noise',\n",
       " 'background_noise',\n",
       " 'background_noise',\n",
       " 'background_noise',\n",
       " 'background_noise',\n",
       " 'background_noise',\n",
       " 'background_noise',\n",
       " 'background_noise',\n",
       " 'background_noise',\n",
       " 'background_noise',\n",
       " 'background_noise',\n",
       " 'background_noise',\n",
       " 'background_noise',\n",
       " 'background_noise',\n",
       " 'background_noise',\n",
       " 'background_noise',\n",
       " 'background_noise',\n",
       " 'background_noise',\n",
       " 'background_noise',\n",
       " 'background_noise',\n",
       " 'background_noise',\n",
       " 'background_noise',\n",
       " 'background_noise',\n",
       " 'background_noise',\n",
       " 'background_noise',\n",
       " 'background_noise',\n",
       " 'background_noise',\n",
       " 'background_noise',\n",
       " 'background_noise',\n",
       " 'background_noise',\n",
       " 'background_noise',\n",
       " 'background_noise',\n",
       " 'background_noise',\n",
       " 'background_noise',\n",
       " 'background_noise',\n",
       " 'background_noise',\n",
       " 'background_noise',\n",
       " 'background_noise',\n",
       " 'background_noise',\n",
       " 'background_noise',\n",
       " 'background_noise',\n",
       " 'background_noise',\n",
       " 'background_noise',\n",
       " 'background_noise',\n",
       " 'background_noise',\n",
       " 'background_noise',\n",
       " 'background_noise',\n",
       " 'background_noise',\n",
       " 'background_noise',\n",
       " 'background_noise',\n",
       " 'background_noise',\n",
       " 'background_noise',\n",
       " 'background_noise',\n",
       " 'background_noise',\n",
       " 'background_noise',\n",
       " 'background_noise',\n",
       " 'background_noise',\n",
       " 'background_noise',\n",
       " 'background_noise',\n",
       " 'background_noise',\n",
       " 'background_noise',\n",
       " 'background_noise',\n",
       " 'background_noise',\n",
       " 'background_noise',\n",
       " 'background_noise',\n",
       " 'background_noise',\n",
       " 'background_noise',\n",
       " 'background_noise',\n",
       " 'background_noise',\n",
       " 'background_noise',\n",
       " 'background_noise',\n",
       " 'background_noise',\n",
       " 'background_noise',\n",
       " 'background_noise',\n",
       " 'background_noise',\n",
       " 'background_noise',\n",
       " 'background_noise',\n",
       " 'background_noise',\n",
       " 'background_noise',\n",
       " 'background_noise',\n",
       " 'background_noise',\n",
       " 'background_noise',\n",
       " 'background_noise',\n",
       " 'background_noise',\n",
       " 'background_noise',\n",
       " 'background_noise',\n",
       " 'background_noise',\n",
       " 'background_noise',\n",
       " 'background_noise',\n",
       " 'background_noise',\n",
       " 'background_noise',\n",
       " 'background_noise',\n",
       " 'background_noise',\n",
       " 'background_noise',\n",
       " 'background_noise',\n",
       " 'background_noise',\n",
       " 'background_noise',\n",
       " 'background_noise',\n",
       " 'background_noise',\n",
       " 'background_noise',\n",
       " 'background_noise',\n",
       " 'background_noise',\n",
       " 'background_noise',\n",
       " 'background_noise',\n",
       " 'background_noise',\n",
       " 'background_noise',\n",
       " 'background_noise',\n",
       " 'background_noise',\n",
       " 'background_noise',\n",
       " 'background_noise',\n",
       " 'background_noise',\n",
       " 'background_noise',\n",
       " 'background_noise',\n",
       " 'background_noise',\n",
       " 'background_noise',\n",
       " 'background_noise',\n",
       " 'background_noise',\n",
       " 'background_noise',\n",
       " 'background_noise',\n",
       " 'background_noise',\n",
       " 'background_noise',\n",
       " 'background_noise',\n",
       " 'background_noise',\n",
       " 'background_noise',\n",
       " 'background_noise',\n",
       " 'background_noise',\n",
       " 'background_noise',\n",
       " 'background_noise',\n",
       " 'background_noise',\n",
       " 'background_noise',\n",
       " 'background_noise',\n",
       " 'background_noise',\n",
       " 'background_noise',\n",
       " 'background_noise',\n",
       " 'background_noise',\n",
       " 'background_noise',\n",
       " 'background_noise',\n",
       " 'background_noise',\n",
       " 'background_noise',\n",
       " 'background_noise',\n",
       " 'background_noise',\n",
       " 'background_noise',\n",
       " 'background_noise',\n",
       " 'background_noise',\n",
       " 'background_noise',\n",
       " 'background_noise',\n",
       " 'background_noise',\n",
       " 'background_noise',\n",
       " 'background_noise',\n",
       " 'background_noise',\n",
       " 'background_noise',\n",
       " 'background_noise',\n",
       " 'background_noise',\n",
       " 'background_noise',\n",
       " 'background_noise',\n",
       " 'background_noise',\n",
       " 'background_noise',\n",
       " 'background_noise',\n",
       " 'background_noise',\n",
       " 'background_noise',\n",
       " 'background_noise',\n",
       " 'background_noise',\n",
       " 'background_noise',\n",
       " 'background_noise',\n",
       " 'background_noise',\n",
       " 'background_noise',\n",
       " 'background_noise',\n",
       " 'background_noise',\n",
       " 'background_noise',\n",
       " 'background_noise',\n",
       " 'background_noise',\n",
       " 'background_noise',\n",
       " 'background_noise',\n",
       " 'background_noise',\n",
       " 'background_noise',\n",
       " 'background_noise',\n",
       " 'background_noise',\n",
       " 'background_noise',\n",
       " 'background_noise',\n",
       " 'background_noise',\n",
       " 'background_noise',\n",
       " 'background_noise',\n",
       " 'background_noise',\n",
       " 'background_noise',\n",
       " 'background_noise',\n",
       " 'background_noise',\n",
       " 'background_noise',\n",
       " 'background_noise',\n",
       " 'background_noise',\n",
       " 'background_noise',\n",
       " 'background_noise',\n",
       " 'background_noise',\n",
       " 'background_noise',\n",
       " 'background_noise',\n",
       " 'background_noise',\n",
       " 'background_noise',\n",
       " 'background_noise',\n",
       " 'background_noise',\n",
       " 'background_noise',\n",
       " 'background_noise',\n",
       " 'background_noise',\n",
       " 'background_noise',\n",
       " 'background_noise',\n",
       " 'background_noise',\n",
       " 'background_noise',\n",
       " 'background_noise',\n",
       " 'background_noise',\n",
       " 'background_noise',\n",
       " 'background_noise',\n",
       " 'background_noise',\n",
       " 'background_noise',\n",
       " 'background_noise',\n",
       " 'background_noise',\n",
       " 'background_noise',\n",
       " 'background_noise',\n",
       " 'background_noise',\n",
       " 'background_noise',\n",
       " 'background_noise',\n",
       " 'background_noise',\n",
       " 'background_noise',\n",
       " 'background_noise',\n",
       " 'background_noise',\n",
       " 'background_noise',\n",
       " 'background_noise',\n",
       " 'background_noise',\n",
       " 'background_noise',\n",
       " 'background_noise',\n",
       " 'background_noise',\n",
       " 'background_noise',\n",
       " 'background_noise',\n",
       " 'background_noise',\n",
       " 'background_noise',\n",
       " 'background_noise',\n",
       " 'background_noise',\n",
       " 'background_noise',\n",
       " 'background_noise',\n",
       " 'background_noise',\n",
       " 'background_noise',\n",
       " 'background_noise',\n",
       " 'background_noise',\n",
       " 'background_noise',\n",
       " 'background_noise',\n",
       " 'background_noise',\n",
       " 'background_noise',\n",
       " 'background_noise',\n",
       " 'background_noise',\n",
       " 'background_noise',\n",
       " 'background_noise',\n",
       " 'background_noise',\n",
       " 'background_noise',\n",
       " 'background_noise',\n",
       " 'background_noise',\n",
       " 'background_noise',\n",
       " 'background_noise',\n",
       " 'background_noise',\n",
       " 'background_noise',\n",
       " 'background_noise',\n",
       " 'background_noise',\n",
       " 'background_noise',\n",
       " 'background_noise',\n",
       " 'background_noise',\n",
       " 'background_noise',\n",
       " 'background_noise',\n",
       " 'background_noise',\n",
       " 'background_noise',\n",
       " 'background_noise',\n",
       " 'background_noise',\n",
       " 'background_noise',\n",
       " 'background_noise',\n",
       " 'background_noise',\n",
       " 'background_noise',\n",
       " 'background_noise',\n",
       " 'background_noise',\n",
       " 'background_noise',\n",
       " 'background_noise',\n",
       " 'background_noise',\n",
       " 'background_noise',\n",
       " 'background_noise',\n",
       " 'background_noise',\n",
       " 'background_noise',\n",
       " 'background_noise',\n",
       " 'background_noise',\n",
       " 'background_noise',\n",
       " 'background_noise',\n",
       " 'background_noise',\n",
       " 'background_noise',\n",
       " 'background_noise',\n",
       " 'background_noise',\n",
       " 'background_noise',\n",
       " 'background_noise',\n",
       " 'background_noise',\n",
       " 'background_noise',\n",
       " 'background_noise',\n",
       " 'background_noise',\n",
       " 'background_noise',\n",
       " 'background_noise',\n",
       " 'background_noise',\n",
       " 'background_noise',\n",
       " 'background_noise',\n",
       " 'background_noise',\n",
       " 'background_noise',\n",
       " 'background_noise',\n",
       " 'background_noise',\n",
       " 'background_noise',\n",
       " 'background_noise',\n",
       " 'background_noise',\n",
       " 'background_noise',\n",
       " 'background_noise',\n",
       " 'background_noise',\n",
       " 'background_noise',\n",
       " 'background_noise',\n",
       " 'background_noise',\n",
       " 'background_noise',\n",
       " 'background_noise',\n",
       " 'background_noise',\n",
       " 'background_noise',\n",
       " 'background_noise',\n",
       " 'background_noise',\n",
       " 'background_noise',\n",
       " 'background_noise',\n",
       " 'background_noise',\n",
       " 'background_noise',\n",
       " 'background_noise',\n",
       " 'background_noise',\n",
       " 'background_noise',\n",
       " 'background_noise',\n",
       " 'background_noise',\n",
       " 'background_noise',\n",
       " 'background_noise',\n",
       " 'background_noise',\n",
       " 'background_noise',\n",
       " 'background_noise',\n",
       " 'background_noise',\n",
       " 'background_noise',\n",
       " 'background_noise',\n",
       " 'background_noise',\n",
       " 'background_noise',\n",
       " 'background_noise',\n",
       " 'background_noise',\n",
       " 'background_noise',\n",
       " 'background_noise',\n",
       " 'background_noise',\n",
       " 'background_noise',\n",
       " 'background_noise',\n",
       " 'background_noise',\n",
       " 'background_noise',\n",
       " 'background_noise',\n",
       " 'background_noise',\n",
       " 'background_noise',\n",
       " 'background_noise',\n",
       " 'background_noise',\n",
       " 'background_noise',\n",
       " 'background_noise',\n",
       " 'background_noise',\n",
       " 'background_noise',\n",
       " 'background_noise',\n",
       " 'background_noise',\n",
       " 'background_noise',\n",
       " 'background_noise',\n",
       " 'background_noise',\n",
       " 'background_noise',\n",
       " 'background_noise',\n",
       " 'background_noise',\n",
       " 'background_noise',\n",
       " 'background_noise',\n",
       " 'background_noise',\n",
       " 'background_noise',\n",
       " 'background_noise',\n",
       " 'background_noise',\n",
       " 'background_noise',\n",
       " 'background_noise',\n",
       " 'background_noise',\n",
       " 'background_noise',\n",
       " 'background_noise',\n",
       " 'background_noise',\n",
       " 'background_noise',\n",
       " 'background_noise',\n",
       " 'background_noise',\n",
       " 'background_noise',\n",
       " 'background_noise',\n",
       " 'background_noise',\n",
       " 'background_noise',\n",
       " 'background_noise',\n",
       " 'background_noise',\n",
       " 'background_noise',\n",
       " 'background_noise',\n",
       " 'background_noise',\n",
       " 'background_noise',\n",
       " 'background_noise',\n",
       " 'background_noise',\n",
       " 'background_noise',\n",
       " 'background_noise',\n",
       " 'background_noise',\n",
       " 'background_noise',\n",
       " 'background_noise',\n",
       " 'background_noise',\n",
       " 'background_noise',\n",
       " 'background_noise',\n",
       " 'background_noise',\n",
       " 'background_noise',\n",
       " 'background_noise',\n",
       " 'background_noise',\n",
       " 'background_noise',\n",
       " 'background_noise',\n",
       " 'background_noise',\n",
       " 'background_noise',\n",
       " 'background_noise',\n",
       " 'background_noise',\n",
       " 'background_noise',\n",
       " 'background_noise',\n",
       " 'background_noise',\n",
       " 'background_noise',\n",
       " 'background_noise',\n",
       " 'background_noise',\n",
       " 'background_noise',\n",
       " 'background_noise',\n",
       " 'background_noise',\n",
       " 'background_noise',\n",
       " 'background_noise',\n",
       " 'background_noise',\n",
       " 'background_noise',\n",
       " 'background_noise',\n",
       " 'background_noise',\n",
       " 'background_noise',\n",
       " 'background_noise',\n",
       " 'background_noise',\n",
       " 'background_noise',\n",
       " 'background_noise',\n",
       " 'background_noise',\n",
       " 'background_noise',\n",
       " 'background_noise',\n",
       " 'background_noise',\n",
       " 'background_noise',\n",
       " 'background_noise',\n",
       " 'background_noise',\n",
       " 'background_noise',\n",
       " 'background_noise',\n",
       " 'background_noise',\n",
       " 'background_noise',\n",
       " 'background_noise',\n",
       " 'background_noise',\n",
       " 'background_noise',\n",
       " 'background_noise',\n",
       " 'background_noise',\n",
       " 'background_noise',\n",
       " 'background_noise',\n",
       " 'background_noise',\n",
       " 'background_noise',\n",
       " 'background_noise',\n",
       " 'background_noise',\n",
       " 'background_noise',\n",
       " 'background_noise',\n",
       " 'background_noise',\n",
       " 'background_noise',\n",
       " 'background_noise',\n",
       " 'background_noise',\n",
       " 'background_noise',\n",
       " 'background_noise',\n",
       " 'background_noise',\n",
       " 'background_noise',\n",
       " 'background_noise',\n",
       " 'background_noise',\n",
       " 'background_noise',\n",
       " 'background_noise',\n",
       " 'background_noise',\n",
       " 'background_noise',\n",
       " 'background_noise',\n",
       " 'background_noise',\n",
       " 'background_noise',\n",
       " 'background_noise',\n",
       " 'background_noise',\n",
       " 'background_noise',\n",
       " 'background_noise',\n",
       " 'background_noise',\n",
       " 'background_noise',\n",
       " 'background_noise',\n",
       " 'background_noise',\n",
       " 'background_noise',\n",
       " 'background_noise',\n",
       " 'background_noise',\n",
       " 'background_noise',\n",
       " 'background_noise',\n",
       " 'background_noise',\n",
       " 'background_noise',\n",
       " 'background_noise',\n",
       " 'background_noise',\n",
       " 'background_noise',\n",
       " 'background_noise',\n",
       " 'background_noise',\n",
       " 'background_noise',\n",
       " 'background_noise',\n",
       " 'background_noise',\n",
       " 'background_noise',\n",
       " 'background_noise',\n",
       " 'background_noise',\n",
       " 'background_noise',\n",
       " 'background_noise',\n",
       " 'background_noise',\n",
       " 'background_noise',\n",
       " 'background_noise',\n",
       " 'background_noise',\n",
       " 'background_noise',\n",
       " 'background_noise',\n",
       " 'background_noise',\n",
       " 'background_noise',\n",
       " 'background_noise',\n",
       " 'background_noise',\n",
       " 'background_noise',\n",
       " 'background_noise',\n",
       " 'background_noise',\n",
       " 'background_noise',\n",
       " 'background_noise',\n",
       " 'background_noise',\n",
       " 'background_noise',\n",
       " 'background_noise',\n",
       " 'background_noise',\n",
       " 'background_noise',\n",
       " 'background_noise',\n",
       " 'background_noise',\n",
       " 'background_noise',\n",
       " 'background_noise',\n",
       " 'background_noise',\n",
       " 'background_noise',\n",
       " 'background_noise',\n",
       " 'background_noise',\n",
       " 'background_noise',\n",
       " 'background_noise',\n",
       " 'background_noise',\n",
       " 'background_noise',\n",
       " 'background_noise',\n",
       " 'background_noise',\n",
       " 'background_noise',\n",
       " 'background_noise',\n",
       " 'background_noise',\n",
       " 'background_noise',\n",
       " 'background_noise',\n",
       " 'background_noise',\n",
       " 'background_noise',\n",
       " 'background_noise',\n",
       " 'background_noise',\n",
       " 'background_noise',\n",
       " 'background_noise',\n",
       " 'background_noise',\n",
       " 'background_noise',\n",
       " 'background_noise',\n",
       " 'background_noise',\n",
       " 'background_noise',\n",
       " 'background_noise',\n",
       " 'background_noise',\n",
       " 'background_noise',\n",
       " 'background_noise',\n",
       " 'background_noise',\n",
       " 'background_noise',\n",
       " 'background_noise',\n",
       " 'background_noise',\n",
       " 'background_noise',\n",
       " 'background_noise',\n",
       " 'background_noise',\n",
       " 'background_noise',\n",
       " 'background_noise',\n",
       " 'background_noise',\n",
       " 'background_noise',\n",
       " 'background_noise',\n",
       " 'background_noise',\n",
       " 'background_noise',\n",
       " 'background_noise',\n",
       " 'background_noise',\n",
       " 'background_noise',\n",
       " 'background_noise',\n",
       " 'background_noise',\n",
       " 'background_noise',\n",
       " 'background_noise',\n",
       " 'background_noise',\n",
       " 'background_noise',\n",
       " 'background_noise',\n",
       " 'background_noise',\n",
       " 'background_noise',\n",
       " 'background_noise',\n",
       " 'background_noise',\n",
       " 'background_noise',\n",
       " 'background_noise',\n",
       " 'background_noise',\n",
       " 'background_noise',\n",
       " 'background_noise',\n",
       " 'background_noise',\n",
       " 'background_noise',\n",
       " 'background_noise',\n",
       " 'background_noise',\n",
       " 'background_noise',\n",
       " 'background_noise',\n",
       " 'background_noise',\n",
       " 'background_noise',\n",
       " 'background_noise',\n",
       " 'background_noise',\n",
       " 'background_noise',\n",
       " 'background_noise',\n",
       " 'background_noise',\n",
       " 'background_noise',\n",
       " 'background_noise',\n",
       " 'background_noise',\n",
       " 'background_noise',\n",
       " 'background_noise',\n",
       " 'background_noise',\n",
       " 'background_noise',\n",
       " 'background_noise',\n",
       " 'background_noise',\n",
       " 'background_noise',\n",
       " 'background_noise',\n",
       " 'background_noise',\n",
       " 'background_noise',\n",
       " 'background_noise',\n",
       " 'background_noise',\n",
       " 'background_noise',\n",
       " 'background_noise',\n",
       " 'background_noise',\n",
       " 'background_noise',\n",
       " 'background_noise',\n",
       " 'background_noise',\n",
       " 'background_noise',\n",
       " 'background_noise',\n",
       " 'background_noise',\n",
       " 'background_noise',\n",
       " 'background_noise',\n",
       " 'background_noise',\n",
       " 'background_noise',\n",
       " 'background_noise',\n",
       " 'background_noise',\n",
       " 'background_noise',\n",
       " 'background_noise',\n",
       " 'background_noise',\n",
       " 'background_noise',\n",
       " 'background_noise',\n",
       " 'background_noise',\n",
       " 'background_noise',\n",
       " 'background_noise',\n",
       " 'background_noise',\n",
       " 'background_noise',\n",
       " 'background_noise',\n",
       " 'background_noise',\n",
       " 'background_noise',\n",
       " 'background_noise',\n",
       " 'background_noise',\n",
       " 'background_noise',\n",
       " 'background_noise',\n",
       " 'background_noise',\n",
       " 'background_noise',\n",
       " 'background_noise',\n",
       " 'background_noise',\n",
       " 'background_noise',\n",
       " 'background_noise',\n",
       " 'background_noise',\n",
       " 'background_noise',\n",
       " 'background_noise',\n",
       " 'background_noise',\n",
       " 'background_noise',\n",
       " 'background_noise',\n",
       " 'background_noise',\n",
       " 'background_noise',\n",
       " 'background_noise',\n",
       " 'background_noise',\n",
       " 'background_noise',\n",
       " 'background_noise',\n",
       " 'background_noise',\n",
       " 'background_noise',\n",
       " 'background_noise',\n",
       " 'background_noise',\n",
       " 'background_noise',\n",
       " 'background_noise',\n",
       " 'background_noise',\n",
       " 'background_noise',\n",
       " 'background_noise',\n",
       " 'background_noise',\n",
       " 'background_noise',\n",
       " 'background_noise',\n",
       " 'background_noise',\n",
       " 'background_noise',\n",
       " 'background_noise',\n",
       " 'background_noise',\n",
       " 'background_noise',\n",
       " 'background_noise',\n",
       " 'background_noise',\n",
       " 'background_noise',\n",
       " 'background_noise',\n",
       " 'background_noise',\n",
       " 'background_noise',\n",
       " 'background_noise',\n",
       " 'background_noise',\n",
       " 'background_noise',\n",
       " 'background_noise',\n",
       " 'background_noise',\n",
       " 'background_noise',\n",
       " 'background_noise',\n",
       " 'background_noise',\n",
       " 'background_noise',\n",
       " 'background_noise',\n",
       " 'background_noise',\n",
       " 'background_noise',\n",
       " 'background_noise',\n",
       " 'background_noise',\n",
       " 'background_noise',\n",
       " 'background_noise',\n",
       " 'background_noise',\n",
       " 'background_noise',\n",
       " 'background_noise',\n",
       " 'background_noise',\n",
       " 'background_noise',\n",
       " 'background_noise',\n",
       " 'background_noise',\n",
       " 'background_noise',\n",
       " 'background_noise',\n",
       " 'background_noise',\n",
       " 'background_noise',\n",
       " 'background_noise',\n",
       " 'background_noise',\n",
       " 'background_noise',\n",
       " 'background_noise',\n",
       " 'background_noise',\n",
       " 'background_noise',\n",
       " 'background_noise',\n",
       " 'background_noise',\n",
       " 'background_noise',\n",
       " 'background_noise',\n",
       " 'background_noise',\n",
       " 'background_noise',\n",
       " 'background_noise',\n",
       " 'background_noise',\n",
       " 'background_noise',\n",
       " 'background_noise',\n",
       " 'background_noise',\n",
       " 'background_noise',\n",
       " 'background_noise',\n",
       " 'background_noise',\n",
       " 'background_noise',\n",
       " 'background_noise',\n",
       " 'background_noise',\n",
       " 'background_noise',\n",
       " 'background_noise',\n",
       " 'background_noise',\n",
       " 'background_noise',\n",
       " 'background_noise',\n",
       " 'background_noise',\n",
       " 'background_noise',\n",
       " 'background_noise',\n",
       " 'background_noise',\n",
       " 'background_noise',\n",
       " 'background_noise',\n",
       " 'background_noise',\n",
       " 'background_noise',\n",
       " 'background_noise',\n",
       " 'background_noise',\n",
       " 'background_noise',\n",
       " 'background_noise',\n",
       " 'background_noise',\n",
       " 'background_noise',\n",
       " 'background_noise',\n",
       " 'background_noise',\n",
       " 'background_noise',\n",
       " 'background_noise',\n",
       " 'background_noise',\n",
       " 'background_noise',\n",
       " 'background_noise',\n",
       " 'background_noise',\n",
       " 'background_noise',\n",
       " 'background_noise',\n",
       " 'background_noise',\n",
       " 'background_noise',\n",
       " 'background_noise',\n",
       " 'background_noise',\n",
       " 'background_noise',\n",
       " 'background_noise',\n",
       " 'background_noise',\n",
       " 'background_noise',\n",
       " 'background_noise',\n",
       " 'background_noise',\n",
       " 'background_noise',\n",
       " 'background_noise',\n",
       " 'background_noise',\n",
       " 'background_noise',\n",
       " 'background_noise',\n",
       " 'background_noise',\n",
       " 'background_noise',\n",
       " 'background_noise',\n",
       " 'background_noise',\n",
       " 'background_noise',\n",
       " 'background_noise',\n",
       " 'background_noise',\n",
       " 'background_noise',\n",
       " 'background_noise',\n",
       " 'background_noise',\n",
       " 'background_noise',\n",
       " 'background_noise',\n",
       " 'background_noise',\n",
       " 'background_noise',\n",
       " 'background_noise',\n",
       " 'background_noise',\n",
       " 'background_noise',\n",
       " 'background_noise',\n",
       " 'background_noise',\n",
       " 'background_noise',\n",
       " 'background_noise',\n",
       " 'background_noise',\n",
       " 'background_noise',\n",
       " 'background_noise',\n",
       " 'background_noise',\n",
       " 'background_noise',\n",
       " 'background_noise',\n",
       " 'background_noise',\n",
       " 'background_noise',\n",
       " 'background_noise',\n",
       " 'background_noise',\n",
       " 'background_noise',\n",
       " 'background_noise',\n",
       " 'background_noise',\n",
       " 'background_noise',\n",
       " 'background_noise',\n",
       " 'background_noise',\n",
       " 'background_noise',\n",
       " 'background_noise',\n",
       " 'background_noise',\n",
       " 'background_noise',\n",
       " 'background_noise',\n",
       " 'background_noise',\n",
       " 'background_noise',\n",
       " 'background_noise',\n",
       " 'background_noise',\n",
       " 'background_noise',\n",
       " 'background_noise',\n",
       " 'background_noise',\n",
       " 'background_noise',\n",
       " 'background_noise',\n",
       " 'background_noise',\n",
       " 'background_noise',\n",
       " 'background_noise',\n",
       " 'background_noise',\n",
       " 'background_noise',\n",
       " 'background_noise',\n",
       " 'background_noise',\n",
       " 'background_noise',\n",
       " 'background_noise',\n",
       " 'background_noise',\n",
       " 'background_noise',\n",
       " 'background_noise',\n",
       " 'background_noise',\n",
       " 'background_noise',\n",
       " 'background_noise',\n",
       " 'background_noise',\n",
       " 'background_noise',\n",
       " 'background_noise',\n",
       " 'background_noise',\n",
       " 'background_noise',\n",
       " 'background_noise',\n",
       " 'background_noise',\n",
       " 'background_noise',\n",
       " 'background_noise',\n",
       " 'background_noise',\n",
       " 'background_noise',\n",
       " 'background_noise',\n",
       " 'background_noise',\n",
       " 'background_noise',\n",
       " 'background_noise',\n",
       " 'background_noise',\n",
       " 'background_noise',\n",
       " 'background_noise',\n",
       " 'background_noise',\n",
       " 'background_noise',\n",
       " 'background_noise',\n",
       " 'background_noise',\n",
       " 'background_noise',\n",
       " 'background_noise',\n",
       " 'background_noise',\n",
       " 'background_noise',\n",
       " 'background_noise',\n",
       " 'background_noise',\n",
       " 'background_noise',\n",
       " 'background_noise',\n",
       " 'background_noise',\n",
       " 'background_noise',\n",
       " 'background_noise',\n",
       " 'background_noise',\n",
       " 'background_noise',\n",
       " 'background_noise',\n",
       " 'background_noise',\n",
       " 'background_noise',\n",
       " 'background_noise',\n",
       " 'background_noise',\n",
       " 'background_noise',\n",
       " 'background_noise',\n",
       " 'background_noise',\n",
       " 'background_noise',\n",
       " 'background_noise',\n",
       " 'background_noise',\n",
       " 'background_noise',\n",
       " 'background_noise',\n",
       " 'background_noise',\n",
       " 'background_noise',\n",
       " 'background_noise',\n",
       " 'background_noise',\n",
       " 'background_noise',\n",
       " 'background_noise',\n",
       " 'background_noise',\n",
       " ...]"
      ]
     },
     "execution_count": 367,
     "metadata": {},
     "output_type": "execute_result"
    }
   ],
   "source": [
    "all_label"
   ]
  },
  {
   "cell_type": "code",
   "execution_count": 368,
   "id": "1a07e859",
   "metadata": {
    "execution": {
     "iopub.execute_input": "2022-06-16T19:00:52.663354Z",
     "iopub.status.busy": "2022-06-16T19:00:52.662590Z",
     "iopub.status.idle": "2022-06-16T19:00:52.673850Z",
     "shell.execute_reply": "2022-06-16T19:00:52.673410Z"
    },
    "papermill": {
     "duration": 0.090307,
     "end_time": "2022-06-16T19:00:52.673967",
     "exception": false,
     "start_time": "2022-06-16T19:00:52.583660",
     "status": "completed"
    },
    "tags": []
   },
   "outputs": [],
   "source": [
    "from sklearn.preprocessing import LabelEncoder\n",
    "le = LabelEncoder()\n",
    "y=le.fit_transform(all_label)\n",
    "classes= list(le.classes_)"
   ]
  },
  {
   "cell_type": "code",
   "execution_count": 369,
   "id": "38147fe6",
   "metadata": {
    "execution": {
     "iopub.execute_input": "2022-06-16T19:00:52.833253Z",
     "iopub.status.busy": "2022-06-16T19:00:52.832453Z",
     "iopub.status.idle": "2022-06-16T19:00:52.835646Z",
     "shell.execute_reply": "2022-06-16T19:00:52.836018Z"
    },
    "papermill": {
     "duration": 0.086226,
     "end_time": "2022-06-16T19:00:52.836174",
     "exception": false,
     "start_time": "2022-06-16T19:00:52.749948",
     "status": "completed"
    },
    "tags": []
   },
   "outputs": [
    {
     "data": {
      "text/plain": [
       "['background_noise', 'barev']"
      ]
     },
     "execution_count": 369,
     "metadata": {},
     "output_type": "execute_result"
    }
   ],
   "source": [
    "classes"
   ]
  },
  {
   "cell_type": "markdown",
   "id": "96e5f5e7",
   "metadata": {
    "papermill": {
     "duration": 0.077609,
     "end_time": "2022-06-16T19:00:52.990476",
     "exception": false,
     "start_time": "2022-06-16T19:00:52.912867",
     "status": "completed"
    },
    "tags": []
   },
   "source": [
    "Now, convert the integer encoded labels to a one-hot vector since it is a multi-classification problem:"
   ]
  },
  {
   "cell_type": "code",
   "execution_count": 370,
   "id": "cb19c1d9",
   "metadata": {
    "execution": {
     "iopub.execute_input": "2022-06-16T19:00:53.149844Z",
     "iopub.status.busy": "2022-06-16T19:00:53.149191Z",
     "iopub.status.idle": "2022-06-16T19:00:57.535300Z",
     "shell.execute_reply": "2022-06-16T19:00:57.534805Z"
    },
    "papermill": {
     "duration": 4.467258,
     "end_time": "2022-06-16T19:00:57.535444",
     "exception": false,
     "start_time": "2022-06-16T19:00:53.068186",
     "status": "completed"
    },
    "tags": []
   },
   "outputs": [],
   "source": [
    "from keras.utils import np_utils\n",
    "y=np_utils.to_categorical(y, num_classes=len(labels))"
   ]
  },
  {
   "cell_type": "code",
   "execution_count": 371,
   "id": "64493954",
   "metadata": {
    "execution": {
     "iopub.execute_input": "2022-06-16T19:00:57.694760Z",
     "iopub.status.busy": "2022-06-16T19:00:57.693996Z",
     "iopub.status.idle": "2022-06-16T19:00:57.697224Z",
     "shell.execute_reply": "2022-06-16T19:00:57.697610Z"
    },
    "papermill": {
     "duration": 0.08554,
     "end_time": "2022-06-16T19:00:57.697759",
     "exception": false,
     "start_time": "2022-06-16T19:00:57.612219",
     "status": "completed"
    },
    "tags": []
   },
   "outputs": [
    {
     "data": {
      "text/plain": [
       "array([[1., 0.],\n",
       "       [1., 0.],\n",
       "       [1., 0.],\n",
       "       ...,\n",
       "       [0., 1.],\n",
       "       [0., 1.],\n",
       "       [0., 1.]], dtype=float32)"
      ]
     },
     "execution_count": 371,
     "metadata": {},
     "output_type": "execute_result"
    }
   ],
   "source": [
    "y"
   ]
  },
  {
   "cell_type": "markdown",
   "id": "358a93d0",
   "metadata": {
    "papermill": {
     "duration": 0.077825,
     "end_time": "2022-06-16T19:00:57.860213",
     "exception": false,
     "start_time": "2022-06-16T19:00:57.782388",
     "status": "completed"
    },
    "tags": []
   },
   "source": [
    "Reshape the 2D array to 3D since the input to the conv1d must be a 3D array:"
   ]
  },
  {
   "cell_type": "code",
   "execution_count": 372,
   "id": "0c0cd5d3",
   "metadata": {
    "execution": {
     "iopub.execute_input": "2022-06-16T19:00:58.022284Z",
     "iopub.status.busy": "2022-06-16T19:00:58.021108Z",
     "iopub.status.idle": "2022-06-16T19:00:58.246011Z",
     "shell.execute_reply": "2022-06-16T19:00:58.245497Z"
    },
    "papermill": {
     "duration": 0.307441,
     "end_time": "2022-06-16T19:00:58.246140",
     "exception": false,
     "start_time": "2022-06-16T19:00:57.938699",
     "status": "completed"
    },
    "tags": []
   },
   "outputs": [],
   "source": [
    "# all_wave = np.array(all_wave).reshape(-1,8000,1)"
   ]
  },
  {
   "cell_type": "code",
   "execution_count": 373,
   "id": "29d4e672",
   "metadata": {
    "execution": {
     "iopub.execute_input": "2022-06-16T19:00:58.456700Z",
     "iopub.status.busy": "2022-06-16T19:00:58.456044Z",
     "iopub.status.idle": "2022-06-16T19:00:58.460940Z",
     "shell.execute_reply": "2022-06-16T19:00:58.460517Z"
    },
    "papermill": {
     "duration": 0.08609,
     "end_time": "2022-06-16T19:00:58.461059",
     "exception": false,
     "start_time": "2022-06-16T19:00:58.374969",
     "status": "completed"
    },
    "tags": []
   },
   "outputs": [
    {
     "data": {
      "text/plain": [
       "(40, 11)"
      ]
     },
     "execution_count": 373,
     "metadata": {},
     "output_type": "execute_result"
    }
   ],
   "source": [
    "all_wave[0].shape"
   ]
  },
  {
   "cell_type": "markdown",
   "id": "124aac0d",
   "metadata": {
    "papermill": {
     "duration": 0.076512,
     "end_time": "2022-06-16T19:00:58.615058",
     "exception": false,
     "start_time": "2022-06-16T19:00:58.538546",
     "status": "completed"
    },
    "tags": []
   },
   "source": [
    "**Split into train and validation set**\n",
    "\n",
    "Next, we will train the model on 80% of the data and validate on the remaining 20%:\n"
   ]
  },
  {
   "cell_type": "code",
   "execution_count": 374,
   "id": "7e0a59e6",
   "metadata": {
    "execution": {
     "iopub.execute_input": "2022-06-16T19:00:58.776554Z",
     "iopub.status.busy": "2022-06-16T19:00:58.775509Z",
     "iopub.status.idle": "2022-06-16T19:00:59.508302Z",
     "shell.execute_reply": "2022-06-16T19:00:59.507788Z"
    },
    "papermill": {
     "duration": 0.816553,
     "end_time": "2022-06-16T19:00:59.508509",
     "exception": false,
     "start_time": "2022-06-16T19:00:58.691956",
     "status": "completed"
    },
    "tags": []
   },
   "outputs": [],
   "source": [
    "from sklearn.model_selection import train_test_split\n",
    "x_tr, x_val, y_tr, y_val = train_test_split(np.array(all_wave),np.array(y),stratify=y,test_size = 0.2,random_state=777,shuffle=True)"
   ]
  },
  {
   "cell_type": "markdown",
   "id": "d5b8f637",
   "metadata": {
    "papermill": {
     "duration": 0.077084,
     "end_time": "2022-06-16T19:00:59.664819",
     "exception": false,
     "start_time": "2022-06-16T19:00:59.587735",
     "status": "completed"
    },
    "tags": []
   },
   "source": [
    "**Model Architecture for this problem**\n",
    "\n",
    "We will build the speech-to-text model using conv1d. Conv1d is a convolutional neural network which performs the convolution along only one dimension. "
   ]
  },
  {
   "cell_type": "markdown",
   "id": "c0bad5b6",
   "metadata": {
    "papermill": {
     "duration": 0.08814,
     "end_time": "2022-06-16T19:00:59.829885",
     "exception": false,
     "start_time": "2022-06-16T19:00:59.741745",
     "status": "completed"
    },
    "tags": []
   },
   "source": [
    "**Model building**\n",
    "\n",
    "Let us implement the model using Keras functional API."
   ]
  },
  {
   "cell_type": "markdown",
   "id": "a185e804",
   "metadata": {
    "papermill": {
     "duration": 0.121906,
     "end_time": "2022-06-16T19:01:00.087103",
     "exception": false,
     "start_time": "2022-06-16T19:00:59.965197",
     "status": "completed"
    },
    "tags": []
   },
   "source": [
    "### Conv1D, Conv2D and Conv3D : https://xzz201920.medium.com/conv1d-conv2d-and-conv3d-8a59182c4d6"
   ]
  },
  {
   "cell_type": "code",
   "execution_count": 375,
   "id": "c0e32997",
   "metadata": {
    "execution": {
     "iopub.execute_input": "2022-06-16T19:01:00.339736Z",
     "iopub.status.busy": "2022-06-16T19:01:00.338746Z",
     "iopub.status.idle": "2022-06-16T19:01:00.357239Z",
     "shell.execute_reply": "2022-06-16T19:01:00.357861Z"
    },
    "papermill": {
     "duration": 0.147247,
     "end_time": "2022-06-16T19:01:00.358058",
     "exception": false,
     "start_time": "2022-06-16T19:01:00.210811",
     "status": "completed"
    },
    "tags": []
   },
   "outputs": [],
   "source": [
    "from keras.layers import Dense, Dropout, Flatten, Conv1D, Input, MaxPooling1D, Conv2D, MaxPooling2D\n",
    "from keras.models import Model\n",
    "from keras.callbacks import EarlyStopping, ModelCheckpoint\n",
    "from keras import backend as K\n",
    "K.clear_session()"
   ]
  },
  {
   "cell_type": "code",
   "execution_count": 376,
   "id": "0686b3cf",
   "metadata": {
    "execution": {
     "iopub.execute_input": "2022-06-16T19:01:00.623927Z",
     "iopub.status.busy": "2022-06-16T19:01:00.622495Z",
     "iopub.status.idle": "2022-06-16T19:01:00.624645Z",
     "shell.execute_reply": "2022-06-16T19:01:00.623192Z"
    },
    "papermill": {
     "duration": 0.138262,
     "end_time": "2022-06-16T19:01:00.624819",
     "exception": false,
     "start_time": "2022-06-16T19:01:00.486557",
     "status": "completed"
    },
    "tags": []
   },
   "outputs": [],
   "source": [
    "# ?Conv1D"
   ]
  },
  {
   "cell_type": "code",
   "execution_count": 377,
   "id": "3cb94c95",
   "metadata": {
    "execution": {
     "iopub.execute_input": "2022-06-16T19:01:00.896824Z",
     "iopub.status.busy": "2022-06-16T19:01:00.896007Z",
     "iopub.status.idle": "2022-06-16T19:01:02.796498Z",
     "shell.execute_reply": "2022-06-16T19:01:02.796943Z"
    },
    "papermill": {
     "duration": 2.043773,
     "end_time": "2022-06-16T19:01:02.797097",
     "exception": false,
     "start_time": "2022-06-16T19:01:00.753324",
     "status": "completed"
    },
    "tags": []
   },
   "outputs": [
    {
     "name": "stdout",
     "output_type": "stream",
     "text": [
      "Model: \"model\"\n",
      "_________________________________________________________________\n",
      " Layer (type)                Output Shape              Param #   \n",
      "=================================================================\n",
      " input_1 (InputLayer)        [(None, 8000, 1)]         0         \n",
      "                                                                 \n",
      " conv1d (Conv1D)             (None, 7988, 8)           112       \n",
      "                                                                 \n",
      " max_pooling1d (MaxPooling1D  (None, 2662, 8)          0         \n",
      " )                                                               \n",
      "                                                                 \n",
      " dropout (Dropout)           (None, 2662, 8)           0         \n",
      "                                                                 \n",
      " conv1d_1 (Conv1D)           (None, 2652, 16)          1424      \n",
      "                                                                 \n",
      " max_pooling1d_1 (MaxPooling  (None, 884, 16)          0         \n",
      " 1D)                                                             \n",
      "                                                                 \n",
      " dropout_1 (Dropout)         (None, 884, 16)           0         \n",
      "                                                                 \n",
      " conv1d_2 (Conv1D)           (None, 876, 32)           4640      \n",
      "                                                                 \n",
      " max_pooling1d_2 (MaxPooling  (None, 292, 32)          0         \n",
      " 1D)                                                             \n",
      "                                                                 \n",
      " dropout_2 (Dropout)         (None, 292, 32)           0         \n",
      "                                                                 \n",
      " conv1d_3 (Conv1D)           (None, 286, 64)           14400     \n",
      "                                                                 \n",
      " max_pooling1d_3 (MaxPooling  (None, 95, 64)           0         \n",
      " 1D)                                                             \n",
      "                                                                 \n",
      " dropout_3 (Dropout)         (None, 95, 64)            0         \n",
      "                                                                 \n",
      " flatten (Flatten)           (None, 6080)              0         \n",
      "                                                                 \n",
      " dense (Dense)               (None, 256)               1556736   \n",
      "                                                                 \n",
      " dropout_4 (Dropout)         (None, 256)               0         \n",
      "                                                                 \n",
      " dense_1 (Dense)             (None, 128)               32896     \n",
      "                                                                 \n",
      " dropout_5 (Dropout)         (None, 128)               0         \n",
      "                                                                 \n",
      " dense_2 (Dense)             (None, 2)                 258       \n",
      "                                                                 \n",
      "=================================================================\n",
      "Total params: 1,610,466\n",
      "Trainable params: 1,610,466\n",
      "Non-trainable params: 0\n",
      "_________________________________________________________________\n"
     ]
    }
   ],
   "source": [
    "inputs = Input(shape=(8000,1))\n",
    "\n",
    "#First Conv1D layer\n",
    "conv = Conv1D(filters=8,kernel_size=13, padding='valid', activation='relu', strides=1)(inputs)\n",
    "conv = MaxPooling1D(3)(conv)\n",
    "conv = Dropout(0.3)(conv)\n",
    "\n",
    "#Second Conv1D layer\n",
    "conv = Conv1D(16, 11, padding='valid', activation='relu', strides=1)(conv)\n",
    "conv = MaxPooling1D(3)(conv)\n",
    "conv = Dropout(0.3)(conv)\n",
    "\n",
    "#Third Conv1D layer\n",
    "conv = Conv1D(32, 9, padding='valid', activation='relu', strides=1)(conv)\n",
    "conv = MaxPooling1D(3)(conv)\n",
    "conv = Dropout(0.3)(conv)\n",
    "\n",
    "#Fourth Conv1D layer\n",
    "conv = Conv1D(64, 7, padding='valid', activation='relu', strides=1)(conv)\n",
    "conv = MaxPooling1D(3)(conv)\n",
    "conv = Dropout(0.3)(conv)\n",
    "\n",
    "#Flatten layer\n",
    "conv = Flatten()(conv)\n",
    "\n",
    "#Dense Layer 1\n",
    "conv = Dense(256, activation='relu')(conv)\n",
    "conv = Dropout(0.3)(conv)\n",
    "\n",
    "#Dense Layer 2\n",
    "conv = Dense(128, activation='relu')(conv)\n",
    "conv = Dropout(0.3)(conv)\n",
    "\n",
    "outputs = Dense(len(labels), activation='softmax')(conv)\n",
    "\n",
    "model = Model(inputs, outputs)\n",
    "model.summary()"
   ]
  },
  {
   "cell_type": "markdown",
   "id": "5b9315a6",
   "metadata": {
    "papermill": {
     "duration": 0.080058,
     "end_time": "2022-06-16T19:01:02.954912",
     "exception": false,
     "start_time": "2022-06-16T19:01:02.874854",
     "status": "completed"
    },
    "tags": []
   },
   "source": [
    "Define the loss function to be categorical cross-entropy since it is a multi-classification problem:"
   ]
  },
  {
   "cell_type": "code",
   "execution_count": 378,
   "id": "650e60bc",
   "metadata": {
    "execution": {
     "iopub.execute_input": "2022-06-16T19:01:03.122630Z",
     "iopub.status.busy": "2022-06-16T19:01:03.121781Z",
     "iopub.status.idle": "2022-06-16T19:01:03.128022Z",
     "shell.execute_reply": "2022-06-16T19:01:03.127563Z"
    },
    "papermill": {
     "duration": 0.094583,
     "end_time": "2022-06-16T19:01:03.128136",
     "exception": false,
     "start_time": "2022-06-16T19:01:03.033553",
     "status": "completed"
    },
    "tags": []
   },
   "outputs": [],
   "source": [
    "model.compile(loss='categorical_crossentropy',optimizer='adam',metrics=['accuracy'])"
   ]
  },
  {
   "cell_type": "markdown",
   "id": "5674c0a7",
   "metadata": {
    "papermill": {
     "duration": 0.077807,
     "end_time": "2022-06-16T19:01:03.284706",
     "exception": false,
     "start_time": "2022-06-16T19:01:03.206899",
     "status": "completed"
    },
    "tags": []
   },
   "source": [
    "Early stopping and model checkpoints are the callbacks to stop training the neural network at the right time and to save the best model after every epoch:"
   ]
  },
  {
   "cell_type": "code",
   "execution_count": 379,
   "id": "2c5a460f",
   "metadata": {
    "execution": {
     "iopub.execute_input": "2022-06-16T19:01:03.445677Z",
     "iopub.status.busy": "2022-06-16T19:01:03.444629Z",
     "iopub.status.idle": "2022-06-16T19:01:03.447612Z",
     "shell.execute_reply": "2022-06-16T19:01:03.447169Z"
    },
    "papermill": {
     "duration": 0.08565,
     "end_time": "2022-06-16T19:01:03.447734",
     "exception": false,
     "start_time": "2022-06-16T19:01:03.362084",
     "status": "completed"
    },
    "tags": []
   },
   "outputs": [],
   "source": [
    "es = EarlyStopping(monitor='val_loss', mode='min', verbose=1, patience=10, min_delta=0.0001) \n",
    "mc = ModelCheckpoint('best_model.hdf5', monitor='val_acc', verbose=1, save_best_only=True, mode='max')"
   ]
  },
  {
   "cell_type": "code",
   "execution_count": 380,
   "id": "1215168c",
   "metadata": {},
   "outputs": [
    {
     "data": {
      "text/plain": [
       "array([[-3.08770799e+01, -4.26339002e+01, -3.82145828e+01,\n",
       "        -3.73914739e+01, -3.37180026e+01, -3.48351585e+01,\n",
       "        -1.46519942e+01, -1.77504994e+01, -1.17045884e+01,\n",
       "        -2.81432565e+01,  0.00000000e+00],\n",
       "       [-2.87368529e+01, -4.41030663e+01, -3.61013387e+01,\n",
       "        -4.10049861e+01, -3.67396831e+01, -1.96685938e+01,\n",
       "         6.61686120e-01, -8.91048866e+00, -1.11172493e+01,\n",
       "        -2.05676408e+01,  0.00000000e+00],\n",
       "       [-2.93014616e+01, -4.23525577e+01, -3.68990816e+01,\n",
       "        -3.95691681e+01, -3.37716677e+01, -2.65431093e+00,\n",
       "         2.53516608e+01,  2.10415398e+01,  2.53069272e+01,\n",
       "        -1.90171697e+00,  0.00000000e+00],\n",
       "       [-2.93378445e+01, -4.41075934e+01, -3.62372231e+01,\n",
       "        -3.89787124e+01, -3.30042117e+01,  6.04126799e+00,\n",
       "         2.70829899e+01,  1.96836560e+01,  1.73190478e+01,\n",
       "        -9.53169988e+00,  0.00000000e+00],\n",
       "       [-3.15455558e+01, -4.77103762e+01, -3.92832063e+01,\n",
       "        -4.40915881e+01, -3.59866839e+01,  2.37636001e-01,\n",
       "        -3.34724420e-02, -1.23611358e+01,  7.21332752e+00,\n",
       "        -1.48456802e+01,  0.00000000e+00],\n",
       "       [-3.13173158e+01, -4.73996317e+01, -3.93766595e+01,\n",
       "        -4.76039754e+01, -3.55578536e+01, -6.35122515e+00,\n",
       "         1.20545806e+01,  1.13685352e+01,  1.84594825e+01,\n",
       "        -1.01393966e+01,  0.00000000e+00],\n",
       "       [-3.32313727e+01, -5.04977013e+01, -4.05530183e+01,\n",
       "        -4.95825436e+01, -3.60136855e+01,  5.09880867e-01,\n",
       "         1.45752200e+01,  6.19006564e+00, -2.14294369e+00,\n",
       "        -2.19263099e+01,  0.00000000e+00],\n",
       "       [-3.20657669e+01, -5.10366246e+01, -4.28281252e+01,\n",
       "        -5.08535501e+01, -3.81344145e+01, -4.19958458e+00,\n",
       "        -1.53180502e-01,  3.72633559e-02,  9.35062631e+00,\n",
       "        -2.12998584e+01,  0.00000000e+00],\n",
       "       [-3.29143279e+01, -5.11202618e+01, -4.30484271e+01,\n",
       "        -4.83896281e+01, -3.74200388e+01, -6.88913196e+00,\n",
       "         1.34858998e+01,  7.58904727e+00,  5.01144592e-01,\n",
       "        -2.48169961e+01,  0.00000000e+00],\n",
       "       [-3.33967580e+01, -5.07838667e+01, -4.24733023e+01,\n",
       "        -4.94956819e+01, -3.55109086e+01, -5.36467376e+00,\n",
       "         8.38547582e-01, -2.20800041e+00,  3.18699245e+00,\n",
       "        -2.16084075e+01,  0.00000000e+00],\n",
       "       [-3.55874485e+01, -5.11177110e+01, -4.41393146e+01,\n",
       "        -5.05667083e+01, -2.36637215e+01, -5.78656715e+00,\n",
       "         9.08892058e+00,  1.22830344e+01, -5.94282466e-01,\n",
       "        -3.20182665e+01,  0.00000000e+00],\n",
       "       [-3.44337604e+01, -5.09598653e+01, -4.53150969e+01,\n",
       "        -5.01499203e+01, -1.83275613e+01,  1.65801601e+00,\n",
       "         6.49306675e+00,  5.56738982e+00, -1.59679535e-02,\n",
       "        -2.89451944e+01,  0.00000000e+00],\n",
       "       [-3.41822931e+01, -5.20653903e+01, -4.55703096e+01,\n",
       "        -5.05090807e+01, -2.34772336e+01, -3.18361404e+00,\n",
       "         5.29550946e+00,  3.97488469e+00, -1.04118442e-01,\n",
       "        -3.22196368e+01,  0.00000000e+00],\n",
       "       [-3.35535993e+01, -5.21941255e+01, -4.49929109e+01,\n",
       "        -5.05605002e+01, -3.38591316e+01,  3.14627654e-01,\n",
       "         8.56057792e+00, -3.03166336e+00, -3.91729799e+00,\n",
       "        -3.93019532e+01,  0.00000000e+00],\n",
       "       [-3.40354714e+01, -5.23004805e+01, -4.48187715e+01,\n",
       "        -5.18285349e+01, -3.62256202e+01, -3.72898399e-01,\n",
       "         1.57972371e+01,  1.96165417e+00, -9.91547138e+00,\n",
       "        -4.42617742e+01,  0.00000000e+00],\n",
       "       [-3.45283318e+01, -5.35953556e+01, -4.52644087e+01,\n",
       "        -5.18245260e+01, -3.49609886e+01, -5.47474644e-01,\n",
       "         8.93454767e+00,  2.27269361e+00, -4.51183575e+00,\n",
       "        -4.02270325e+01,  0.00000000e+00],\n",
       "       [-3.37484040e+01, -5.35668457e+01, -4.32711314e+01,\n",
       "        -5.27000955e+01, -3.61731126e+01,  1.02340907e+00,\n",
       "         1.22101890e+01,  3.28855066e+00, -1.07576958e+01,\n",
       "        -3.90862185e+01,  0.00000000e+00],\n",
       "       [-3.45369545e+01, -5.25564163e+01, -4.48117406e+01,\n",
       "        -5.22070358e+01, -3.78972891e+01, -1.93513197e+00,\n",
       "         5.67227028e+00, -5.78006203e+00, -1.81076068e+01,\n",
       "        -5.04107890e+01,  0.00000000e+00],\n",
       "       [-3.65682564e+01, -5.38446329e+01, -4.72380035e+01,\n",
       "        -5.30877553e+01, -3.28027237e+01, -6.68518007e+00,\n",
       "         1.60685293e+00, -9.03128051e+00, -2.37306604e+01,\n",
       "        -5.19189006e+01,  0.00000000e+00],\n",
       "       [-3.71468882e+01, -5.41156399e+01, -4.68264241e+01,\n",
       "        -5.42195782e+01, -2.80851819e+01, -2.65542298e+00,\n",
       "         4.50182863e+00, -1.06901257e+01, -2.79209944e+01,\n",
       "        -5.06581324e+01,  0.00000000e+00],\n",
       "       [-3.59995660e+01, -5.57584532e+01, -4.61086221e+01,\n",
       "        -5.69404709e+01, -2.82442336e+01,  4.48664242e+00,\n",
       "         2.42160135e+00, -1.26061729e+01, -2.48985246e+01,\n",
       "        -4.34950902e+01,  0.00000000e+00],\n",
       "       [-3.40594564e+01, -5.75517174e+01, -4.50544691e+01,\n",
       "        -5.85950181e+01, -3.33847842e+01,  1.03913355e+00,\n",
       "        -2.05676013e+00, -9.14411496e+00, -2.98677322e+01,\n",
       "        -3.95820278e+01,  0.00000000e+00],\n",
       "       [-3.53593939e+01, -5.82898318e+01, -4.49150713e+01,\n",
       "        -5.87471393e+01, -2.84378679e+01,  5.83272236e+00,\n",
       "        -1.14805862e+00, -8.14447586e+00, -2.33081961e+01,\n",
       "        -2.45710084e+01,  0.00000000e+00],\n",
       "       [-3.58559166e+01, -5.88455287e+01, -4.54078875e+01,\n",
       "        -5.93233936e+01, -3.18595073e+01,  2.66846988e+00,\n",
       "        -3.15377585e+00, -7.31214323e+00, -1.63175749e+01,\n",
       "        -1.90808210e+01,  0.00000000e+00],\n",
       "       [-3.67679669e+01, -5.88143106e+01, -4.70876320e+01,\n",
       "        -5.88670218e+01, -2.58574803e+01, -2.37845352e+00,\n",
       "        -7.61972483e+00, -3.98478496e+00, -1.12524744e+01,\n",
       "        -1.92019076e+01,  0.00000000e+00],\n",
       "       [-3.74594798e+01, -6.00306259e+01, -4.85639611e+01,\n",
       "        -5.97238536e+01, -2.75465627e+01, -6.03864950e+00,\n",
       "        -8.69500847e+00, -7.43901612e-01, -1.21926991e+01,\n",
       "        -2.65229103e+01,  0.00000000e+00],\n",
       "       [-3.77194877e+01, -6.03587464e+01, -4.91871104e+01,\n",
       "        -6.04289000e+01, -3.48947094e+01, -1.47809325e+01,\n",
       "        -1.26914847e+01, -4.90386506e+00, -1.76614548e+01,\n",
       "        -3.79160387e+01,  0.00000000e+00],\n",
       "       [-3.84270219e+01, -6.15563754e+01, -4.97137736e+01,\n",
       "        -6.10564621e+01, -4.26609266e+01, -1.90713759e+01,\n",
       "        -2.02334458e+01, -1.40049195e+01, -2.43303067e+01,\n",
       "        -4.59720075e+01,  0.00000000e+00],\n",
       "       [-4.01807745e+01, -6.10591560e+01, -5.21466725e+01,\n",
       "        -5.96992745e+01, -4.68125842e+01, -2.97835008e+01,\n",
       "        -2.71436653e+01, -2.60004058e+01, -2.57651077e+01,\n",
       "        -5.49772155e+01,  0.00000000e+00],\n",
       "       [-4.04147278e+01, -6.07418500e+01, -5.19240423e+01,\n",
       "        -5.96760311e+01, -4.14744532e+01, -2.10795866e+01,\n",
       "        -1.64627569e+01, -1.80068149e+01, -2.73719132e+01,\n",
       "        -5.76184056e+01,  0.00000000e+00],\n",
       "       [-3.92870766e+01, -5.93335070e+01, -5.10128698e+01,\n",
       "        -5.88929087e+01, -3.89304234e+01, -1.65060376e+01,\n",
       "        -7.41868631e+00, -1.20840406e+01, -2.47231294e+01,\n",
       "        -5.56665335e+01,  0.00000000e+00],\n",
       "       [-3.87618579e+01, -5.89934712e+01, -4.97817016e+01,\n",
       "        -5.81293648e+01, -4.28062199e+01, -1.43064109e+01,\n",
       "         1.17272436e+00, -3.95871883e+00, -1.72636560e+01,\n",
       "        -4.71134123e+01,  0.00000000e+00],\n",
       "       [-3.97310762e+01, -6.05093436e+01, -5.04636422e+01,\n",
       "        -6.02316413e+01, -4.45415936e+01, -1.71184054e+01,\n",
       "        -2.05857886e+00,  2.60729566e-01, -1.42030669e+01,\n",
       "        -3.19969062e+01,  0.00000000e+00],\n",
       "       [-3.99811427e+01, -6.09495803e+01, -5.13880697e+01,\n",
       "        -5.98419686e+01, -4.82060459e+01, -2.68544094e+01,\n",
       "        -1.12906705e+01, -5.55419671e+00, -1.59090769e+01,\n",
       "        -3.55013437e+01,  0.00000000e+00],\n",
       "       [-3.96234874e+01, -6.12339850e+01, -5.13834189e+01,\n",
       "        -6.04055938e+01, -4.68146643e+01, -2.61017826e+01,\n",
       "        -1.31290550e+01, -9.34288035e+00, -2.25441871e+01,\n",
       "        -4.23375786e+01,  0.00000000e+00],\n",
       "       [-4.05097384e+01, -6.32515031e+01, -5.28605858e+01,\n",
       "        -6.22071986e+01, -4.65407297e+01, -2.29708933e+01,\n",
       "        -1.62230490e+01, -1.39343914e+01, -2.92025770e+01,\n",
       "        -5.58500390e+01,  0.00000000e+00],\n",
       "       [-4.06680913e+01, -6.43616885e+01, -5.28615639e+01,\n",
       "        -6.37139217e+01, -4.69552957e+01, -2.15348232e+01,\n",
       "        -2.42501308e+01, -2.21310959e+01, -3.49226467e+01,\n",
       "        -6.38852944e+01,  0.00000000e+00],\n",
       "       [-4.06848207e+01, -6.44172148e+01, -5.26286152e+01,\n",
       "        -6.40202995e+01, -4.64088853e+01, -1.95782138e+01,\n",
       "        -2.61356783e+01, -2.34932570e+01, -3.40756257e+01,\n",
       "        -6.48941334e+01,  0.00000000e+00],\n",
       "       [-4.32182163e+01, -6.78951109e+01, -5.56602714e+01,\n",
       "        -6.56866477e+01, -4.94242887e+01, -2.06049217e+01,\n",
       "        -2.30529310e+01, -2.17446739e+01, -3.11020801e+01,\n",
       "        -5.90112730e+01,  0.00000000e+00],\n",
       "       [-5.00124424e+01, -7.87074244e+01, -6.54394537e+01,\n",
       "        -7.60609495e+01, -5.76202308e+01, -2.60803933e+01,\n",
       "        -2.96946940e+01, -2.84564747e+01, -3.68139375e+01,\n",
       "        -6.71208795e+01,  0.00000000e+00]])"
      ]
     },
     "execution_count": 380,
     "metadata": {},
     "output_type": "execute_result"
    }
   ],
   "source": [
    "x_tr[0]"
   ]
  },
  {
   "cell_type": "markdown",
   "id": "0f40f118",
   "metadata": {
    "papermill": {
     "duration": 0.077898,
     "end_time": "2022-06-16T19:01:03.604036",
     "exception": false,
     "start_time": "2022-06-16T19:01:03.526138",
     "status": "completed"
    },
    "tags": []
   },
   "source": [
    "Let us train the model on a batch size of 32 and evaluate the performance on the holdout set:"
   ]
  },
  {
   "cell_type": "code",
   "execution_count": 381,
   "id": "7fcb002f",
   "metadata": {
    "execution": {
     "iopub.execute_input": "2022-06-16T19:01:03.765347Z",
     "iopub.status.busy": "2022-06-16T19:01:03.764733Z",
     "iopub.status.idle": "2022-06-16T19:04:29.600126Z",
     "shell.execute_reply": "2022-06-16T19:04:29.599494Z"
    },
    "papermill": {
     "duration": 205.918736,
     "end_time": "2022-06-16T19:04:29.600302",
     "exception": false,
     "start_time": "2022-06-16T19:01:03.681566",
     "status": "completed"
    },
    "scrolled": true,
    "tags": []
   },
   "outputs": [
    {
     "name": "stdout",
     "output_type": "stream",
     "text": [
      "Epoch 1/100\n"
     ]
    },
    {
     "ename": "ValueError",
     "evalue": "in user code:\n\n    File \"C:\\Users\\sakoy\\AppData\\Local\\Packages\\PythonSoftwareFoundation.Python.3.10_qbz5n2kfra8p0\\LocalCache\\local-packages\\Python310\\site-packages\\keras\\engine\\training.py\", line 1051, in train_function  *\n        return step_function(self, iterator)\n    File \"C:\\Users\\sakoy\\AppData\\Local\\Packages\\PythonSoftwareFoundation.Python.3.10_qbz5n2kfra8p0\\LocalCache\\local-packages\\Python310\\site-packages\\keras\\engine\\training.py\", line 1040, in step_function  **\n        outputs = model.distribute_strategy.run(run_step, args=(data,))\n    File \"C:\\Users\\sakoy\\AppData\\Local\\Packages\\PythonSoftwareFoundation.Python.3.10_qbz5n2kfra8p0\\LocalCache\\local-packages\\Python310\\site-packages\\keras\\engine\\training.py\", line 1030, in run_step  **\n        outputs = model.train_step(data)\n    File \"C:\\Users\\sakoy\\AppData\\Local\\Packages\\PythonSoftwareFoundation.Python.3.10_qbz5n2kfra8p0\\LocalCache\\local-packages\\Python310\\site-packages\\keras\\engine\\training.py\", line 889, in train_step\n        y_pred = self(x, training=True)\n    File \"C:\\Users\\sakoy\\AppData\\Local\\Packages\\PythonSoftwareFoundation.Python.3.10_qbz5n2kfra8p0\\LocalCache\\local-packages\\Python310\\site-packages\\keras\\utils\\traceback_utils.py\", line 67, in error_handler\n        raise e.with_traceback(filtered_tb) from None\n    File \"C:\\Users\\sakoy\\AppData\\Local\\Packages\\PythonSoftwareFoundation.Python.3.10_qbz5n2kfra8p0\\LocalCache\\local-packages\\Python310\\site-packages\\keras\\engine\\input_spec.py\", line 264, in assert_input_compatibility\n        raise ValueError(f'Input {input_index} of layer \"{layer_name}\" is '\n\n    ValueError: Input 0 of layer \"model\" is incompatible with the layer: expected shape=(None, 8000, 1), found shape=(None, 40, 11)\n",
     "output_type": "error",
     "traceback": [
      "\u001b[1;31m---------------------------------------------------------------------------\u001b[0m",
      "\u001b[1;31mValueError\u001b[0m                                Traceback (most recent call last)",
      "\u001b[1;32mc:\\Users\\sakoy\\Documents\\PyProjects\\SpeechRecognition\\nlp-speech-recognition-model-development.ipynb Cell 53\u001b[0m in \u001b[0;36m<cell line: 1>\u001b[1;34m()\u001b[0m\n\u001b[1;32m----> <a href='vscode-notebook-cell:/c%3A/Users/sakoy/Documents/PyProjects/SpeechRecognition/nlp-speech-recognition-model-development.ipynb#Y102sZmlsZQ%3D%3D?line=0'>1</a>\u001b[0m history\u001b[39m=\u001b[39mmodel\u001b[39m.\u001b[39;49mfit(x_tr, y_tr ,epochs\u001b[39m=\u001b[39;49m\u001b[39m100\u001b[39;49m, callbacks\u001b[39m=\u001b[39;49m[es,mc], batch_size\u001b[39m=\u001b[39;49m\u001b[39m32\u001b[39;49m, validation_data\u001b[39m=\u001b[39;49m(x_val,y_val))\n",
      "File \u001b[1;32m~\\AppData\\Local\\Packages\\PythonSoftwareFoundation.Python.3.10_qbz5n2kfra8p0\\LocalCache\\local-packages\\Python310\\site-packages\\keras\\utils\\traceback_utils.py:67\u001b[0m, in \u001b[0;36mfilter_traceback.<locals>.error_handler\u001b[1;34m(*args, **kwargs)\u001b[0m\n\u001b[0;32m     65\u001b[0m \u001b[39mexcept\u001b[39;00m \u001b[39mException\u001b[39;00m \u001b[39mas\u001b[39;00m e:  \u001b[39m# pylint: disable=broad-except\u001b[39;00m\n\u001b[0;32m     66\u001b[0m   filtered_tb \u001b[39m=\u001b[39m _process_traceback_frames(e\u001b[39m.\u001b[39m__traceback__)\n\u001b[1;32m---> 67\u001b[0m   \u001b[39mraise\u001b[39;00m e\u001b[39m.\u001b[39mwith_traceback(filtered_tb) \u001b[39mfrom\u001b[39;00m \u001b[39mNone\u001b[39m\n\u001b[0;32m     68\u001b[0m \u001b[39mfinally\u001b[39;00m:\n\u001b[0;32m     69\u001b[0m   \u001b[39mdel\u001b[39;00m filtered_tb\n",
      "File \u001b[1;32m~\\AppData\\Local\\Temp\\__autograph_generated_filerionr3ge.py:15\u001b[0m, in \u001b[0;36mouter_factory.<locals>.inner_factory.<locals>.tf__train_function\u001b[1;34m(iterator)\u001b[0m\n\u001b[0;32m     13\u001b[0m \u001b[39mtry\u001b[39;00m:\n\u001b[0;32m     14\u001b[0m     do_return \u001b[39m=\u001b[39m \u001b[39mTrue\u001b[39;00m\n\u001b[1;32m---> 15\u001b[0m     retval_ \u001b[39m=\u001b[39m ag__\u001b[39m.\u001b[39mconverted_call(ag__\u001b[39m.\u001b[39mld(step_function), (ag__\u001b[39m.\u001b[39mld(\u001b[39mself\u001b[39m), ag__\u001b[39m.\u001b[39mld(iterator)), \u001b[39mNone\u001b[39;00m, fscope)\n\u001b[0;32m     16\u001b[0m \u001b[39mexcept\u001b[39;00m:\n\u001b[0;32m     17\u001b[0m     do_return \u001b[39m=\u001b[39m \u001b[39mFalse\u001b[39;00m\n",
      "\u001b[1;31mValueError\u001b[0m: in user code:\n\n    File \"C:\\Users\\sakoy\\AppData\\Local\\Packages\\PythonSoftwareFoundation.Python.3.10_qbz5n2kfra8p0\\LocalCache\\local-packages\\Python310\\site-packages\\keras\\engine\\training.py\", line 1051, in train_function  *\n        return step_function(self, iterator)\n    File \"C:\\Users\\sakoy\\AppData\\Local\\Packages\\PythonSoftwareFoundation.Python.3.10_qbz5n2kfra8p0\\LocalCache\\local-packages\\Python310\\site-packages\\keras\\engine\\training.py\", line 1040, in step_function  **\n        outputs = model.distribute_strategy.run(run_step, args=(data,))\n    File \"C:\\Users\\sakoy\\AppData\\Local\\Packages\\PythonSoftwareFoundation.Python.3.10_qbz5n2kfra8p0\\LocalCache\\local-packages\\Python310\\site-packages\\keras\\engine\\training.py\", line 1030, in run_step  **\n        outputs = model.train_step(data)\n    File \"C:\\Users\\sakoy\\AppData\\Local\\Packages\\PythonSoftwareFoundation.Python.3.10_qbz5n2kfra8p0\\LocalCache\\local-packages\\Python310\\site-packages\\keras\\engine\\training.py\", line 889, in train_step\n        y_pred = self(x, training=True)\n    File \"C:\\Users\\sakoy\\AppData\\Local\\Packages\\PythonSoftwareFoundation.Python.3.10_qbz5n2kfra8p0\\LocalCache\\local-packages\\Python310\\site-packages\\keras\\utils\\traceback_utils.py\", line 67, in error_handler\n        raise e.with_traceback(filtered_tb) from None\n    File \"C:\\Users\\sakoy\\AppData\\Local\\Packages\\PythonSoftwareFoundation.Python.3.10_qbz5n2kfra8p0\\LocalCache\\local-packages\\Python310\\site-packages\\keras\\engine\\input_spec.py\", line 264, in assert_input_compatibility\n        raise ValueError(f'Input {input_index} of layer \"{layer_name}\" is '\n\n    ValueError: Input 0 of layer \"model\" is incompatible with the layer: expected shape=(None, 8000, 1), found shape=(None, 40, 11)\n"
     ]
    }
   ],
   "source": [
    "history=model.fit(x_tr, y_tr ,epochs=100, callbacks=[es,mc], batch_size=32, validation_data=(x_val,y_val))"
   ]
  },
  {
   "cell_type": "markdown",
   "id": "5653bde6",
   "metadata": {
    "papermill": {
     "duration": 0.930607,
     "end_time": "2022-06-16T19:04:31.475194",
     "exception": false,
     "start_time": "2022-06-16T19:04:30.544587",
     "status": "completed"
    },
    "tags": []
   },
   "source": [
    "**Diagnostic plot**\n",
    "\n",
    "I’m going to lean on visualization again to understand the performance of the model over a period of time:"
   ]
  },
  {
   "cell_type": "code",
   "execution_count": null,
   "id": "1430210e",
   "metadata": {
    "execution": {
     "iopub.execute_input": "2022-06-16T19:04:33.420013Z",
     "iopub.status.busy": "2022-06-16T19:04:33.419124Z",
     "iopub.status.idle": "2022-06-16T19:04:33.549884Z",
     "shell.execute_reply": "2022-06-16T19:04:33.550256Z"
    },
    "papermill": {
     "duration": 1.084423,
     "end_time": "2022-06-16T19:04:33.550405",
     "exception": false,
     "start_time": "2022-06-16T19:04:32.465982",
     "status": "completed"
    },
    "tags": []
   },
   "outputs": [
    {
     "data": {
      "image/png": "[encoded data removed]",
      "text/plain": [
       "<Figure size 432x288 with 1 Axes>"
      ]
     },
     "metadata": {
      "needs_background": "light"
     },
     "output_type": "display_data"
    }
   ],
   "source": [
    "from matplotlib import pyplot\n",
    "pyplot.plot(history.history['loss'], label='train')\n",
    "pyplot.plot(history.history['val_loss'], label='test')\n",
    "pyplot.legend()\n",
    "pyplot.show()"
   ]
  },
  {
   "cell_type": "code",
   "execution_count": null,
   "id": "85a65f2c",
   "metadata": {},
   "outputs": [
    {
     "data": {
      "image/png": "[encoded data removed]",
      "text/plain": [
       "<Figure size 432x288 with 1 Axes>"
      ]
     },
     "metadata": {
      "needs_background": "light"
     },
     "output_type": "display_data"
    }
   ],
   "source": [
    "plt.title('Accuracy')\n",
    "plt.plot(history.history['accuracy'], 'r')\n",
    "plt.plot(history.history['val_accuracy'], 'b')\n",
    "plt.show()"
   ]
  },
  {
   "cell_type": "markdown",
   "id": "24e6ef4f",
   "metadata": {
    "papermill": {
     "duration": 1.210899,
     "end_time": "2022-06-16T19:04:35.693051",
     "exception": false,
     "start_time": "2022-06-16T19:04:34.482152",
     "status": "completed"
    },
    "tags": []
   },
   "source": [
    "**Loading the best model**"
   ]
  },
  {
   "cell_type": "code",
   "execution_count": null,
   "id": "20212dfb",
   "metadata": {
    "execution": {
     "iopub.execute_input": "2022-06-16T19:04:37.585065Z",
     "iopub.status.busy": "2022-06-16T19:04:37.584184Z",
     "iopub.status.idle": "2022-06-16T19:04:37.651033Z",
     "shell.execute_reply": "2022-06-16T19:04:37.650559Z"
    },
    "papermill": {
     "duration": 1.016053,
     "end_time": "2022-06-16T19:04:37.651180",
     "exception": false,
     "start_time": "2022-06-16T19:04:36.635127",
     "status": "completed"
    },
    "tags": []
   },
   "outputs": [],
   "source": [
    "from keras.models import load_model\n",
    "model.save(\"barevModel.h5\")\n",
    "#model=load_model('/kaggle/working/best_model.hdf5')"
   ]
  },
  {
   "cell_type": "markdown",
   "id": "fc94ad00",
   "metadata": {
    "papermill": {
     "duration": 0.928549,
     "end_time": "2022-06-16T19:04:39.551362",
     "exception": false,
     "start_time": "2022-06-16T19:04:38.622813",
     "status": "completed"
    },
    "tags": []
   },
   "source": [
    "Define the function that predicts text for the given audio:"
   ]
  },
  {
   "cell_type": "code",
   "execution_count": null,
   "id": "e38874a8",
   "metadata": {
    "execution": {
     "iopub.execute_input": "2022-06-16T19:04:41.412517Z",
     "iopub.status.busy": "2022-06-16T19:04:41.411436Z",
     "iopub.status.idle": "2022-06-16T19:04:41.414502Z",
     "shell.execute_reply": "2022-06-16T19:04:41.413967Z"
    },
    "papermill": {
     "duration": 0.934887,
     "end_time": "2022-06-16T19:04:41.414631",
     "exception": false,
     "start_time": "2022-06-16T19:04:40.479744",
     "status": "completed"
    },
    "tags": []
   },
   "outputs": [],
   "source": [
    "def predict(audio):\n",
    "    prob=model.predict(audio.reshape(1,8000,1))\n",
    "    index=np.argmax(prob[0])\n",
    "    return classes[index]"
   ]
  },
  {
   "cell_type": "markdown",
   "id": "d5579570",
   "metadata": {
    "papermill": {
     "duration": 0.931691,
     "end_time": "2022-06-16T19:04:43.327958",
     "exception": false,
     "start_time": "2022-06-16T19:04:42.396267",
     "status": "completed"
    },
    "tags": []
   },
   "source": [
    "Prediction time! Make predictions on the validation data:"
   ]
  },
  {
   "cell_type": "code",
   "execution_count": null,
   "id": "e99c2936",
   "metadata": {
    "execution": {
     "iopub.execute_input": "2022-06-16T19:04:45.237620Z",
     "iopub.status.busy": "2022-06-16T19:04:45.236734Z",
     "iopub.status.idle": "2022-06-16T19:04:45.244744Z",
     "shell.execute_reply": "2022-06-16T19:04:45.245131Z"
    },
    "papermill": {
     "duration": 0.985781,
     "end_time": "2022-06-16T19:04:45.245276",
     "exception": false,
     "start_time": "2022-06-16T19:04:44.259495",
     "status": "completed"
    },
    "tags": []
   },
   "outputs": [
    {
     "name": "stdout",
     "output_type": "stream",
     "text": [
      "(8000,)\n",
      "Audio: background_noise\n"
     ]
    },
    {
     "data": {
      "text/html": [
       "\n",
       "                <audio  controls=\"controls\" >\n",
       "                    <source src=\"data:audio/wav;base64,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\" type=\"audio/wav\" />\n",
       "                    Your browser does not support the audio element.\n",
       "                </audio>\n",
       "              "
      ],
      "text/plain": [
       "<IPython.lib.display.Audio object>"
      ]
     },
     "execution_count": 169,
     "metadata": {},
     "output_type": "execute_result"
    }
   ],
   "source": [
    "import sounddevice as sd\n",
    "from scipy.io.wavfile import write\n",
    "import random\n",
    "index=random.randint(0,len(x_val)-1)\n",
    "samples=x_val[index].ravel()\n",
    "print(samples.shape)\n",
    "print(\"Audio:\",classes[np.argmax(y_val[index])])\n",
    "ipd.Audio(samples, rate=8000)"
   ]
  },
  {
   "cell_type": "code",
   "execution_count": null,
   "id": "63508f86",
   "metadata": {},
   "outputs": [],
   "source": [
    "# import time\n",
    "# import multiprocessing as mp\n",
    "\n",
    "# def func_1():\n",
    "# #     recording = sd.rec(int(1*16000),samplerate = 16000 , channels = 1, dtype='float32').ravel()\n",
    "# #     sd.wait()\n",
    "# #     recording = librosa.resample(recording, orig_sr=16000, target_sr=8000)\n",
    "# # # recording = np.array(recording).reshape(8000,1)\n",
    "# #     print(\"Text:\",predict(recording))\n",
    "#     print(\"Process 1\")\n",
    "\n",
    "# def func_2():\n",
    "#     time.sleep(500)\n",
    "# #     recording = sd.rec(int(1*16000),samplerate = 16000 , channels = 1, dtype='float32').ravel()\n",
    "# #     sd.wait()\n",
    "# #     recording = librosa.resample(recording, orig_sr=16000, target_sr=8000)\n",
    "# # # recording = np.array(recording).reshape(8000,1)\n",
    "# #     print(\"Text:\",predict(recording))\n",
    "#     print(\"Process 2\")\n",
    "\n",
    "# if __name__ == '__main__':\n",
    "#     proc_1 = mp.Process(target=func_1)\n",
    "#     proc_2 = mp.Process(target=func_2)\n",
    "\n",
    "#     proc_2.start()\n",
    "#     proc_1.start()"
   ]
  },
  {
   "cell_type": "code",
   "execution_count": null,
   "id": "37e911f8",
   "metadata": {
    "execution": {
     "iopub.execute_input": "2022-06-16T19:04:47.391225Z",
     "iopub.status.busy": "2022-06-16T19:04:47.390385Z",
     "iopub.status.idle": "2022-06-16T19:04:47.567736Z",
     "shell.execute_reply": "2022-06-16T19:04:47.568283Z"
    },
    "papermill": {
     "duration": 1.127693,
     "end_time": "2022-06-16T19:04:47.568494",
     "exception": false,
     "start_time": "2022-06-16T19:04:46.440801",
     "status": "completed"
    },
    "tags": []
   },
   "outputs": [
    {
     "name": "stdout",
     "output_type": "stream",
     "text": [
      "1/1 [==============================] - 0s 150ms/step\n",
      "Text: background_noise\n"
     ]
    }
   ],
   "source": [
    "print(\"Text:\",predict(samples))"
   ]
  },
  {
   "cell_type": "code",
   "execution_count": null,
   "id": "6df3efb0",
   "metadata": {},
   "outputs": [],
   "source": [
    "# print(\"Text:\",predict(recording))"
   ]
  },
  {
   "cell_type": "markdown",
   "id": "025cee27",
   "metadata": {
    "papermill": {
     "duration": 1.499903,
     "end_time": "2022-06-16T19:04:50.009705",
     "exception": false,
     "start_time": "2022-06-16T19:04:48.509802",
     "status": "completed"
    },
    "tags": []
   },
   "source": [
    "**The best part is yet to come! Here is a script that prompts a user to record voice commands. Record your own voice commands and test it on the model:**"
   ]
  },
  {
   "cell_type": "code",
   "execution_count": null,
   "id": "87e8dbfc",
   "metadata": {
    "execution": {
     "iopub.execute_input": "2022-06-16T19:04:51.955698Z",
     "iopub.status.busy": "2022-06-16T19:04:51.954974Z",
     "iopub.status.idle": "2022-06-16T19:04:51.957178Z",
     "shell.execute_reply": "2022-06-16T19:04:51.956624Z"
    },
    "papermill": {
     "duration": 1.002951,
     "end_time": "2022-06-16T19:04:51.957305",
     "exception": false,
     "start_time": "2022-06-16T19:04:50.954354",
     "status": "completed"
    },
    "tags": []
   },
   "outputs": [],
   "source": [
    "# # ! pip install sounddevice==0.2.1\n",
    "\n",
    "# import sounddevice as sd\n",
    "# import soundfile as sf"
   ]
  },
  {
   "cell_type": "code",
   "execution_count": null,
   "id": "18668d65",
   "metadata": {
    "execution": {
     "iopub.execute_input": "2022-06-16T19:04:53.855787Z",
     "iopub.status.busy": "2022-06-16T19:04:53.854189Z",
     "iopub.status.idle": "2022-06-16T19:04:53.856515Z",
     "shell.execute_reply": "2022-06-16T19:04:53.856932Z"
    },
    "papermill": {
     "duration": 0.951472,
     "end_time": "2022-06-16T19:04:53.857076",
     "exception": false,
     "start_time": "2022-06-16T19:04:52.905604",
     "status": "completed"
    },
    "tags": []
   },
   "outputs": [],
   "source": [
    "# samplerate = 16000  \n",
    "# duration = 1 # seconds\n",
    "# filename = 'yes.wav'\n",
    "# print(\"start\")\n",
    "# mydata = sd.rec(int(samplerate * duration), samplerate=samplerate,channels=1, blocking=True)\n",
    "# print(\"end\")\n",
    "# sd.wait()\n",
    "# sf.write(filename, mydata, samplerate)"
   ]
  },
  {
   "cell_type": "markdown",
   "id": "f06aacdf",
   "metadata": {
    "papermill": {
     "duration": 0.954701,
     "end_time": "2022-06-16T19:04:55.750405",
     "exception": false,
     "start_time": "2022-06-16T19:04:54.795704",
     "status": "completed"
    },
    "tags": []
   },
   "source": [
    "Let us now read the saved voice command and convert it to text:"
   ]
  },
  {
   "cell_type": "code",
   "execution_count": null,
   "id": "b48fbcd2",
   "metadata": {
    "execution": {
     "iopub.execute_input": "2022-06-16T19:04:57.917098Z",
     "iopub.status.busy": "2022-06-16T19:04:57.916013Z",
     "iopub.status.idle": "2022-06-16T19:04:57.918924Z",
     "shell.execute_reply": "2022-06-16T19:04:57.918514Z"
    },
    "papermill": {
     "duration": 1.177275,
     "end_time": "2022-06-16T19:04:57.919045",
     "exception": false,
     "start_time": "2022-06-16T19:04:56.741770",
     "status": "completed"
    },
    "tags": []
   },
   "outputs": [],
   "source": [
    "# #reading the voice commands\n",
    "# samples, sample_rate = librosa.load(filepath + '/' + 'stop.wav', sr = 16000)\n",
    "# samples = librosa.resample(samples, sample_rate, 8000)\n",
    "# ipd.Audio(samples,rate=8000)              "
   ]
  },
  {
   "cell_type": "code",
   "execution_count": null,
   "id": "077d62ea",
   "metadata": {
    "execution": {
     "iopub.execute_input": "2022-06-16T19:04:59.845953Z",
     "iopub.status.busy": "2022-06-16T19:04:59.844772Z",
     "iopub.status.idle": "2022-06-16T19:04:59.847561Z",
     "shell.execute_reply": "2022-06-16T19:04:59.847987Z"
    },
    "papermill": {
     "duration": 0.955676,
     "end_time": "2022-06-16T19:04:59.848136",
     "exception": false,
     "start_time": "2022-06-16T19:04:58.892460",
     "status": "completed"
    },
    "tags": []
   },
   "outputs": [],
   "source": [
    "# #converting voice commands to text\n",
    "# predict(samples)"
   ]
  },
  {
   "cell_type": "markdown",
   "id": "db91a860",
   "metadata": {
    "papermill": {
     "duration": 0.970491,
     "end_time": "2022-06-16T19:05:01.755976",
     "exception": false,
     "start_time": "2022-06-16T19:05:00.785485",
     "status": "completed"
    },
    "tags": []
   },
   "source": [
    "**Congratulations! You have just built your very own speech-to-text model!**"
   ]
  }
 ],
 "metadata": {
  "kernelspec": {
   "display_name": "Python 3 (ipykernel)",
   "language": "python",
   "name": "python3"
  },
  "language_info": {
   "codemirror_mode": {
    "name": "ipython",
    "version": 3
   },
   "file_extension": ".py",
   "mimetype": "text/x-python",
   "name": "python",
   "nbconvert_exporter": "python",
   "pygments_lexer": "ipython3",
   "version": "3.10.6"
  },
  "papermill": {
   "default_parameters": {},
   "duration": 1264.3585,
   "end_time": "2022-06-16T19:05:05.608374",
   "environment_variables": {},
   "exception": null,
   "input_path": "__notebook__.ipynb",
   "output_path": "__notebook__.ipynb",
   "parameters": {},
   "start_time": "2022-06-16T18:44:01.249874",
   "version": "2.3.3"
  },
  "vscode": {
   "interpreter": {
    "hash": "f7368be1247fa692e133605408d670a06d835b01eb40d4a3b3c896111bf4c5ac"
   }
  }
 },
 "nbformat": 4,
 "nbformat_minor": 5
}
